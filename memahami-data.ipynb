{
  "cells": [
    {
      "cell_type": "markdown",
      "source": "# Memahami Data",
      "metadata": {
        "formattedRanges": [],
        "deepnote_app_block_visible": true,
        "cell_id": "55cd7ef9be0746fe80e939101040751d",
        "deepnote_cell_type": "text-cell-h1"
      },
      "block_group": "a069e6e0f8234478ada9ad03d652cf3c"
    },
    {
      "cell_type": "markdown",
      "source": "“Dari Wikipedia bahasa Indonesia, ensiklopedia bebas Bunga iris (Neomarica longifolia; sinonim: Trimezia longifolia)[1] adalah terna (herb) yang berkembang biak dengan menggunakan rhizome (rimpang) dan termasuk ke dalam keluarga Iridaceae.” (Kontributor dari proyek Wikimedia., 2021)",
      "metadata": {
        "formattedRanges": [],
        "deepnote_app_block_visible": true,
        "cell_id": "f1fa218fa14948d589d62e7312d7f5fc",
        "deepnote_cell_type": "text-cell-p"
      },
      "block_group": "1ed347558fc54b0ea1aabd71593e90b0"
    },
    {
      "cell_type": "markdown",
      "source": "Bunga iris dapat diperjualbelikan secara bebas dan dapat digunakan sebagai tanaman hias. Warna dan bentuknya menarik dan dapat ditanam dalam pot maupun di tanam langsung di tanah halaman rumah. Selain menjadi tanaman hias, tanaman ini dapat dimanfaatkan juga sebagai tanaman obat. Tanaman ini bisa digunakan untuk mengobati hepatitis, mual, sembelit, rematik, dan gusi bengkak.",
      "metadata": {
        "formattedRanges": [],
        "deepnote_app_block_visible": true,
        "cell_id": "d571ed8e907f439bb8fcb184899c17e2",
        "deepnote_cell_type": "text-cell-p"
      },
      "block_group": "af7882547bf3451a94c0f6ff865a0613"
    },
    {
      "cell_type": "markdown",
      "source": "## Pada pekerjaan ini kami akan mendeskripsikan data iris",
      "metadata": {
        "formattedRanges": [],
        "deepnote_app_block_visible": true,
        "cell_id": "e9a914834a7e4936a22c4a2c9aa1ae3b",
        "deepnote_cell_type": "text-cell-h2"
      },
      "block_group": "05f02cf8cea14504a890458cfe4a347d"
    },
    {
      "cell_type": "markdown",
      "source": "- Deskripsi fitur",
      "metadata": {
        "formattedRanges": [],
        "deepnote_app_block_visible": true,
        "cell_id": "57b16925e0894e80ade8c9dab3940ba1",
        "deepnote_cell_type": "text-cell-bullet"
      },
      "block_group": "bec796eca970472086121b5698f52a15"
    },
    {
      "cell_type": "markdown",
      "source": "- Amati missing value",
      "metadata": {
        "formattedRanges": [],
        "deepnote_app_block_visible": true,
        "cell_id": "3d72a2e5e5b749948fe6b8e62b24023a",
        "deepnote_cell_type": "text-cell-bullet"
      },
      "block_group": "f7fd2556c8fd4ee2bedf3f378e00c89a"
    },
    {
      "cell_type": "markdown",
      "source": "- Inputasi missing value dengan metode KNN dan Mean lalu dibandingkan",
      "metadata": {
        "formattedRanges": [],
        "deepnote_app_block_visible": true,
        "cell_id": "17d9fa2879d244df8fe97cbb32fd8ac6",
        "deepnote_cell_type": "text-cell-bullet"
      },
      "block_group": "f335aee556244a9bbfe69420220d6304"
    },
    {
      "cell_type": "markdown",
      "source": "- Hitung akurasi dan perbandingan tiap metode",
      "metadata": {
        "formattedRanges": [],
        "deepnote_app_block_visible": true,
        "cell_id": "560408d4fda1497583341ad230a9a495",
        "deepnote_cell_type": "text-cell-bullet"
      },
      "block_group": "aea436b205114d968901a4d6dc8ed339"
    },
    {
      "cell_type": "markdown",
      "source": "<img src=\"image-20240308-153538.png\" width=\"\" align=\"\" />",
      "metadata": {
        "deepnote_img_src": "image-20240308-153538.png",
        "deepnote_app_block_visible": true,
        "cell_id": "303c7b0462814de3bfa19b49e9e26829",
        "deepnote_cell_type": "image"
      },
      "block_group": "3804c4bee49a4691a0ccedf17bf715aa"
    },
    {
      "cell_type": "markdown",
      "source": "### Inisialisasi",
      "metadata": {
        "formattedRanges": [],
        "deepnote_app_block_visible": true,
        "cell_id": "0abde0853cae4aa2b33f79a31edd3cf9",
        "deepnote_cell_type": "text-cell-h3"
      },
      "block_group": "b1d81a7c1acf414490349dc942693893"
    },
    {
      "cell_type": "code",
      "source": "import pandas as pd\nimport seaborn as sns\nimport numpy as np",
      "metadata": {
        "source_hash": "f0cb6e65",
        "execution_start": 1714004130691,
        "execution_millis": 1005,
        "deepnote_to_be_reexecuted": false,
        "deepnote_app_block_visible": true,
        "cell_id": "4c3f7ef0095a4d9497e679f26b07d165",
        "deepnote_cell_type": "code"
      },
      "outputs": [],
      "outputs_reference": null,
      "execution_count": 1,
      "block_group": "abdecbc416aa42c48b9bc3e60620fc76",
      "content_dependencies": null
    },
    {
      "cell_type": "markdown",
      "source": "## Menampilkan Data",
      "metadata": {
        "formattedRanges": [],
        "deepnote_app_block_visible": true,
        "cell_id": "5b94638667874f3582c38106e67d510b",
        "deepnote_cell_type": "text-cell-h2"
      },
      "block_group": "cb3e435ccfc049a397ea6f0826e99cdd"
    },
    {
      "cell_type": "markdown",
      "source": "### Ambil data sepal iris dari MySQL",
      "metadata": {
        "formattedRanges": [],
        "deepnote_app_block_visible": true,
        "cell_id": "887acca2b9644427afff2cdee5a84374",
        "deepnote_cell_type": "text-cell-h3"
      },
      "block_group": "15669f081bbd4571865fa4ed109ef723"
    },
    {
      "cell_type": "code",
      "source": "df_sepal = _deepnote_execute_sql('SELECT * FROM iris', 'SQL_86FFEF30_2CE7_45FB_B840_F36435E1CC93', audit_sql_comment='', sql_cache_mode='cache_disabled')\ndf_sepal",
      "metadata": {
        "source_hash": "2640b4dd",
        "execution_start": 1714004131702,
        "execution_millis": 3469,
        "sql_integration_id": "86ffef30-2ce7-45fb-b840-f36435e1cc93",
        "deepnote_table_state": {
          "sortBy": [],
          "filters": [],
          "pageSize": 10,
          "pageIndex": 0
        },
        "deepnote_table_loading": false,
        "deepnote_variable_name": "df_sepal",
        "deepnote_to_be_reexecuted": false,
        "deepnote_app_block_visible": true,
        "cell_id": "df29eeebe67e42e8bf4d8bcdc0fcc1ce",
        "deepnote_cell_type": "sql",
        "deepnote_sql_source": "SELECT * FROM iris"
      },
      "outputs": [
        {
          "data": {
            "application/vnd.deepnote.sql-output-metadata+json": {
              "status": "success_no_cache",
              "size_in_bytes": 14278
            }
          },
          "metadata": {},
          "output_type": "display_data"
        },
        {
          "output_type": "execute_result",
          "execution_count": 2,
          "data": {
            "application/vnd.deepnote.dataframe.v3+json": {
              "column_count": 4,
              "row_count": 150,
              "columns": [
                {
                  "name": "Id",
                  "dtype": "int64",
                  "stats": {
                    "unique_count": 150,
                    "nan_count": 0,
                    "min": "1",
                    "max": "150",
                    "histogram": [
                      {
                        "bin_start": 1,
                        "bin_end": 15.9,
                        "count": 15
                      },
                      {
                        "bin_start": 15.9,
                        "bin_end": 30.8,
                        "count": 15
                      },
                      {
                        "bin_start": 30.8,
                        "bin_end": 45.7,
                        "count": 15
                      },
                      {
                        "bin_start": 45.7,
                        "bin_end": 60.6,
                        "count": 15
                      },
                      {
                        "bin_start": 60.6,
                        "bin_end": 75.5,
                        "count": 15
                      },
                      {
                        "bin_start": 75.5,
                        "bin_end": 90.4,
                        "count": 15
                      },
                      {
                        "bin_start": 90.4,
                        "bin_end": 105.3,
                        "count": 15
                      },
                      {
                        "bin_start": 105.3,
                        "bin_end": 120.2,
                        "count": 15
                      },
                      {
                        "bin_start": 120.2,
                        "bin_end": 135.1,
                        "count": 15
                      },
                      {
                        "bin_start": 135.1,
                        "bin_end": 150,
                        "count": 15
                      }
                    ]
                  }
                },
                {
                  "name": "SepalLengthCm",
                  "dtype": "float64",
                  "stats": {
                    "unique_count": 35,
                    "nan_count": 0,
                    "min": "4.3",
                    "max": "7.9",
                    "histogram": [
                      {
                        "bin_start": 4.3,
                        "bin_end": 4.66,
                        "count": 9
                      },
                      {
                        "bin_start": 4.66,
                        "bin_end": 5.02,
                        "count": 23
                      },
                      {
                        "bin_start": 5.02,
                        "bin_end": 5.38,
                        "count": 14
                      },
                      {
                        "bin_start": 5.38,
                        "bin_end": 5.74,
                        "count": 27
                      },
                      {
                        "bin_start": 5.74,
                        "bin_end": 6.1,
                        "count": 16
                      },
                      {
                        "bin_start": 6.1,
                        "bin_end": 6.46,
                        "count": 26
                      },
                      {
                        "bin_start": 6.46,
                        "bin_end": 6.82,
                        "count": 18
                      },
                      {
                        "bin_start": 6.82,
                        "bin_end": 7.18,
                        "count": 6
                      },
                      {
                        "bin_start": 7.18,
                        "bin_end": 7.54,
                        "count": 5
                      },
                      {
                        "bin_start": 7.54,
                        "bin_end": 7.9,
                        "count": 6
                      }
                    ]
                  }
                },
                {
                  "name": "SepalWidthCm",
                  "dtype": "float64",
                  "stats": {
                    "unique_count": 23,
                    "nan_count": 0,
                    "min": "2.0",
                    "max": "4.4",
                    "histogram": [
                      {
                        "bin_start": 2,
                        "bin_end": 2.24,
                        "count": 4
                      },
                      {
                        "bin_start": 2.24,
                        "bin_end": 2.48,
                        "count": 7
                      },
                      {
                        "bin_start": 2.48,
                        "bin_end": 2.72,
                        "count": 22
                      },
                      {
                        "bin_start": 2.72,
                        "bin_end": 2.96,
                        "count": 24
                      },
                      {
                        "bin_start": 2.96,
                        "bin_end": 3.2,
                        "count": 38
                      },
                      {
                        "bin_start": 3.2,
                        "bin_end": 3.4400000000000004,
                        "count": 31
                      },
                      {
                        "bin_start": 3.4400000000000004,
                        "bin_end": 3.6800000000000006,
                        "count": 9
                      },
                      {
                        "bin_start": 3.6800000000000006,
                        "bin_end": 3.9200000000000004,
                        "count": 11
                      },
                      {
                        "bin_start": 3.9200000000000004,
                        "bin_end": 4.16,
                        "count": 2
                      },
                      {
                        "bin_start": 4.16,
                        "bin_end": 4.4,
                        "count": 2
                      }
                    ]
                  }
                },
                {
                  "name": "Species",
                  "dtype": "object",
                  "stats": {
                    "unique_count": 3,
                    "nan_count": 0,
                    "categories": [
                      {
                        "name": "Iris-setosa",
                        "count": 50
                      },
                      {
                        "name": "Iris-versicolor",
                        "count": 50
                      },
                      {
                        "name": "Iris-virginica",
                        "count": 50
                      }
                    ]
                  }
                },
                {
                  "name": "_deepnote_index_column",
                  "dtype": "int64"
                }
              ],
              "rows": [
                {
                  "Id": 1,
                  "SepalLengthCm": 5.1,
                  "SepalWidthCm": 3.5,
                  "Species": "Iris-setosa",
                  "_deepnote_index_column": 0
                },
                {
                  "Id": 2,
                  "SepalLengthCm": 4.9,
                  "SepalWidthCm": 3,
                  "Species": "Iris-setosa",
                  "_deepnote_index_column": 1
                },
                {
                  "Id": 3,
                  "SepalLengthCm": 4.7,
                  "SepalWidthCm": 3.2,
                  "Species": "Iris-setosa",
                  "_deepnote_index_column": 2
                },
                {
                  "Id": 4,
                  "SepalLengthCm": 4.6,
                  "SepalWidthCm": 3.1,
                  "Species": "Iris-setosa",
                  "_deepnote_index_column": 3
                },
                {
                  "Id": 5,
                  "SepalLengthCm": 5,
                  "SepalWidthCm": 3.6,
                  "Species": "Iris-setosa",
                  "_deepnote_index_column": 4
                },
                {
                  "Id": 6,
                  "SepalLengthCm": 5.4,
                  "SepalWidthCm": 3.9,
                  "Species": "Iris-setosa",
                  "_deepnote_index_column": 5
                },
                {
                  "Id": 7,
                  "SepalLengthCm": 4.6,
                  "SepalWidthCm": 3.4,
                  "Species": "Iris-setosa",
                  "_deepnote_index_column": 6
                },
                {
                  "Id": 8,
                  "SepalLengthCm": 5,
                  "SepalWidthCm": 3.4,
                  "Species": "Iris-setosa",
                  "_deepnote_index_column": 7
                },
                {
                  "Id": 9,
                  "SepalLengthCm": 4.4,
                  "SepalWidthCm": 2.9,
                  "Species": "Iris-setosa",
                  "_deepnote_index_column": 8
                },
                {
                  "Id": 10,
                  "SepalLengthCm": 4.9,
                  "SepalWidthCm": 3.1,
                  "Species": "Iris-setosa",
                  "_deepnote_index_column": 9
                }
              ]
            },
            "text/plain": "      Id  SepalLengthCm  SepalWidthCm         Species\n0      1            5.1           3.5     Iris-setosa\n1      2            4.9           3.0     Iris-setosa\n2      3            4.7           3.2     Iris-setosa\n3      4            4.6           3.1     Iris-setosa\n4      5            5.0           3.6     Iris-setosa\n..   ...            ...           ...             ...\n145  146            6.7           3.0  Iris-virginica\n146  147            6.3           2.5  Iris-virginica\n147  148            6.5           3.0  Iris-virginica\n148  149            6.2           3.4  Iris-virginica\n149  150            5.9           3.0  Iris-virginica\n\n[150 rows x 4 columns]",
            "text/html": "<div>\n<style scoped>\n    .dataframe tbody tr th:only-of-type {\n        vertical-align: middle;\n    }\n\n    .dataframe tbody tr th {\n        vertical-align: top;\n    }\n\n    .dataframe thead th {\n        text-align: right;\n    }\n</style>\n<table border=\"1\" class=\"dataframe\">\n  <thead>\n    <tr style=\"text-align: right;\">\n      <th></th>\n      <th>Id</th>\n      <th>SepalLengthCm</th>\n      <th>SepalWidthCm</th>\n      <th>Species</th>\n    </tr>\n  </thead>\n  <tbody>\n    <tr>\n      <th>0</th>\n      <td>1</td>\n      <td>5.1</td>\n      <td>3.5</td>\n      <td>Iris-setosa</td>\n    </tr>\n    <tr>\n      <th>1</th>\n      <td>2</td>\n      <td>4.9</td>\n      <td>3.0</td>\n      <td>Iris-setosa</td>\n    </tr>\n    <tr>\n      <th>2</th>\n      <td>3</td>\n      <td>4.7</td>\n      <td>3.2</td>\n      <td>Iris-setosa</td>\n    </tr>\n    <tr>\n      <th>3</th>\n      <td>4</td>\n      <td>4.6</td>\n      <td>3.1</td>\n      <td>Iris-setosa</td>\n    </tr>\n    <tr>\n      <th>4</th>\n      <td>5</td>\n      <td>5.0</td>\n      <td>3.6</td>\n      <td>Iris-setosa</td>\n    </tr>\n    <tr>\n      <th>...</th>\n      <td>...</td>\n      <td>...</td>\n      <td>...</td>\n      <td>...</td>\n    </tr>\n    <tr>\n      <th>145</th>\n      <td>146</td>\n      <td>6.7</td>\n      <td>3.0</td>\n      <td>Iris-virginica</td>\n    </tr>\n    <tr>\n      <th>146</th>\n      <td>147</td>\n      <td>6.3</td>\n      <td>2.5</td>\n      <td>Iris-virginica</td>\n    </tr>\n    <tr>\n      <th>147</th>\n      <td>148</td>\n      <td>6.5</td>\n      <td>3.0</td>\n      <td>Iris-virginica</td>\n    </tr>\n    <tr>\n      <th>148</th>\n      <td>149</td>\n      <td>6.2</td>\n      <td>3.4</td>\n      <td>Iris-virginica</td>\n    </tr>\n    <tr>\n      <th>149</th>\n      <td>150</td>\n      <td>5.9</td>\n      <td>3.0</td>\n      <td>Iris-virginica</td>\n    </tr>\n  </tbody>\n</table>\n<p>150 rows × 4 columns</p>\n</div>"
          },
          "metadata": {}
        }
      ],
      "outputs_reference": null,
      "execution_count": 2,
      "block_group": "ce9b2fb761114ba5ac753698142ca1b6",
      "content_dependencies": null
    },
    {
      "cell_type": "markdown",
      "source": "### Ambil data petal iris dari PostgreSQL",
      "metadata": {
        "formattedRanges": [],
        "deepnote_app_block_visible": true,
        "cell_id": "24746b511f324948ae30d508f6e25528",
        "deepnote_cell_type": "text-cell-h3"
      },
      "block_group": "7cdc167f4bb0400a909ea7fc46ffc087"
    },
    {
      "cell_type": "code",
      "source": "df_petal = _deepnote_execute_sql('SELECT * FROM iris', 'SQL_843DF3DB_71CE_4E04_AB63_48BA92D27513', audit_sql_comment='', sql_cache_mode='cache_disabled')\ndf_petal",
      "metadata": {
        "source_hash": "7ad60877",
        "execution_start": 1714004135178,
        "execution_millis": 4214,
        "sql_integration_id": "843df3db-71ce-4e04-ab63-48ba92d27513",
        "deepnote_variable_name": "df_petal",
        "deepnote_to_be_reexecuted": false,
        "deepnote_app_block_visible": true,
        "cell_id": "55ef977da79c41bdbe123bb348c145bd",
        "deepnote_cell_type": "sql",
        "deepnote_sql_source": "SELECT * FROM iris"
      },
      "outputs": [
        {
          "data": {
            "application/vnd.deepnote.sql-output-metadata+json": {
              "status": "success_no_cache",
              "size_in_bytes": 14278
            }
          },
          "metadata": {},
          "output_type": "display_data"
        },
        {
          "output_type": "execute_result",
          "execution_count": 3,
          "data": {
            "application/vnd.deepnote.dataframe.v3+json": {
              "column_count": 4,
              "row_count": 150,
              "columns": [
                {
                  "name": "Id",
                  "dtype": "int64",
                  "stats": {
                    "unique_count": 150,
                    "nan_count": 0,
                    "min": "1",
                    "max": "150",
                    "histogram": [
                      {
                        "bin_start": 1,
                        "bin_end": 15.9,
                        "count": 15
                      },
                      {
                        "bin_start": 15.9,
                        "bin_end": 30.8,
                        "count": 15
                      },
                      {
                        "bin_start": 30.8,
                        "bin_end": 45.7,
                        "count": 15
                      },
                      {
                        "bin_start": 45.7,
                        "bin_end": 60.6,
                        "count": 15
                      },
                      {
                        "bin_start": 60.6,
                        "bin_end": 75.5,
                        "count": 15
                      },
                      {
                        "bin_start": 75.5,
                        "bin_end": 90.4,
                        "count": 15
                      },
                      {
                        "bin_start": 90.4,
                        "bin_end": 105.3,
                        "count": 15
                      },
                      {
                        "bin_start": 105.3,
                        "bin_end": 120.2,
                        "count": 15
                      },
                      {
                        "bin_start": 120.2,
                        "bin_end": 135.1,
                        "count": 15
                      },
                      {
                        "bin_start": 135.1,
                        "bin_end": 150,
                        "count": 15
                      }
                    ]
                  }
                },
                {
                  "name": "PetalLengthCm",
                  "dtype": "float64",
                  "stats": {
                    "unique_count": 43,
                    "nan_count": 0,
                    "min": "1.0",
                    "max": "6.9",
                    "histogram": [
                      {
                        "bin_start": 1,
                        "bin_end": 1.59,
                        "count": 37
                      },
                      {
                        "bin_start": 1.59,
                        "bin_end": 2.18,
                        "count": 13
                      },
                      {
                        "bin_start": 2.18,
                        "bin_end": 2.7700000000000005,
                        "count": 0
                      },
                      {
                        "bin_start": 2.7700000000000005,
                        "bin_end": 3.3600000000000003,
                        "count": 3
                      },
                      {
                        "bin_start": 3.3600000000000003,
                        "bin_end": 3.95,
                        "count": 8
                      },
                      {
                        "bin_start": 3.95,
                        "bin_end": 4.540000000000001,
                        "count": 26
                      },
                      {
                        "bin_start": 4.540000000000001,
                        "bin_end": 5.130000000000001,
                        "count": 29
                      },
                      {
                        "bin_start": 5.130000000000001,
                        "bin_end": 5.720000000000001,
                        "count": 18
                      },
                      {
                        "bin_start": 5.720000000000001,
                        "bin_end": 6.3100000000000005,
                        "count": 11
                      },
                      {
                        "bin_start": 6.3100000000000005,
                        "bin_end": 6.9,
                        "count": 5
                      }
                    ]
                  }
                },
                {
                  "name": "PetalWidthCm",
                  "dtype": "float64",
                  "stats": {
                    "unique_count": 22,
                    "nan_count": 0,
                    "min": "0.1",
                    "max": "2.5",
                    "histogram": [
                      {
                        "bin_start": 0.1,
                        "bin_end": 0.33999999999999997,
                        "count": 41
                      },
                      {
                        "bin_start": 0.33999999999999997,
                        "bin_end": 0.58,
                        "count": 8
                      },
                      {
                        "bin_start": 0.58,
                        "bin_end": 0.82,
                        "count": 1
                      },
                      {
                        "bin_start": 0.82,
                        "bin_end": 1.06,
                        "count": 7
                      },
                      {
                        "bin_start": 1.06,
                        "bin_end": 1.3,
                        "count": 8
                      },
                      {
                        "bin_start": 1.3,
                        "bin_end": 1.54,
                        "count": 33
                      },
                      {
                        "bin_start": 1.54,
                        "bin_end": 1.78,
                        "count": 6
                      },
                      {
                        "bin_start": 1.78,
                        "bin_end": 2.02,
                        "count": 23
                      },
                      {
                        "bin_start": 2.02,
                        "bin_end": 2.2600000000000002,
                        "count": 9
                      },
                      {
                        "bin_start": 2.2600000000000002,
                        "bin_end": 2.5,
                        "count": 14
                      }
                    ]
                  }
                },
                {
                  "name": "Species",
                  "dtype": "object",
                  "stats": {
                    "unique_count": 3,
                    "nan_count": 0,
                    "categories": [
                      {
                        "name": "Iris-setosa",
                        "count": 50
                      },
                      {
                        "name": "Iris-versicolor",
                        "count": 50
                      },
                      {
                        "name": "Iris-virginica",
                        "count": 50
                      }
                    ]
                  }
                },
                {
                  "name": "_deepnote_index_column",
                  "dtype": "int64"
                }
              ],
              "rows": [
                {
                  "Id": 1,
                  "PetalLengthCm": 1.4,
                  "PetalWidthCm": 0.2,
                  "Species": "Iris-setosa",
                  "_deepnote_index_column": 0
                },
                {
                  "Id": 2,
                  "PetalLengthCm": 1.4,
                  "PetalWidthCm": 0.2,
                  "Species": "Iris-setosa",
                  "_deepnote_index_column": 1
                },
                {
                  "Id": 3,
                  "PetalLengthCm": 1.3,
                  "PetalWidthCm": 0.2,
                  "Species": "Iris-setosa",
                  "_deepnote_index_column": 2
                },
                {
                  "Id": 4,
                  "PetalLengthCm": 1.5,
                  "PetalWidthCm": 0.2,
                  "Species": "Iris-setosa",
                  "_deepnote_index_column": 3
                },
                {
                  "Id": 5,
                  "PetalLengthCm": 1.4,
                  "PetalWidthCm": 0.2,
                  "Species": "Iris-setosa",
                  "_deepnote_index_column": 4
                },
                {
                  "Id": 6,
                  "PetalLengthCm": 1.7,
                  "PetalWidthCm": 0.4,
                  "Species": "Iris-setosa",
                  "_deepnote_index_column": 5
                },
                {
                  "Id": 7,
                  "PetalLengthCm": 1.4,
                  "PetalWidthCm": 0.3,
                  "Species": "Iris-setosa",
                  "_deepnote_index_column": 6
                },
                {
                  "Id": 8,
                  "PetalLengthCm": 1.5,
                  "PetalWidthCm": 0.2,
                  "Species": "Iris-setosa",
                  "_deepnote_index_column": 7
                },
                {
                  "Id": 9,
                  "PetalLengthCm": 1.4,
                  "PetalWidthCm": 0.2,
                  "Species": "Iris-setosa",
                  "_deepnote_index_column": 8
                },
                {
                  "Id": 10,
                  "PetalLengthCm": 1.5,
                  "PetalWidthCm": 0.1,
                  "Species": "Iris-setosa",
                  "_deepnote_index_column": 9
                }
              ]
            },
            "text/plain": "      Id  PetalLengthCm  PetalWidthCm         Species\n0      1            1.4           0.2     Iris-setosa\n1      2            1.4           0.2     Iris-setosa\n2      3            1.3           0.2     Iris-setosa\n3      4            1.5           0.2     Iris-setosa\n4      5            1.4           0.2     Iris-setosa\n..   ...            ...           ...             ...\n145  146            5.2           2.3  Iris-virginica\n146  147            5.0           1.9  Iris-virginica\n147  148            5.2           2.0  Iris-virginica\n148  149            5.4           2.3  Iris-virginica\n149  150            5.1           1.8  Iris-virginica\n\n[150 rows x 4 columns]",
            "text/html": "<div>\n<style scoped>\n    .dataframe tbody tr th:only-of-type {\n        vertical-align: middle;\n    }\n\n    .dataframe tbody tr th {\n        vertical-align: top;\n    }\n\n    .dataframe thead th {\n        text-align: right;\n    }\n</style>\n<table border=\"1\" class=\"dataframe\">\n  <thead>\n    <tr style=\"text-align: right;\">\n      <th></th>\n      <th>Id</th>\n      <th>PetalLengthCm</th>\n      <th>PetalWidthCm</th>\n      <th>Species</th>\n    </tr>\n  </thead>\n  <tbody>\n    <tr>\n      <th>0</th>\n      <td>1</td>\n      <td>1.4</td>\n      <td>0.2</td>\n      <td>Iris-setosa</td>\n    </tr>\n    <tr>\n      <th>1</th>\n      <td>2</td>\n      <td>1.4</td>\n      <td>0.2</td>\n      <td>Iris-setosa</td>\n    </tr>\n    <tr>\n      <th>2</th>\n      <td>3</td>\n      <td>1.3</td>\n      <td>0.2</td>\n      <td>Iris-setosa</td>\n    </tr>\n    <tr>\n      <th>3</th>\n      <td>4</td>\n      <td>1.5</td>\n      <td>0.2</td>\n      <td>Iris-setosa</td>\n    </tr>\n    <tr>\n      <th>4</th>\n      <td>5</td>\n      <td>1.4</td>\n      <td>0.2</td>\n      <td>Iris-setosa</td>\n    </tr>\n    <tr>\n      <th>...</th>\n      <td>...</td>\n      <td>...</td>\n      <td>...</td>\n      <td>...</td>\n    </tr>\n    <tr>\n      <th>145</th>\n      <td>146</td>\n      <td>5.2</td>\n      <td>2.3</td>\n      <td>Iris-virginica</td>\n    </tr>\n    <tr>\n      <th>146</th>\n      <td>147</td>\n      <td>5.0</td>\n      <td>1.9</td>\n      <td>Iris-virginica</td>\n    </tr>\n    <tr>\n      <th>147</th>\n      <td>148</td>\n      <td>5.2</td>\n      <td>2.0</td>\n      <td>Iris-virginica</td>\n    </tr>\n    <tr>\n      <th>148</th>\n      <td>149</td>\n      <td>5.4</td>\n      <td>2.3</td>\n      <td>Iris-virginica</td>\n    </tr>\n    <tr>\n      <th>149</th>\n      <td>150</td>\n      <td>5.1</td>\n      <td>1.8</td>\n      <td>Iris-virginica</td>\n    </tr>\n  </tbody>\n</table>\n<p>150 rows × 4 columns</p>\n</div>"
          },
          "metadata": {}
        }
      ],
      "outputs_reference": null,
      "execution_count": 3,
      "block_group": "c6b32268d1e44afc95731d89227ba7fc",
      "content_dependencies": null
    },
    {
      "cell_type": "markdown",
      "source": "### Penggabungan data dari dua sumber yang berbeda",
      "metadata": {
        "formattedRanges": [],
        "deepnote_app_block_visible": true,
        "cell_id": "a1fba91dbdad43239b3af60fdd2464ad",
        "deepnote_cell_type": "text-cell-h3"
      },
      "block_group": "05c7016bac9944edaa9df54b7f144c05"
    },
    {
      "cell_type": "code",
      "source": "# concat two dataframe\ndf = pd.concat([df_sepal.drop(['Species'], axis=1), df_petal.drop(['Id'], axis=1)], axis=1, join='inner')\n\ndf",
      "metadata": {
        "source_hash": "9ac963ec",
        "execution_start": 1714004139410,
        "execution_millis": 225,
        "deepnote_to_be_reexecuted": false,
        "deepnote_app_block_visible": true,
        "cell_id": "8326dbe868524f9f8647ca24b676e2dd",
        "deepnote_cell_type": "code"
      },
      "outputs": [
        {
          "output_type": "execute_result",
          "execution_count": 4,
          "data": {
            "application/vnd.deepnote.dataframe.v3+json": {
              "column_count": 6,
              "row_count": 150,
              "columns": [
                {
                  "name": "Id",
                  "dtype": "int64",
                  "stats": {
                    "unique_count": 150,
                    "nan_count": 0,
                    "min": "1",
                    "max": "150",
                    "histogram": [
                      {
                        "bin_start": 1,
                        "bin_end": 15.9,
                        "count": 15
                      },
                      {
                        "bin_start": 15.9,
                        "bin_end": 30.8,
                        "count": 15
                      },
                      {
                        "bin_start": 30.8,
                        "bin_end": 45.7,
                        "count": 15
                      },
                      {
                        "bin_start": 45.7,
                        "bin_end": 60.6,
                        "count": 15
                      },
                      {
                        "bin_start": 60.6,
                        "bin_end": 75.5,
                        "count": 15
                      },
                      {
                        "bin_start": 75.5,
                        "bin_end": 90.4,
                        "count": 15
                      },
                      {
                        "bin_start": 90.4,
                        "bin_end": 105.3,
                        "count": 15
                      },
                      {
                        "bin_start": 105.3,
                        "bin_end": 120.2,
                        "count": 15
                      },
                      {
                        "bin_start": 120.2,
                        "bin_end": 135.1,
                        "count": 15
                      },
                      {
                        "bin_start": 135.1,
                        "bin_end": 150,
                        "count": 15
                      }
                    ]
                  }
                },
                {
                  "name": "SepalLengthCm",
                  "dtype": "float64",
                  "stats": {
                    "unique_count": 35,
                    "nan_count": 0,
                    "min": "4.3",
                    "max": "7.9",
                    "histogram": [
                      {
                        "bin_start": 4.3,
                        "bin_end": 4.66,
                        "count": 9
                      },
                      {
                        "bin_start": 4.66,
                        "bin_end": 5.02,
                        "count": 23
                      },
                      {
                        "bin_start": 5.02,
                        "bin_end": 5.38,
                        "count": 14
                      },
                      {
                        "bin_start": 5.38,
                        "bin_end": 5.74,
                        "count": 27
                      },
                      {
                        "bin_start": 5.74,
                        "bin_end": 6.1,
                        "count": 16
                      },
                      {
                        "bin_start": 6.1,
                        "bin_end": 6.46,
                        "count": 26
                      },
                      {
                        "bin_start": 6.46,
                        "bin_end": 6.82,
                        "count": 18
                      },
                      {
                        "bin_start": 6.82,
                        "bin_end": 7.18,
                        "count": 6
                      },
                      {
                        "bin_start": 7.18,
                        "bin_end": 7.54,
                        "count": 5
                      },
                      {
                        "bin_start": 7.54,
                        "bin_end": 7.9,
                        "count": 6
                      }
                    ]
                  }
                },
                {
                  "name": "SepalWidthCm",
                  "dtype": "float64",
                  "stats": {
                    "unique_count": 23,
                    "nan_count": 0,
                    "min": "2.0",
                    "max": "4.4",
                    "histogram": [
                      {
                        "bin_start": 2,
                        "bin_end": 2.24,
                        "count": 4
                      },
                      {
                        "bin_start": 2.24,
                        "bin_end": 2.48,
                        "count": 7
                      },
                      {
                        "bin_start": 2.48,
                        "bin_end": 2.72,
                        "count": 22
                      },
                      {
                        "bin_start": 2.72,
                        "bin_end": 2.96,
                        "count": 24
                      },
                      {
                        "bin_start": 2.96,
                        "bin_end": 3.2,
                        "count": 38
                      },
                      {
                        "bin_start": 3.2,
                        "bin_end": 3.4400000000000004,
                        "count": 31
                      },
                      {
                        "bin_start": 3.4400000000000004,
                        "bin_end": 3.6800000000000006,
                        "count": 9
                      },
                      {
                        "bin_start": 3.6800000000000006,
                        "bin_end": 3.9200000000000004,
                        "count": 11
                      },
                      {
                        "bin_start": 3.9200000000000004,
                        "bin_end": 4.16,
                        "count": 2
                      },
                      {
                        "bin_start": 4.16,
                        "bin_end": 4.4,
                        "count": 2
                      }
                    ]
                  }
                },
                {
                  "name": "PetalLengthCm",
                  "dtype": "float64",
                  "stats": {
                    "unique_count": 43,
                    "nan_count": 0,
                    "min": "1.0",
                    "max": "6.9",
                    "histogram": [
                      {
                        "bin_start": 1,
                        "bin_end": 1.59,
                        "count": 37
                      },
                      {
                        "bin_start": 1.59,
                        "bin_end": 2.18,
                        "count": 13
                      },
                      {
                        "bin_start": 2.18,
                        "bin_end": 2.7700000000000005,
                        "count": 0
                      },
                      {
                        "bin_start": 2.7700000000000005,
                        "bin_end": 3.3600000000000003,
                        "count": 3
                      },
                      {
                        "bin_start": 3.3600000000000003,
                        "bin_end": 3.95,
                        "count": 8
                      },
                      {
                        "bin_start": 3.95,
                        "bin_end": 4.540000000000001,
                        "count": 26
                      },
                      {
                        "bin_start": 4.540000000000001,
                        "bin_end": 5.130000000000001,
                        "count": 29
                      },
                      {
                        "bin_start": 5.130000000000001,
                        "bin_end": 5.720000000000001,
                        "count": 18
                      },
                      {
                        "bin_start": 5.720000000000001,
                        "bin_end": 6.3100000000000005,
                        "count": 11
                      },
                      {
                        "bin_start": 6.3100000000000005,
                        "bin_end": 6.9,
                        "count": 5
                      }
                    ]
                  }
                },
                {
                  "name": "PetalWidthCm",
                  "dtype": "float64",
                  "stats": {
                    "unique_count": 22,
                    "nan_count": 0,
                    "min": "0.1",
                    "max": "2.5",
                    "histogram": [
                      {
                        "bin_start": 0.1,
                        "bin_end": 0.33999999999999997,
                        "count": 41
                      },
                      {
                        "bin_start": 0.33999999999999997,
                        "bin_end": 0.58,
                        "count": 8
                      },
                      {
                        "bin_start": 0.58,
                        "bin_end": 0.82,
                        "count": 1
                      },
                      {
                        "bin_start": 0.82,
                        "bin_end": 1.06,
                        "count": 7
                      },
                      {
                        "bin_start": 1.06,
                        "bin_end": 1.3,
                        "count": 8
                      },
                      {
                        "bin_start": 1.3,
                        "bin_end": 1.54,
                        "count": 33
                      },
                      {
                        "bin_start": 1.54,
                        "bin_end": 1.78,
                        "count": 6
                      },
                      {
                        "bin_start": 1.78,
                        "bin_end": 2.02,
                        "count": 23
                      },
                      {
                        "bin_start": 2.02,
                        "bin_end": 2.2600000000000002,
                        "count": 9
                      },
                      {
                        "bin_start": 2.2600000000000002,
                        "bin_end": 2.5,
                        "count": 14
                      }
                    ]
                  }
                },
                {
                  "name": "Species",
                  "dtype": "object",
                  "stats": {
                    "unique_count": 3,
                    "nan_count": 0,
                    "categories": [
                      {
                        "name": "Iris-setosa",
                        "count": 50
                      },
                      {
                        "name": "Iris-versicolor",
                        "count": 50
                      },
                      {
                        "name": "Iris-virginica",
                        "count": 50
                      }
                    ]
                  }
                },
                {
                  "name": "_deepnote_index_column",
                  "dtype": "int64"
                }
              ],
              "rows": [
                {
                  "Id": 1,
                  "SepalLengthCm": 5.1,
                  "SepalWidthCm": 3.5,
                  "PetalLengthCm": 1.4,
                  "PetalWidthCm": 0.2,
                  "Species": "Iris-setosa",
                  "_deepnote_index_column": 0
                },
                {
                  "Id": 2,
                  "SepalLengthCm": 4.9,
                  "SepalWidthCm": 3,
                  "PetalLengthCm": 1.4,
                  "PetalWidthCm": 0.2,
                  "Species": "Iris-setosa",
                  "_deepnote_index_column": 1
                },
                {
                  "Id": 3,
                  "SepalLengthCm": 4.7,
                  "SepalWidthCm": 3.2,
                  "PetalLengthCm": 1.3,
                  "PetalWidthCm": 0.2,
                  "Species": "Iris-setosa",
                  "_deepnote_index_column": 2
                },
                {
                  "Id": 4,
                  "SepalLengthCm": 4.6,
                  "SepalWidthCm": 3.1,
                  "PetalLengthCm": 1.5,
                  "PetalWidthCm": 0.2,
                  "Species": "Iris-setosa",
                  "_deepnote_index_column": 3
                },
                {
                  "Id": 5,
                  "SepalLengthCm": 5,
                  "SepalWidthCm": 3.6,
                  "PetalLengthCm": 1.4,
                  "PetalWidthCm": 0.2,
                  "Species": "Iris-setosa",
                  "_deepnote_index_column": 4
                },
                {
                  "Id": 6,
                  "SepalLengthCm": 5.4,
                  "SepalWidthCm": 3.9,
                  "PetalLengthCm": 1.7,
                  "PetalWidthCm": 0.4,
                  "Species": "Iris-setosa",
                  "_deepnote_index_column": 5
                },
                {
                  "Id": 7,
                  "SepalLengthCm": 4.6,
                  "SepalWidthCm": 3.4,
                  "PetalLengthCm": 1.4,
                  "PetalWidthCm": 0.3,
                  "Species": "Iris-setosa",
                  "_deepnote_index_column": 6
                },
                {
                  "Id": 8,
                  "SepalLengthCm": 5,
                  "SepalWidthCm": 3.4,
                  "PetalLengthCm": 1.5,
                  "PetalWidthCm": 0.2,
                  "Species": "Iris-setosa",
                  "_deepnote_index_column": 7
                },
                {
                  "Id": 9,
                  "SepalLengthCm": 4.4,
                  "SepalWidthCm": 2.9,
                  "PetalLengthCm": 1.4,
                  "PetalWidthCm": 0.2,
                  "Species": "Iris-setosa",
                  "_deepnote_index_column": 8
                },
                {
                  "Id": 10,
                  "SepalLengthCm": 4.9,
                  "SepalWidthCm": 3.1,
                  "PetalLengthCm": 1.5,
                  "PetalWidthCm": 0.1,
                  "Species": "Iris-setosa",
                  "_deepnote_index_column": 9
                }
              ]
            },
            "text/plain": "      Id  SepalLengthCm  SepalWidthCm  PetalLengthCm  PetalWidthCm  \\\n0      1            5.1           3.5            1.4           0.2   \n1      2            4.9           3.0            1.4           0.2   \n2      3            4.7           3.2            1.3           0.2   \n3      4            4.6           3.1            1.5           0.2   \n4      5            5.0           3.6            1.4           0.2   \n..   ...            ...           ...            ...           ...   \n145  146            6.7           3.0            5.2           2.3   \n146  147            6.3           2.5            5.0           1.9   \n147  148            6.5           3.0            5.2           2.0   \n148  149            6.2           3.4            5.4           2.3   \n149  150            5.9           3.0            5.1           1.8   \n\n            Species  \n0       Iris-setosa  \n1       Iris-setosa  \n2       Iris-setosa  \n3       Iris-setosa  \n4       Iris-setosa  \n..              ...  \n145  Iris-virginica  \n146  Iris-virginica  \n147  Iris-virginica  \n148  Iris-virginica  \n149  Iris-virginica  \n\n[150 rows x 6 columns]",
            "text/html": "<div>\n<style scoped>\n    .dataframe tbody tr th:only-of-type {\n        vertical-align: middle;\n    }\n\n    .dataframe tbody tr th {\n        vertical-align: top;\n    }\n\n    .dataframe thead th {\n        text-align: right;\n    }\n</style>\n<table border=\"1\" class=\"dataframe\">\n  <thead>\n    <tr style=\"text-align: right;\">\n      <th></th>\n      <th>Id</th>\n      <th>SepalLengthCm</th>\n      <th>SepalWidthCm</th>\n      <th>PetalLengthCm</th>\n      <th>PetalWidthCm</th>\n      <th>Species</th>\n    </tr>\n  </thead>\n  <tbody>\n    <tr>\n      <th>0</th>\n      <td>1</td>\n      <td>5.1</td>\n      <td>3.5</td>\n      <td>1.4</td>\n      <td>0.2</td>\n      <td>Iris-setosa</td>\n    </tr>\n    <tr>\n      <th>1</th>\n      <td>2</td>\n      <td>4.9</td>\n      <td>3.0</td>\n      <td>1.4</td>\n      <td>0.2</td>\n      <td>Iris-setosa</td>\n    </tr>\n    <tr>\n      <th>2</th>\n      <td>3</td>\n      <td>4.7</td>\n      <td>3.2</td>\n      <td>1.3</td>\n      <td>0.2</td>\n      <td>Iris-setosa</td>\n    </tr>\n    <tr>\n      <th>3</th>\n      <td>4</td>\n      <td>4.6</td>\n      <td>3.1</td>\n      <td>1.5</td>\n      <td>0.2</td>\n      <td>Iris-setosa</td>\n    </tr>\n    <tr>\n      <th>4</th>\n      <td>5</td>\n      <td>5.0</td>\n      <td>3.6</td>\n      <td>1.4</td>\n      <td>0.2</td>\n      <td>Iris-setosa</td>\n    </tr>\n    <tr>\n      <th>...</th>\n      <td>...</td>\n      <td>...</td>\n      <td>...</td>\n      <td>...</td>\n      <td>...</td>\n      <td>...</td>\n    </tr>\n    <tr>\n      <th>145</th>\n      <td>146</td>\n      <td>6.7</td>\n      <td>3.0</td>\n      <td>5.2</td>\n      <td>2.3</td>\n      <td>Iris-virginica</td>\n    </tr>\n    <tr>\n      <th>146</th>\n      <td>147</td>\n      <td>6.3</td>\n      <td>2.5</td>\n      <td>5.0</td>\n      <td>1.9</td>\n      <td>Iris-virginica</td>\n    </tr>\n    <tr>\n      <th>147</th>\n      <td>148</td>\n      <td>6.5</td>\n      <td>3.0</td>\n      <td>5.2</td>\n      <td>2.0</td>\n      <td>Iris-virginica</td>\n    </tr>\n    <tr>\n      <th>148</th>\n      <td>149</td>\n      <td>6.2</td>\n      <td>3.4</td>\n      <td>5.4</td>\n      <td>2.3</td>\n      <td>Iris-virginica</td>\n    </tr>\n    <tr>\n      <th>149</th>\n      <td>150</td>\n      <td>5.9</td>\n      <td>3.0</td>\n      <td>5.1</td>\n      <td>1.8</td>\n      <td>Iris-virginica</td>\n    </tr>\n  </tbody>\n</table>\n<p>150 rows × 6 columns</p>\n</div>"
          },
          "metadata": {}
        }
      ],
      "outputs_reference": null,
      "execution_count": 4,
      "block_group": "db9e95a9125a4ef69d00a136fc161b55",
      "content_dependencies": null
    },
    {
      "cell_type": "markdown",
      "source": "## Deskripsi Data",
      "metadata": {
        "formattedRanges": [],
        "deepnote_app_block_visible": true,
        "cell_id": "d5e81dc9ac314f1aa111a9c2faa8f0f4",
        "deepnote_cell_type": "text-cell-h2"
      },
      "block_group": "989e9314c5464aaab1daebbe9ae2b477"
    },
    {
      "cell_type": "markdown",
      "source": "### Penjelasan fitur",
      "metadata": {
        "formattedRanges": [],
        "deepnote_app_block_visible": true,
        "cell_id": "93011a451517472ab497ef6ce3b6cc15",
        "deepnote_cell_type": "text-cell-h3"
      },
      "block_group": "431e0736922d4041b8c68d17079023cd"
    },
    {
      "cell_type": "code",
      "source": "df.info()",
      "metadata": {
        "source_hash": "de1e323c",
        "execution_start": 1714004139431,
        "execution_millis": 204,
        "deepnote_to_be_reexecuted": false,
        "deepnote_app_block_visible": true,
        "cell_id": "a783aa362058449aa7bdf3689dbf7335",
        "deepnote_cell_type": "code"
      },
      "outputs": [
        {
          "name": "stdout",
          "text": "<class 'pandas.core.frame.DataFrame'>\nRangeIndex: 150 entries, 0 to 149\nData columns (total 6 columns):\n #   Column         Non-Null Count  Dtype  \n---  ------         --------------  -----  \n 0   Id             150 non-null    int64  \n 1   SepalLengthCm  150 non-null    float64\n 2   SepalWidthCm   150 non-null    float64\n 3   PetalLengthCm  150 non-null    float64\n 4   PetalWidthCm   150 non-null    float64\n 5   Species        150 non-null    object \ndtypes: float64(4), int64(1), object(1)\nmemory usage: 7.2+ KB\n",
          "output_type": "stream"
        }
      ],
      "outputs_reference": null,
      "execution_count": 5,
      "block_group": "82b7ac7924994f9da51005366e6ee733",
      "content_dependencies": null
    },
    {
      "cell_type": "markdown",
      "source": "Berdasarkan output dari kode program diatas. kita dapat mengetahui keterangan mengenai Tipe Data dari masing masing fitur. terdapat empat fitur dan satu class. dijelaskan sebagai berikut : ",
      "metadata": {
        "formattedRanges": [],
        "deepnote_app_block_visible": true,
        "cell_id": "b2e2ddffd0d14dd7a1c1434ea07f0c71",
        "deepnote_cell_type": "text-cell-p"
      },
      "block_group": "42423eac579d4ca3a751a5c064002bf3"
    },
    {
      "cell_type": "markdown",
      "source": "- SepalLengthCm merupakan fitur dengan tipe data numerik yang merupakan hasil dari pengukuran panjang kelopak sepal dari bunga iris.",
      "metadata": {
        "formattedRanges": [],
        "deepnote_app_block_visible": true,
        "cell_id": "b9051c2ffbe94ebeaab6af1089da1491",
        "deepnote_cell_type": "text-cell-bullet"
      },
      "block_group": "216943887a0b40358c6ba8637cee3ae6"
    },
    {
      "cell_type": "markdown",
      "source": "- SepalWidhtCM merupakan fitur dengan tipe data numerik yang merupakan hasil dari pengukuran lebar kelopak sepal dari dari bunga iris.",
      "metadata": {
        "formattedRanges": [],
        "deepnote_app_block_visible": true,
        "cell_id": "a07e99f762d94db2ad7404e62a694810",
        "deepnote_cell_type": "text-cell-bullet"
      },
      "block_group": "e416562b1d404cacbf5e2280eee90646"
    },
    {
      "cell_type": "markdown",
      "source": "- PetalLengthCm merupakan fitur dengan tipe data numerik yang merupakan hasil dari pengukuran panjang kelopak petal dari bunga iris.",
      "metadata": {
        "formattedRanges": [],
        "deepnote_app_block_visible": true,
        "cell_id": "a39dbafbdeb14df5883d605bec337157",
        "deepnote_cell_type": "text-cell-bullet"
      },
      "block_group": "3ee873f68f7c4524a3090272849b98d2"
    },
    {
      "cell_type": "markdown",
      "source": "- PetalWidthCm merupakan fitur dengan tipe data numerik yang merupakan hasil pengukuran dari lebar kelopak sepal dari bunga iris.",
      "metadata": {
        "formattedRanges": [],
        "deepnote_app_block_visible": true,
        "cell_id": "1f0bbac5a3fa463bb21031fe794ac1cf",
        "deepnote_cell_type": "text-cell-bullet"
      },
      "block_group": "fc8b3ae726a64ded827ecf61b346cd8d"
    },
    {
      "cell_type": "markdown",
      "source": "- Species merupakan class dengan tipe data kategori yang merupakan klasifikasi jenis bungan iris.",
      "metadata": {
        "formattedRanges": [],
        "deepnote_app_block_visible": true,
        "cell_id": "76cbc4e7f1b445d0999fcec3f88edf95",
        "deepnote_cell_type": "text-cell-bullet"
      },
      "block_group": "3d014f5434d142c9af12f996639383ed"
    },
    {
      "cell_type": "markdown",
      "source": "### Penjelasan class",
      "metadata": {
        "formattedRanges": [],
        "deepnote_app_block_visible": true,
        "cell_id": "78937fa04fdc44fd94fb9a600f9c66d5",
        "deepnote_cell_type": "text-cell-h3"
      },
      "block_group": "f4051ce02bbf4a72bc6e655d181e9447"
    },
    {
      "cell_type": "code",
      "source": "df.value_counts('Species')",
      "metadata": {
        "source_hash": "2bbf47e7",
        "execution_start": 1714004139447,
        "execution_millis": 608,
        "deepnote_to_be_reexecuted": false,
        "deepnote_app_block_visible": true,
        "cell_id": "194676a3e0bb421180a37b5760a36983",
        "deepnote_cell_type": "code"
      },
      "outputs": [
        {
          "output_type": "execute_result",
          "execution_count": 6,
          "data": {
            "text/plain": "Species\nIris-setosa        50\nIris-versicolor    50\nIris-virginica     50\nName: count, dtype: int64"
          },
          "metadata": {}
        }
      ],
      "outputs_reference": null,
      "execution_count": 6,
      "block_group": "f1c5973e50fe4194948fd2a4a72fa292",
      "content_dependencies": null
    },
    {
      "cell_type": "markdown",
      "source": "Dari kode program diatas. dapat diketahui bahwa terdapat tiga jenis bunga iris berdasarkan data yang sudah kita analisa.",
      "metadata": {
        "formattedRanges": [],
        "deepnote_app_block_visible": true,
        "cell_id": "ab87dfd7d68f44a7a7f963750b05f183",
        "deepnote_cell_type": "text-cell-p"
      },
      "block_group": "d39b8dd980ec457f9904b39bdc21bc4a"
    },
    {
      "cell_type": "markdown",
      "source": "## Percobaan Missing Value",
      "metadata": {
        "formattedRanges": [],
        "deepnote_app_block_visible": true,
        "cell_id": "ac2498fb1f274954a45f780c7896523a",
        "deepnote_cell_type": "text-cell-h2"
      },
      "block_group": "088b590416614b7cb204c0611a710d2b"
    },
    {
      "cell_type": "markdown",
      "source": "Pada tahapan ini akan melakukan sebuah bercobaan dengan menghapus lima value dari beberapa baris. sehingga secara tidak langsung kita melakukan sebuah simulasi menghadapi sebuah data yang memiliki missing value.",
      "metadata": {
        "formattedRanges": [],
        "deepnote_app_block_visible": true,
        "cell_id": "742106a1bbd34f6fac6a0028ba8d88e4",
        "deepnote_cell_type": "text-cell-p"
      },
      "block_group": "40d8bbb2c09b437fb057b8abfe3948a9"
    },
    {
      "cell_type": "markdown",
      "source": "### Menghapus value dari baris",
      "metadata": {
        "formattedRanges": [],
        "deepnote_app_block_visible": true,
        "cell_id": "8b3c36b12c0b4392a7d833199f1eeb1d",
        "deepnote_cell_type": "text-cell-h3"
      },
      "block_group": "6c3a96f0f32c4e1f83d5974e0b8ad3fa"
    },
    {
      "cell_type": "code",
      "source": "df.loc[df[\"Id\"] == 50, 'SepalLengthCm'] = None\ndf.loc[df[\"Id\"] == 100, 'SepalLengthCm'] = None\ndf.loc[df[\"Id\"] == 150, 'SepalLengthCm'] = None\n\n# dua fitur pada \ndf.loc[df[\"Id\"] == 25, ['SepalLengthCm','PetalWidthCm']] = None\ndf.loc[df[\"Id\"] == 75, ['SepalLengthCm','PetalWidthCm']] = None\n\ndf",
      "metadata": {
        "source_hash": "6a6e0bda",
        "execution_start": 1714004139474,
        "execution_millis": 581,
        "deepnote_table_state": {
          "sortBy": [],
          "filters": [],
          "pageSize": 10,
          "pageIndex": 0
        },
        "deepnote_table_loading": false,
        "deepnote_to_be_reexecuted": false,
        "deepnote_app_block_visible": true,
        "cell_id": "053a5a11fd3641b4b3de2ce108f6be68",
        "deepnote_cell_type": "code"
      },
      "outputs": [
        {
          "output_type": "execute_result",
          "execution_count": 7,
          "data": {
            "application/vnd.deepnote.dataframe.v3+json": {
              "column_count": 6,
              "row_count": 150,
              "columns": [
                {
                  "name": "Id",
                  "dtype": "int64",
                  "stats": {
                    "unique_count": 150,
                    "nan_count": 0,
                    "min": "1",
                    "max": "150",
                    "histogram": [
                      {
                        "bin_start": 1,
                        "bin_end": 15.9,
                        "count": 15
                      },
                      {
                        "bin_start": 15.9,
                        "bin_end": 30.8,
                        "count": 15
                      },
                      {
                        "bin_start": 30.8,
                        "bin_end": 45.7,
                        "count": 15
                      },
                      {
                        "bin_start": 45.7,
                        "bin_end": 60.6,
                        "count": 15
                      },
                      {
                        "bin_start": 60.6,
                        "bin_end": 75.5,
                        "count": 15
                      },
                      {
                        "bin_start": 75.5,
                        "bin_end": 90.4,
                        "count": 15
                      },
                      {
                        "bin_start": 90.4,
                        "bin_end": 105.3,
                        "count": 15
                      },
                      {
                        "bin_start": 105.3,
                        "bin_end": 120.2,
                        "count": 15
                      },
                      {
                        "bin_start": 120.2,
                        "bin_end": 135.1,
                        "count": 15
                      },
                      {
                        "bin_start": 135.1,
                        "bin_end": 150,
                        "count": 15
                      }
                    ]
                  }
                },
                {
                  "name": "SepalLengthCm",
                  "dtype": "float64",
                  "stats": {
                    "unique_count": 35,
                    "nan_count": 5,
                    "min": "4.3",
                    "max": "7.9",
                    "histogram": [
                      {
                        "bin_start": 4.3,
                        "bin_end": 4.66,
                        "count": 9
                      },
                      {
                        "bin_start": 4.66,
                        "bin_end": 5.02,
                        "count": 21
                      },
                      {
                        "bin_start": 5.02,
                        "bin_end": 5.38,
                        "count": 14
                      },
                      {
                        "bin_start": 5.38,
                        "bin_end": 5.74,
                        "count": 26
                      },
                      {
                        "bin_start": 5.74,
                        "bin_end": 6.1,
                        "count": 15
                      },
                      {
                        "bin_start": 6.1,
                        "bin_end": 6.46,
                        "count": 25
                      },
                      {
                        "bin_start": 6.46,
                        "bin_end": 6.82,
                        "count": 18
                      },
                      {
                        "bin_start": 6.82,
                        "bin_end": 7.18,
                        "count": 6
                      },
                      {
                        "bin_start": 7.18,
                        "bin_end": 7.54,
                        "count": 5
                      },
                      {
                        "bin_start": 7.54,
                        "bin_end": 7.9,
                        "count": 6
                      }
                    ]
                  }
                },
                {
                  "name": "SepalWidthCm",
                  "dtype": "float64",
                  "stats": {
                    "unique_count": 23,
                    "nan_count": 0,
                    "min": "2.0",
                    "max": "4.4",
                    "histogram": [
                      {
                        "bin_start": 2,
                        "bin_end": 2.24,
                        "count": 4
                      },
                      {
                        "bin_start": 2.24,
                        "bin_end": 2.48,
                        "count": 7
                      },
                      {
                        "bin_start": 2.48,
                        "bin_end": 2.72,
                        "count": 22
                      },
                      {
                        "bin_start": 2.72,
                        "bin_end": 2.96,
                        "count": 24
                      },
                      {
                        "bin_start": 2.96,
                        "bin_end": 3.2,
                        "count": 38
                      },
                      {
                        "bin_start": 3.2,
                        "bin_end": 3.4400000000000004,
                        "count": 31
                      },
                      {
                        "bin_start": 3.4400000000000004,
                        "bin_end": 3.6800000000000006,
                        "count": 9
                      },
                      {
                        "bin_start": 3.6800000000000006,
                        "bin_end": 3.9200000000000004,
                        "count": 11
                      },
                      {
                        "bin_start": 3.9200000000000004,
                        "bin_end": 4.16,
                        "count": 2
                      },
                      {
                        "bin_start": 4.16,
                        "bin_end": 4.4,
                        "count": 2
                      }
                    ]
                  }
                },
                {
                  "name": "PetalLengthCm",
                  "dtype": "float64",
                  "stats": {
                    "unique_count": 43,
                    "nan_count": 0,
                    "min": "1.0",
                    "max": "6.9",
                    "histogram": [
                      {
                        "bin_start": 1,
                        "bin_end": 1.59,
                        "count": 37
                      },
                      {
                        "bin_start": 1.59,
                        "bin_end": 2.18,
                        "count": 13
                      },
                      {
                        "bin_start": 2.18,
                        "bin_end": 2.7700000000000005,
                        "count": 0
                      },
                      {
                        "bin_start": 2.7700000000000005,
                        "bin_end": 3.3600000000000003,
                        "count": 3
                      },
                      {
                        "bin_start": 3.3600000000000003,
                        "bin_end": 3.95,
                        "count": 8
                      },
                      {
                        "bin_start": 3.95,
                        "bin_end": 4.540000000000001,
                        "count": 26
                      },
                      {
                        "bin_start": 4.540000000000001,
                        "bin_end": 5.130000000000001,
                        "count": 29
                      },
                      {
                        "bin_start": 5.130000000000001,
                        "bin_end": 5.720000000000001,
                        "count": 18
                      },
                      {
                        "bin_start": 5.720000000000001,
                        "bin_end": 6.3100000000000005,
                        "count": 11
                      },
                      {
                        "bin_start": 6.3100000000000005,
                        "bin_end": 6.9,
                        "count": 5
                      }
                    ]
                  }
                },
                {
                  "name": "PetalWidthCm",
                  "dtype": "float64",
                  "stats": {
                    "unique_count": 22,
                    "nan_count": 2,
                    "min": "0.1",
                    "max": "2.5",
                    "histogram": [
                      {
                        "bin_start": 0.1,
                        "bin_end": 0.33999999999999997,
                        "count": 40
                      },
                      {
                        "bin_start": 0.33999999999999997,
                        "bin_end": 0.58,
                        "count": 8
                      },
                      {
                        "bin_start": 0.58,
                        "bin_end": 0.82,
                        "count": 1
                      },
                      {
                        "bin_start": 0.82,
                        "bin_end": 1.06,
                        "count": 7
                      },
                      {
                        "bin_start": 1.06,
                        "bin_end": 1.3,
                        "count": 8
                      },
                      {
                        "bin_start": 1.3,
                        "bin_end": 1.54,
                        "count": 32
                      },
                      {
                        "bin_start": 1.54,
                        "bin_end": 1.78,
                        "count": 6
                      },
                      {
                        "bin_start": 1.78,
                        "bin_end": 2.02,
                        "count": 23
                      },
                      {
                        "bin_start": 2.02,
                        "bin_end": 2.2600000000000002,
                        "count": 9
                      },
                      {
                        "bin_start": 2.2600000000000002,
                        "bin_end": 2.5,
                        "count": 14
                      }
                    ]
                  }
                },
                {
                  "name": "Species",
                  "dtype": "object",
                  "stats": {
                    "unique_count": 3,
                    "nan_count": 0,
                    "categories": [
                      {
                        "name": "Iris-setosa",
                        "count": 50
                      },
                      {
                        "name": "Iris-versicolor",
                        "count": 50
                      },
                      {
                        "name": "Iris-virginica",
                        "count": 50
                      }
                    ]
                  }
                },
                {
                  "name": "_deepnote_index_column",
                  "dtype": "int64"
                }
              ],
              "rows": [
                {
                  "Id": 1,
                  "SepalLengthCm": 5.1,
                  "SepalWidthCm": 3.5,
                  "PetalLengthCm": 1.4,
                  "PetalWidthCm": 0.2,
                  "Species": "Iris-setosa",
                  "_deepnote_index_column": 0
                },
                {
                  "Id": 2,
                  "SepalLengthCm": 4.9,
                  "SepalWidthCm": 3,
                  "PetalLengthCm": 1.4,
                  "PetalWidthCm": 0.2,
                  "Species": "Iris-setosa",
                  "_deepnote_index_column": 1
                },
                {
                  "Id": 3,
                  "SepalLengthCm": 4.7,
                  "SepalWidthCm": 3.2,
                  "PetalLengthCm": 1.3,
                  "PetalWidthCm": 0.2,
                  "Species": "Iris-setosa",
                  "_deepnote_index_column": 2
                },
                {
                  "Id": 4,
                  "SepalLengthCm": 4.6,
                  "SepalWidthCm": 3.1,
                  "PetalLengthCm": 1.5,
                  "PetalWidthCm": 0.2,
                  "Species": "Iris-setosa",
                  "_deepnote_index_column": 3
                },
                {
                  "Id": 5,
                  "SepalLengthCm": 5,
                  "SepalWidthCm": 3.6,
                  "PetalLengthCm": 1.4,
                  "PetalWidthCm": 0.2,
                  "Species": "Iris-setosa",
                  "_deepnote_index_column": 4
                },
                {
                  "Id": 6,
                  "SepalLengthCm": 5.4,
                  "SepalWidthCm": 3.9,
                  "PetalLengthCm": 1.7,
                  "PetalWidthCm": 0.4,
                  "Species": "Iris-setosa",
                  "_deepnote_index_column": 5
                },
                {
                  "Id": 7,
                  "SepalLengthCm": 4.6,
                  "SepalWidthCm": 3.4,
                  "PetalLengthCm": 1.4,
                  "PetalWidthCm": 0.3,
                  "Species": "Iris-setosa",
                  "_deepnote_index_column": 6
                },
                {
                  "Id": 8,
                  "SepalLengthCm": 5,
                  "SepalWidthCm": 3.4,
                  "PetalLengthCm": 1.5,
                  "PetalWidthCm": 0.2,
                  "Species": "Iris-setosa",
                  "_deepnote_index_column": 7
                },
                {
                  "Id": 9,
                  "SepalLengthCm": 4.4,
                  "SepalWidthCm": 2.9,
                  "PetalLengthCm": 1.4,
                  "PetalWidthCm": 0.2,
                  "Species": "Iris-setosa",
                  "_deepnote_index_column": 8
                },
                {
                  "Id": 10,
                  "SepalLengthCm": 4.9,
                  "SepalWidthCm": 3.1,
                  "PetalLengthCm": 1.5,
                  "PetalWidthCm": 0.1,
                  "Species": "Iris-setosa",
                  "_deepnote_index_column": 9
                }
              ]
            },
            "text/plain": "      Id  SepalLengthCm  SepalWidthCm  PetalLengthCm  PetalWidthCm  \\\n0      1            5.1           3.5            1.4           0.2   \n1      2            4.9           3.0            1.4           0.2   \n2      3            4.7           3.2            1.3           0.2   \n3      4            4.6           3.1            1.5           0.2   \n4      5            5.0           3.6            1.4           0.2   \n..   ...            ...           ...            ...           ...   \n145  146            6.7           3.0            5.2           2.3   \n146  147            6.3           2.5            5.0           1.9   \n147  148            6.5           3.0            5.2           2.0   \n148  149            6.2           3.4            5.4           2.3   \n149  150            NaN           3.0            5.1           1.8   \n\n            Species  \n0       Iris-setosa  \n1       Iris-setosa  \n2       Iris-setosa  \n3       Iris-setosa  \n4       Iris-setosa  \n..              ...  \n145  Iris-virginica  \n146  Iris-virginica  \n147  Iris-virginica  \n148  Iris-virginica  \n149  Iris-virginica  \n\n[150 rows x 6 columns]",
            "text/html": "<div>\n<style scoped>\n    .dataframe tbody tr th:only-of-type {\n        vertical-align: middle;\n    }\n\n    .dataframe tbody tr th {\n        vertical-align: top;\n    }\n\n    .dataframe thead th {\n        text-align: right;\n    }\n</style>\n<table border=\"1\" class=\"dataframe\">\n  <thead>\n    <tr style=\"text-align: right;\">\n      <th></th>\n      <th>Id</th>\n      <th>SepalLengthCm</th>\n      <th>SepalWidthCm</th>\n      <th>PetalLengthCm</th>\n      <th>PetalWidthCm</th>\n      <th>Species</th>\n    </tr>\n  </thead>\n  <tbody>\n    <tr>\n      <th>0</th>\n      <td>1</td>\n      <td>5.1</td>\n      <td>3.5</td>\n      <td>1.4</td>\n      <td>0.2</td>\n      <td>Iris-setosa</td>\n    </tr>\n    <tr>\n      <th>1</th>\n      <td>2</td>\n      <td>4.9</td>\n      <td>3.0</td>\n      <td>1.4</td>\n      <td>0.2</td>\n      <td>Iris-setosa</td>\n    </tr>\n    <tr>\n      <th>2</th>\n      <td>3</td>\n      <td>4.7</td>\n      <td>3.2</td>\n      <td>1.3</td>\n      <td>0.2</td>\n      <td>Iris-setosa</td>\n    </tr>\n    <tr>\n      <th>3</th>\n      <td>4</td>\n      <td>4.6</td>\n      <td>3.1</td>\n      <td>1.5</td>\n      <td>0.2</td>\n      <td>Iris-setosa</td>\n    </tr>\n    <tr>\n      <th>4</th>\n      <td>5</td>\n      <td>5.0</td>\n      <td>3.6</td>\n      <td>1.4</td>\n      <td>0.2</td>\n      <td>Iris-setosa</td>\n    </tr>\n    <tr>\n      <th>...</th>\n      <td>...</td>\n      <td>...</td>\n      <td>...</td>\n      <td>...</td>\n      <td>...</td>\n      <td>...</td>\n    </tr>\n    <tr>\n      <th>145</th>\n      <td>146</td>\n      <td>6.7</td>\n      <td>3.0</td>\n      <td>5.2</td>\n      <td>2.3</td>\n      <td>Iris-virginica</td>\n    </tr>\n    <tr>\n      <th>146</th>\n      <td>147</td>\n      <td>6.3</td>\n      <td>2.5</td>\n      <td>5.0</td>\n      <td>1.9</td>\n      <td>Iris-virginica</td>\n    </tr>\n    <tr>\n      <th>147</th>\n      <td>148</td>\n      <td>6.5</td>\n      <td>3.0</td>\n      <td>5.2</td>\n      <td>2.0</td>\n      <td>Iris-virginica</td>\n    </tr>\n    <tr>\n      <th>148</th>\n      <td>149</td>\n      <td>6.2</td>\n      <td>3.4</td>\n      <td>5.4</td>\n      <td>2.3</td>\n      <td>Iris-virginica</td>\n    </tr>\n    <tr>\n      <th>149</th>\n      <td>150</td>\n      <td>NaN</td>\n      <td>3.0</td>\n      <td>5.1</td>\n      <td>1.8</td>\n      <td>Iris-virginica</td>\n    </tr>\n  </tbody>\n</table>\n<p>150 rows × 6 columns</p>\n</div>"
          },
          "metadata": {}
        }
      ],
      "outputs_reference": null,
      "execution_count": 7,
      "block_group": "1e85c2d303874107aa91ac35cbcd1c13",
      "content_dependencies": null
    },
    {
      "cell_type": "markdown",
      "source": "### Menampilkan fitur yang memiliki missing value",
      "metadata": {
        "formattedRanges": [],
        "deepnote_app_block_visible": true,
        "cell_id": "c570ae4158314323a42bbdb868a30c57",
        "deepnote_cell_type": "text-cell-h3"
      },
      "block_group": "c617df4a52574da4b8c83c55440a3b1c"
    },
    {
      "cell_type": "code",
      "source": "df.isnull().sum()",
      "metadata": {
        "source_hash": "f3dd26da",
        "execution_start": 1714004139556,
        "execution_millis": 500,
        "deepnote_to_be_reexecuted": false,
        "deepnote_app_block_visible": true,
        "cell_id": "c7b3eb25035d47f1997891d140110bab",
        "deepnote_cell_type": "code"
      },
      "outputs": [
        {
          "output_type": "execute_result",
          "execution_count": 8,
          "data": {
            "text/plain": "Id               0\nSepalLengthCm    5\nSepalWidthCm     0\nPetalLengthCm    0\nPetalWidthCm     2\nSpecies          0\ndtype: int64"
          },
          "metadata": {}
        }
      ],
      "outputs_reference": null,
      "execution_count": 8,
      "block_group": "8fe08e605cfc48e9b3d7f07050c7ebc8",
      "content_dependencies": null
    },
    {
      "cell_type": "markdown",
      "source": "Dari kode diatas dapat dilihat bahwa terdapat missng value pada fitur SepalLengthCm dan PetalWidthCm. pada fitur SepalLengthCm terdapat lima baris yang memiliki missing value. dan pada fitur PetalWidthCm terdapat dua baris yang memiliki missing value",
      "metadata": {
        "formattedRanges": [],
        "deepnote_app_block_visible": true,
        "cell_id": "5192567c0356454b8d2bde9f6382ab4b",
        "deepnote_cell_type": "text-cell-p"
      },
      "block_group": "0fe8fda6711a496e89d20a9cda88b73f"
    },
    {
      "cell_type": "markdown",
      "source": "# Pra-pemrosesan Data (Data Preprocessing)",
      "metadata": {
        "formattedRanges": [],
        "deepnote_app_block_visible": true,
        "cell_id": "3dff95c578394ea58b4f3eb14b8bd2de",
        "deepnote_cell_type": "text-cell-h1"
      },
      "block_group": "74ce1c64631a43cdbbfc41169ea34677"
    },
    {
      "cell_type": "markdown",
      "source": "Data preprocessing dalam data mining sangat penting. Pada tahapan ini, akan dilakukan pengolahan data mentah (Raw data) yang nantinya akan diubah menjadi data yang  bisa diolah untuk di analisa lebih lanjut.",
      "metadata": {
        "formattedRanges": [],
        "deepnote_app_block_visible": true,
        "cell_id": "a1bd3470c6ab4125a941fb61a57ad1aa",
        "deepnote_cell_type": "text-cell-p"
      },
      "block_group": "c4407538278b46d5a78010e93006a993"
    },
    {
      "cell_type": "markdown",
      "source": "Ada 4 tahapan untuk melakukan pra-pemrosesan data, yaitu :",
      "metadata": {
        "formattedRanges": [],
        "deepnote_app_block_visible": true,
        "cell_id": "e7d7596525bd42dca913e245cc617f61",
        "deepnote_cell_type": "text-cell-p"
      },
      "block_group": "97bd50cc27414ba68f7da3f6c5035cc4"
    },
    {
      "cell_type": "markdown",
      "source": "- Pembersihan Data (Data Cleaning)",
      "metadata": {
        "formattedRanges": [],
        "deepnote_app_block_visible": true,
        "cell_id": "6bae3043bc0d472a9f1bf217051952b9",
        "deepnote_cell_type": "text-cell-bullet"
      },
      "block_group": "7a538ec5ce5f4f27b47efac6644bc79e"
    },
    {
      "cell_type": "markdown",
      "source": "Pada tahapan ini. Data mentah (Raw Data) yang diperoleh harus dilakukan seleksi dengan menghapus data yang tidak relevan, lengkap, dan tidak akurat. Hal ini berguna untuk mengurangi kesalahpahaman data.",
      "metadata": {
        "formattedRanges": [],
        "deepnote_app_block_visible": true,
        "cell_id": "9f11e91a585040a7bd60f91d41384ccb",
        "deepnote_cell_type": "text-cell-p"
      },
      "block_group": "71e567ec9bd8464b82245fecf93ed759"
    },
    {
      "cell_type": "markdown",
      "source": "- Penggabungan Data (Data Integration)",
      "metadata": {
        "formattedRanges": [],
        "deepnote_app_block_visible": true,
        "cell_id": "16b2a16879c54208a2a358071a4d9bbd",
        "deepnote_cell_type": "text-cell-bullet"
      },
      "block_group": "6766b5878aa84e2b8931eef13e4ffe5d"
    },
    {
      "cell_type": "markdown",
      "source": "Data dari sumber yang berbeda digabungkan menjadi satu dataset. karena itu, kita harus mengecek sumber-sumber data agar supaya memiliki format yang sama.",
      "metadata": {
        "formattedRanges": [],
        "deepnote_app_block_visible": true,
        "cell_id": "9f81a5af1d2442518447efd83fe2c6e4",
        "deepnote_cell_type": "text-cell-p"
      },
      "block_group": "d3711310855d420889797927040d3370"
    },
    {
      "cell_type": "markdown",
      "source": "- Tranformasi Data (Data Tranformation)",
      "metadata": {
        "formattedRanges": [],
        "deepnote_app_block_visible": true,
        "cell_id": "7882437b8d754ad9af1542bb6174dabf",
        "deepnote_cell_type": "text-cell-bullet"
      },
      "block_group": "d01ec6a222fc49638d4d6a294cd9e734"
    },
    {
      "cell_type": "markdown",
      "source": "Setelah proses penggabungan data dari berbagai sumber data. Selanjutnya akan dilakukan proses tranformasi data. Hal ini dilakukan karena kemungkinan data yang diambil memiliki perbedaan format. karena itu agar memudahkan ketika diolah, Data harus disamakan formatnya.",
      "metadata": {
        "formattedRanges": [],
        "deepnote_app_block_visible": true,
        "cell_id": "e7b89eb2de4a4156ad4ec14d0ac62889",
        "deepnote_cell_type": "text-cell-p"
      },
      "block_group": "9936dd8936834298a0d6f8ecccbe6214"
    },
    {
      "cell_type": "markdown",
      "source": "- Pengurangan Data (Data Reduction)",
      "metadata": {
        "formattedRanges": [],
        "deepnote_app_block_visible": true,
        "cell_id": "7c5876be07d6455aa964e5b1a40b2f20",
        "deepnote_cell_type": "text-cell-bullet"
      },
      "block_group": "242d0adc8ba64c2296ca0448d1bd5eef"
    },
    {
      "cell_type": "markdown",
      "source": "Terakhir yang dilakukan adalah mengurangi data. Maksudnya adalah mengurangi sampel data yang diambil. walupun dilakukan pengurangan sampel data, pengurangan ini tidak boleh mengubah hasil analisa data. Ada tiga cara yang dilakukan. Pertama, Mengurangi dimensi. Kedua, pengurangan jumlah data. Dan ketiga, kompresi data.",
      "metadata": {
        "formattedRanges": [],
        "deepnote_app_block_visible": true,
        "cell_id": "e5335939679748cc9a27fda6f5aa5a5b",
        "deepnote_cell_type": "text-cell-p"
      },
      "block_group": "87ce4ef642ea4f208d4821f0377a68d7"
    },
    {
      "cell_type": "markdown",
      "source": "## Pembersihan Data (Data Cleaning)",
      "metadata": {
        "formattedRanges": [],
        "deepnote_app_block_visible": true,
        "cell_id": "3bb9471639254ee0b037b59f7da159af",
        "deepnote_cell_type": "text-cell-h2"
      },
      "block_group": "4891ac4a2cfc4432bd5d198f6dc3177b"
    },
    {
      "cell_type": "markdown",
      "source": "### Seleksi fitur",
      "metadata": {
        "formattedRanges": [],
        "deepnote_app_block_visible": true,
        "cell_id": "3dd46af215c542a6b913e642010c5ddf",
        "deepnote_cell_type": "text-cell-h3"
      },
      "block_group": "7fd393bf30814bb88dd9a2734c4d1ae5"
    },
    {
      "cell_type": "markdown",
      "source": "Seleksi fitur dilakukan untuk menghapus kolom / fitur yang tidak dibutuhkan. dalam kasus ini, kolom Id dihapus karena tidak dibutuhkan dalam komputasi.",
      "metadata": {
        "formattedRanges": [],
        "deepnote_app_block_visible": true,
        "cell_id": "f9a3118b12284bba9b08b71db0afb67c",
        "deepnote_cell_type": "text-cell-p"
      },
      "block_group": "c39f272ad9ff4dcfa65b918d095cd526"
    },
    {
      "cell_type": "code",
      "source": "df = df.drop(['Id'], axis=1)\n\ndf",
      "metadata": {
        "source_hash": "2efa4883",
        "execution_start": 1714004139557,
        "execution_millis": 499,
        "deepnote_table_state": {
          "sortBy": [],
          "filters": [],
          "pageSize": 10,
          "pageIndex": 0
        },
        "deepnote_table_loading": false,
        "deepnote_to_be_reexecuted": false,
        "deepnote_app_block_visible": true,
        "cell_id": "604450d0be0f4c7d986da6903bba9bcb",
        "deepnote_cell_type": "code"
      },
      "outputs": [
        {
          "output_type": "execute_result",
          "execution_count": 9,
          "data": {
            "application/vnd.deepnote.dataframe.v3+json": {
              "column_count": 5,
              "row_count": 150,
              "columns": [
                {
                  "name": "SepalLengthCm",
                  "dtype": "float64",
                  "stats": {
                    "unique_count": 35,
                    "nan_count": 5,
                    "min": "4.3",
                    "max": "7.9",
                    "histogram": [
                      {
                        "bin_start": 4.3,
                        "bin_end": 4.66,
                        "count": 9
                      },
                      {
                        "bin_start": 4.66,
                        "bin_end": 5.02,
                        "count": 21
                      },
                      {
                        "bin_start": 5.02,
                        "bin_end": 5.38,
                        "count": 14
                      },
                      {
                        "bin_start": 5.38,
                        "bin_end": 5.74,
                        "count": 26
                      },
                      {
                        "bin_start": 5.74,
                        "bin_end": 6.1,
                        "count": 15
                      },
                      {
                        "bin_start": 6.1,
                        "bin_end": 6.46,
                        "count": 25
                      },
                      {
                        "bin_start": 6.46,
                        "bin_end": 6.82,
                        "count": 18
                      },
                      {
                        "bin_start": 6.82,
                        "bin_end": 7.18,
                        "count": 6
                      },
                      {
                        "bin_start": 7.18,
                        "bin_end": 7.54,
                        "count": 5
                      },
                      {
                        "bin_start": 7.54,
                        "bin_end": 7.9,
                        "count": 6
                      }
                    ]
                  }
                },
                {
                  "name": "SepalWidthCm",
                  "dtype": "float64",
                  "stats": {
                    "unique_count": 23,
                    "nan_count": 0,
                    "min": "2.0",
                    "max": "4.4",
                    "histogram": [
                      {
                        "bin_start": 2,
                        "bin_end": 2.24,
                        "count": 4
                      },
                      {
                        "bin_start": 2.24,
                        "bin_end": 2.48,
                        "count": 7
                      },
                      {
                        "bin_start": 2.48,
                        "bin_end": 2.72,
                        "count": 22
                      },
                      {
                        "bin_start": 2.72,
                        "bin_end": 2.96,
                        "count": 24
                      },
                      {
                        "bin_start": 2.96,
                        "bin_end": 3.2,
                        "count": 38
                      },
                      {
                        "bin_start": 3.2,
                        "bin_end": 3.4400000000000004,
                        "count": 31
                      },
                      {
                        "bin_start": 3.4400000000000004,
                        "bin_end": 3.6800000000000006,
                        "count": 9
                      },
                      {
                        "bin_start": 3.6800000000000006,
                        "bin_end": 3.9200000000000004,
                        "count": 11
                      },
                      {
                        "bin_start": 3.9200000000000004,
                        "bin_end": 4.16,
                        "count": 2
                      },
                      {
                        "bin_start": 4.16,
                        "bin_end": 4.4,
                        "count": 2
                      }
                    ]
                  }
                },
                {
                  "name": "PetalLengthCm",
                  "dtype": "float64",
                  "stats": {
                    "unique_count": 43,
                    "nan_count": 0,
                    "min": "1.0",
                    "max": "6.9",
                    "histogram": [
                      {
                        "bin_start": 1,
                        "bin_end": 1.59,
                        "count": 37
                      },
                      {
                        "bin_start": 1.59,
                        "bin_end": 2.18,
                        "count": 13
                      },
                      {
                        "bin_start": 2.18,
                        "bin_end": 2.7700000000000005,
                        "count": 0
                      },
                      {
                        "bin_start": 2.7700000000000005,
                        "bin_end": 3.3600000000000003,
                        "count": 3
                      },
                      {
                        "bin_start": 3.3600000000000003,
                        "bin_end": 3.95,
                        "count": 8
                      },
                      {
                        "bin_start": 3.95,
                        "bin_end": 4.540000000000001,
                        "count": 26
                      },
                      {
                        "bin_start": 4.540000000000001,
                        "bin_end": 5.130000000000001,
                        "count": 29
                      },
                      {
                        "bin_start": 5.130000000000001,
                        "bin_end": 5.720000000000001,
                        "count": 18
                      },
                      {
                        "bin_start": 5.720000000000001,
                        "bin_end": 6.3100000000000005,
                        "count": 11
                      },
                      {
                        "bin_start": 6.3100000000000005,
                        "bin_end": 6.9,
                        "count": 5
                      }
                    ]
                  }
                },
                {
                  "name": "PetalWidthCm",
                  "dtype": "float64",
                  "stats": {
                    "unique_count": 22,
                    "nan_count": 2,
                    "min": "0.1",
                    "max": "2.5",
                    "histogram": [
                      {
                        "bin_start": 0.1,
                        "bin_end": 0.33999999999999997,
                        "count": 40
                      },
                      {
                        "bin_start": 0.33999999999999997,
                        "bin_end": 0.58,
                        "count": 8
                      },
                      {
                        "bin_start": 0.58,
                        "bin_end": 0.82,
                        "count": 1
                      },
                      {
                        "bin_start": 0.82,
                        "bin_end": 1.06,
                        "count": 7
                      },
                      {
                        "bin_start": 1.06,
                        "bin_end": 1.3,
                        "count": 8
                      },
                      {
                        "bin_start": 1.3,
                        "bin_end": 1.54,
                        "count": 32
                      },
                      {
                        "bin_start": 1.54,
                        "bin_end": 1.78,
                        "count": 6
                      },
                      {
                        "bin_start": 1.78,
                        "bin_end": 2.02,
                        "count": 23
                      },
                      {
                        "bin_start": 2.02,
                        "bin_end": 2.2600000000000002,
                        "count": 9
                      },
                      {
                        "bin_start": 2.2600000000000002,
                        "bin_end": 2.5,
                        "count": 14
                      }
                    ]
                  }
                },
                {
                  "name": "Species",
                  "dtype": "object",
                  "stats": {
                    "unique_count": 3,
                    "nan_count": 0,
                    "categories": [
                      {
                        "name": "Iris-setosa",
                        "count": 50
                      },
                      {
                        "name": "Iris-versicolor",
                        "count": 50
                      },
                      {
                        "name": "Iris-virginica",
                        "count": 50
                      }
                    ]
                  }
                },
                {
                  "name": "_deepnote_index_column",
                  "dtype": "int64"
                }
              ],
              "rows": [
                {
                  "SepalLengthCm": 5.1,
                  "SepalWidthCm": 3.5,
                  "PetalLengthCm": 1.4,
                  "PetalWidthCm": 0.2,
                  "Species": "Iris-setosa",
                  "_deepnote_index_column": 0
                },
                {
                  "SepalLengthCm": 4.9,
                  "SepalWidthCm": 3,
                  "PetalLengthCm": 1.4,
                  "PetalWidthCm": 0.2,
                  "Species": "Iris-setosa",
                  "_deepnote_index_column": 1
                },
                {
                  "SepalLengthCm": 4.7,
                  "SepalWidthCm": 3.2,
                  "PetalLengthCm": 1.3,
                  "PetalWidthCm": 0.2,
                  "Species": "Iris-setosa",
                  "_deepnote_index_column": 2
                },
                {
                  "SepalLengthCm": 4.6,
                  "SepalWidthCm": 3.1,
                  "PetalLengthCm": 1.5,
                  "PetalWidthCm": 0.2,
                  "Species": "Iris-setosa",
                  "_deepnote_index_column": 3
                },
                {
                  "SepalLengthCm": 5,
                  "SepalWidthCm": 3.6,
                  "PetalLengthCm": 1.4,
                  "PetalWidthCm": 0.2,
                  "Species": "Iris-setosa",
                  "_deepnote_index_column": 4
                },
                {
                  "SepalLengthCm": 5.4,
                  "SepalWidthCm": 3.9,
                  "PetalLengthCm": 1.7,
                  "PetalWidthCm": 0.4,
                  "Species": "Iris-setosa",
                  "_deepnote_index_column": 5
                },
                {
                  "SepalLengthCm": 4.6,
                  "SepalWidthCm": 3.4,
                  "PetalLengthCm": 1.4,
                  "PetalWidthCm": 0.3,
                  "Species": "Iris-setosa",
                  "_deepnote_index_column": 6
                },
                {
                  "SepalLengthCm": 5,
                  "SepalWidthCm": 3.4,
                  "PetalLengthCm": 1.5,
                  "PetalWidthCm": 0.2,
                  "Species": "Iris-setosa",
                  "_deepnote_index_column": 7
                },
                {
                  "SepalLengthCm": 4.4,
                  "SepalWidthCm": 2.9,
                  "PetalLengthCm": 1.4,
                  "PetalWidthCm": 0.2,
                  "Species": "Iris-setosa",
                  "_deepnote_index_column": 8
                },
                {
                  "SepalLengthCm": 4.9,
                  "SepalWidthCm": 3.1,
                  "PetalLengthCm": 1.5,
                  "PetalWidthCm": 0.1,
                  "Species": "Iris-setosa",
                  "_deepnote_index_column": 9
                }
              ]
            },
            "text/plain": "     SepalLengthCm  SepalWidthCm  PetalLengthCm  PetalWidthCm         Species\n0              5.1           3.5            1.4           0.2     Iris-setosa\n1              4.9           3.0            1.4           0.2     Iris-setosa\n2              4.7           3.2            1.3           0.2     Iris-setosa\n3              4.6           3.1            1.5           0.2     Iris-setosa\n4              5.0           3.6            1.4           0.2     Iris-setosa\n..             ...           ...            ...           ...             ...\n145            6.7           3.0            5.2           2.3  Iris-virginica\n146            6.3           2.5            5.0           1.9  Iris-virginica\n147            6.5           3.0            5.2           2.0  Iris-virginica\n148            6.2           3.4            5.4           2.3  Iris-virginica\n149            NaN           3.0            5.1           1.8  Iris-virginica\n\n[150 rows x 5 columns]",
            "text/html": "<div>\n<style scoped>\n    .dataframe tbody tr th:only-of-type {\n        vertical-align: middle;\n    }\n\n    .dataframe tbody tr th {\n        vertical-align: top;\n    }\n\n    .dataframe thead th {\n        text-align: right;\n    }\n</style>\n<table border=\"1\" class=\"dataframe\">\n  <thead>\n    <tr style=\"text-align: right;\">\n      <th></th>\n      <th>SepalLengthCm</th>\n      <th>SepalWidthCm</th>\n      <th>PetalLengthCm</th>\n      <th>PetalWidthCm</th>\n      <th>Species</th>\n    </tr>\n  </thead>\n  <tbody>\n    <tr>\n      <th>0</th>\n      <td>5.1</td>\n      <td>3.5</td>\n      <td>1.4</td>\n      <td>0.2</td>\n      <td>Iris-setosa</td>\n    </tr>\n    <tr>\n      <th>1</th>\n      <td>4.9</td>\n      <td>3.0</td>\n      <td>1.4</td>\n      <td>0.2</td>\n      <td>Iris-setosa</td>\n    </tr>\n    <tr>\n      <th>2</th>\n      <td>4.7</td>\n      <td>3.2</td>\n      <td>1.3</td>\n      <td>0.2</td>\n      <td>Iris-setosa</td>\n    </tr>\n    <tr>\n      <th>3</th>\n      <td>4.6</td>\n      <td>3.1</td>\n      <td>1.5</td>\n      <td>0.2</td>\n      <td>Iris-setosa</td>\n    </tr>\n    <tr>\n      <th>4</th>\n      <td>5.0</td>\n      <td>3.6</td>\n      <td>1.4</td>\n      <td>0.2</td>\n      <td>Iris-setosa</td>\n    </tr>\n    <tr>\n      <th>...</th>\n      <td>...</td>\n      <td>...</td>\n      <td>...</td>\n      <td>...</td>\n      <td>...</td>\n    </tr>\n    <tr>\n      <th>145</th>\n      <td>6.7</td>\n      <td>3.0</td>\n      <td>5.2</td>\n      <td>2.3</td>\n      <td>Iris-virginica</td>\n    </tr>\n    <tr>\n      <th>146</th>\n      <td>6.3</td>\n      <td>2.5</td>\n      <td>5.0</td>\n      <td>1.9</td>\n      <td>Iris-virginica</td>\n    </tr>\n    <tr>\n      <th>147</th>\n      <td>6.5</td>\n      <td>3.0</td>\n      <td>5.2</td>\n      <td>2.0</td>\n      <td>Iris-virginica</td>\n    </tr>\n    <tr>\n      <th>148</th>\n      <td>6.2</td>\n      <td>3.4</td>\n      <td>5.4</td>\n      <td>2.3</td>\n      <td>Iris-virginica</td>\n    </tr>\n    <tr>\n      <th>149</th>\n      <td>NaN</td>\n      <td>3.0</td>\n      <td>5.1</td>\n      <td>1.8</td>\n      <td>Iris-virginica</td>\n    </tr>\n  </tbody>\n</table>\n<p>150 rows × 5 columns</p>\n</div>"
          },
          "metadata": {}
        }
      ],
      "outputs_reference": null,
      "execution_count": 9,
      "block_group": "d993c02f30974f9cb7cdf9ea79e6e9f9",
      "content_dependencies": null
    },
    {
      "cell_type": "markdown",
      "source": "### Merubah nama kolom",
      "metadata": {
        "formattedRanges": [],
        "deepnote_app_block_visible": true,
        "cell_id": "dd0958b8b76a43278c15d93e262c8171",
        "deepnote_cell_type": "text-cell-h3"
      },
      "block_group": "a96654078cd846709a097155f462bf5d"
    },
    {
      "cell_type": "markdown",
      "source": "Dataset biasanya memiliki nama kolom / fitur yang kurang manusiawi sehingga diperlukan peruahan nama agar memudahkan proses analisis.",
      "metadata": {
        "formattedRanges": [],
        "deepnote_app_block_visible": true,
        "cell_id": "1c1e58357a3d4519b9c662265e9f9dbb",
        "deepnote_cell_type": "text-cell-p"
      },
      "block_group": "5d44a2bb8168410fafad9e29a9920cb4"
    },
    {
      "cell_type": "code",
      "source": "df = df.rename(columns={'SepalLengthCm' : 'Sepal Length', 'SepalWidthCm' : 'Sepal Width', 'PetalLengthCm' : 'Petal Length', 'PetalWidthCm' : 'Petal Width'})\n\ndf.head(5)",
      "metadata": {
        "source_hash": "f201037f",
        "execution_start": 1714004139596,
        "execution_millis": 461,
        "deepnote_to_be_reexecuted": false,
        "deepnote_app_block_visible": true,
        "cell_id": "dd7991c888024dd19cd0e27b60823746",
        "deepnote_cell_type": "code"
      },
      "outputs": [
        {
          "output_type": "execute_result",
          "execution_count": 10,
          "data": {
            "application/vnd.deepnote.dataframe.v3+json": {
              "column_count": 5,
              "row_count": 5,
              "columns": [
                {
                  "name": "Sepal Length",
                  "dtype": "float64",
                  "stats": {
                    "unique_count": 5,
                    "nan_count": 0,
                    "min": "4.6",
                    "max": "5.1",
                    "histogram": [
                      {
                        "bin_start": 4.6,
                        "bin_end": 4.6499999999999995,
                        "count": 1
                      },
                      {
                        "bin_start": 4.6499999999999995,
                        "bin_end": 4.699999999999999,
                        "count": 0
                      },
                      {
                        "bin_start": 4.699999999999999,
                        "bin_end": 4.75,
                        "count": 1
                      },
                      {
                        "bin_start": 4.75,
                        "bin_end": 4.8,
                        "count": 0
                      },
                      {
                        "bin_start": 4.8,
                        "bin_end": 4.85,
                        "count": 0
                      },
                      {
                        "bin_start": 4.85,
                        "bin_end": 4.8999999999999995,
                        "count": 0
                      },
                      {
                        "bin_start": 4.8999999999999995,
                        "bin_end": 4.949999999999999,
                        "count": 1
                      },
                      {
                        "bin_start": 4.949999999999999,
                        "bin_end": 5,
                        "count": 0
                      },
                      {
                        "bin_start": 5,
                        "bin_end": 5.05,
                        "count": 1
                      },
                      {
                        "bin_start": 5.05,
                        "bin_end": 5.1,
                        "count": 1
                      }
                    ]
                  }
                },
                {
                  "name": "Sepal Width",
                  "dtype": "float64",
                  "stats": {
                    "unique_count": 5,
                    "nan_count": 0,
                    "min": "3.0",
                    "max": "3.6",
                    "histogram": [
                      {
                        "bin_start": 3,
                        "bin_end": 3.06,
                        "count": 1
                      },
                      {
                        "bin_start": 3.06,
                        "bin_end": 3.12,
                        "count": 1
                      },
                      {
                        "bin_start": 3.12,
                        "bin_end": 3.18,
                        "count": 0
                      },
                      {
                        "bin_start": 3.18,
                        "bin_end": 3.24,
                        "count": 1
                      },
                      {
                        "bin_start": 3.24,
                        "bin_end": 3.3,
                        "count": 0
                      },
                      {
                        "bin_start": 3.3,
                        "bin_end": 3.3600000000000003,
                        "count": 0
                      },
                      {
                        "bin_start": 3.3600000000000003,
                        "bin_end": 3.42,
                        "count": 0
                      },
                      {
                        "bin_start": 3.42,
                        "bin_end": 3.48,
                        "count": 0
                      },
                      {
                        "bin_start": 3.48,
                        "bin_end": 3.54,
                        "count": 1
                      },
                      {
                        "bin_start": 3.54,
                        "bin_end": 3.6,
                        "count": 1
                      }
                    ]
                  }
                },
                {
                  "name": "Petal Length",
                  "dtype": "float64",
                  "stats": {
                    "unique_count": 3,
                    "nan_count": 0,
                    "min": "1.3",
                    "max": "1.5",
                    "histogram": [
                      {
                        "bin_start": 1.3,
                        "bin_end": 1.32,
                        "count": 1
                      },
                      {
                        "bin_start": 1.32,
                        "bin_end": 1.34,
                        "count": 0
                      },
                      {
                        "bin_start": 1.34,
                        "bin_end": 1.36,
                        "count": 0
                      },
                      {
                        "bin_start": 1.36,
                        "bin_end": 1.3800000000000001,
                        "count": 0
                      },
                      {
                        "bin_start": 1.3800000000000001,
                        "bin_end": 1.4,
                        "count": 0
                      },
                      {
                        "bin_start": 1.4,
                        "bin_end": 1.42,
                        "count": 3
                      },
                      {
                        "bin_start": 1.42,
                        "bin_end": 1.44,
                        "count": 0
                      },
                      {
                        "bin_start": 1.44,
                        "bin_end": 1.46,
                        "count": 0
                      },
                      {
                        "bin_start": 1.46,
                        "bin_end": 1.48,
                        "count": 0
                      },
                      {
                        "bin_start": 1.48,
                        "bin_end": 1.5,
                        "count": 1
                      }
                    ]
                  }
                },
                {
                  "name": "Petal Width",
                  "dtype": "float64",
                  "stats": {
                    "unique_count": 1,
                    "nan_count": 0,
                    "min": "0.2",
                    "max": "0.2",
                    "histogram": [
                      {
                        "bin_start": -0.3,
                        "bin_end": -0.19999999999999998,
                        "count": 0
                      },
                      {
                        "bin_start": -0.19999999999999998,
                        "bin_end": -0.09999999999999998,
                        "count": 0
                      },
                      {
                        "bin_start": -0.09999999999999998,
                        "bin_end": 5.551115123125783e-17,
                        "count": 0
                      },
                      {
                        "bin_start": 5.551115123125783e-17,
                        "bin_end": 0.10000000000000003,
                        "count": 0
                      },
                      {
                        "bin_start": 0.10000000000000003,
                        "bin_end": 0.2,
                        "count": 0
                      },
                      {
                        "bin_start": 0.2,
                        "bin_end": 0.3000000000000001,
                        "count": 5
                      },
                      {
                        "bin_start": 0.3000000000000001,
                        "bin_end": 0.4000000000000001,
                        "count": 0
                      },
                      {
                        "bin_start": 0.4000000000000001,
                        "bin_end": 0.5,
                        "count": 0
                      },
                      {
                        "bin_start": 0.5,
                        "bin_end": 0.6000000000000001,
                        "count": 0
                      },
                      {
                        "bin_start": 0.6000000000000001,
                        "bin_end": 0.7,
                        "count": 0
                      }
                    ]
                  }
                },
                {
                  "name": "Species",
                  "dtype": "object",
                  "stats": {
                    "unique_count": 1,
                    "nan_count": 0,
                    "categories": [
                      {
                        "name": "Iris-setosa",
                        "count": 5
                      }
                    ]
                  }
                },
                {
                  "name": "_deepnote_index_column",
                  "dtype": "int64"
                }
              ],
              "rows": [
                {
                  "Sepal Length": 5.1,
                  "Sepal Width": 3.5,
                  "Petal Length": 1.4,
                  "Petal Width": 0.2,
                  "Species": "Iris-setosa",
                  "_deepnote_index_column": 0
                },
                {
                  "Sepal Length": 4.9,
                  "Sepal Width": 3,
                  "Petal Length": 1.4,
                  "Petal Width": 0.2,
                  "Species": "Iris-setosa",
                  "_deepnote_index_column": 1
                },
                {
                  "Sepal Length": 4.7,
                  "Sepal Width": 3.2,
                  "Petal Length": 1.3,
                  "Petal Width": 0.2,
                  "Species": "Iris-setosa",
                  "_deepnote_index_column": 2
                },
                {
                  "Sepal Length": 4.6,
                  "Sepal Width": 3.1,
                  "Petal Length": 1.5,
                  "Petal Width": 0.2,
                  "Species": "Iris-setosa",
                  "_deepnote_index_column": 3
                },
                {
                  "Sepal Length": 5,
                  "Sepal Width": 3.6,
                  "Petal Length": 1.4,
                  "Petal Width": 0.2,
                  "Species": "Iris-setosa",
                  "_deepnote_index_column": 4
                }
              ]
            },
            "text/plain": "   Sepal Length  Sepal Width  Petal Length  Petal Width      Species\n0           5.1          3.5           1.4          0.2  Iris-setosa\n1           4.9          3.0           1.4          0.2  Iris-setosa\n2           4.7          3.2           1.3          0.2  Iris-setosa\n3           4.6          3.1           1.5          0.2  Iris-setosa\n4           5.0          3.6           1.4          0.2  Iris-setosa",
            "text/html": "<div>\n<style scoped>\n    .dataframe tbody tr th:only-of-type {\n        vertical-align: middle;\n    }\n\n    .dataframe tbody tr th {\n        vertical-align: top;\n    }\n\n    .dataframe thead th {\n        text-align: right;\n    }\n</style>\n<table border=\"1\" class=\"dataframe\">\n  <thead>\n    <tr style=\"text-align: right;\">\n      <th></th>\n      <th>Sepal Length</th>\n      <th>Sepal Width</th>\n      <th>Petal Length</th>\n      <th>Petal Width</th>\n      <th>Species</th>\n    </tr>\n  </thead>\n  <tbody>\n    <tr>\n      <th>0</th>\n      <td>5.1</td>\n      <td>3.5</td>\n      <td>1.4</td>\n      <td>0.2</td>\n      <td>Iris-setosa</td>\n    </tr>\n    <tr>\n      <th>1</th>\n      <td>4.9</td>\n      <td>3.0</td>\n      <td>1.4</td>\n      <td>0.2</td>\n      <td>Iris-setosa</td>\n    </tr>\n    <tr>\n      <th>2</th>\n      <td>4.7</td>\n      <td>3.2</td>\n      <td>1.3</td>\n      <td>0.2</td>\n      <td>Iris-setosa</td>\n    </tr>\n    <tr>\n      <th>3</th>\n      <td>4.6</td>\n      <td>3.1</td>\n      <td>1.5</td>\n      <td>0.2</td>\n      <td>Iris-setosa</td>\n    </tr>\n    <tr>\n      <th>4</th>\n      <td>5.0</td>\n      <td>3.6</td>\n      <td>1.4</td>\n      <td>0.2</td>\n      <td>Iris-setosa</td>\n    </tr>\n  </tbody>\n</table>\n</div>"
          },
          "metadata": {}
        }
      ],
      "outputs_reference": null,
      "execution_count": 10,
      "block_group": "660b1f93eeaf41fa9e1d59522edd15c6",
      "content_dependencies": null
    },
    {
      "cell_type": "markdown",
      "source": "### Menghapus baris duplikat",
      "metadata": {
        "formattedRanges": [],
        "deepnote_app_block_visible": true,
        "cell_id": "ef54840fe4e141cab5a6322953066615",
        "deepnote_cell_type": "text-cell-h3"
      },
      "block_group": "8ace694649f2450889334d2a49c54278"
    },
    {
      "cell_type": "markdown",
      "source": "Dataset yang baik adalah dataset yang memiliki jumlah data yang banyak dan beragam. Banyaknya data yang sama tidak akan membuat model memilki akurasi yang tinggi.",
      "metadata": {
        "formattedRanges": [],
        "deepnote_app_block_visible": true,
        "cell_id": "19ce592034444e5083db9f10ffa845a6",
        "deepnote_cell_type": "text-cell-p"
      },
      "block_group": "5b6bbaa463a2443794c06522089aa814"
    },
    {
      "cell_type": "code",
      "source": "# cek jumlah baris dan kolom\ndf.shape",
      "metadata": {
        "source_hash": "1386cb8b",
        "execution_start": 1714004139597,
        "execution_millis": 460,
        "deepnote_to_be_reexecuted": false,
        "deepnote_app_block_visible": true,
        "cell_id": "422d39f121d64a588139f95135670784",
        "deepnote_cell_type": "code"
      },
      "outputs": [
        {
          "output_type": "execute_result",
          "execution_count": 11,
          "data": {
            "text/plain": "(150, 5)"
          },
          "metadata": {}
        }
      ],
      "outputs_reference": null,
      "execution_count": 11,
      "block_group": "21d812334e434f0e8d6c5c5e23a6c0a2",
      "content_dependencies": null
    },
    {
      "cell_type": "code",
      "source": "# cek jumlah baris dan kolom yang memiliki data duplikat\nduplicate_rows_df = df[df.duplicated()]\n\nprint('number of duplicate rows : ', duplicate_rows_df.shape)",
      "metadata": {
        "source_hash": "de09fef7",
        "execution_start": 1714004139619,
        "execution_millis": 438,
        "deepnote_to_be_reexecuted": false,
        "deepnote_app_block_visible": true,
        "cell_id": "c569de26adf7451996728eb08f092420",
        "deepnote_cell_type": "code"
      },
      "outputs": [
        {
          "name": "stdout",
          "text": "number of duplicate rows :  (3, 5)\n",
          "output_type": "stream"
        }
      ],
      "outputs_reference": null,
      "execution_count": 12,
      "block_group": "ffcf1369ad0546ecb85747c6f78c5040",
      "content_dependencies": null
    },
    {
      "cell_type": "markdown",
      "source": "Dari kode program diatas, dapat diketahui bahwa terdapat tiga baris yang memilki data yang sama",
      "metadata": {
        "formattedRanges": [],
        "deepnote_app_block_visible": true,
        "cell_id": "0d6f813a82494e39ae1f2aebdf703e9e",
        "deepnote_cell_type": "text-cell-p"
      },
      "block_group": "e6673769f1f94a06b5b6e2dcba9aecfa"
    },
    {
      "cell_type": "code",
      "source": "# menghapus duplikasi data\ndf = df.drop_duplicates()\n\nprint('number of rows after drop duplicated rows', df.shape)",
      "metadata": {
        "source_hash": "1f894e38",
        "execution_start": 1714004139624,
        "execution_millis": 434,
        "deepnote_table_state": {
          "sortBy": [],
          "filters": [],
          "pageSize": 10,
          "pageIndex": 0
        },
        "deepnote_table_loading": false,
        "deepnote_to_be_reexecuted": false,
        "deepnote_app_block_visible": true,
        "cell_id": "0ca9ae6ff9ba470e93320de97777f2d7",
        "deepnote_cell_type": "code"
      },
      "outputs": [
        {
          "name": "stdout",
          "text": "number of rows after drop duplicated rows (147, 5)\n",
          "output_type": "stream"
        }
      ],
      "outputs_reference": null,
      "execution_count": 13,
      "block_group": "a1cba75fabaa491e8d02772ebcc3aefa",
      "content_dependencies": null
    },
    {
      "cell_type": "markdown",
      "source": "Berdasarkan output kode proram diatas, jumlah baris yang awalnya 150 baris menjadi 147 baris. hal ini membuktikan bahwa kita sudah berhasil menghapus baris yang memiliki data yang sama.",
      "metadata": {
        "formattedRanges": [],
        "deepnote_app_block_visible": true,
        "cell_id": "87c7022a06294fbbb441b4ca1670b6fd",
        "deepnote_cell_type": "text-cell-p"
      },
      "block_group": "827e0bd2657246a0baf8b8e2f3becddb"
    },
    {
      "cell_type": "markdown",
      "source": "### Penanganan missing value",
      "metadata": {
        "formattedRanges": [],
        "deepnote_app_block_visible": true,
        "cell_id": "fdff554da2d34e3b8a1f1529ae1daa05",
        "deepnote_cell_type": "text-cell-h3"
      },
      "block_group": "d9b9cda17b8948288492a1c6c042b2ec"
    },
    {
      "cell_type": "markdown",
      "source": "Data yang hilang atau kosong harus ditangani dengan serius. Hal ini akan merusak dan menganggu pemodelan dataset.Data yang hilang atau kosong berasal dari sumber data yang tidak bekerja secara benar. bisa saja dari mesin yang awalnya bekerja secara baik namun diproses pengerjaan mengalamai error. Ataupun bila data yang didapatkan dari manusisa, bisa saja data yang hilang disebabkan oleh human error atau privatisasi data. ",
      "metadata": {
        "formattedRanges": [],
        "deepnote_app_block_visible": true,
        "cell_id": "9472dc54a5714ee2baab120e8deb80c6",
        "deepnote_cell_type": "text-cell-p"
      },
      "block_group": "77a2dc649a154e1ca863b689ac59017a"
    },
    {
      "cell_type": "markdown",
      "source": "Dalam menangani missing value ada beberapa cara. umumnya bisa dengan dihapus ataupun di isi dengan metode metode tertentu. dalam kasus ini, kita akan mencoba melakukan hapus data dan mengisi data dengan metode menghitung rata-rata (mean) dan metode K Nearest Neightbour (KNN).",
      "metadata": {
        "formattedRanges": [],
        "deepnote_app_block_visible": true,
        "cell_id": "bc5d053bcfa24ea1a425aeb44f3825f7",
        "deepnote_cell_type": "text-cell-p"
      },
      "block_group": "9d5125bf34004551b893eed18acbee78"
    },
    {
      "cell_type": "markdown",
      "source": "Penanganan missing value dengan menghapus baris",
      "metadata": {
        "formattedRanges": [
          {
            "type": "marks",
            "marks": {
              "bold": true
            },
            "toCodePoint": 47,
            "fromCodePoint": 0
          }
        ],
        "deepnote_app_block_visible": true,
        "cell_id": "3f8d0a37b1ad43a783f688eaa0e7bc71",
        "deepnote_cell_type": "text-cell-p"
      },
      "block_group": "2257400e38ef4cfcbfeae208bbc4e175"
    },
    {
      "cell_type": "code",
      "source": "# menampilkan baris dengan missing value\ndf.loc[df['Sepal Length'].isnull() | df['Sepal Width'].isnull() | df['Petal Length'].isnull() | df['Petal Width'].isnull()]",
      "metadata": {
        "source_hash": "fa5d0e82",
        "execution_start": 1714004139630,
        "execution_millis": 428,
        "deepnote_to_be_reexecuted": false,
        "deepnote_app_block_visible": true,
        "cell_id": "b17635ad255544569cae3eafd9d0c2c1",
        "deepnote_cell_type": "code"
      },
      "outputs": [
        {
          "output_type": "execute_result",
          "execution_count": 14,
          "data": {
            "application/vnd.deepnote.dataframe.v3+json": {
              "column_count": 5,
              "row_count": 5,
              "columns": [
                {
                  "name": "Sepal Length",
                  "dtype": "float64",
                  "stats": {
                    "unique_count": 0,
                    "nan_count": 5,
                    "min": null,
                    "max": null,
                    "histogram": [
                      {
                        "bin_start": 0,
                        "bin_end": 0.1,
                        "count": 0
                      },
                      {
                        "bin_start": 0.1,
                        "bin_end": 0.2,
                        "count": 0
                      },
                      {
                        "bin_start": 0.2,
                        "bin_end": 0.30000000000000004,
                        "count": 0
                      },
                      {
                        "bin_start": 0.30000000000000004,
                        "bin_end": 0.4,
                        "count": 0
                      },
                      {
                        "bin_start": 0.4,
                        "bin_end": 0.5,
                        "count": 0
                      },
                      {
                        "bin_start": 0.5,
                        "bin_end": 0.6000000000000001,
                        "count": 0
                      },
                      {
                        "bin_start": 0.6000000000000001,
                        "bin_end": 0.7000000000000001,
                        "count": 0
                      },
                      {
                        "bin_start": 0.7000000000000001,
                        "bin_end": 0.8,
                        "count": 0
                      },
                      {
                        "bin_start": 0.8,
                        "bin_end": 0.9,
                        "count": 0
                      },
                      {
                        "bin_start": 0.9,
                        "bin_end": 1,
                        "count": 0
                      }
                    ]
                  }
                },
                {
                  "name": "Sepal Width",
                  "dtype": "float64",
                  "stats": {
                    "unique_count": 5,
                    "nan_count": 0,
                    "min": "2.8",
                    "max": "3.4",
                    "histogram": [
                      {
                        "bin_start": 2.8,
                        "bin_end": 2.86,
                        "count": 1
                      },
                      {
                        "bin_start": 2.86,
                        "bin_end": 2.92,
                        "count": 1
                      },
                      {
                        "bin_start": 2.92,
                        "bin_end": 2.98,
                        "count": 0
                      },
                      {
                        "bin_start": 2.98,
                        "bin_end": 3.04,
                        "count": 1
                      },
                      {
                        "bin_start": 3.04,
                        "bin_end": 3.0999999999999996,
                        "count": 0
                      },
                      {
                        "bin_start": 3.0999999999999996,
                        "bin_end": 3.16,
                        "count": 0
                      },
                      {
                        "bin_start": 3.16,
                        "bin_end": 3.2199999999999998,
                        "count": 0
                      },
                      {
                        "bin_start": 3.2199999999999998,
                        "bin_end": 3.28,
                        "count": 0
                      },
                      {
                        "bin_start": 3.28,
                        "bin_end": 3.34,
                        "count": 1
                      },
                      {
                        "bin_start": 3.34,
                        "bin_end": 3.4,
                        "count": 1
                      }
                    ]
                  }
                },
                {
                  "name": "Petal Length",
                  "dtype": "float64",
                  "stats": {
                    "unique_count": 5,
                    "nan_count": 0,
                    "min": "1.4",
                    "max": "5.1",
                    "histogram": [
                      {
                        "bin_start": 1.4,
                        "bin_end": 1.77,
                        "count": 1
                      },
                      {
                        "bin_start": 1.77,
                        "bin_end": 2.1399999999999997,
                        "count": 1
                      },
                      {
                        "bin_start": 2.1399999999999997,
                        "bin_end": 2.51,
                        "count": 0
                      },
                      {
                        "bin_start": 2.51,
                        "bin_end": 2.88,
                        "count": 0
                      },
                      {
                        "bin_start": 2.88,
                        "bin_end": 3.25,
                        "count": 0
                      },
                      {
                        "bin_start": 3.25,
                        "bin_end": 3.6199999999999997,
                        "count": 0
                      },
                      {
                        "bin_start": 3.6199999999999997,
                        "bin_end": 3.9899999999999998,
                        "count": 0
                      },
                      {
                        "bin_start": 3.9899999999999998,
                        "bin_end": 4.359999999999999,
                        "count": 2
                      },
                      {
                        "bin_start": 4.359999999999999,
                        "bin_end": 4.73,
                        "count": 0
                      },
                      {
                        "bin_start": 4.73,
                        "bin_end": 5.1,
                        "count": 1
                      }
                    ]
                  }
                },
                {
                  "name": "Petal Width",
                  "dtype": "float64",
                  "stats": {
                    "unique_count": 3,
                    "nan_count": 2,
                    "min": "0.2",
                    "max": "1.8",
                    "histogram": [
                      {
                        "bin_start": 0.2,
                        "bin_end": 0.36,
                        "count": 1
                      },
                      {
                        "bin_start": 0.36,
                        "bin_end": 0.52,
                        "count": 0
                      },
                      {
                        "bin_start": 0.52,
                        "bin_end": 0.6799999999999999,
                        "count": 0
                      },
                      {
                        "bin_start": 0.6799999999999999,
                        "bin_end": 0.8400000000000001,
                        "count": 0
                      },
                      {
                        "bin_start": 0.8400000000000001,
                        "bin_end": 1,
                        "count": 0
                      },
                      {
                        "bin_start": 1,
                        "bin_end": 1.16,
                        "count": 0
                      },
                      {
                        "bin_start": 1.16,
                        "bin_end": 1.32,
                        "count": 1
                      },
                      {
                        "bin_start": 1.32,
                        "bin_end": 1.48,
                        "count": 0
                      },
                      {
                        "bin_start": 1.48,
                        "bin_end": 1.64,
                        "count": 0
                      },
                      {
                        "bin_start": 1.64,
                        "bin_end": 1.8,
                        "count": 1
                      }
                    ]
                  }
                },
                {
                  "name": "Species",
                  "dtype": "object",
                  "stats": {
                    "unique_count": 3,
                    "nan_count": 0,
                    "categories": [
                      {
                        "name": "Iris-setosa",
                        "count": 2
                      },
                      {
                        "name": "Iris-versicolor",
                        "count": 2
                      },
                      {
                        "name": "Iris-virginica",
                        "count": 1
                      }
                    ]
                  }
                },
                {
                  "name": "_deepnote_index_column",
                  "dtype": "int64"
                }
              ],
              "rows": [
                {
                  "Sepal Length": "nan",
                  "Sepal Width": 3.4,
                  "Petal Length": 1.9,
                  "Petal Width": "nan",
                  "Species": "Iris-setosa",
                  "_deepnote_index_column": 24
                },
                {
                  "Sepal Length": "nan",
                  "Sepal Width": 3.3,
                  "Petal Length": 1.4,
                  "Petal Width": 0.2,
                  "Species": "Iris-setosa",
                  "_deepnote_index_column": 49
                },
                {
                  "Sepal Length": "nan",
                  "Sepal Width": 2.9,
                  "Petal Length": 4.3,
                  "Petal Width": "nan",
                  "Species": "Iris-versicolor",
                  "_deepnote_index_column": 74
                },
                {
                  "Sepal Length": "nan",
                  "Sepal Width": 2.8,
                  "Petal Length": 4.1,
                  "Petal Width": 1.3,
                  "Species": "Iris-versicolor",
                  "_deepnote_index_column": 99
                },
                {
                  "Sepal Length": "nan",
                  "Sepal Width": 3,
                  "Petal Length": 5.1,
                  "Petal Width": 1.8,
                  "Species": "Iris-virginica",
                  "_deepnote_index_column": 149
                }
              ]
            },
            "text/plain": "     Sepal Length  Sepal Width  Petal Length  Petal Width          Species\n24            NaN          3.4           1.9          NaN      Iris-setosa\n49            NaN          3.3           1.4          0.2      Iris-setosa\n74            NaN          2.9           4.3          NaN  Iris-versicolor\n99            NaN          2.8           4.1          1.3  Iris-versicolor\n149           NaN          3.0           5.1          1.8   Iris-virginica",
            "text/html": "<div>\n<style scoped>\n    .dataframe tbody tr th:only-of-type {\n        vertical-align: middle;\n    }\n\n    .dataframe tbody tr th {\n        vertical-align: top;\n    }\n\n    .dataframe thead th {\n        text-align: right;\n    }\n</style>\n<table border=\"1\" class=\"dataframe\">\n  <thead>\n    <tr style=\"text-align: right;\">\n      <th></th>\n      <th>Sepal Length</th>\n      <th>Sepal Width</th>\n      <th>Petal Length</th>\n      <th>Petal Width</th>\n      <th>Species</th>\n    </tr>\n  </thead>\n  <tbody>\n    <tr>\n      <th>24</th>\n      <td>NaN</td>\n      <td>3.4</td>\n      <td>1.9</td>\n      <td>NaN</td>\n      <td>Iris-setosa</td>\n    </tr>\n    <tr>\n      <th>49</th>\n      <td>NaN</td>\n      <td>3.3</td>\n      <td>1.4</td>\n      <td>0.2</td>\n      <td>Iris-setosa</td>\n    </tr>\n    <tr>\n      <th>74</th>\n      <td>NaN</td>\n      <td>2.9</td>\n      <td>4.3</td>\n      <td>NaN</td>\n      <td>Iris-versicolor</td>\n    </tr>\n    <tr>\n      <th>99</th>\n      <td>NaN</td>\n      <td>2.8</td>\n      <td>4.1</td>\n      <td>1.3</td>\n      <td>Iris-versicolor</td>\n    </tr>\n    <tr>\n      <th>149</th>\n      <td>NaN</td>\n      <td>3.0</td>\n      <td>5.1</td>\n      <td>1.8</td>\n      <td>Iris-virginica</td>\n    </tr>\n  </tbody>\n</table>\n</div>"
          },
          "metadata": {}
        }
      ],
      "outputs_reference": null,
      "execution_count": 14,
      "block_group": "7e53a8c4633c4cc48d95ac8203227ad7",
      "content_dependencies": null
    },
    {
      "cell_type": "markdown",
      "source": "Dalam kasus ini terdapat lima baris data yang memiliki missing value. pada baris 24 dan 74. terdapat dua kolom yang memiliki missing value. baris ini kita hapus karena kita kehilangan 2 data fitur dari 4 fitur. atau dapat dibilang kita kehilangan 50% informasi fitur pada fitur.",
      "metadata": {
        "formattedRanges": [],
        "deepnote_app_block_visible": true,
        "cell_id": "18efe35a7da9445f9556262070d5e87f",
        "deepnote_cell_type": "text-cell-p"
      },
      "block_group": "6c61c72806ef48c68a17cb04944d337e"
    },
    {
      "cell_type": "code",
      "source": "# menghapus baris baris dengan missing value pada kolom 'Petal Width'\ndf.dropna(subset=['Petal Width'], inplace=True)",
      "metadata": {
        "source_hash": "5f857a51",
        "execution_start": 1714004139683,
        "execution_millis": 760,
        "deepnote_table_state": {
          "sortBy": [],
          "filters": [],
          "pageSize": 10,
          "pageIndex": 0
        },
        "deepnote_table_loading": false,
        "deepnote_to_be_reexecuted": false,
        "deepnote_app_block_visible": true,
        "cell_id": "f9231fb777194a0c9e22af761407ab5a",
        "deepnote_cell_type": "code"
      },
      "outputs": [],
      "outputs_reference": null,
      "execution_count": 15,
      "block_group": "5095a3735ba547ceae4c5edb87ad26c4",
      "content_dependencies": null
    },
    {
      "cell_type": "code",
      "source": "df",
      "metadata": {
        "source_hash": "f804c160",
        "execution_start": 1714004139685,
        "execution_millis": 758,
        "deepnote_table_state": {
          "sortBy": [],
          "filters": [],
          "pageSize": 10,
          "pageIndex": 13
        },
        "deepnote_table_loading": false,
        "deepnote_to_be_reexecuted": false,
        "deepnote_app_block_visible": true,
        "cell_id": "cab492aa58984aaabf86edc0138e0fc0",
        "deepnote_cell_type": "code"
      },
      "outputs": [
        {
          "output_type": "execute_result",
          "execution_count": 16,
          "data": {
            "application/vnd.deepnote.dataframe.v3+json": {
              "column_count": 5,
              "row_count": 145,
              "columns": [
                {
                  "name": "Sepal Length",
                  "dtype": "float64",
                  "stats": {
                    "unique_count": 35,
                    "nan_count": 3,
                    "min": "4.3",
                    "max": "7.9",
                    "histogram": [
                      {
                        "bin_start": 4.3,
                        "bin_end": 4.66,
                        "count": 9
                      },
                      {
                        "bin_start": 4.66,
                        "bin_end": 5.02,
                        "count": 19
                      },
                      {
                        "bin_start": 5.02,
                        "bin_end": 5.38,
                        "count": 14
                      },
                      {
                        "bin_start": 5.38,
                        "bin_end": 5.74,
                        "count": 26
                      },
                      {
                        "bin_start": 5.74,
                        "bin_end": 6.1,
                        "count": 14
                      },
                      {
                        "bin_start": 6.1,
                        "bin_end": 6.46,
                        "count": 25
                      },
                      {
                        "bin_start": 6.46,
                        "bin_end": 6.82,
                        "count": 18
                      },
                      {
                        "bin_start": 6.82,
                        "bin_end": 7.18,
                        "count": 6
                      },
                      {
                        "bin_start": 7.18,
                        "bin_end": 7.54,
                        "count": 5
                      },
                      {
                        "bin_start": 7.54,
                        "bin_end": 7.9,
                        "count": 6
                      }
                    ]
                  }
                },
                {
                  "name": "Sepal Width",
                  "dtype": "float64",
                  "stats": {
                    "unique_count": 23,
                    "nan_count": 0,
                    "min": "2.0",
                    "max": "4.4",
                    "histogram": [
                      {
                        "bin_start": 2,
                        "bin_end": 2.24,
                        "count": 4
                      },
                      {
                        "bin_start": 2.24,
                        "bin_end": 2.48,
                        "count": 7
                      },
                      {
                        "bin_start": 2.48,
                        "bin_end": 2.72,
                        "count": 21
                      },
                      {
                        "bin_start": 2.72,
                        "bin_end": 2.96,
                        "count": 23
                      },
                      {
                        "bin_start": 2.96,
                        "bin_end": 3.2,
                        "count": 36
                      },
                      {
                        "bin_start": 3.2,
                        "bin_end": 3.4400000000000004,
                        "count": 30
                      },
                      {
                        "bin_start": 3.4400000000000004,
                        "bin_end": 3.6800000000000006,
                        "count": 9
                      },
                      {
                        "bin_start": 3.6800000000000006,
                        "bin_end": 3.9200000000000004,
                        "count": 11
                      },
                      {
                        "bin_start": 3.9200000000000004,
                        "bin_end": 4.16,
                        "count": 2
                      },
                      {
                        "bin_start": 4.16,
                        "bin_end": 4.4,
                        "count": 2
                      }
                    ]
                  }
                },
                {
                  "name": "Petal Length",
                  "dtype": "float64",
                  "stats": {
                    "unique_count": 43,
                    "nan_count": 0,
                    "min": "1.0",
                    "max": "6.9",
                    "histogram": [
                      {
                        "bin_start": 1,
                        "bin_end": 1.59,
                        "count": 35
                      },
                      {
                        "bin_start": 1.59,
                        "bin_end": 2.18,
                        "count": 12
                      },
                      {
                        "bin_start": 2.18,
                        "bin_end": 2.7700000000000005,
                        "count": 0
                      },
                      {
                        "bin_start": 2.7700000000000005,
                        "bin_end": 3.3600000000000003,
                        "count": 3
                      },
                      {
                        "bin_start": 3.3600000000000003,
                        "bin_end": 3.95,
                        "count": 8
                      },
                      {
                        "bin_start": 3.95,
                        "bin_end": 4.540000000000001,
                        "count": 25
                      },
                      {
                        "bin_start": 4.540000000000001,
                        "bin_end": 5.130000000000001,
                        "count": 28
                      },
                      {
                        "bin_start": 5.130000000000001,
                        "bin_end": 5.720000000000001,
                        "count": 18
                      },
                      {
                        "bin_start": 5.720000000000001,
                        "bin_end": 6.3100000000000005,
                        "count": 11
                      },
                      {
                        "bin_start": 6.3100000000000005,
                        "bin_end": 6.9,
                        "count": 5
                      }
                    ]
                  }
                },
                {
                  "name": "Petal Width",
                  "dtype": "float64",
                  "stats": {
                    "unique_count": 22,
                    "nan_count": 0,
                    "min": "0.1",
                    "max": "2.5",
                    "histogram": [
                      {
                        "bin_start": 0.1,
                        "bin_end": 0.33999999999999997,
                        "count": 38
                      },
                      {
                        "bin_start": 0.33999999999999997,
                        "bin_end": 0.58,
                        "count": 8
                      },
                      {
                        "bin_start": 0.58,
                        "bin_end": 0.82,
                        "count": 1
                      },
                      {
                        "bin_start": 0.82,
                        "bin_end": 1.06,
                        "count": 7
                      },
                      {
                        "bin_start": 1.06,
                        "bin_end": 1.3,
                        "count": 8
                      },
                      {
                        "bin_start": 1.3,
                        "bin_end": 1.54,
                        "count": 32
                      },
                      {
                        "bin_start": 1.54,
                        "bin_end": 1.78,
                        "count": 6
                      },
                      {
                        "bin_start": 1.78,
                        "bin_end": 2.02,
                        "count": 22
                      },
                      {
                        "bin_start": 2.02,
                        "bin_end": 2.2600000000000002,
                        "count": 9
                      },
                      {
                        "bin_start": 2.2600000000000002,
                        "bin_end": 2.5,
                        "count": 14
                      }
                    ]
                  }
                },
                {
                  "name": "Species",
                  "dtype": "object",
                  "stats": {
                    "unique_count": 3,
                    "nan_count": 0,
                    "categories": [
                      {
                        "name": "Iris-versicolor",
                        "count": 49
                      },
                      {
                        "name": "Iris-virginica",
                        "count": 49
                      },
                      {
                        "name": "Iris-setosa",
                        "count": 47
                      }
                    ]
                  }
                },
                {
                  "name": "_deepnote_index_column",
                  "dtype": "int64"
                }
              ],
              "rows": [
                {
                  "Sepal Length": 6.1,
                  "Sepal Width": 2.6,
                  "Petal Length": 5.6,
                  "Petal Width": 1.4,
                  "Species": "Iris-virginica",
                  "_deepnote_index_column": 134
                },
                {
                  "Sepal Length": 7.7,
                  "Sepal Width": 3,
                  "Petal Length": 6.1,
                  "Petal Width": 2.3,
                  "Species": "Iris-virginica",
                  "_deepnote_index_column": 135
                },
                {
                  "Sepal Length": 6.3,
                  "Sepal Width": 3.4,
                  "Petal Length": 5.6,
                  "Petal Width": 2.4,
                  "Species": "Iris-virginica",
                  "_deepnote_index_column": 136
                },
                {
                  "Sepal Length": 6.4,
                  "Sepal Width": 3.1,
                  "Petal Length": 5.5,
                  "Petal Width": 1.8,
                  "Species": "Iris-virginica",
                  "_deepnote_index_column": 137
                },
                {
                  "Sepal Length": 6,
                  "Sepal Width": 3,
                  "Petal Length": 4.8,
                  "Petal Width": 1.8,
                  "Species": "Iris-virginica",
                  "_deepnote_index_column": 138
                },
                {
                  "Sepal Length": 6.9,
                  "Sepal Width": 3.1,
                  "Petal Length": 5.4,
                  "Petal Width": 2.1,
                  "Species": "Iris-virginica",
                  "_deepnote_index_column": 139
                },
                {
                  "Sepal Length": 6.7,
                  "Sepal Width": 3.1,
                  "Petal Length": 5.6,
                  "Petal Width": 2.4,
                  "Species": "Iris-virginica",
                  "_deepnote_index_column": 140
                },
                {
                  "Sepal Length": 6.9,
                  "Sepal Width": 3.1,
                  "Petal Length": 5.1,
                  "Petal Width": 2.3,
                  "Species": "Iris-virginica",
                  "_deepnote_index_column": 141
                },
                {
                  "Sepal Length": 6.8,
                  "Sepal Width": 3.2,
                  "Petal Length": 5.9,
                  "Petal Width": 2.3,
                  "Species": "Iris-virginica",
                  "_deepnote_index_column": 143
                },
                {
                  "Sepal Length": 6.7,
                  "Sepal Width": 3.3,
                  "Petal Length": 5.7,
                  "Petal Width": 2.5,
                  "Species": "Iris-virginica",
                  "_deepnote_index_column": 144
                }
              ]
            },
            "text/plain": "     Sepal Length  Sepal Width  Petal Length  Petal Width         Species\n0             5.1          3.5           1.4          0.2     Iris-setosa\n1             4.9          3.0           1.4          0.2     Iris-setosa\n2             4.7          3.2           1.3          0.2     Iris-setosa\n3             4.6          3.1           1.5          0.2     Iris-setosa\n4             5.0          3.6           1.4          0.2     Iris-setosa\n..            ...          ...           ...          ...             ...\n145           6.7          3.0           5.2          2.3  Iris-virginica\n146           6.3          2.5           5.0          1.9  Iris-virginica\n147           6.5          3.0           5.2          2.0  Iris-virginica\n148           6.2          3.4           5.4          2.3  Iris-virginica\n149           NaN          3.0           5.1          1.8  Iris-virginica\n\n[145 rows x 5 columns]",
            "text/html": "<div>\n<style scoped>\n    .dataframe tbody tr th:only-of-type {\n        vertical-align: middle;\n    }\n\n    .dataframe tbody tr th {\n        vertical-align: top;\n    }\n\n    .dataframe thead th {\n        text-align: right;\n    }\n</style>\n<table border=\"1\" class=\"dataframe\">\n  <thead>\n    <tr style=\"text-align: right;\">\n      <th></th>\n      <th>Sepal Length</th>\n      <th>Sepal Width</th>\n      <th>Petal Length</th>\n      <th>Petal Width</th>\n      <th>Species</th>\n    </tr>\n  </thead>\n  <tbody>\n    <tr>\n      <th>0</th>\n      <td>5.1</td>\n      <td>3.5</td>\n      <td>1.4</td>\n      <td>0.2</td>\n      <td>Iris-setosa</td>\n    </tr>\n    <tr>\n      <th>1</th>\n      <td>4.9</td>\n      <td>3.0</td>\n      <td>1.4</td>\n      <td>0.2</td>\n      <td>Iris-setosa</td>\n    </tr>\n    <tr>\n      <th>2</th>\n      <td>4.7</td>\n      <td>3.2</td>\n      <td>1.3</td>\n      <td>0.2</td>\n      <td>Iris-setosa</td>\n    </tr>\n    <tr>\n      <th>3</th>\n      <td>4.6</td>\n      <td>3.1</td>\n      <td>1.5</td>\n      <td>0.2</td>\n      <td>Iris-setosa</td>\n    </tr>\n    <tr>\n      <th>4</th>\n      <td>5.0</td>\n      <td>3.6</td>\n      <td>1.4</td>\n      <td>0.2</td>\n      <td>Iris-setosa</td>\n    </tr>\n    <tr>\n      <th>...</th>\n      <td>...</td>\n      <td>...</td>\n      <td>...</td>\n      <td>...</td>\n      <td>...</td>\n    </tr>\n    <tr>\n      <th>145</th>\n      <td>6.7</td>\n      <td>3.0</td>\n      <td>5.2</td>\n      <td>2.3</td>\n      <td>Iris-virginica</td>\n    </tr>\n    <tr>\n      <th>146</th>\n      <td>6.3</td>\n      <td>2.5</td>\n      <td>5.0</td>\n      <td>1.9</td>\n      <td>Iris-virginica</td>\n    </tr>\n    <tr>\n      <th>147</th>\n      <td>6.5</td>\n      <td>3.0</td>\n      <td>5.2</td>\n      <td>2.0</td>\n      <td>Iris-virginica</td>\n    </tr>\n    <tr>\n      <th>148</th>\n      <td>6.2</td>\n      <td>3.4</td>\n      <td>5.4</td>\n      <td>2.3</td>\n      <td>Iris-virginica</td>\n    </tr>\n    <tr>\n      <th>149</th>\n      <td>NaN</td>\n      <td>3.0</td>\n      <td>5.1</td>\n      <td>1.8</td>\n      <td>Iris-virginica</td>\n    </tr>\n  </tbody>\n</table>\n<p>145 rows × 5 columns</p>\n</div>"
          },
          "metadata": {}
        }
      ],
      "outputs_reference": null,
      "execution_count": 16,
      "block_group": "eeac582ce91d4787b078dc0228c4c544",
      "content_dependencies": null
    },
    {
      "cell_type": "markdown",
      "source": "Pada kode diatas, kita sudah berhasil menghapus baris 24 dan 74. selanjutnya kita akan melakukan imputasi data pada baris 99 dan 149. kali ini kita kan melkukannya dengan menggunakan dua metode, yaitu metode mean atau rata-rata dan metode KNN. lalu pada proses berikutnya akan dilakukan perbandingan akurasi dari kedua metode tersebut.",
      "metadata": {
        "formattedRanges": [],
        "deepnote_app_block_visible": true,
        "cell_id": "33531d6435c5433fbf4cf8e634b8da50",
        "deepnote_cell_type": "text-cell-p"
      },
      "block_group": "a384fcf8e3034bc99423849d73126b4b"
    },
    {
      "cell_type": "markdown",
      "source": "Penanganan missing value dengan metode nilai rata-rata (Mean)",
      "metadata": {
        "formattedRanges": [
          {
            "type": "marks",
            "marks": {
              "bold": true
            },
            "toCodePoint": 61,
            "fromCodePoint": 0
          }
        ],
        "deepnote_app_block_visible": true,
        "cell_id": "3fd0381e9e114ad5ab3d13e773d011dc",
        "deepnote_cell_type": "text-cell-p"
      },
      "block_group": "0b541d587c16486595f85caedaf8a6dc"
    },
    {
      "cell_type": "markdown",
      "source": "Pada langkah sebelumnya kit sudah berhasil menghapus baris, pada langkah kali ini akan dilakukan imputasi missing value dengan metode nilai rata-rata (Mean). yaitu dengan menjumlahkan seluruh baris nilai fitur dan dilakukan operasi pembagian dengan jumlah baris. maka akan ditemukan hasil rata-rata nilai fitur. adapun rumusnya sebagai berikut.",
      "metadata": {
        "formattedRanges": [],
        "deepnote_app_block_visible": true,
        "cell_id": "6528d3a6d27b4147b6cea087a829ada3",
        "deepnote_cell_type": "text-cell-p"
      },
      "block_group": "8cf87f626d0b4f828a5eb1f5dcd3256f"
    },
    {
      "cell_type": "markdown",
      "source": "$ \\bar{x} = \\sum_{i = 1}^{n} \\frac{x_{i}}{n} $",
      "metadata": {
        "deepnote_app_block_visible": true,
        "cell_id": "420093526c1e4ca89be0c071886477b9",
        "deepnote_cell_type": "markdown"
      },
      "block_group": "f8bf091f77474a7b9661bf8d25cb15bd"
    },
    {
      "cell_type": "code",
      "source": "# membuat copy dataframe pada variabel lain\ndf_mean = df.copy(deep=True)\n\n# mencari nilai mean\nmean = round(df_mean['Sepal Length'].mean(), 1)\n\nprint('nilai mean adalah = ', mean)\n\n# imputasi missing value dengan mean\ndf_mean['Sepal Length'].fillna(mean, inplace=True)\n\ndf_mean",
      "metadata": {
        "source_hash": "699e250f",
        "execution_start": 1714004139727,
        "execution_millis": 717,
        "deepnote_table_state": {
          "sortBy": [],
          "filters": [],
          "pageSize": 10,
          "pageIndex": 14
        },
        "deepnote_table_loading": false,
        "deepnote_to_be_reexecuted": false,
        "deepnote_app_block_visible": true,
        "cell_id": "6cbe2f6ad1a740f79b2cbeb7158e3382",
        "deepnote_cell_type": "code"
      },
      "outputs": [
        {
          "name": "stdout",
          "text": "nilai mean adalah =  5.9\n",
          "output_type": "stream"
        },
        {
          "output_type": "execute_result",
          "execution_count": 17,
          "data": {
            "application/vnd.deepnote.dataframe.v3+json": {
              "column_count": 5,
              "row_count": 145,
              "columns": [
                {
                  "name": "Sepal Length",
                  "dtype": "float64",
                  "stats": {
                    "unique_count": 35,
                    "nan_count": 0,
                    "min": "4.3",
                    "max": "7.9",
                    "histogram": [
                      {
                        "bin_start": 4.3,
                        "bin_end": 4.66,
                        "count": 9
                      },
                      {
                        "bin_start": 4.66,
                        "bin_end": 5.02,
                        "count": 19
                      },
                      {
                        "bin_start": 5.02,
                        "bin_end": 5.38,
                        "count": 14
                      },
                      {
                        "bin_start": 5.38,
                        "bin_end": 5.74,
                        "count": 26
                      },
                      {
                        "bin_start": 5.74,
                        "bin_end": 6.1,
                        "count": 17
                      },
                      {
                        "bin_start": 6.1,
                        "bin_end": 6.46,
                        "count": 25
                      },
                      {
                        "bin_start": 6.46,
                        "bin_end": 6.82,
                        "count": 18
                      },
                      {
                        "bin_start": 6.82,
                        "bin_end": 7.18,
                        "count": 6
                      },
                      {
                        "bin_start": 7.18,
                        "bin_end": 7.54,
                        "count": 5
                      },
                      {
                        "bin_start": 7.54,
                        "bin_end": 7.9,
                        "count": 6
                      }
                    ]
                  }
                },
                {
                  "name": "Sepal Width",
                  "dtype": "float64",
                  "stats": {
                    "unique_count": 23,
                    "nan_count": 0,
                    "min": "2.0",
                    "max": "4.4",
                    "histogram": [
                      {
                        "bin_start": 2,
                        "bin_end": 2.24,
                        "count": 4
                      },
                      {
                        "bin_start": 2.24,
                        "bin_end": 2.48,
                        "count": 7
                      },
                      {
                        "bin_start": 2.48,
                        "bin_end": 2.72,
                        "count": 21
                      },
                      {
                        "bin_start": 2.72,
                        "bin_end": 2.96,
                        "count": 23
                      },
                      {
                        "bin_start": 2.96,
                        "bin_end": 3.2,
                        "count": 36
                      },
                      {
                        "bin_start": 3.2,
                        "bin_end": 3.4400000000000004,
                        "count": 30
                      },
                      {
                        "bin_start": 3.4400000000000004,
                        "bin_end": 3.6800000000000006,
                        "count": 9
                      },
                      {
                        "bin_start": 3.6800000000000006,
                        "bin_end": 3.9200000000000004,
                        "count": 11
                      },
                      {
                        "bin_start": 3.9200000000000004,
                        "bin_end": 4.16,
                        "count": 2
                      },
                      {
                        "bin_start": 4.16,
                        "bin_end": 4.4,
                        "count": 2
                      }
                    ]
                  }
                },
                {
                  "name": "Petal Length",
                  "dtype": "float64",
                  "stats": {
                    "unique_count": 43,
                    "nan_count": 0,
                    "min": "1.0",
                    "max": "6.9",
                    "histogram": [
                      {
                        "bin_start": 1,
                        "bin_end": 1.59,
                        "count": 35
                      },
                      {
                        "bin_start": 1.59,
                        "bin_end": 2.18,
                        "count": 12
                      },
                      {
                        "bin_start": 2.18,
                        "bin_end": 2.7700000000000005,
                        "count": 0
                      },
                      {
                        "bin_start": 2.7700000000000005,
                        "bin_end": 3.3600000000000003,
                        "count": 3
                      },
                      {
                        "bin_start": 3.3600000000000003,
                        "bin_end": 3.95,
                        "count": 8
                      },
                      {
                        "bin_start": 3.95,
                        "bin_end": 4.540000000000001,
                        "count": 25
                      },
                      {
                        "bin_start": 4.540000000000001,
                        "bin_end": 5.130000000000001,
                        "count": 28
                      },
                      {
                        "bin_start": 5.130000000000001,
                        "bin_end": 5.720000000000001,
                        "count": 18
                      },
                      {
                        "bin_start": 5.720000000000001,
                        "bin_end": 6.3100000000000005,
                        "count": 11
                      },
                      {
                        "bin_start": 6.3100000000000005,
                        "bin_end": 6.9,
                        "count": 5
                      }
                    ]
                  }
                },
                {
                  "name": "Petal Width",
                  "dtype": "float64",
                  "stats": {
                    "unique_count": 22,
                    "nan_count": 0,
                    "min": "0.1",
                    "max": "2.5",
                    "histogram": [
                      {
                        "bin_start": 0.1,
                        "bin_end": 0.33999999999999997,
                        "count": 38
                      },
                      {
                        "bin_start": 0.33999999999999997,
                        "bin_end": 0.58,
                        "count": 8
                      },
                      {
                        "bin_start": 0.58,
                        "bin_end": 0.82,
                        "count": 1
                      },
                      {
                        "bin_start": 0.82,
                        "bin_end": 1.06,
                        "count": 7
                      },
                      {
                        "bin_start": 1.06,
                        "bin_end": 1.3,
                        "count": 8
                      },
                      {
                        "bin_start": 1.3,
                        "bin_end": 1.54,
                        "count": 32
                      },
                      {
                        "bin_start": 1.54,
                        "bin_end": 1.78,
                        "count": 6
                      },
                      {
                        "bin_start": 1.78,
                        "bin_end": 2.02,
                        "count": 22
                      },
                      {
                        "bin_start": 2.02,
                        "bin_end": 2.2600000000000002,
                        "count": 9
                      },
                      {
                        "bin_start": 2.2600000000000002,
                        "bin_end": 2.5,
                        "count": 14
                      }
                    ]
                  }
                },
                {
                  "name": "Species",
                  "dtype": "object",
                  "stats": {
                    "unique_count": 3,
                    "nan_count": 0,
                    "categories": [
                      {
                        "name": "Iris-versicolor",
                        "count": 49
                      },
                      {
                        "name": "Iris-virginica",
                        "count": 49
                      },
                      {
                        "name": "Iris-setosa",
                        "count": 47
                      }
                    ]
                  }
                },
                {
                  "name": "_deepnote_index_column",
                  "dtype": "int64"
                }
              ],
              "rows": [
                {
                  "Sepal Length": 6.7,
                  "Sepal Width": 3,
                  "Petal Length": 5.2,
                  "Petal Width": 2.3,
                  "Species": "Iris-virginica",
                  "_deepnote_index_column": 145
                },
                {
                  "Sepal Length": 6.3,
                  "Sepal Width": 2.5,
                  "Petal Length": 5,
                  "Petal Width": 1.9,
                  "Species": "Iris-virginica",
                  "_deepnote_index_column": 146
                },
                {
                  "Sepal Length": 6.5,
                  "Sepal Width": 3,
                  "Petal Length": 5.2,
                  "Petal Width": 2,
                  "Species": "Iris-virginica",
                  "_deepnote_index_column": 147
                },
                {
                  "Sepal Length": 6.2,
                  "Sepal Width": 3.4,
                  "Petal Length": 5.4,
                  "Petal Width": 2.3,
                  "Species": "Iris-virginica",
                  "_deepnote_index_column": 148
                },
                {
                  "Sepal Length": 5.9,
                  "Sepal Width": 3,
                  "Petal Length": 5.1,
                  "Petal Width": 1.8,
                  "Species": "Iris-virginica",
                  "_deepnote_index_column": 149
                }
              ]
            },
            "text/plain": "     Sepal Length  Sepal Width  Petal Length  Petal Width         Species\n0             5.1          3.5           1.4          0.2     Iris-setosa\n1             4.9          3.0           1.4          0.2     Iris-setosa\n2             4.7          3.2           1.3          0.2     Iris-setosa\n3             4.6          3.1           1.5          0.2     Iris-setosa\n4             5.0          3.6           1.4          0.2     Iris-setosa\n..            ...          ...           ...          ...             ...\n145           6.7          3.0           5.2          2.3  Iris-virginica\n146           6.3          2.5           5.0          1.9  Iris-virginica\n147           6.5          3.0           5.2          2.0  Iris-virginica\n148           6.2          3.4           5.4          2.3  Iris-virginica\n149           5.9          3.0           5.1          1.8  Iris-virginica\n\n[145 rows x 5 columns]",
            "text/html": "<div>\n<style scoped>\n    .dataframe tbody tr th:only-of-type {\n        vertical-align: middle;\n    }\n\n    .dataframe tbody tr th {\n        vertical-align: top;\n    }\n\n    .dataframe thead th {\n        text-align: right;\n    }\n</style>\n<table border=\"1\" class=\"dataframe\">\n  <thead>\n    <tr style=\"text-align: right;\">\n      <th></th>\n      <th>Sepal Length</th>\n      <th>Sepal Width</th>\n      <th>Petal Length</th>\n      <th>Petal Width</th>\n      <th>Species</th>\n    </tr>\n  </thead>\n  <tbody>\n    <tr>\n      <th>0</th>\n      <td>5.1</td>\n      <td>3.5</td>\n      <td>1.4</td>\n      <td>0.2</td>\n      <td>Iris-setosa</td>\n    </tr>\n    <tr>\n      <th>1</th>\n      <td>4.9</td>\n      <td>3.0</td>\n      <td>1.4</td>\n      <td>0.2</td>\n      <td>Iris-setosa</td>\n    </tr>\n    <tr>\n      <th>2</th>\n      <td>4.7</td>\n      <td>3.2</td>\n      <td>1.3</td>\n      <td>0.2</td>\n      <td>Iris-setosa</td>\n    </tr>\n    <tr>\n      <th>3</th>\n      <td>4.6</td>\n      <td>3.1</td>\n      <td>1.5</td>\n      <td>0.2</td>\n      <td>Iris-setosa</td>\n    </tr>\n    <tr>\n      <th>4</th>\n      <td>5.0</td>\n      <td>3.6</td>\n      <td>1.4</td>\n      <td>0.2</td>\n      <td>Iris-setosa</td>\n    </tr>\n    <tr>\n      <th>...</th>\n      <td>...</td>\n      <td>...</td>\n      <td>...</td>\n      <td>...</td>\n      <td>...</td>\n    </tr>\n    <tr>\n      <th>145</th>\n      <td>6.7</td>\n      <td>3.0</td>\n      <td>5.2</td>\n      <td>2.3</td>\n      <td>Iris-virginica</td>\n    </tr>\n    <tr>\n      <th>146</th>\n      <td>6.3</td>\n      <td>2.5</td>\n      <td>5.0</td>\n      <td>1.9</td>\n      <td>Iris-virginica</td>\n    </tr>\n    <tr>\n      <th>147</th>\n      <td>6.5</td>\n      <td>3.0</td>\n      <td>5.2</td>\n      <td>2.0</td>\n      <td>Iris-virginica</td>\n    </tr>\n    <tr>\n      <th>148</th>\n      <td>6.2</td>\n      <td>3.4</td>\n      <td>5.4</td>\n      <td>2.3</td>\n      <td>Iris-virginica</td>\n    </tr>\n    <tr>\n      <th>149</th>\n      <td>5.9</td>\n      <td>3.0</td>\n      <td>5.1</td>\n      <td>1.8</td>\n      <td>Iris-virginica</td>\n    </tr>\n  </tbody>\n</table>\n<p>145 rows × 5 columns</p>\n</div>"
          },
          "metadata": {}
        }
      ],
      "outputs_reference": null,
      "execution_count": 17,
      "block_group": "d9644a9b989e476f88082781bbc94731",
      "content_dependencies": null
    },
    {
      "cell_type": "markdown",
      "source": "Berdasarkan kode program diatas. kita membuat duplikasi dataframe yang nantinya untuk menyipan dataframe yang menggunakan metode mean. kemudian mencari nilai mean dan timpa atau gantikan baris yang memiliki missing value dengan nilai mean.",
      "metadata": {
        "formattedRanges": [],
        "deepnote_app_block_visible": true,
        "cell_id": "b4306b694c2d4f5a911f1ba92fae2f34",
        "deepnote_cell_type": "text-cell-p"
      },
      "block_group": "9fbf688b6bde49ffab025e378145aa43"
    },
    {
      "cell_type": "markdown",
      "source": "Penanganan missing value dengan metode K Nearest Neightbour (KNN)",
      "metadata": {
        "formattedRanges": [
          {
            "type": "marks",
            "marks": {
              "bold": true
            },
            "toCodePoint": 65,
            "fromCodePoint": 0
          }
        ],
        "deepnote_app_block_visible": true,
        "cell_id": "32811ac01f7442cd879effbecc576af5",
        "deepnote_cell_type": "text-cell-p"
      },
      "block_group": "8517e2268b214e02ba07a276ecb23f3f"
    },
    {
      "cell_type": "markdown",
      "source": "Nearest Neightbour jika di translasikan menjad bahasa indonesia adalah tetangga terdekat. Dan  K yang dimaksud adalah jumlah tetangga tedekat. Jadi dapat di definisikan bahwa K Nearest Neightbour (KNN) merupakan metode dengan mencari jumlah tetangga terdekat dan akan dilakukan perbandingan class untuk memprediksi klasifikasi data baru. Adapun cara kerjanya bisa disimak dibawah ini.",
      "metadata": {
        "formattedRanges": [],
        "deepnote_app_block_visible": true,
        "cell_id": "d7f489f48f074dec907085f1911f7eca",
        "deepnote_cell_type": "text-cell-p"
      },
      "block_group": "00bc4f0025004901bcba07c37cc1affc"
    },
    {
      "cell_type": "markdown",
      "source": "<img src=\"image-20240311-005422.png\" width=\"\" align=\"\" />",
      "metadata": {
        "deepnote_img_src": "image-20240311-005422.png",
        "deepnote_app_block_visible": true,
        "cell_id": "356dfb4655ce4d1c8dba17efb974057b",
        "deepnote_cell_type": "image"
      },
      "block_group": "0ef4ec9141d441c5814513663aa43401"
    },
    {
      "cell_type": "markdown",
      "source": "Cara kerja K Nearest Neightbour (KNN)",
      "metadata": {
        "formattedRanges": [
          {
            "type": "marks",
            "marks": {
              "bold": true
            },
            "toCodePoint": 37,
            "fromCodePoint": 0
          }
        ],
        "deepnote_app_block_visible": true,
        "cell_id": "ff42e095f055482aa89a05a4ca2ccdfa",
        "deepnote_cell_type": "text-cell-p"
      },
      "block_group": "437b6f441105449185c3a523825653bd"
    },
    {
      "cell_type": "markdown",
      "source": "0. Look at the data (Melihat pada data)",
      "metadata": {
        "formattedRanges": [
          {
            "type": "marks",
            "marks": {
              "bold": true
            },
            "toCodePoint": 39,
            "fromCodePoint": 0
          }
        ],
        "deepnote_app_block_visible": true,
        "cell_id": "d3c2a0de79ea4560b357b5cc1c473b43",
        "deepnote_cell_type": "text-cell-p"
      },
      "block_group": "f8dd148fac8449e9b8341b2ae1c531e7"
    },
    {
      "cell_type": "markdown",
      "source": "Berdasarkan pada gambar diata. node atau tiitk berwarna abu-abu merupakan data baru. data ini akan nantinya akan diklasifikasikan dengan class-class pada digram. Jika kita perhatikan, terdapat tiga node yang berbeda warna, yaitu kuning, hijau, dan jingga. Hal ini berarti terdapat tiga class dalam diagram. node yang berwarna abu-abu akan diprediksi dengan algoritma KNN untuk menentukan node ini termasuk ke dalam salah satu class.",
      "metadata": {
        "formattedRanges": [],
        "deepnote_app_block_visible": true,
        "cell_id": "5dd6c6e238e4413b84c162f47233e091",
        "deepnote_cell_type": "text-cell-p"
      },
      "block_group": "ab18b4efc3b14509b0e9c7b0b7545486"
    },
    {
      "cell_type": "markdown",
      "source": ".1. Calculate distances (Kalkulasi jarak)",
      "metadata": {
        "formattedRanges": [
          {
            "type": "marks",
            "marks": {
              "bold": true
            },
            "toCodePoint": 41,
            "fromCodePoint": 1
          }
        ],
        "deepnote_app_block_visible": true,
        "cell_id": "68e383c13d2e4d7eae9f1d4d4ea91475",
        "deepnote_cell_type": "text-cell-p"
      },
      "block_group": "33ab2c9f96f8468c848cc2b1597e5cfa"
    },
    {
      "cell_type": "markdown",
      "source": "Node baru akan dilakukan kalkulasi jarak terhadap node-node yang lain. dalam mengukur jarak bisa dilakukan dengan beberapa metode beriku :",
      "metadata": {
        "formattedRanges": [],
        "deepnote_app_block_visible": true,
        "cell_id": "81901666ef52461690c96af1592792e7",
        "deepnote_cell_type": "text-cell-p"
      },
      "block_group": "db70c1196d304d3da97750e758237c18"
    },
    {
      "cell_type": "markdown",
      "source": "Euclidean Distance",
      "metadata": {
        "formattedRanges": [
          {
            "type": "marks",
            "marks": {
              "bold": true
            },
            "toCodePoint": 18,
            "fromCodePoint": 0
          }
        ],
        "deepnote_app_block_visible": true,
        "cell_id": "2cd2358d2baf41079dd0f7c9ed8f7c8a",
        "deepnote_cell_type": "text-cell-p"
      },
      "block_group": "ce642676a0b14b2db356ad35c159f41f"
    },
    {
      "cell_type": "markdown",
      "source": "<img src=\"image-20240311-200655.png\" width=\"50%\" align=\"\" />",
      "metadata": {
        "deepnote_img_src": "image-20240311-200655.png",
        "deepnote_img_width": "50%",
        "deepnote_app_block_visible": true,
        "cell_id": "225b5a7c718b4f68b2b28b3dc58f4d8d",
        "deepnote_cell_type": "image"
      },
      "block_group": "738b4a7fe8a14693a801a41bb310f874"
    },
    {
      "cell_type": "markdown",
      "source": "Merupakan teknik yang paling populer untuk melakukan perhitungan jarak fitur dengan tipe data numerik. Untuk rumus pengukuran jarak adalah sebagai berikut ini.",
      "metadata": {
        "formattedRanges": [],
        "deepnote_app_block_visible": true,
        "cell_id": "d5e8f6bab15c4be68d35116b740590d8",
        "deepnote_cell_type": "text-cell-p"
      },
      "block_group": "f67a669429424b17ba444b199978c302"
    },
    {
      "cell_type": "markdown",
      "source": "$ d(P,Q) = \\sqrt{\\sum_{i =1}^{n} (p_{i}-q_{i})^{2}}$\n$ d(P,Q) = \\sqrt{(p_{1}-q_{1})^{2}} + (p_{2}-q_{2})^{2} + ..... + (p_{n}-q_{n})^{2}$",
      "metadata": {
        "deepnote_app_block_visible": true,
        "cell_id": "4dc5174950ab4e049e9185f3f8f093ca",
        "deepnote_cell_type": "markdown"
      },
      "block_group": "7990b38c548643758961eba970fa1d9e"
    },
    {
      "cell_type": "markdown",
      "source": "Manhattan Distance",
      "metadata": {
        "formattedRanges": [
          {
            "type": "marks",
            "marks": {
              "bold": true
            },
            "toCodePoint": 18,
            "fromCodePoint": 0
          }
        ],
        "deepnote_app_block_visible": true,
        "cell_id": "2aaba8202368460fb4ba61be35fd3375",
        "deepnote_cell_type": "text-cell-p"
      },
      "block_group": "d83e4bf97f784750b2d5588ecc54b995"
    },
    {
      "cell_type": "markdown",
      "source": "<img src=\"image-20240311-201408.png\" width=\"\" align=\"\" />",
      "metadata": {
        "deepnote_img_src": "image-20240311-201408.png",
        "deepnote_app_block_visible": true,
        "cell_id": "8622186a231f41aab96f10751f8ab78a",
        "deepnote_cell_type": "image"
      },
      "block_group": "0514eb97118b4d158cffb8a10b7e6958"
    },
    {
      "cell_type": "markdown",
      "source": "Manhattan distance juga begitu populer selain euclidean distance. Jika kita perhatikan gambar diatas yang merupakan perbandingan antara euclidean distance dan manhattan distance. Dapat dilihat jika euclidean distance merupakan pengukuran jarak terobos antara dua titik kordinat. Sedangkan manhattan berbeda. teknik manhattan berjalan pada grid dan tidak menerobos seperti euclidean. Rumus perhitungan jarak dapat diihat berikut ini.",
      "metadata": {
        "formattedRanges": [],
        "deepnote_app_block_visible": true,
        "cell_id": "a91364c7587f449f8f2f4947c0ddf7bc",
        "deepnote_cell_type": "text-cell-p"
      },
      "block_group": "7db336b7afd24311b2a90d7b18d32db8"
    },
    {
      "cell_type": "markdown",
      "source": "$ d(P, Q) = (p_{i} - q{i})^2 $",
      "metadata": {
        "deepnote_app_block_visible": true,
        "cell_id": "30bf8b47d9374d369d33b214a7c3eca5",
        "deepnote_cell_type": "markdown"
      },
      "block_group": "68b60aea4e8440368705141e8c54cb16"
    },
    {
      "cell_type": "markdown",
      "source": "2. Find neightbour (Mencari tetangga)",
      "metadata": {
        "formattedRanges": [
          {
            "type": "marks",
            "marks": {
              "bold": true
            },
            "toCodePoint": 37,
            "fromCodePoint": 0
          }
        ],
        "deepnote_app_block_visible": true,
        "cell_id": "91e414398fc440088d94269cb168adb9",
        "deepnote_cell_type": "text-cell-p"
      },
      "block_group": "1b20de545d404cc68389206c92eccc03"
    },
    {
      "cell_type": "markdown",
      "source": "Setelah melakukan perhitungan jarak terhadap fitur ataupun node. Kemudian akan dilakukan perankingan jarak. mulai dari yang terdekat hingga yang terjauh.",
      "metadata": {
        "formattedRanges": [],
        "deepnote_app_block_visible": true,
        "cell_id": "d9acba6be72948e88abc84d4f57e6e7d",
        "deepnote_cell_type": "text-cell-p"
      },
      "block_group": "5f97cda8c8fe4cb5a904e0b6d1074cd4"
    },
    {
      "cell_type": "markdown",
      "source": "3. Vote on label (Memilih label)",
      "metadata": {
        "formattedRanges": [
          {
            "type": "marks",
            "marks": {
              "bold": true
            },
            "toCodePoint": 32,
            "fromCodePoint": 0
          }
        ],
        "deepnote_app_block_visible": true,
        "cell_id": "b7e2cb2a89a94bcba039a1c3ab973881",
        "deepnote_cell_type": "text-cell-p"
      },
      "block_group": "2daa28b55a4e4f67ba6bf215c74b78e6"
    },
    {
      "cell_type": "markdown",
      "source": "Selanjutnya setelah ditemukan hasil dan perankingan jarak. Akan  dilakukan penentuan fitur terdekat atau nilai K. dalam KNN nilai K boleh ditentukan berapapun atau bebas. semisal K adalah 5, maka kita akan mengambil 5 fitur atau node yang terdekat. Selanjutnya akan dilakukan penentuan class pada node baru. Misal K adalah 5. maka akan diambil 5 fitur, kemudian sebagai penetuan class untuk node baru. bisa ditentukan dengan melihat nilai class yang paling banyak muncul pada kelima data yang diambil. semisal dalam kelima data ini class yang paling banyak muncul adalah class anggrej bulan. maka nilai class dari data baru adalah anggrek bulan.",
      "metadata": {
        "formattedRanges": [],
        "deepnote_app_block_visible": true,
        "cell_id": "4c4e0b366aba4a13bce9d3f88433b83c",
        "deepnote_cell_type": "text-cell-p"
      },
      "block_group": "9e7bc1ab4939440da3b2f4d6408acdff"
    },
    {
      "cell_type": "markdown",
      "source": "Imputasi missing value dengan KNNImputer",
      "metadata": {
        "formattedRanges": [
          {
            "type": "marks",
            "marks": {
              "bold": true
            },
            "toCodePoint": 40,
            "fromCodePoint": 0
          }
        ],
        "deepnote_app_block_visible": true,
        "cell_id": "4546e4c71646438798fe500261038067",
        "deepnote_cell_type": "text-cell-p"
      },
      "block_group": "dbfe5e3e559f4ebba24b435ef4d49e26"
    },
    {
      "cell_type": "code",
      "source": "from sklearn.impute import KNNImputer\n\n# duplikasi dataframe\ndf_knn = df.copy(deep=True)\n\n# simpan class species\ndf_species = df_knn[['Species']]\n\nlist_species = df_species.values.tolist()\n\n#hapus kolom yang tidak diperlukan\ndf_knn = df_knn.drop(['Species'], axis=1)\n\n# old_value = df_knn.drop(['Species'], axis=1).to_numpy()\n\n# inisialisasi KNNImputer\nimputer = KNNImputer(n_neighbors=3)\n\n# simpan kalkulasi\nresult = imputer.fit_transform(df_knn)\n\nresult = result.tolist()\n\n# gabung hasil dengan class\nfor index in range(len(result)):\n    result[index].append(list_species[index][0])\n\n# buat dataframe\ndf_knn = pd.DataFrame(result, columns=['Sepal Length', 'Sepal Width', 'Petal Length', 'Petal Width', 'Species'])\n\ndf_knn",
      "metadata": {
        "source_hash": "5802072",
        "execution_start": 1714004139766,
        "execution_millis": 679,
        "deepnote_table_state": {
          "sortBy": [],
          "filters": [],
          "pageSize": 10,
          "pageIndex": 0
        },
        "deepnote_table_loading": false,
        "deepnote_to_be_reexecuted": false,
        "deepnote_app_block_visible": true,
        "cell_id": "1bfba24fc51b431aba5653815870e097",
        "deepnote_cell_type": "code"
      },
      "outputs": [
        {
          "output_type": "execute_result",
          "execution_count": 18,
          "data": {
            "application/vnd.deepnote.dataframe.v3+json": {
              "column_count": 5,
              "row_count": 145,
              "columns": [
                {
                  "name": "Sepal Length",
                  "dtype": "float64",
                  "stats": {
                    "unique_count": 37,
                    "nan_count": 0,
                    "min": "4.3",
                    "max": "7.9",
                    "histogram": [
                      {
                        "bin_start": 4.3,
                        "bin_end": 4.66,
                        "count": 9
                      },
                      {
                        "bin_start": 4.66,
                        "bin_end": 5.02,
                        "count": 20
                      },
                      {
                        "bin_start": 5.02,
                        "bin_end": 5.38,
                        "count": 14
                      },
                      {
                        "bin_start": 5.38,
                        "bin_end": 5.74,
                        "count": 26
                      },
                      {
                        "bin_start": 5.74,
                        "bin_end": 6.1,
                        "count": 15
                      },
                      {
                        "bin_start": 6.1,
                        "bin_end": 6.46,
                        "count": 26
                      },
                      {
                        "bin_start": 6.46,
                        "bin_end": 6.82,
                        "count": 18
                      },
                      {
                        "bin_start": 6.82,
                        "bin_end": 7.18,
                        "count": 6
                      },
                      {
                        "bin_start": 7.18,
                        "bin_end": 7.54,
                        "count": 5
                      },
                      {
                        "bin_start": 7.54,
                        "bin_end": 7.9,
                        "count": 6
                      }
                    ]
                  }
                },
                {
                  "name": "Sepal Width",
                  "dtype": "float64",
                  "stats": {
                    "unique_count": 23,
                    "nan_count": 0,
                    "min": "2.0",
                    "max": "4.4",
                    "histogram": [
                      {
                        "bin_start": 2,
                        "bin_end": 2.24,
                        "count": 4
                      },
                      {
                        "bin_start": 2.24,
                        "bin_end": 2.48,
                        "count": 7
                      },
                      {
                        "bin_start": 2.48,
                        "bin_end": 2.72,
                        "count": 21
                      },
                      {
                        "bin_start": 2.72,
                        "bin_end": 2.96,
                        "count": 23
                      },
                      {
                        "bin_start": 2.96,
                        "bin_end": 3.2,
                        "count": 36
                      },
                      {
                        "bin_start": 3.2,
                        "bin_end": 3.4400000000000004,
                        "count": 30
                      },
                      {
                        "bin_start": 3.4400000000000004,
                        "bin_end": 3.6800000000000006,
                        "count": 9
                      },
                      {
                        "bin_start": 3.6800000000000006,
                        "bin_end": 3.9200000000000004,
                        "count": 11
                      },
                      {
                        "bin_start": 3.9200000000000004,
                        "bin_end": 4.16,
                        "count": 2
                      },
                      {
                        "bin_start": 4.16,
                        "bin_end": 4.4,
                        "count": 2
                      }
                    ]
                  }
                },
                {
                  "name": "Petal Length",
                  "dtype": "float64",
                  "stats": {
                    "unique_count": 43,
                    "nan_count": 0,
                    "min": "1.0",
                    "max": "6.9",
                    "histogram": [
                      {
                        "bin_start": 1,
                        "bin_end": 1.59,
                        "count": 35
                      },
                      {
                        "bin_start": 1.59,
                        "bin_end": 2.18,
                        "count": 12
                      },
                      {
                        "bin_start": 2.18,
                        "bin_end": 2.7700000000000005,
                        "count": 0
                      },
                      {
                        "bin_start": 2.7700000000000005,
                        "bin_end": 3.3600000000000003,
                        "count": 3
                      },
                      {
                        "bin_start": 3.3600000000000003,
                        "bin_end": 3.95,
                        "count": 8
                      },
                      {
                        "bin_start": 3.95,
                        "bin_end": 4.540000000000001,
                        "count": 25
                      },
                      {
                        "bin_start": 4.540000000000001,
                        "bin_end": 5.130000000000001,
                        "count": 28
                      },
                      {
                        "bin_start": 5.130000000000001,
                        "bin_end": 5.720000000000001,
                        "count": 18
                      },
                      {
                        "bin_start": 5.720000000000001,
                        "bin_end": 6.3100000000000005,
                        "count": 11
                      },
                      {
                        "bin_start": 6.3100000000000005,
                        "bin_end": 6.9,
                        "count": 5
                      }
                    ]
                  }
                },
                {
                  "name": "Petal Width",
                  "dtype": "float64",
                  "stats": {
                    "unique_count": 22,
                    "nan_count": 0,
                    "min": "0.1",
                    "max": "2.5",
                    "histogram": [
                      {
                        "bin_start": 0.1,
                        "bin_end": 0.33999999999999997,
                        "count": 38
                      },
                      {
                        "bin_start": 0.33999999999999997,
                        "bin_end": 0.58,
                        "count": 8
                      },
                      {
                        "bin_start": 0.58,
                        "bin_end": 0.82,
                        "count": 1
                      },
                      {
                        "bin_start": 0.82,
                        "bin_end": 1.06,
                        "count": 7
                      },
                      {
                        "bin_start": 1.06,
                        "bin_end": 1.3,
                        "count": 8
                      },
                      {
                        "bin_start": 1.3,
                        "bin_end": 1.54,
                        "count": 32
                      },
                      {
                        "bin_start": 1.54,
                        "bin_end": 1.78,
                        "count": 6
                      },
                      {
                        "bin_start": 1.78,
                        "bin_end": 2.02,
                        "count": 22
                      },
                      {
                        "bin_start": 2.02,
                        "bin_end": 2.2600000000000002,
                        "count": 9
                      },
                      {
                        "bin_start": 2.2600000000000002,
                        "bin_end": 2.5,
                        "count": 14
                      }
                    ]
                  }
                },
                {
                  "name": "Species",
                  "dtype": "object",
                  "stats": {
                    "unique_count": 3,
                    "nan_count": 0,
                    "categories": [
                      {
                        "name": "Iris-versicolor",
                        "count": 49
                      },
                      {
                        "name": "Iris-virginica",
                        "count": 49
                      },
                      {
                        "name": "Iris-setosa",
                        "count": 47
                      }
                    ]
                  }
                },
                {
                  "name": "_deepnote_index_column",
                  "dtype": "int64"
                }
              ],
              "rows": [
                {
                  "Sepal Length": 5.1,
                  "Sepal Width": 3.5,
                  "Petal Length": 1.4,
                  "Petal Width": 0.2,
                  "Species": "Iris-setosa",
                  "_deepnote_index_column": 0
                },
                {
                  "Sepal Length": 4.9,
                  "Sepal Width": 3,
                  "Petal Length": 1.4,
                  "Petal Width": 0.2,
                  "Species": "Iris-setosa",
                  "_deepnote_index_column": 1
                },
                {
                  "Sepal Length": 4.7,
                  "Sepal Width": 3.2,
                  "Petal Length": 1.3,
                  "Petal Width": 0.2,
                  "Species": "Iris-setosa",
                  "_deepnote_index_column": 2
                },
                {
                  "Sepal Length": 4.6,
                  "Sepal Width": 3.1,
                  "Petal Length": 1.5,
                  "Petal Width": 0.2,
                  "Species": "Iris-setosa",
                  "_deepnote_index_column": 3
                },
                {
                  "Sepal Length": 5,
                  "Sepal Width": 3.6,
                  "Petal Length": 1.4,
                  "Petal Width": 0.2,
                  "Species": "Iris-setosa",
                  "_deepnote_index_column": 4
                },
                {
                  "Sepal Length": 5.4,
                  "Sepal Width": 3.9,
                  "Petal Length": 1.7,
                  "Petal Width": 0.4,
                  "Species": "Iris-setosa",
                  "_deepnote_index_column": 5
                },
                {
                  "Sepal Length": 4.6,
                  "Sepal Width": 3.4,
                  "Petal Length": 1.4,
                  "Petal Width": 0.3,
                  "Species": "Iris-setosa",
                  "_deepnote_index_column": 6
                },
                {
                  "Sepal Length": 5,
                  "Sepal Width": 3.4,
                  "Petal Length": 1.5,
                  "Petal Width": 0.2,
                  "Species": "Iris-setosa",
                  "_deepnote_index_column": 7
                },
                {
                  "Sepal Length": 4.4,
                  "Sepal Width": 2.9,
                  "Petal Length": 1.4,
                  "Petal Width": 0.2,
                  "Species": "Iris-setosa",
                  "_deepnote_index_column": 8
                },
                {
                  "Sepal Length": 4.9,
                  "Sepal Width": 3.1,
                  "Petal Length": 1.5,
                  "Petal Width": 0.1,
                  "Species": "Iris-setosa",
                  "_deepnote_index_column": 9
                }
              ]
            },
            "text/plain": "     Sepal Length  Sepal Width  Petal Length  Petal Width         Species\n0        5.100000          3.5           1.4          0.2     Iris-setosa\n1        4.900000          3.0           1.4          0.2     Iris-setosa\n2        4.700000          3.2           1.3          0.2     Iris-setosa\n3        4.600000          3.1           1.5          0.2     Iris-setosa\n4        5.000000          3.6           1.4          0.2     Iris-setosa\n..            ...          ...           ...          ...             ...\n140      6.700000          3.0           5.2          2.3  Iris-virginica\n141      6.300000          2.5           5.0          1.9  Iris-virginica\n142      6.500000          3.0           5.2          2.0  Iris-virginica\n143      6.200000          3.4           5.4          2.3  Iris-virginica\n144      6.433333          3.0           5.1          1.8  Iris-virginica\n\n[145 rows x 5 columns]",
            "text/html": "<div>\n<style scoped>\n    .dataframe tbody tr th:only-of-type {\n        vertical-align: middle;\n    }\n\n    .dataframe tbody tr th {\n        vertical-align: top;\n    }\n\n    .dataframe thead th {\n        text-align: right;\n    }\n</style>\n<table border=\"1\" class=\"dataframe\">\n  <thead>\n    <tr style=\"text-align: right;\">\n      <th></th>\n      <th>Sepal Length</th>\n      <th>Sepal Width</th>\n      <th>Petal Length</th>\n      <th>Petal Width</th>\n      <th>Species</th>\n    </tr>\n  </thead>\n  <tbody>\n    <tr>\n      <th>0</th>\n      <td>5.100000</td>\n      <td>3.5</td>\n      <td>1.4</td>\n      <td>0.2</td>\n      <td>Iris-setosa</td>\n    </tr>\n    <tr>\n      <th>1</th>\n      <td>4.900000</td>\n      <td>3.0</td>\n      <td>1.4</td>\n      <td>0.2</td>\n      <td>Iris-setosa</td>\n    </tr>\n    <tr>\n      <th>2</th>\n      <td>4.700000</td>\n      <td>3.2</td>\n      <td>1.3</td>\n      <td>0.2</td>\n      <td>Iris-setosa</td>\n    </tr>\n    <tr>\n      <th>3</th>\n      <td>4.600000</td>\n      <td>3.1</td>\n      <td>1.5</td>\n      <td>0.2</td>\n      <td>Iris-setosa</td>\n    </tr>\n    <tr>\n      <th>4</th>\n      <td>5.000000</td>\n      <td>3.6</td>\n      <td>1.4</td>\n      <td>0.2</td>\n      <td>Iris-setosa</td>\n    </tr>\n    <tr>\n      <th>...</th>\n      <td>...</td>\n      <td>...</td>\n      <td>...</td>\n      <td>...</td>\n      <td>...</td>\n    </tr>\n    <tr>\n      <th>140</th>\n      <td>6.700000</td>\n      <td>3.0</td>\n      <td>5.2</td>\n      <td>2.3</td>\n      <td>Iris-virginica</td>\n    </tr>\n    <tr>\n      <th>141</th>\n      <td>6.300000</td>\n      <td>2.5</td>\n      <td>5.0</td>\n      <td>1.9</td>\n      <td>Iris-virginica</td>\n    </tr>\n    <tr>\n      <th>142</th>\n      <td>6.500000</td>\n      <td>3.0</td>\n      <td>5.2</td>\n      <td>2.0</td>\n      <td>Iris-virginica</td>\n    </tr>\n    <tr>\n      <th>143</th>\n      <td>6.200000</td>\n      <td>3.4</td>\n      <td>5.4</td>\n      <td>2.3</td>\n      <td>Iris-virginica</td>\n    </tr>\n    <tr>\n      <th>144</th>\n      <td>6.433333</td>\n      <td>3.0</td>\n      <td>5.1</td>\n      <td>1.8</td>\n      <td>Iris-virginica</td>\n    </tr>\n  </tbody>\n</table>\n<p>145 rows × 5 columns</p>\n</div>"
          },
          "metadata": {}
        }
      ],
      "outputs_reference": null,
      "execution_count": 18,
      "block_group": "81c33ea0a71a42bcaaf8db3a2d474479",
      "content_dependencies": null
    },
    {
      "cell_type": "markdown",
      "source": "## Deteksi Outlier",
      "metadata": {
        "formattedRanges": [],
        "deepnote_app_block_visible": true,
        "cell_id": "c6830f1df625440abab5c5274ccbf8fd",
        "deepnote_cell_type": "text-cell-h2"
      },
      "block_group": "e5bf4de0c0be4c3baf71a20ac79ec860"
    },
    {
      "cell_type": "markdown",
      "source": "<img src=\"image-20240321-012752-20240320-182759.png\" width=\"\" align=\"\" />",
      "metadata": {
        "deepnote_img_src": "image-20240321-012752-20240320-182759.png",
        "deepnote_app_block_visible": true,
        "cell_id": "c221f06f65e74e27ada5fe68e3b3a144",
        "deepnote_cell_type": "image"
      },
      "block_group": "3fed81d076b34de5b76f6e87f433fd57"
    },
    {
      "cell_type": "markdown",
      "source": "### Local Outlier Factor (LOF)",
      "metadata": {
        "formattedRanges": [
          {
            "type": "marks",
            "marks": {
              "bold": true
            },
            "toCodePoint": 26,
            "fromCodePoint": 0
          }
        ],
        "deepnote_app_block_visible": true,
        "cell_id": "a5ae3d82d5304391b61238c283c24b22",
        "deepnote_cell_type": "text-cell-h3"
      },
      "block_group": "5335d02f74874fbba1ccac4d84f5ab51"
    },
    {
      "cell_type": "markdown",
      "source": "Outlier adalah data yang abnormal, anomali, ataupun berbeda jauh dari kebanyakan data dalam sebuah dataset. Local Outlier Factor (LOF) merupakan algoritma untuk mengidentifikasi sebuah data outlier pada dataset.",
      "metadata": {
        "formattedRanges": [],
        "deepnote_app_block_visible": true,
        "cell_id": "a045f435147c49e883046491fc9fd764",
        "deepnote_cell_type": "text-cell-p"
      },
      "block_group": "e7387a06d17b4884a990c9baf151227b"
    },
    {
      "cell_type": "markdown",
      "source": "Sebelum belajar mengenai LOF (Local Outlier Factor) kita harus memahami konsep dibawah ini :",
      "metadata": {
        "formattedRanges": [],
        "deepnote_app_block_visible": true,
        "cell_id": "169100b3b89a435da36b424c044641bb",
        "deepnote_cell_type": "text-cell-p"
      },
      "block_group": "30b41d69ab554beda82d154493e9bef7"
    },
    {
      "cell_type": "markdown",
      "source": "- K-distance dan K-neighbors",
      "metadata": {
        "formattedRanges": [],
        "deepnote_app_block_visible": true,
        "cell_id": "73a80a9b027c4090aaace4a7bba97f57",
        "deepnote_cell_type": "text-cell-bullet"
      },
      "block_group": "47dec5610b0040a7bd6383966b726fc8"
    },
    {
      "cell_type": "markdown",
      "source": "- Reachbiity Distance (RD)",
      "metadata": {
        "formattedRanges": [],
        "deepnote_app_block_visible": true,
        "cell_id": "44aa26fd390844c1a2f486e1e38bc004",
        "deepnote_cell_type": "text-cell-bullet"
      },
      "block_group": "412c2657a26641bea47b0d11c002c894"
    },
    {
      "cell_type": "markdown",
      "source": "- Local Reachbility Density (LRD)",
      "metadata": {
        "formattedRanges": [],
        "deepnote_app_block_visible": true,
        "cell_id": "336c2898443a4b45856a4601f4211c5c",
        "deepnote_cell_type": "text-cell-bullet"
      },
      "block_group": "702ded2768a14b3eaa0b8d1d7a7cb376"
    },
    {
      "cell_type": "markdown",
      "source": "- Local Outlier Factor (LOF)",
      "metadata": {
        "formattedRanges": [],
        "deepnote_app_block_visible": true,
        "cell_id": "a6926735c5b24edba6feb8ec9f1cd5de",
        "deepnote_cell_type": "text-cell-bullet"
      },
      "block_group": "c882ce2e3b0646a5990adee8cc65dc56"
    },
    {
      "cell_type": "markdown",
      "source": "K-distance dan K-neighhors",
      "metadata": {
        "formattedRanges": [
          {
            "type": "marks",
            "marks": {
              "bold": true
            },
            "toCodePoint": 26,
            "fromCodePoint": 0
          }
        ],
        "deepnote_app_block_visible": true,
        "cell_id": "16ec1faf89774cfe8d78d20db5fde5b9",
        "deepnote_cell_type": "text-cell-p"
      },
      "block_group": "a49bbdb44fd448839b8b3d36a0e679e9"
    },
    {
      "cell_type": "markdown",
      "source": "K-distance adalah jarak ke tetangga terdekat ke K. dan K-neighbors dapat dilambangkan $N_{k}(A)$  merupakan himpunan titik yang terletak di dalam atau daripada lingkaran berjari-jari jarak K. K-neighbors bisa lebih dari atau sama dengan K.",
      "metadata": {
        "deepnote_app_block_visible": true,
        "cell_id": "68ad797a052d4a20aad642dfce2acf3f",
        "deepnote_cell_type": "markdown"
      },
      "block_group": "cb7ad89f0cb54edb9dda1f395f969d34"
    },
    {
      "cell_type": "markdown",
      "source": "<img src=\"image-20240321-014408-20240320-184414.png\" width=\"\" align=\"\" />",
      "metadata": {
        "deepnote_img_src": "image-20240321-014408-20240320-184414.png",
        "deepnote_app_block_visible": true,
        "cell_id": "d96655cc951b4c3aa60683814c84f7da",
        "deepnote_cell_type": "image"
      },
      "block_group": "05e63b4be5e24d8db70997e8202c81e3"
    },
    {
      "cell_type": "markdown",
      "source": "jika k = 2, maka K-neighbors dari A adalah C, B, dan D. \n$ || N_{k}(Objek) || $ akan selalu lebih besar atau sama dengan nilai K",
      "metadata": {
        "deepnote_app_block_visible": true,
        "cell_id": "b34fd7250d044e6bbd0cb74b4644b5df",
        "deepnote_cell_type": "markdown"
      },
      "block_group": "c18ba8b458e3483c829af069b2da2713"
    },
    {
      "cell_type": "markdown",
      "source": "Reachbility Density (RD)",
      "metadata": {
        "formattedRanges": [
          {
            "type": "marks",
            "marks": {
              "bold": true
            },
            "toCodePoint": 24,
            "fromCodePoint": 0
          }
        ],
        "deepnote_app_block_visible": true,
        "cell_id": "6dd9c4711f1446fd8ed9d763cd13055f",
        "deepnote_cell_type": "text-cell-p"
      },
      "block_group": "cd7b4c1aa88446c2b073a6ea9b49b696"
    },
    {
      "cell_type": "markdown",
      "source": "Reachbility Density merupakan nilai maksimum dari K-distance dan jarak antara $o$ dan $o'$. ukuran jarak yang digunakan dapat menggunakan metode euclidean, manhattan dan lainnya.",
      "metadata": {
        "deepnote_app_block_visible": true,
        "cell_id": "2caf059d118d4928873ceebcb958a57b",
        "deepnote_cell_type": "markdown"
      },
      "block_group": "b544583bcd6e43f3934914e40d9d00fe"
    },
    {
      "cell_type": "markdown",
      "source": "$RD(o, o') = max \\left\\{K-distance(o), distance(o, o')\\right\\} $",
      "metadata": {
        "deepnote_app_block_visible": true,
        "cell_id": "4218520752834b4ea581711f3d94baac",
        "deepnote_cell_type": "markdown"
      },
      "block_group": "8687ee8bac094d9a8c05dd1b92d3213f"
    },
    {
      "cell_type": "markdown",
      "source": "<img src=\"image-20240321-020158.png\" width=\"\" align=\"\" />",
      "metadata": {
        "deepnote_img_src": "image-20240321-020158.png",
        "deepnote_app_block_visible": true,
        "cell_id": "418de329c67740f9bd948eb7aa93eddb",
        "deepnote_cell_type": "image"
      },
      "block_group": "0de01208165c4d54860b0e1054665f99"
    },
    {
      "cell_type": "markdown",
      "source": "Local Reachbility Density (LRD)",
      "metadata": {
        "formattedRanges": [
          {
            "type": "marks",
            "marks": {
              "bold": true
            },
            "toCodePoint": 31,
            "fromCodePoint": 0
          }
        ],
        "deepnote_app_block_visible": true,
        "cell_id": "4f22b743f1cd42aabc81d650c9c983e9",
        "deepnote_cell_type": "text-cell-p"
      },
      "block_group": "2723e4887d88476a8c1f21ec69db963c"
    },
    {
      "cell_type": "markdown",
      "source": "$LRD_{k}=\\frac{1}{\\sum_{o'}\\in N_{k}(o) \\frac{RD(o, o')}{|| N_{k}(o) ||} }$",
      "metadata": {
        "deepnote_app_block_visible": true,
        "cell_id": "9c026b436d414e5da2edf7f050819965",
        "deepnote_cell_type": "markdown"
      },
      "block_group": "3a0f0a87608649e18ede8b84eb4d7950"
    },
    {
      "cell_type": "markdown",
      "source": "LRD merupakan invers dari rata-rata jarak jangkauan $o$ dari tetangganya. Seberapa jauh suatu titik dari kelompok terdekarnyam maka semakin rendah nilai LRD.",
      "metadata": {
        "deepnote_app_block_visible": true,
        "cell_id": "baa631bd77474a879512737bfb6dd83e",
        "deepnote_cell_type": "markdown"
      },
      "block_group": "b0f44fe025484546a6b3bcc5b15eb538"
    },
    {
      "cell_type": "markdown",
      "source": "Local Outlier Factor (LOF)",
      "metadata": {
        "formattedRanges": [
          {
            "type": "marks",
            "marks": {
              "bold": true
            },
            "toCodePoint": 26,
            "fromCodePoint": 0
          }
        ],
        "deepnote_app_block_visible": true,
        "cell_id": "82b7a3fcdb6b4943b5d57e16f3ddc8c2",
        "deepnote_cell_type": "text-cell-p"
      },
      "block_group": "112b54a4a76449c88a9ce1563ee0cfb7"
    },
    {
      "cell_type": "markdown",
      "source": "$ LOF_{k}(o) = \\frac{\\sum_{o'}\\in N_{k} (o) LRD_{k}(o')}{||N_{k}(A)||} \\times \\frac{1}{LRD_{k}(o)} $",
      "metadata": {
        "deepnote_app_block_visible": true,
        "cell_id": "8b1a0231538a4cca8bbb3320cf700152",
        "deepnote_cell_type": "markdown"
      },
      "block_group": "617688480a4249098c313e58a9eed0e0"
    },
    {
      "cell_type": "markdown",
      "source": "Local Outlier Factor (LOF) adalah algoritma deteksi anomali tanpa pengawasan yang digunakan untuk mengidentifikasi pencilan atau anomali dalam kumpulan data. Ini mengukur penyimpangan kepadatan lokal dari titik data sehubungan dengan tetangganya, mengidentifikasi titik-titik yang memiliki kepadatan yang sangat berbeda dibandingkan dengan tetangga sekitarnya.",
      "metadata": {
        "formattedRanges": [],
        "deepnote_app_block_visible": true,
        "cell_id": "b2101959e6c843638c65aa006cc1ad4c",
        "deepnote_cell_type": "text-cell-p"
      },
      "block_group": "50e33b18e7e04a23b9d9d67a9e41affc"
    },
    {
      "cell_type": "markdown",
      "source": "Contoh Perhitungan Manual",
      "metadata": {
        "formattedRanges": [
          {
            "type": "marks",
            "marks": {
              "bold": true
            },
            "toCodePoint": 25,
            "fromCodePoint": 0
          }
        ],
        "deepnote_app_block_visible": true,
        "cell_id": "b1e5a02249944f75809d5786bf5a5d18",
        "deepnote_cell_type": "text-cell-p"
      },
      "block_group": "dfb5ee4f29224fa5b66a04b0147fbe4e"
    },
    {
      "cell_type": "markdown",
      "source": "Berikut ini merupakan contoh perhitungan manual menggunakan metode perhitungan jarak Euclidean.",
      "metadata": {
        "formattedRanges": [],
        "deepnote_app_block_visible": true,
        "cell_id": "c18c52cfea5f4705a7cd4c876714fe8e",
        "deepnote_cell_type": "text-cell-p"
      },
      "block_group": "10b8ad05013146ac895583c14a30e53e"
    },
    {
      "cell_type": "markdown",
      "source": "Objek :",
      "metadata": {
        "formattedRanges": [],
        "deepnote_app_block_visible": true,
        "cell_id": "6d6d6de04c0a43189b684379ecceb800",
        "deepnote_cell_type": "text-cell-p"
      },
      "block_group": "48655d944dab48dc86d3fe9a853292d3"
    },
    {
      "cell_type": "markdown",
      "source": "- A (0, 0)",
      "metadata": {
        "formattedRanges": [],
        "deepnote_app_block_visible": true,
        "cell_id": "74c127cc449e427baa0faac01c0cfd00",
        "deepnote_cell_type": "text-cell-bullet"
      },
      "block_group": "170b0122fa7048f282872d8d7f46f6a1"
    },
    {
      "cell_type": "markdown",
      "source": "- B (0, 1)",
      "metadata": {
        "formattedRanges": [],
        "deepnote_app_block_visible": true,
        "cell_id": "64f2a329017f44b69116168c4a8e1fdd",
        "deepnote_cell_type": "text-cell-bullet"
      },
      "block_group": "be25746d33b7410aabc2be987671e22d"
    },
    {
      "cell_type": "markdown",
      "source": "- C (1, 1)",
      "metadata": {
        "formattedRanges": [],
        "deepnote_app_block_visible": true,
        "cell_id": "366c82b130df4df1879e47d7d6df8ef2",
        "deepnote_cell_type": "text-cell-bullet"
      },
      "block_group": "38780d4a79c745ca818e9f6394db91cf"
    },
    {
      "cell_type": "markdown",
      "source": "- D (3, 0)",
      "metadata": {
        "formattedRanges": [],
        "deepnote_app_block_visible": true,
        "cell_id": "7176d1a71f93421cae633a605f686f8b",
        "deepnote_cell_type": "text-cell-bullet"
      },
      "block_group": "b1babcb7f96649c7a9962d22cd218a17"
    },
    {
      "cell_type": "markdown",
      "source": "K = 2",
      "metadata": {
        "formattedRanges": [],
        "deepnote_app_block_visible": true,
        "cell_id": "710ee8cbc27b44bf91f1e43a7d21d2c6",
        "deepnote_cell_type": "text-cell-p"
      },
      "block_group": "b7214ceab8cc4a5581383e3237d18faa"
    },
    {
      "cell_type": "markdown",
      "source": "Mencari K-distance dan K-neighbors",
      "metadata": {
        "formattedRanges": [
          {
            "type": "marks",
            "marks": {
              "bold": true
            },
            "toCodePoint": 34,
            "fromCodePoint": 0
          }
        ],
        "deepnote_app_block_visible": true,
        "cell_id": "ab8d1b423705498cadbf07a8af578ccb",
        "deepnote_cell_type": "text-cell-p"
      },
      "block_group": "9aebfe6c03a74041ba4a975cc84fa644"
    },
    {
      "cell_type": "markdown",
      "source": "<img src=\"WhatsApp Image 2024-03-21 at 5.46.14 AM.jpeg\" width=\"\" align=\"\" />",
      "metadata": {
        "deepnote_img_src": "WhatsApp Image 2024-03-21 at 5.46.14 AM.jpeg",
        "deepnote_app_block_visible": true,
        "cell_id": "23b058e97cce43a7ba5ec39e9586a3e9",
        "deepnote_cell_type": "image"
      },
      "block_group": "0888eda68487480fa860aee5bd85dbde"
    },
    {
      "cell_type": "markdown",
      "source": "Mencari LRD dan LOF",
      "metadata": {
        "formattedRanges": [
          {
            "type": "marks",
            "marks": {
              "bold": true
            },
            "toCodePoint": 19,
            "fromCodePoint": 0
          }
        ],
        "deepnote_app_block_visible": true,
        "cell_id": "309410f757864d6898ce6b0254ddee2d",
        "deepnote_cell_type": "text-cell-p"
      },
      "block_group": "261b266190ff453880bdfc407967862c"
    },
    {
      "cell_type": "markdown",
      "source": "<img src=\"WhatsApp Image 2024-03-21 at 5.45.09 AM.jpeg\" width=\"\" align=\"\" />",
      "metadata": {
        "deepnote_img_src": "WhatsApp Image 2024-03-21 at 5.45.09 AM.jpeg",
        "deepnote_app_block_visible": true,
        "cell_id": "234d84364fae44cbbd55b6991c7c6e3a",
        "deepnote_cell_type": "image"
      },
      "block_group": "6aacc89c0be54b2ba6a4cd13278dcc9b"
    },
    {
      "cell_type": "markdown",
      "source": "Berdasarkan perhitungan manual. dapat diketahui bahwa objek D dapat dikatakan outlier karena nilai LRD dari D lebih besar daripada keseluruhan objek yang ada.",
      "metadata": {
        "formattedRanges": [],
        "deepnote_app_block_visible": true,
        "cell_id": "4b7a60e63fbd4053b81c3bea8bf11dcd",
        "deepnote_cell_type": "text-cell-p"
      },
      "block_group": "a166d0b0b87b482eae3687929b78f543"
    },
    {
      "cell_type": "markdown",
      "source": "### Percobaan outlier pada dataset",
      "metadata": {
        "formattedRanges": [],
        "deepnote_app_block_visible": true,
        "cell_id": "6e0a215758604887bfeee6025f0b3d9d",
        "deepnote_cell_type": "text-cell-h3"
      },
      "block_group": "907b34badd20452da736fbf411b78bfb"
    },
    {
      "cell_type": "code",
      "source": "from sklearn.neighbors import LocalOutlierFactor\n\n# duplikasi dataframe\ndf_outlayer = df_knn.copy(deep=True)\n\ndf_outlayer = df_outlayer.drop(['Species'], axis=1)\n\n# ubah data untuk simulasi outlayer\ndf_outlayer.iloc[10, df.columns.get_loc('Sepal Length')] = 15\ndf_outlayer.iloc[20, df.columns.get_loc('Sepal Length')] = 10\n\nlof = LocalOutlierFactor(n_neighbors=5, p=2)\n\npredict = lof.fit_predict(df_outlayer)\n\ndf_outlayer.index[predict == -1]",
      "metadata": {
        "source_hash": "c29a753b",
        "execution_start": 1714004139878,
        "execution_millis": 567,
        "deepnote_table_state": {
          "sortBy": [],
          "filters": [],
          "pageSize": 10,
          "pageIndex": 1
        },
        "deepnote_table_loading": false,
        "deepnote_to_be_reexecuted": false,
        "deepnote_app_block_visible": true,
        "cell_id": "9b2d842bb24d4b50b7ba145be429203c",
        "deepnote_cell_type": "code"
      },
      "outputs": [
        {
          "output_type": "execute_result",
          "execution_count": 19,
          "data": {
            "text/plain": "Index([10, 20, 22, 30, 34, 38, 59, 102, 105], dtype='int64')"
          },
          "metadata": {}
        }
      ],
      "outputs_reference": null,
      "execution_count": 19,
      "block_group": "6797c69376f84a51880a73a5ae166368",
      "content_dependencies": null
    },
    {
      "cell_type": "code",
      "source": "df_outlayer",
      "metadata": {
        "source_hash": "2853f1a8",
        "execution_start": 1714004139908,
        "execution_millis": 537,
        "deepnote_table_state": {
          "sortBy": [],
          "filters": [],
          "pageSize": 10,
          "pageIndex": 3
        },
        "deepnote_table_loading": false,
        "deepnote_to_be_reexecuted": false,
        "deepnote_app_block_visible": true,
        "cell_id": "67c5bcd80bef443cb769814d9a709a5a",
        "deepnote_cell_type": "code"
      },
      "outputs": [
        {
          "output_type": "execute_result",
          "execution_count": 20,
          "data": {
            "application/vnd.deepnote.dataframe.v3+json": {
              "column_count": 4,
              "row_count": 145,
              "columns": [
                {
                  "name": "Sepal Length",
                  "dtype": "float64",
                  "stats": {
                    "unique_count": 39,
                    "nan_count": 0,
                    "min": "4.3",
                    "max": "15.0",
                    "histogram": [
                      {
                        "bin_start": 4.3,
                        "bin_end": 5.369999999999999,
                        "count": 43
                      },
                      {
                        "bin_start": 5.369999999999999,
                        "bin_end": 6.4399999999999995,
                        "count": 65
                      },
                      {
                        "bin_start": 6.4399999999999995,
                        "bin_end": 7.51,
                        "count": 29
                      },
                      {
                        "bin_start": 7.51,
                        "bin_end": 8.579999999999998,
                        "count": 6
                      },
                      {
                        "bin_start": 8.579999999999998,
                        "bin_end": 9.649999999999999,
                        "count": 0
                      },
                      {
                        "bin_start": 9.649999999999999,
                        "bin_end": 10.719999999999999,
                        "count": 1
                      },
                      {
                        "bin_start": 10.719999999999999,
                        "bin_end": 11.79,
                        "count": 0
                      },
                      {
                        "bin_start": 11.79,
                        "bin_end": 12.86,
                        "count": 0
                      },
                      {
                        "bin_start": 12.86,
                        "bin_end": 13.93,
                        "count": 0
                      },
                      {
                        "bin_start": 13.93,
                        "bin_end": 15,
                        "count": 1
                      }
                    ]
                  }
                },
                {
                  "name": "Sepal Width",
                  "dtype": "float64",
                  "stats": {
                    "unique_count": 23,
                    "nan_count": 0,
                    "min": "2.0",
                    "max": "4.4",
                    "histogram": [
                      {
                        "bin_start": 2,
                        "bin_end": 2.24,
                        "count": 4
                      },
                      {
                        "bin_start": 2.24,
                        "bin_end": 2.48,
                        "count": 7
                      },
                      {
                        "bin_start": 2.48,
                        "bin_end": 2.72,
                        "count": 21
                      },
                      {
                        "bin_start": 2.72,
                        "bin_end": 2.96,
                        "count": 23
                      },
                      {
                        "bin_start": 2.96,
                        "bin_end": 3.2,
                        "count": 36
                      },
                      {
                        "bin_start": 3.2,
                        "bin_end": 3.4400000000000004,
                        "count": 30
                      },
                      {
                        "bin_start": 3.4400000000000004,
                        "bin_end": 3.6800000000000006,
                        "count": 9
                      },
                      {
                        "bin_start": 3.6800000000000006,
                        "bin_end": 3.9200000000000004,
                        "count": 11
                      },
                      {
                        "bin_start": 3.9200000000000004,
                        "bin_end": 4.16,
                        "count": 2
                      },
                      {
                        "bin_start": 4.16,
                        "bin_end": 4.4,
                        "count": 2
                      }
                    ]
                  }
                },
                {
                  "name": "Petal Length",
                  "dtype": "float64",
                  "stats": {
                    "unique_count": 43,
                    "nan_count": 0,
                    "min": "1.0",
                    "max": "6.9",
                    "histogram": [
                      {
                        "bin_start": 1,
                        "bin_end": 1.59,
                        "count": 35
                      },
                      {
                        "bin_start": 1.59,
                        "bin_end": 2.18,
                        "count": 12
                      },
                      {
                        "bin_start": 2.18,
                        "bin_end": 2.7700000000000005,
                        "count": 0
                      },
                      {
                        "bin_start": 2.7700000000000005,
                        "bin_end": 3.3600000000000003,
                        "count": 3
                      },
                      {
                        "bin_start": 3.3600000000000003,
                        "bin_end": 3.95,
                        "count": 8
                      },
                      {
                        "bin_start": 3.95,
                        "bin_end": 4.540000000000001,
                        "count": 25
                      },
                      {
                        "bin_start": 4.540000000000001,
                        "bin_end": 5.130000000000001,
                        "count": 28
                      },
                      {
                        "bin_start": 5.130000000000001,
                        "bin_end": 5.720000000000001,
                        "count": 18
                      },
                      {
                        "bin_start": 5.720000000000001,
                        "bin_end": 6.3100000000000005,
                        "count": 11
                      },
                      {
                        "bin_start": 6.3100000000000005,
                        "bin_end": 6.9,
                        "count": 5
                      }
                    ]
                  }
                },
                {
                  "name": "Petal Width",
                  "dtype": "float64",
                  "stats": {
                    "unique_count": 22,
                    "nan_count": 0,
                    "min": "0.1",
                    "max": "2.5",
                    "histogram": [
                      {
                        "bin_start": 0.1,
                        "bin_end": 0.33999999999999997,
                        "count": 38
                      },
                      {
                        "bin_start": 0.33999999999999997,
                        "bin_end": 0.58,
                        "count": 8
                      },
                      {
                        "bin_start": 0.58,
                        "bin_end": 0.82,
                        "count": 1
                      },
                      {
                        "bin_start": 0.82,
                        "bin_end": 1.06,
                        "count": 7
                      },
                      {
                        "bin_start": 1.06,
                        "bin_end": 1.3,
                        "count": 8
                      },
                      {
                        "bin_start": 1.3,
                        "bin_end": 1.54,
                        "count": 32
                      },
                      {
                        "bin_start": 1.54,
                        "bin_end": 1.78,
                        "count": 6
                      },
                      {
                        "bin_start": 1.78,
                        "bin_end": 2.02,
                        "count": 22
                      },
                      {
                        "bin_start": 2.02,
                        "bin_end": 2.2600000000000002,
                        "count": 9
                      },
                      {
                        "bin_start": 2.2600000000000002,
                        "bin_end": 2.5,
                        "count": 14
                      }
                    ]
                  }
                },
                {
                  "name": "_deepnote_index_column",
                  "dtype": "int64"
                }
              ],
              "rows": [
                {
                  "Sepal Length": 5.4,
                  "Sepal Width": 3.4,
                  "Petal Length": 1.5,
                  "Petal Width": 0.4,
                  "_deepnote_index_column": 30
                },
                {
                  "Sepal Length": 5.2,
                  "Sepal Width": 4.1,
                  "Petal Length": 1.5,
                  "Petal Width": 0.1,
                  "_deepnote_index_column": 31
                },
                {
                  "Sepal Length": 5.5,
                  "Sepal Width": 4.2,
                  "Petal Length": 1.4,
                  "Petal Width": 0.2,
                  "_deepnote_index_column": 32
                },
                {
                  "Sepal Length": 5,
                  "Sepal Width": 3.2,
                  "Petal Length": 1.2,
                  "Petal Width": 0.2,
                  "_deepnote_index_column": 33
                },
                {
                  "Sepal Length": 5.5,
                  "Sepal Width": 3.5,
                  "Petal Length": 1.3,
                  "Petal Width": 0.2,
                  "_deepnote_index_column": 34
                },
                {
                  "Sepal Length": 4.4,
                  "Sepal Width": 3,
                  "Petal Length": 1.3,
                  "Petal Width": 0.2,
                  "_deepnote_index_column": 35
                },
                {
                  "Sepal Length": 5.1,
                  "Sepal Width": 3.4,
                  "Petal Length": 1.5,
                  "Petal Width": 0.2,
                  "_deepnote_index_column": 36
                },
                {
                  "Sepal Length": 5,
                  "Sepal Width": 3.5,
                  "Petal Length": 1.3,
                  "Petal Width": 0.3,
                  "_deepnote_index_column": 37
                },
                {
                  "Sepal Length": 4.5,
                  "Sepal Width": 2.3,
                  "Petal Length": 1.3,
                  "Petal Width": 0.3,
                  "_deepnote_index_column": 38
                },
                {
                  "Sepal Length": 4.4,
                  "Sepal Width": 3.2,
                  "Petal Length": 1.3,
                  "Petal Width": 0.2,
                  "_deepnote_index_column": 39
                }
              ]
            },
            "text/plain": "     Sepal Length  Sepal Width  Petal Length  Petal Width\n0        5.100000          3.5           1.4          0.2\n1        4.900000          3.0           1.4          0.2\n2        4.700000          3.2           1.3          0.2\n3        4.600000          3.1           1.5          0.2\n4        5.000000          3.6           1.4          0.2\n..            ...          ...           ...          ...\n140      6.700000          3.0           5.2          2.3\n141      6.300000          2.5           5.0          1.9\n142      6.500000          3.0           5.2          2.0\n143      6.200000          3.4           5.4          2.3\n144      6.433333          3.0           5.1          1.8\n\n[145 rows x 4 columns]",
            "text/html": "<div>\n<style scoped>\n    .dataframe tbody tr th:only-of-type {\n        vertical-align: middle;\n    }\n\n    .dataframe tbody tr th {\n        vertical-align: top;\n    }\n\n    .dataframe thead th {\n        text-align: right;\n    }\n</style>\n<table border=\"1\" class=\"dataframe\">\n  <thead>\n    <tr style=\"text-align: right;\">\n      <th></th>\n      <th>Sepal Length</th>\n      <th>Sepal Width</th>\n      <th>Petal Length</th>\n      <th>Petal Width</th>\n    </tr>\n  </thead>\n  <tbody>\n    <tr>\n      <th>0</th>\n      <td>5.100000</td>\n      <td>3.5</td>\n      <td>1.4</td>\n      <td>0.2</td>\n    </tr>\n    <tr>\n      <th>1</th>\n      <td>4.900000</td>\n      <td>3.0</td>\n      <td>1.4</td>\n      <td>0.2</td>\n    </tr>\n    <tr>\n      <th>2</th>\n      <td>4.700000</td>\n      <td>3.2</td>\n      <td>1.3</td>\n      <td>0.2</td>\n    </tr>\n    <tr>\n      <th>3</th>\n      <td>4.600000</td>\n      <td>3.1</td>\n      <td>1.5</td>\n      <td>0.2</td>\n    </tr>\n    <tr>\n      <th>4</th>\n      <td>5.000000</td>\n      <td>3.6</td>\n      <td>1.4</td>\n      <td>0.2</td>\n    </tr>\n    <tr>\n      <th>...</th>\n      <td>...</td>\n      <td>...</td>\n      <td>...</td>\n      <td>...</td>\n    </tr>\n    <tr>\n      <th>140</th>\n      <td>6.700000</td>\n      <td>3.0</td>\n      <td>5.2</td>\n      <td>2.3</td>\n    </tr>\n    <tr>\n      <th>141</th>\n      <td>6.300000</td>\n      <td>2.5</td>\n      <td>5.0</td>\n      <td>1.9</td>\n    </tr>\n    <tr>\n      <th>142</th>\n      <td>6.500000</td>\n      <td>3.0</td>\n      <td>5.2</td>\n      <td>2.0</td>\n    </tr>\n    <tr>\n      <th>143</th>\n      <td>6.200000</td>\n      <td>3.4</td>\n      <td>5.4</td>\n      <td>2.3</td>\n    </tr>\n    <tr>\n      <th>144</th>\n      <td>6.433333</td>\n      <td>3.0</td>\n      <td>5.1</td>\n      <td>1.8</td>\n    </tr>\n  </tbody>\n</table>\n<p>145 rows × 4 columns</p>\n</div>"
          },
          "metadata": {}
        }
      ],
      "outputs_reference": null,
      "execution_count": 20,
      "block_group": "35aa896e45fc4becaf6f73998a39a0f3",
      "content_dependencies": null
    },
    {
      "cell_type": "markdown",
      "source": "# Permodelan Data (Data Modelling)",
      "metadata": {
        "formattedRanges": [],
        "deepnote_app_block_visible": true,
        "cell_id": "5ca43ce7b2464bccba2094e435181a95",
        "deepnote_cell_type": "text-cell-h1"
      },
      "block_group": "7d9bbdd69aa749a19c6b557b77deab83"
    },
    {
      "cell_type": "markdown",
      "source": "Pemodelan data dalam machine learning adalah tentang bagaimana kita mempersiapkan data agar bisa digunakan untuk membangun model machine learning yang handal.  Bisa dibilang ini seperti membangun fondasi rumah sebelum kita mulai membangunnya.",
      "metadata": {
        "formattedRanges": [],
        "deepnote_app_block_visible": true,
        "cell_id": "76da9f3fc4ab457db3dc9c1e0fc4b197",
        "deepnote_cell_type": "text-cell-p"
      },
      "block_group": "f82c08035eca4349b0a37b3a9b044ee4"
    },
    {
      "cell_type": "markdown",
      "source": "Gaussian Naive Bayes",
      "metadata": {
        "formattedRanges": [
          {
            "type": "marks",
            "marks": {
              "bold": true
            },
            "toCodePoint": 20,
            "fromCodePoint": 0
          }
        ],
        "deepnote_app_block_visible": true,
        "cell_id": "28cc5d0cfa694457bf0b33a22ff30a85",
        "deepnote_cell_type": "text-cell-p"
      },
      "block_group": "4a45c3d6c59b4eaba7f4041329d8380f"
    },
    {
      "cell_type": "markdown",
      "source": "Gaussian Naive Bayes merupakan sebuah teknik klasifikasi yang digunakan dalam machine learning dengan menggunakan metode probability dan Distribusi Gaussian atau Distiribusi Normal. Gaussian Distribution mengasumsikan bahwa setiap feature pada data memiliki penngaruh yang independent dalam memprediksi target. Kombinasi prediksi dari seluruh parameter adalah prediksi akhir dengan probability dari target variable yang diklasifikasikan ke dalam dua kelas. Klasifikasi akhirnya adalah hasil probability yang lebih tinggi dari grup target.",
      "metadata": {
        "formattedRanges": [],
        "deepnote_app_block_visible": true,
        "cell_id": "358ab10047e646e6a738b929ed7038e3",
        "deepnote_cell_type": "text-cell-p"
      },
      "block_group": "54f827d8231343fca7d54139cbcfa061"
    },
    {
      "cell_type": "markdown",
      "source": "<img src=\"image-20240424-184420.png\" width=\"\" align=\"\" />",
      "metadata": {
        "deepnote_img_src": "image-20240424-184420.png",
        "deepnote_app_block_visible": true,
        "cell_id": "50c29c2d34514188bfd636157025f842",
        "deepnote_cell_type": "image"
      },
      "block_group": "8251a791b2804b3fbe7b3b3ed66abb8e"
    },
    {
      "cell_type": "markdown",
      "source": "Rumus Distribusi Gaussian",
      "metadata": {
        "formattedRanges": [
          {
            "type": "marks",
            "marks": {
              "bold": true
            },
            "toCodePoint": 25,
            "fromCodePoint": 0
          }
        ],
        "deepnote_app_block_visible": true,
        "cell_id": "ef4588fb3aaa46d8a6efed8f3fb2bb65",
        "deepnote_cell_type": "text-cell-p"
      },
      "block_group": "042bc0ad01b74387ab18de8be5d3ddb8"
    },
    {
      "cell_type": "markdown",
      "source": "Distribusi normal memiliki rumus matemtika yang mendefinisikan probability sebuah observasi berada pada salah sat kelas. Formulanya adalah sebagai berikut:",
      "metadata": {
        "formattedRanges": [],
        "deepnote_app_block_visible": true,
        "cell_id": "54c35f5c284f4712ae6cee1747ae71f9",
        "deepnote_cell_type": "text-cell-p"
      },
      "block_group": "8804f976fa504ea0b8d3995b80418a3e"
    },
    {
      "cell_type": "markdown",
      "source": "<img src=\"image-20240425-141227.png\" width=\"\" align=\"\" />",
      "metadata": {
        "deepnote_img_src": "image-20240425-141227.png",
        "deepnote_app_block_visible": true,
        "cell_id": "ad16a4e031b14ae9bb50cb350d0a992a",
        "deepnote_cell_type": "image"
      },
      "block_group": "a23c2a672a724f348971c0648d0d9811"
    },
    {
      "cell_type": "markdown",
      "source": "## Percobaan Klasifikasi Dengan Gaussian Naive Bayes",
      "metadata": {
        "formattedRanges": [],
        "deepnote_app_block_visible": true,
        "cell_id": "058a87b02e9f4446a4c47d8651e99b4a",
        "deepnote_cell_type": "text-cell-h2"
      },
      "block_group": "a0f2ec57280946feb8294052289724ec"
    },
    {
      "cell_type": "markdown",
      "source": "### Membuat dataframe test dan train",
      "metadata": {
        "formattedRanges": [],
        "deepnote_app_block_visible": true,
        "cell_id": "1a4a798d8cad4adabfe8abd70ebaef9a",
        "deepnote_cell_type": "text-cell-h3"
      },
      "block_group": "12257f0b5cad4898b28d6f6bfc4f9ad9"
    },
    {
      "cell_type": "code",
      "source": "from sklearn.model_selection import train_test_split \n\nx_train = df_knn.drop('Species', axis=1)\ny_train = df_knn['Species']\n\nx_train, x_test, y_train, y_test = train_test_split(x_train, y_train, test_size=0.2)\n\n# menggabungkan dataframe\ndf_trained = x_train.join(y_train)\ndf_tested = x_test.join(y_test)\n\n#dataframe to .csv file\ndf_trained.to_csv('Iris_train.csv', index=False)\ndf_tested.to_csv('Iris_test.csv', index=False)",
      "metadata": {
        "source_hash": "9908b0e3",
        "execution_start": 1714004139923,
        "execution_millis": 523,
        "deepnote_to_be_reexecuted": false,
        "deepnote_app_block_visible": true,
        "deepnote_app_is_code_hidden": false,
        "deepnote_app_is_output_hidden": false,
        "cell_id": "265b379f97df485bb703219819fa8753",
        "deepnote_cell_type": "code"
      },
      "outputs": [],
      "outputs_reference": null,
      "execution_count": 21,
      "block_group": "c8029b7b6ca14f6380c3f674e7f7b47b",
      "content_dependencies": null
    },
    {
      "cell_type": "markdown",
      "source": "### Menampilkan data test",
      "metadata": {
        "formattedRanges": [],
        "deepnote_app_block_visible": true,
        "cell_id": "29ea09c830dd46b280f7417e49c442c8",
        "deepnote_cell_type": "text-cell-h3"
      },
      "block_group": "6147be6c369c4acb816930fb757321b6"
    },
    {
      "cell_type": "code",
      "source": "iris_test = pd.read_csv('Iris_test.csv')\n\niris_test",
      "metadata": {
        "source_hash": "2455d860",
        "execution_start": 1714004140451,
        "execution_millis": 362,
        "deepnote_to_be_reexecuted": false,
        "deepnote_app_block_visible": true,
        "cell_id": "15084186b643431eb389fbf62440c5bf",
        "deepnote_cell_type": "code"
      },
      "outputs": [
        {
          "output_type": "execute_result",
          "execution_count": 22,
          "data": {
            "application/vnd.deepnote.dataframe.v3+json": {
              "column_count": 5,
              "row_count": 29,
              "columns": [
                {
                  "name": "Sepal Length",
                  "dtype": "float64",
                  "stats": {
                    "unique_count": 22,
                    "nan_count": 0,
                    "min": "4.4",
                    "max": "7.7",
                    "histogram": [
                      {
                        "bin_start": 4.4,
                        "bin_end": 4.73,
                        "count": 2
                      },
                      {
                        "bin_start": 4.73,
                        "bin_end": 5.0600000000000005,
                        "count": 6
                      },
                      {
                        "bin_start": 5.0600000000000005,
                        "bin_end": 5.390000000000001,
                        "count": 2
                      },
                      {
                        "bin_start": 5.390000000000001,
                        "bin_end": 5.720000000000001,
                        "count": 6
                      },
                      {
                        "bin_start": 5.720000000000001,
                        "bin_end": 6.050000000000001,
                        "count": 2
                      },
                      {
                        "bin_start": 6.050000000000001,
                        "bin_end": 6.38,
                        "count": 4
                      },
                      {
                        "bin_start": 6.38,
                        "bin_end": 6.71,
                        "count": 3
                      },
                      {
                        "bin_start": 6.71,
                        "bin_end": 7.04,
                        "count": 2
                      },
                      {
                        "bin_start": 7.04,
                        "bin_end": 7.37,
                        "count": 1
                      },
                      {
                        "bin_start": 7.37,
                        "bin_end": 7.7,
                        "count": 1
                      }
                    ]
                  }
                },
                {
                  "name": "Sepal Width",
                  "dtype": "float64",
                  "stats": {
                    "unique_count": 15,
                    "nan_count": 0,
                    "min": "2.0",
                    "max": "4.4",
                    "histogram": [
                      {
                        "bin_start": 2,
                        "bin_end": 2.24,
                        "count": 2
                      },
                      {
                        "bin_start": 2.24,
                        "bin_end": 2.48,
                        "count": 1
                      },
                      {
                        "bin_start": 2.48,
                        "bin_end": 2.72,
                        "count": 7
                      },
                      {
                        "bin_start": 2.72,
                        "bin_end": 2.96,
                        "count": 3
                      },
                      {
                        "bin_start": 2.96,
                        "bin_end": 3.2,
                        "count": 8
                      },
                      {
                        "bin_start": 3.2,
                        "bin_end": 3.4400000000000004,
                        "count": 5
                      },
                      {
                        "bin_start": 3.4400000000000004,
                        "bin_end": 3.6800000000000006,
                        "count": 1
                      },
                      {
                        "bin_start": 3.6800000000000006,
                        "bin_end": 3.9200000000000004,
                        "count": 1
                      },
                      {
                        "bin_start": 3.9200000000000004,
                        "bin_end": 4.16,
                        "count": 0
                      },
                      {
                        "bin_start": 4.16,
                        "bin_end": 4.4,
                        "count": 1
                      }
                    ]
                  }
                },
                {
                  "name": "Petal Length",
                  "dtype": "float64",
                  "stats": {
                    "unique_count": 19,
                    "nan_count": 0,
                    "min": "1.3",
                    "max": "6.1",
                    "histogram": [
                      {
                        "bin_start": 1.3,
                        "bin_end": 1.78,
                        "count": 9
                      },
                      {
                        "bin_start": 1.78,
                        "bin_end": 2.26,
                        "count": 0
                      },
                      {
                        "bin_start": 2.26,
                        "bin_end": 2.74,
                        "count": 0
                      },
                      {
                        "bin_start": 2.74,
                        "bin_end": 3.2199999999999998,
                        "count": 0
                      },
                      {
                        "bin_start": 3.2199999999999998,
                        "bin_end": 3.7,
                        "count": 2
                      },
                      {
                        "bin_start": 3.7,
                        "bin_end": 4.18,
                        "count": 4
                      },
                      {
                        "bin_start": 4.18,
                        "bin_end": 4.66,
                        "count": 4
                      },
                      {
                        "bin_start": 4.66,
                        "bin_end": 5.14,
                        "count": 5
                      },
                      {
                        "bin_start": 5.14,
                        "bin_end": 5.62,
                        "count": 3
                      },
                      {
                        "bin_start": 5.62,
                        "bin_end": 6.1,
                        "count": 2
                      }
                    ]
                  }
                },
                {
                  "name": "Petal Width",
                  "dtype": "float64",
                  "stats": {
                    "unique_count": 15,
                    "nan_count": 0,
                    "min": "0.1",
                    "max": "2.3",
                    "histogram": [
                      {
                        "bin_start": 0.1,
                        "bin_end": 0.31999999999999995,
                        "count": 7
                      },
                      {
                        "bin_start": 0.31999999999999995,
                        "bin_end": 0.5399999999999999,
                        "count": 2
                      },
                      {
                        "bin_start": 0.5399999999999999,
                        "bin_end": 0.7599999999999999,
                        "count": 0
                      },
                      {
                        "bin_start": 0.7599999999999999,
                        "bin_end": 0.9799999999999999,
                        "count": 0
                      },
                      {
                        "bin_start": 0.9799999999999999,
                        "bin_end": 1.2,
                        "count": 4
                      },
                      {
                        "bin_start": 1.2,
                        "bin_end": 1.42,
                        "count": 3
                      },
                      {
                        "bin_start": 1.42,
                        "bin_end": 1.64,
                        "count": 4
                      },
                      {
                        "bin_start": 1.64,
                        "bin_end": 1.8599999999999999,
                        "count": 2
                      },
                      {
                        "bin_start": 1.8599999999999999,
                        "bin_end": 2.0799999999999996,
                        "count": 4
                      },
                      {
                        "bin_start": 2.0799999999999996,
                        "bin_end": 2.3,
                        "count": 3
                      }
                    ]
                  }
                },
                {
                  "name": "Species",
                  "dtype": "object",
                  "stats": {
                    "unique_count": 3,
                    "nan_count": 0,
                    "categories": [
                      {
                        "name": "Iris-versicolor",
                        "count": 11
                      },
                      {
                        "name": "Iris-setosa",
                        "count": 9
                      },
                      {
                        "name": "Iris-virginica",
                        "count": 9
                      }
                    ]
                  }
                },
                {
                  "name": "_deepnote_index_column",
                  "dtype": "int64"
                }
              ],
              "rows": [
                {
                  "Sepal Length": 5.7,
                  "Sepal Width": 2.8,
                  "Petal Length": 4.5,
                  "Petal Width": 1.3,
                  "Species": "Iris-versicolor",
                  "_deepnote_index_column": 0
                },
                {
                  "Sepal Length": 4.833333333333333,
                  "Sepal Width": 3.3,
                  "Petal Length": 1.4,
                  "Petal Width": 0.2,
                  "Species": "Iris-setosa",
                  "_deepnote_index_column": 1
                },
                {
                  "Sepal Length": 6.9,
                  "Sepal Width": 3.1,
                  "Petal Length": 4.9,
                  "Petal Width": 1.5,
                  "Species": "Iris-versicolor",
                  "_deepnote_index_column": 2
                },
                {
                  "Sepal Length": 4.6,
                  "Sepal Width": 3.4,
                  "Petal Length": 1.4,
                  "Petal Width": 0.3,
                  "Species": "Iris-setosa",
                  "_deepnote_index_column": 3
                },
                {
                  "Sepal Length": 5.1,
                  "Sepal Width": 3.5,
                  "Petal Length": 1.4,
                  "Petal Width": 0.2,
                  "Species": "Iris-setosa",
                  "_deepnote_index_column": 4
                },
                {
                  "Sepal Length": 7.7,
                  "Sepal Width": 3,
                  "Petal Length": 6.1,
                  "Petal Width": 2.3,
                  "Species": "Iris-virginica",
                  "_deepnote_index_column": 5
                },
                {
                  "Sepal Length": 6.4,
                  "Sepal Width": 2.7,
                  "Petal Length": 5.3,
                  "Petal Width": 1.9,
                  "Species": "Iris-virginica",
                  "_deepnote_index_column": 6
                },
                {
                  "Sepal Length": 5.2,
                  "Sepal Width": 2.7,
                  "Petal Length": 3.9,
                  "Petal Width": 1.4,
                  "Species": "Iris-versicolor",
                  "_deepnote_index_column": 7
                },
                {
                  "Sepal Length": 6.2,
                  "Sepal Width": 3.4,
                  "Petal Length": 5.4,
                  "Petal Width": 2.3,
                  "Species": "Iris-virginica",
                  "_deepnote_index_column": 8
                },
                {
                  "Sepal Length": 5,
                  "Sepal Width": 3,
                  "Petal Length": 1.6,
                  "Petal Width": 0.2,
                  "Species": "Iris-setosa",
                  "_deepnote_index_column": 9
                }
              ]
            },
            "text/plain": "    Sepal Length  Sepal Width  Petal Length  Petal Width          Species\n0       5.700000          2.8           4.5          1.3  Iris-versicolor\n1       4.833333          3.3           1.4          0.2      Iris-setosa\n2       6.900000          3.1           4.9          1.5  Iris-versicolor\n3       4.600000          3.4           1.4          0.3      Iris-setosa\n4       5.100000          3.5           1.4          0.2      Iris-setosa\n5       7.700000          3.0           6.1          2.3   Iris-virginica\n6       6.400000          2.7           5.3          1.9   Iris-virginica\n7       5.200000          2.7           3.9          1.4  Iris-versicolor\n8       6.200000          3.4           5.4          2.3   Iris-virginica\n9       5.000000          3.0           1.6          0.2      Iris-setosa\n10      6.300000          2.5           5.0          1.9   Iris-virginica\n11      5.800000          2.7           5.1          1.9   Iris-virginica\n12      6.500000          3.2           5.1          2.0   Iris-virginica\n13      6.000000          2.2           4.0          1.0  Iris-versicolor\n14      5.500000          2.4           3.8          1.1  Iris-versicolor\n15      4.800000          3.0           1.4          0.1      Iris-setosa\n16      4.800000          3.0           1.4          0.3      Iris-setosa\n17      6.300000          2.5           4.9          1.5  Iris-versicolor\n18      4.400000          3.0           1.3          0.2      Iris-setosa\n19      7.200000          3.2           6.0          1.8   Iris-virginica\n20      5.700000          2.6           3.5          1.0  Iris-versicolor\n21      5.400000          3.9           1.7          0.4      Iris-setosa\n22      5.400000          3.0           4.5          1.5  Iris-versicolor\n23      4.900000          2.5           4.5          1.7   Iris-virginica\n24      5.000000          2.0           3.5          1.0  Iris-versicolor\n25      6.100000          2.8           4.0          1.3  Iris-versicolor\n26      5.700000          4.4           1.5          0.4      Iris-setosa\n27      6.800000          3.0           5.5          2.1   Iris-virginica\n28      6.500000          2.8           4.6          1.5  Iris-versicolor",
            "text/html": "<div>\n<style scoped>\n    .dataframe tbody tr th:only-of-type {\n        vertical-align: middle;\n    }\n\n    .dataframe tbody tr th {\n        vertical-align: top;\n    }\n\n    .dataframe thead th {\n        text-align: right;\n    }\n</style>\n<table border=\"1\" class=\"dataframe\">\n  <thead>\n    <tr style=\"text-align: right;\">\n      <th></th>\n      <th>Sepal Length</th>\n      <th>Sepal Width</th>\n      <th>Petal Length</th>\n      <th>Petal Width</th>\n      <th>Species</th>\n    </tr>\n  </thead>\n  <tbody>\n    <tr>\n      <th>0</th>\n      <td>5.700000</td>\n      <td>2.8</td>\n      <td>4.5</td>\n      <td>1.3</td>\n      <td>Iris-versicolor</td>\n    </tr>\n    <tr>\n      <th>1</th>\n      <td>4.833333</td>\n      <td>3.3</td>\n      <td>1.4</td>\n      <td>0.2</td>\n      <td>Iris-setosa</td>\n    </tr>\n    <tr>\n      <th>2</th>\n      <td>6.900000</td>\n      <td>3.1</td>\n      <td>4.9</td>\n      <td>1.5</td>\n      <td>Iris-versicolor</td>\n    </tr>\n    <tr>\n      <th>3</th>\n      <td>4.600000</td>\n      <td>3.4</td>\n      <td>1.4</td>\n      <td>0.3</td>\n      <td>Iris-setosa</td>\n    </tr>\n    <tr>\n      <th>4</th>\n      <td>5.100000</td>\n      <td>3.5</td>\n      <td>1.4</td>\n      <td>0.2</td>\n      <td>Iris-setosa</td>\n    </tr>\n    <tr>\n      <th>5</th>\n      <td>7.700000</td>\n      <td>3.0</td>\n      <td>6.1</td>\n      <td>2.3</td>\n      <td>Iris-virginica</td>\n    </tr>\n    <tr>\n      <th>6</th>\n      <td>6.400000</td>\n      <td>2.7</td>\n      <td>5.3</td>\n      <td>1.9</td>\n      <td>Iris-virginica</td>\n    </tr>\n    <tr>\n      <th>7</th>\n      <td>5.200000</td>\n      <td>2.7</td>\n      <td>3.9</td>\n      <td>1.4</td>\n      <td>Iris-versicolor</td>\n    </tr>\n    <tr>\n      <th>8</th>\n      <td>6.200000</td>\n      <td>3.4</td>\n      <td>5.4</td>\n      <td>2.3</td>\n      <td>Iris-virginica</td>\n    </tr>\n    <tr>\n      <th>9</th>\n      <td>5.000000</td>\n      <td>3.0</td>\n      <td>1.6</td>\n      <td>0.2</td>\n      <td>Iris-setosa</td>\n    </tr>\n    <tr>\n      <th>10</th>\n      <td>6.300000</td>\n      <td>2.5</td>\n      <td>5.0</td>\n      <td>1.9</td>\n      <td>Iris-virginica</td>\n    </tr>\n    <tr>\n      <th>11</th>\n      <td>5.800000</td>\n      <td>2.7</td>\n      <td>5.1</td>\n      <td>1.9</td>\n      <td>Iris-virginica</td>\n    </tr>\n    <tr>\n      <th>12</th>\n      <td>6.500000</td>\n      <td>3.2</td>\n      <td>5.1</td>\n      <td>2.0</td>\n      <td>Iris-virginica</td>\n    </tr>\n    <tr>\n      <th>13</th>\n      <td>6.000000</td>\n      <td>2.2</td>\n      <td>4.0</td>\n      <td>1.0</td>\n      <td>Iris-versicolor</td>\n    </tr>\n    <tr>\n      <th>14</th>\n      <td>5.500000</td>\n      <td>2.4</td>\n      <td>3.8</td>\n      <td>1.1</td>\n      <td>Iris-versicolor</td>\n    </tr>\n    <tr>\n      <th>15</th>\n      <td>4.800000</td>\n      <td>3.0</td>\n      <td>1.4</td>\n      <td>0.1</td>\n      <td>Iris-setosa</td>\n    </tr>\n    <tr>\n      <th>16</th>\n      <td>4.800000</td>\n      <td>3.0</td>\n      <td>1.4</td>\n      <td>0.3</td>\n      <td>Iris-setosa</td>\n    </tr>\n    <tr>\n      <th>17</th>\n      <td>6.300000</td>\n      <td>2.5</td>\n      <td>4.9</td>\n      <td>1.5</td>\n      <td>Iris-versicolor</td>\n    </tr>\n    <tr>\n      <th>18</th>\n      <td>4.400000</td>\n      <td>3.0</td>\n      <td>1.3</td>\n      <td>0.2</td>\n      <td>Iris-setosa</td>\n    </tr>\n    <tr>\n      <th>19</th>\n      <td>7.200000</td>\n      <td>3.2</td>\n      <td>6.0</td>\n      <td>1.8</td>\n      <td>Iris-virginica</td>\n    </tr>\n    <tr>\n      <th>20</th>\n      <td>5.700000</td>\n      <td>2.6</td>\n      <td>3.5</td>\n      <td>1.0</td>\n      <td>Iris-versicolor</td>\n    </tr>\n    <tr>\n      <th>21</th>\n      <td>5.400000</td>\n      <td>3.9</td>\n      <td>1.7</td>\n      <td>0.4</td>\n      <td>Iris-setosa</td>\n    </tr>\n    <tr>\n      <th>22</th>\n      <td>5.400000</td>\n      <td>3.0</td>\n      <td>4.5</td>\n      <td>1.5</td>\n      <td>Iris-versicolor</td>\n    </tr>\n    <tr>\n      <th>23</th>\n      <td>4.900000</td>\n      <td>2.5</td>\n      <td>4.5</td>\n      <td>1.7</td>\n      <td>Iris-virginica</td>\n    </tr>\n    <tr>\n      <th>24</th>\n      <td>5.000000</td>\n      <td>2.0</td>\n      <td>3.5</td>\n      <td>1.0</td>\n      <td>Iris-versicolor</td>\n    </tr>\n    <tr>\n      <th>25</th>\n      <td>6.100000</td>\n      <td>2.8</td>\n      <td>4.0</td>\n      <td>1.3</td>\n      <td>Iris-versicolor</td>\n    </tr>\n    <tr>\n      <th>26</th>\n      <td>5.700000</td>\n      <td>4.4</td>\n      <td>1.5</td>\n      <td>0.4</td>\n      <td>Iris-setosa</td>\n    </tr>\n    <tr>\n      <th>27</th>\n      <td>6.800000</td>\n      <td>3.0</td>\n      <td>5.5</td>\n      <td>2.1</td>\n      <td>Iris-virginica</td>\n    </tr>\n    <tr>\n      <th>28</th>\n      <td>6.500000</td>\n      <td>2.8</td>\n      <td>4.6</td>\n      <td>1.5</td>\n      <td>Iris-versicolor</td>\n    </tr>\n  </tbody>\n</table>\n</div>"
          },
          "metadata": {}
        }
      ],
      "outputs_reference": null,
      "execution_count": 22,
      "block_group": "750d6655c88c4a288e0f27eee837a564",
      "content_dependencies": null
    },
    {
      "cell_type": "markdown",
      "source": "### Menampilkan data train",
      "metadata": {
        "formattedRanges": [],
        "deepnote_app_block_visible": true,
        "cell_id": "cc7de70ee9494b458a275dc97a2a6b3d",
        "deepnote_cell_type": "text-cell-h3"
      },
      "block_group": "afd74d4f38ed48ffbd4b19f2c4add954"
    },
    {
      "cell_type": "code",
      "source": "iris_trained = pd.read_csv('Iris_train.csv')\n\niris_trained",
      "metadata": {
        "source_hash": "e05e617",
        "execution_start": 1714004140606,
        "execution_millis": 207,
        "deepnote_to_be_reexecuted": false,
        "deepnote_app_block_visible": true,
        "cell_id": "3365613db8484e1f85f68a6d66155745",
        "deepnote_cell_type": "code"
      },
      "outputs": [
        {
          "output_type": "execute_result",
          "execution_count": 23,
          "data": {
            "application/vnd.deepnote.dataframe.v3+json": {
              "column_count": 5,
              "row_count": 116,
              "columns": [
                {
                  "name": "Sepal Length",
                  "dtype": "float64",
                  "stats": {
                    "unique_count": 36,
                    "nan_count": 0,
                    "min": "4.3",
                    "max": "7.9",
                    "histogram": [
                      {
                        "bin_start": 4.3,
                        "bin_end": 4.66,
                        "count": 7
                      },
                      {
                        "bin_start": 4.66,
                        "bin_end": 5.02,
                        "count": 14
                      },
                      {
                        "bin_start": 5.02,
                        "bin_end": 5.38,
                        "count": 12
                      },
                      {
                        "bin_start": 5.38,
                        "bin_end": 5.74,
                        "count": 20
                      },
                      {
                        "bin_start": 5.74,
                        "bin_end": 6.1,
                        "count": 13
                      },
                      {
                        "bin_start": 6.1,
                        "bin_end": 6.46,
                        "count": 21
                      },
                      {
                        "bin_start": 6.46,
                        "bin_end": 6.82,
                        "count": 15
                      },
                      {
                        "bin_start": 6.82,
                        "bin_end": 7.18,
                        "count": 5
                      },
                      {
                        "bin_start": 7.18,
                        "bin_end": 7.54,
                        "count": 4
                      },
                      {
                        "bin_start": 7.54,
                        "bin_end": 7.9,
                        "count": 5
                      }
                    ]
                  }
                },
                {
                  "name": "Sepal Width",
                  "dtype": "float64",
                  "stats": {
                    "unique_count": 21,
                    "nan_count": 0,
                    "min": "2.2",
                    "max": "4.2",
                    "histogram": [
                      {
                        "bin_start": 2.2,
                        "bin_end": 2.4000000000000004,
                        "count": 8
                      },
                      {
                        "bin_start": 2.4000000000000004,
                        "bin_end": 2.6,
                        "count": 5
                      },
                      {
                        "bin_start": 2.6,
                        "bin_end": 2.8000000000000003,
                        "count": 20
                      },
                      {
                        "bin_start": 2.8000000000000003,
                        "bin_end": 3,
                        "count": 9
                      },
                      {
                        "bin_start": 3,
                        "bin_end": 3.2,
                        "count": 28
                      },
                      {
                        "bin_start": 3.2,
                        "bin_end": 3.4000000000000004,
                        "count": 25
                      },
                      {
                        "bin_start": 3.4000000000000004,
                        "bin_end": 3.6000000000000005,
                        "count": 8
                      },
                      {
                        "bin_start": 3.6000000000000005,
                        "bin_end": 3.8000000000000003,
                        "count": 9
                      },
                      {
                        "bin_start": 3.8000000000000003,
                        "bin_end": 4,
                        "count": 1
                      },
                      {
                        "bin_start": 4,
                        "bin_end": 4.2,
                        "count": 3
                      }
                    ]
                  }
                },
                {
                  "name": "Petal Length",
                  "dtype": "float64",
                  "stats": {
                    "unique_count": 41,
                    "nan_count": 0,
                    "min": "1.0",
                    "max": "6.9",
                    "histogram": [
                      {
                        "bin_start": 1,
                        "bin_end": 1.59,
                        "count": 28
                      },
                      {
                        "bin_start": 1.59,
                        "bin_end": 2.18,
                        "count": 10
                      },
                      {
                        "bin_start": 2.18,
                        "bin_end": 2.7700000000000005,
                        "count": 0
                      },
                      {
                        "bin_start": 2.7700000000000005,
                        "bin_end": 3.3600000000000003,
                        "count": 3
                      },
                      {
                        "bin_start": 3.3600000000000003,
                        "bin_end": 3.95,
                        "count": 4
                      },
                      {
                        "bin_start": 3.95,
                        "bin_end": 4.540000000000001,
                        "count": 20
                      },
                      {
                        "bin_start": 4.540000000000001,
                        "bin_end": 5.130000000000001,
                        "count": 22
                      },
                      {
                        "bin_start": 5.130000000000001,
                        "bin_end": 5.720000000000001,
                        "count": 15
                      },
                      {
                        "bin_start": 5.720000000000001,
                        "bin_end": 6.3100000000000005,
                        "count": 9
                      },
                      {
                        "bin_start": 6.3100000000000005,
                        "bin_end": 6.9,
                        "count": 5
                      }
                    ]
                  }
                },
                {
                  "name": "Petal Width",
                  "dtype": "float64",
                  "stats": {
                    "unique_count": 22,
                    "nan_count": 0,
                    "min": "0.1",
                    "max": "2.5",
                    "histogram": [
                      {
                        "bin_start": 0.1,
                        "bin_end": 0.33999999999999997,
                        "count": 31
                      },
                      {
                        "bin_start": 0.33999999999999997,
                        "bin_end": 0.58,
                        "count": 6
                      },
                      {
                        "bin_start": 0.58,
                        "bin_end": 0.82,
                        "count": 1
                      },
                      {
                        "bin_start": 0.82,
                        "bin_end": 1.06,
                        "count": 4
                      },
                      {
                        "bin_start": 1.06,
                        "bin_end": 1.3,
                        "count": 7
                      },
                      {
                        "bin_start": 1.3,
                        "bin_end": 1.54,
                        "count": 25
                      },
                      {
                        "bin_start": 1.54,
                        "bin_end": 1.78,
                        "count": 5
                      },
                      {
                        "bin_start": 1.78,
                        "bin_end": 2.02,
                        "count": 17
                      },
                      {
                        "bin_start": 2.02,
                        "bin_end": 2.2600000000000002,
                        "count": 8
                      },
                      {
                        "bin_start": 2.2600000000000002,
                        "bin_end": 2.5,
                        "count": 12
                      }
                    ]
                  }
                },
                {
                  "name": "Species",
                  "dtype": "object",
                  "stats": {
                    "unique_count": 3,
                    "nan_count": 0,
                    "categories": [
                      {
                        "name": "Iris-virginica",
                        "count": 40
                      },
                      {
                        "name": "Iris-versicolor",
                        "count": 38
                      },
                      {
                        "name": "Iris-setosa",
                        "count": 38
                      }
                    ]
                  }
                },
                {
                  "name": "_deepnote_index_column",
                  "dtype": "int64"
                }
              ],
              "rows": [
                {
                  "Sepal Length": 6,
                  "Sepal Width": 2.9,
                  "Petal Length": 4.5,
                  "Petal Width": 1.5,
                  "Species": "Iris-versicolor",
                  "_deepnote_index_column": 0
                },
                {
                  "Sepal Length": 4.8,
                  "Sepal Width": 3.1,
                  "Petal Length": 1.6,
                  "Petal Width": 0.2,
                  "Species": "Iris-setosa",
                  "_deepnote_index_column": 1
                },
                {
                  "Sepal Length": 5.1,
                  "Sepal Width": 3.8,
                  "Petal Length": 1.5,
                  "Petal Width": 0.3,
                  "Species": "Iris-setosa",
                  "_deepnote_index_column": 2
                },
                {
                  "Sepal Length": 6.5,
                  "Sepal Width": 3,
                  "Petal Length": 5.5,
                  "Petal Width": 1.8,
                  "Species": "Iris-virginica",
                  "_deepnote_index_column": 3
                },
                {
                  "Sepal Length": 4.9,
                  "Sepal Width": 2.4,
                  "Petal Length": 3.3,
                  "Petal Width": 1,
                  "Species": "Iris-versicolor",
                  "_deepnote_index_column": 4
                },
                {
                  "Sepal Length": 5.7,
                  "Sepal Width": 3.8,
                  "Petal Length": 1.7,
                  "Petal Width": 0.3,
                  "Species": "Iris-setosa",
                  "_deepnote_index_column": 5
                },
                {
                  "Sepal Length": 4.5,
                  "Sepal Width": 2.3,
                  "Petal Length": 1.3,
                  "Petal Width": 0.3,
                  "Species": "Iris-setosa",
                  "_deepnote_index_column": 6
                },
                {
                  "Sepal Length": 7.6,
                  "Sepal Width": 3,
                  "Petal Length": 6.6,
                  "Petal Width": 2.1,
                  "Species": "Iris-virginica",
                  "_deepnote_index_column": 7
                },
                {
                  "Sepal Length": 5.2,
                  "Sepal Width": 3.4,
                  "Petal Length": 1.4,
                  "Petal Width": 0.2,
                  "Species": "Iris-setosa",
                  "_deepnote_index_column": 8
                },
                {
                  "Sepal Length": 6.7,
                  "Sepal Width": 3.1,
                  "Petal Length": 5.6,
                  "Petal Width": 2.4,
                  "Species": "Iris-virginica",
                  "_deepnote_index_column": 9
                }
              ]
            },
            "text/plain": "     Sepal Length  Sepal Width  Petal Length  Petal Width          Species\n0             6.0          2.9           4.5          1.5  Iris-versicolor\n1             4.8          3.1           1.6          0.2      Iris-setosa\n2             5.1          3.8           1.5          0.3      Iris-setosa\n3             6.5          3.0           5.5          1.8   Iris-virginica\n4             4.9          2.4           3.3          1.0  Iris-versicolor\n..            ...          ...           ...          ...              ...\n111           5.1          3.3           1.7          0.5      Iris-setosa\n112           5.0          3.5           1.6          0.6      Iris-setosa\n113           6.9          3.1           5.4          2.1   Iris-virginica\n114           6.7          3.3           5.7          2.1   Iris-virginica\n115           5.1          3.8           1.9          0.4      Iris-setosa\n\n[116 rows x 5 columns]",
            "text/html": "<div>\n<style scoped>\n    .dataframe tbody tr th:only-of-type {\n        vertical-align: middle;\n    }\n\n    .dataframe tbody tr th {\n        vertical-align: top;\n    }\n\n    .dataframe thead th {\n        text-align: right;\n    }\n</style>\n<table border=\"1\" class=\"dataframe\">\n  <thead>\n    <tr style=\"text-align: right;\">\n      <th></th>\n      <th>Sepal Length</th>\n      <th>Sepal Width</th>\n      <th>Petal Length</th>\n      <th>Petal Width</th>\n      <th>Species</th>\n    </tr>\n  </thead>\n  <tbody>\n    <tr>\n      <th>0</th>\n      <td>6.0</td>\n      <td>2.9</td>\n      <td>4.5</td>\n      <td>1.5</td>\n      <td>Iris-versicolor</td>\n    </tr>\n    <tr>\n      <th>1</th>\n      <td>4.8</td>\n      <td>3.1</td>\n      <td>1.6</td>\n      <td>0.2</td>\n      <td>Iris-setosa</td>\n    </tr>\n    <tr>\n      <th>2</th>\n      <td>5.1</td>\n      <td>3.8</td>\n      <td>1.5</td>\n      <td>0.3</td>\n      <td>Iris-setosa</td>\n    </tr>\n    <tr>\n      <th>3</th>\n      <td>6.5</td>\n      <td>3.0</td>\n      <td>5.5</td>\n      <td>1.8</td>\n      <td>Iris-virginica</td>\n    </tr>\n    <tr>\n      <th>4</th>\n      <td>4.9</td>\n      <td>2.4</td>\n      <td>3.3</td>\n      <td>1.0</td>\n      <td>Iris-versicolor</td>\n    </tr>\n    <tr>\n      <th>...</th>\n      <td>...</td>\n      <td>...</td>\n      <td>...</td>\n      <td>...</td>\n      <td>...</td>\n    </tr>\n    <tr>\n      <th>111</th>\n      <td>5.1</td>\n      <td>3.3</td>\n      <td>1.7</td>\n      <td>0.5</td>\n      <td>Iris-setosa</td>\n    </tr>\n    <tr>\n      <th>112</th>\n      <td>5.0</td>\n      <td>3.5</td>\n      <td>1.6</td>\n      <td>0.6</td>\n      <td>Iris-setosa</td>\n    </tr>\n    <tr>\n      <th>113</th>\n      <td>6.9</td>\n      <td>3.1</td>\n      <td>5.4</td>\n      <td>2.1</td>\n      <td>Iris-virginica</td>\n    </tr>\n    <tr>\n      <th>114</th>\n      <td>6.7</td>\n      <td>3.3</td>\n      <td>5.7</td>\n      <td>2.1</td>\n      <td>Iris-virginica</td>\n    </tr>\n    <tr>\n      <th>115</th>\n      <td>5.1</td>\n      <td>3.8</td>\n      <td>1.9</td>\n      <td>0.4</td>\n      <td>Iris-setosa</td>\n    </tr>\n  </tbody>\n</table>\n<p>116 rows × 5 columns</p>\n</div>"
          },
          "metadata": {}
        }
      ],
      "outputs_reference": null,
      "execution_count": 23,
      "block_group": "547ce064f63f4c138156908e993cd548",
      "content_dependencies": null
    },
    {
      "cell_type": "markdown",
      "source": "### Kalkulasi dengan menggunakan python ",
      "metadata": {
        "formattedRanges": [],
        "deepnote_app_block_visible": true,
        "cell_id": "2c610221187240b5a9a16e02fb53e52d",
        "deepnote_cell_type": "text-cell-h3"
      },
      "block_group": "fcae7625326e448ba194e3fc9bca0278"
    },
    {
      "cell_type": "code",
      "source": "from math import pi, exp, sqrt\n\n# fungsi distribusi gaussian\ndef gaussian_distribution(x, mean, std):\n    return (1 / (sqrt(2 * pi) * std)) * exp(-((x - mean) ** 2 / (2 * std ** 2)))\n\n# fungsi naive baiyes\ndef naive_bayes(sample, prob_values:pd.DataFrame, mean_values:pd.DataFrame, std_values:pd.DataFrame):\n    probabilities = {}\n    for species in prob_values.index:\n        probabilities[species] = prob_values[species]\n        for i in range(len(sample)):\n            probabilities[species] *= gaussian_distribution(sample[i], mean_values.loc[species][i], std_values.loc[species][i])\n    return max(probabilities, key=probabilities.get)\n\n# ambil data train\ndf_trained = pd.read_csv('Iris_train.csv');\n\n# menghitung nilai probability, mean, dan standar deviasi\nprob_values = df['Species'].value_counts() / df.shape[0]\nmean_values = df.groupby('Species').mean()\nstd_values = df.groupby('Species').std()\n\ndf_test = pd.read_csv('Iris_test.csv')\n\nsample = df_test.values.tolist()[0][:-1]\n\nprediction = naive_bayes(sample, prob_values, mean_values, std_values)\n\nprint(f'The sample is predicted to be {prediction}')",
      "metadata": {
        "source_hash": "688dfd96",
        "execution_start": 1714004140763,
        "execution_millis": 273,
        "deepnote_to_be_reexecuted": false,
        "deepnote_app_block_visible": true,
        "cell_id": "ea7190ac64f9481f83cbd4fe0d7e2670",
        "deepnote_cell_type": "code"
      },
      "outputs": [
        {
          "name": "stdout",
          "text": "The sample is predicted to be Iris-versicolor\n/tmp/ipykernel_301/3865856372.py:13: FutureWarning: Series.__getitem__ treating keys as positions is deprecated. In a future version, integer keys will always be treated as labels (consistent with DataFrame behavior). To access a value by position, use `ser.iloc[pos]`\n  probabilities[species] *= gaussian_distribution(sample[i], mean_values.loc[species][i], std_values.loc[species][i])\n",
          "output_type": "stream"
        }
      ],
      "outputs_reference": null,
      "execution_count": 24,
      "block_group": "b83f2b7cb30c4b31bc4915e26a3a183d",
      "content_dependencies": null
    },
    {
      "cell_type": "markdown",
      "source": "### Kalkulasi dengan menggunakan library",
      "metadata": {
        "formattedRanges": [],
        "deepnote_app_block_visible": true,
        "cell_id": "12c3fd39171c4f6392904589f573a17c",
        "deepnote_cell_type": "text-cell-h3"
      },
      "block_group": "872f97746f6a459dbf5c4462729359d7"
    },
    {
      "cell_type": "code",
      "source": "from sklearn.naive_bayes import GaussianNB\n\nimport pandas as pd;\n\ndf = pd.read_csv('Iris_train.csv')\n\nclassifier = GaussianNB()\n\nX = df.drop('Species', axis=1)\n\ny = df['Species']\n\nclassifier.fit(X, y)\n\ndf_test = pd.read_csv('Iris_test.csv')\n\nsample = [df_test.values.tolist()[0][:-1]]\n\nprediction = classifier.predict(sample)\n\nprint(f'The sample1 is predicted to be {prediction}')",
      "metadata": {
        "source_hash": "9657d364",
        "execution_start": 1714004140967,
        "execution_millis": 290,
        "deepnote_to_be_reexecuted": false,
        "deepnote_app_block_visible": true,
        "cell_id": "45b6e0415ef64e679c442fb70538873c",
        "deepnote_cell_type": "code"
      },
      "outputs": [
        {
          "name": "stdout",
          "text": "The sample1 is predicted to be ['Iris-versicolor']\n/shared-libs/python3.9/py/lib/python3.9/site-packages/sklearn/base.py:450: UserWarning: X does not have valid feature names, but GaussianNB was fitted with feature names\n  warnings.warn(\n",
          "output_type": "stream"
        }
      ],
      "outputs_reference": null,
      "execution_count": 25,
      "block_group": "1a68f9e08469492ab928e171cabeddce",
      "content_dependencies": null
    },
    {
      "cell_type": "markdown",
      "source": "Berdasarkan dengan dua kalkulasi di atas dengan menggunakan library ataupun manual. dapat dilihat bahwasanya, hasil yang di prediksi adalah sama.",
      "metadata": {
        "formattedRanges": [],
        "deepnote_app_block_visible": true,
        "cell_id": "9e32a23acaad408aacf21d35d303dd17",
        "deepnote_cell_type": "text-cell-p"
      },
      "block_group": "10a3c707556b4c98a04a33ea27bdecbd"
    },
    {
      "cell_type": "markdown",
      "source": "<a style='text-decoration:none;line-height:16px;display:flex;color:#5B5B62;padding:10px;justify-content:end;' href='https://deepnote.com?utm_source=created-in-deepnote-cell&projectId=1dd64262-f415-4de7-aded-3acfb4c0cee9' target=\"_blank\">\n<img alt='Created in deepnote.com' style='display:inline;max-height:16px;margin:0px;margin-right:7.5px;' src='data:image/svg+xml;base64,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' > </img>\nCreated in <span style='font-weight:600;margin-left:4px;'>Deepnote</span></a>",
      "metadata": {
        "created_in_deepnote_cell": true,
        "deepnote_cell_type": "markdown"
      }
    }
  ],
  "nbformat": 4,
  "nbformat_minor": 0,
  "metadata": {
    "deepnote_persisted_session": {
      "createdAt": "2024-04-24T17:45:44.925Z"
    },
    "deepnote_full_width": true,
    "deepnote_app_layout": "powerful-article",
    "deepnote_app_hide_all_code_blocks_enabled": false,
    "deepnote_app_reactivity_enabled": true,
    "deepnote_notebook_id": "d4a82d8f86b045209c30dd4c0b6da144",
    "deepnote_execution_queue": []
  }
}