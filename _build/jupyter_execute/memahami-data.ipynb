{
 "cells": [
  {
   "cell_type": "markdown",
   "metadata": {
    "cell_id": "55cd7ef9be0746fe80e939101040751d",
    "deepnote_app_block_visible": true,
    "deepnote_cell_type": "text-cell-h1",
    "formattedRanges": []
   },
   "source": [
    "# Memahami Data"
   ]
  },
  {
   "cell_type": "markdown",
   "metadata": {
    "cell_id": "f1fa218fa14948d589d62e7312d7f5fc",
    "deepnote_app_block_visible": true,
    "deepnote_cell_type": "text-cell-p",
    "formattedRanges": []
   },
   "source": [
    "“Dari Wikipedia bahasa Indonesia, ensiklopedia bebas Bunga iris (Neomarica longifolia; sinonim: Trimezia longifolia)[1] adalah terna (herb) yang berkembang biak dengan menggunakan rhizome (rimpang) dan termasuk ke dalam keluarga Iridaceae.” (Kontributor dari proyek Wikimedia., 2021)"
   ]
  },
  {
   "cell_type": "markdown",
   "metadata": {
    "cell_id": "d571ed8e907f439bb8fcb184899c17e2",
    "deepnote_app_block_visible": true,
    "deepnote_cell_type": "text-cell-p",
    "formattedRanges": []
   },
   "source": [
    "Bunga iris dapat diperjualbelikan secara bebas dan dapat digunakan sebagai tanaman hias. Warna dan bentuknya menarik dan dapat ditanam dalam pot maupun di tanam langsung di tanah halaman rumah. Selain menjadi tanaman hias, tanaman ini dapat dimanfaatkan juga sebagai tanaman obat. Tanaman ini bisa digunakan untuk mengobati hepatitis, mual, sembelit, rematik, dan gusi bengkak."
   ]
  },
  {
   "cell_type": "markdown",
   "metadata": {
    "cell_id": "e9a914834a7e4936a22c4a2c9aa1ae3b",
    "deepnote_app_block_visible": true,
    "deepnote_cell_type": "text-cell-h2",
    "formattedRanges": []
   },
   "source": [
    "## Pada pekerjaan ini kami akan mendeskripsikan data iris"
   ]
  },
  {
   "cell_type": "markdown",
   "metadata": {
    "cell_id": "57b16925e0894e80ade8c9dab3940ba1",
    "deepnote_app_block_visible": true,
    "deepnote_cell_type": "text-cell-bullet",
    "formattedRanges": []
   },
   "source": [
    "- Deskripsi fitur"
   ]
  },
  {
   "cell_type": "markdown",
   "metadata": {
    "cell_id": "3d72a2e5e5b749948fe6b8e62b24023a",
    "deepnote_app_block_visible": true,
    "deepnote_cell_type": "text-cell-bullet",
    "formattedRanges": []
   },
   "source": [
    "- Amati missing value"
   ]
  },
  {
   "cell_type": "markdown",
   "metadata": {
    "cell_id": "17d9fa2879d244df8fe97cbb32fd8ac6",
    "deepnote_app_block_visible": true,
    "deepnote_cell_type": "text-cell-bullet",
    "formattedRanges": []
   },
   "source": [
    "- Inputasi missing value dengan metode KNN dan Mean lalu dibandingkan"
   ]
  },
  {
   "cell_type": "markdown",
   "metadata": {
    "cell_id": "560408d4fda1497583341ad230a9a495",
    "deepnote_app_block_visible": true,
    "deepnote_cell_type": "text-cell-bullet",
    "formattedRanges": []
   },
   "source": [
    "- Hitung akurasi dan perbandingan tiap metode"
   ]
  },
  {
   "cell_type": "markdown",
   "metadata": {
    "cell_id": "303c7b0462814de3bfa19b49e9e26829",
    "deepnote_app_block_visible": true,
    "deepnote_cell_type": "image",
    "deepnote_img_src": "image-20240308-153538.png"
   },
   "source": [
    "<img src=\"image-20240308-153538.png\" width=\"\" align=\"\" />"
   ]
  },
  {
   "cell_type": "markdown",
   "metadata": {
    "cell_id": "0abde0853cae4aa2b33f79a31edd3cf9",
    "deepnote_app_block_visible": true,
    "deepnote_cell_type": "text-cell-h3",
    "formattedRanges": []
   },
   "source": [
    "### Inisialisasi"
   ]
  },
  {
   "cell_type": "code",
   "execution_count": 1,
   "metadata": {
    "cell_id": "4c3f7ef0095a4d9497e679f26b07d165",
    "deepnote_app_block_visible": true,
    "deepnote_cell_type": "code",
    "deepnote_to_be_reexecuted": false,
    "execution_millis": 1005,
    "execution_start": 1714004130691,
    "source_hash": "f0cb6e65"
   },
   "outputs": [
    {
     "ename": "ModuleNotFoundError",
     "evalue": "No module named 'pandas'",
     "output_type": "error",
     "traceback": [
      "\u001b[0;31m---------------------------------------------------------------------------\u001b[0m",
      "\u001b[0;31mModuleNotFoundError\u001b[0m                       Traceback (most recent call last)",
      "Cell \u001b[0;32mIn[1], line 1\u001b[0m\n\u001b[0;32m----> 1\u001b[0m \u001b[38;5;28;01mimport\u001b[39;00m \u001b[38;5;21;01mpandas\u001b[39;00m \u001b[38;5;28;01mas\u001b[39;00m \u001b[38;5;21;01mpd\u001b[39;00m\n\u001b[1;32m      2\u001b[0m \u001b[38;5;28;01mimport\u001b[39;00m \u001b[38;5;21;01mseaborn\u001b[39;00m \u001b[38;5;28;01mas\u001b[39;00m \u001b[38;5;21;01msns\u001b[39;00m\n\u001b[1;32m      3\u001b[0m \u001b[38;5;28;01mimport\u001b[39;00m \u001b[38;5;21;01mnumpy\u001b[39;00m \u001b[38;5;28;01mas\u001b[39;00m \u001b[38;5;21;01mnp\u001b[39;00m\n",
      "\u001b[0;31mModuleNotFoundError\u001b[0m: No module named 'pandas'"
     ]
    }
   ],
   "source": [
    "import pandas as pd\n",
    "import seaborn as sns\n",
    "import numpy as np"
   ]
  },
  {
   "cell_type": "markdown",
   "metadata": {
    "cell_id": "5b94638667874f3582c38106e67d510b",
    "deepnote_app_block_visible": true,
    "deepnote_cell_type": "text-cell-h2",
    "formattedRanges": []
   },
   "source": [
    "## Menampilkan Data"
   ]
  },
  {
   "cell_type": "markdown",
   "metadata": {
    "cell_id": "887acca2b9644427afff2cdee5a84374",
    "deepnote_app_block_visible": true,
    "deepnote_cell_type": "text-cell-h3",
    "formattedRanges": []
   },
   "source": [
    "### Ambil data sepal iris dari MySQL"
   ]
  },
  {
   "cell_type": "code",
   "execution_count": 2,
   "metadata": {
    "cell_id": "df29eeebe67e42e8bf4d8bcdc0fcc1ce",
    "deepnote_app_block_visible": true,
    "deepnote_cell_type": "sql",
    "deepnote_sql_source": "SELECT * FROM iris",
    "deepnote_table_loading": false,
    "deepnote_table_state": {
     "filters": [],
     "pageIndex": 0,
     "pageSize": 10,
     "sortBy": []
    },
    "deepnote_to_be_reexecuted": false,
    "deepnote_variable_name": "df_sepal",
    "execution_millis": 3469,
    "execution_start": 1714004131702,
    "source_hash": "2640b4dd",
    "sql_integration_id": "86ffef30-2ce7-45fb-b840-f36435e1cc93"
   },
   "outputs": [
    {
     "data": {
      "application/vnd.deepnote.sql-output-metadata+json": {
       "size_in_bytes": 14278,
       "status": "success_no_cache"
      }
     },
     "metadata": {},
     "output_type": "display_data"
    },
    {
     "data": {
      "application/vnd.deepnote.dataframe.v3+json": {
       "column_count": 4,
       "columns": [
        {
         "dtype": "int64",
         "name": "Id",
         "stats": {
          "histogram": [
           {
            "bin_end": 15.9,
            "bin_start": 1,
            "count": 15
           },
           {
            "bin_end": 30.8,
            "bin_start": 15.9,
            "count": 15
           },
           {
            "bin_end": 45.7,
            "bin_start": 30.8,
            "count": 15
           },
           {
            "bin_end": 60.6,
            "bin_start": 45.7,
            "count": 15
           },
           {
            "bin_end": 75.5,
            "bin_start": 60.6,
            "count": 15
           },
           {
            "bin_end": 90.4,
            "bin_start": 75.5,
            "count": 15
           },
           {
            "bin_end": 105.3,
            "bin_start": 90.4,
            "count": 15
           },
           {
            "bin_end": 120.2,
            "bin_start": 105.3,
            "count": 15
           },
           {
            "bin_end": 135.1,
            "bin_start": 120.2,
            "count": 15
           },
           {
            "bin_end": 150,
            "bin_start": 135.1,
            "count": 15
           }
          ],
          "max": "150",
          "min": "1",
          "nan_count": 0,
          "unique_count": 150
         }
        },
        {
         "dtype": "float64",
         "name": "SepalLengthCm",
         "stats": {
          "histogram": [
           {
            "bin_end": 4.66,
            "bin_start": 4.3,
            "count": 9
           },
           {
            "bin_end": 5.02,
            "bin_start": 4.66,
            "count": 23
           },
           {
            "bin_end": 5.38,
            "bin_start": 5.02,
            "count": 14
           },
           {
            "bin_end": 5.74,
            "bin_start": 5.38,
            "count": 27
           },
           {
            "bin_end": 6.1,
            "bin_start": 5.74,
            "count": 16
           },
           {
            "bin_end": 6.46,
            "bin_start": 6.1,
            "count": 26
           },
           {
            "bin_end": 6.82,
            "bin_start": 6.46,
            "count": 18
           },
           {
            "bin_end": 7.18,
            "bin_start": 6.82,
            "count": 6
           },
           {
            "bin_end": 7.54,
            "bin_start": 7.18,
            "count": 5
           },
           {
            "bin_end": 7.9,
            "bin_start": 7.54,
            "count": 6
           }
          ],
          "max": "7.9",
          "min": "4.3",
          "nan_count": 0,
          "unique_count": 35
         }
        },
        {
         "dtype": "float64",
         "name": "SepalWidthCm",
         "stats": {
          "histogram": [
           {
            "bin_end": 2.24,
            "bin_start": 2,
            "count": 4
           },
           {
            "bin_end": 2.48,
            "bin_start": 2.24,
            "count": 7
           },
           {
            "bin_end": 2.72,
            "bin_start": 2.48,
            "count": 22
           },
           {
            "bin_end": 2.96,
            "bin_start": 2.72,
            "count": 24
           },
           {
            "bin_end": 3.2,
            "bin_start": 2.96,
            "count": 38
           },
           {
            "bin_end": 3.4400000000000004,
            "bin_start": 3.2,
            "count": 31
           },
           {
            "bin_end": 3.6800000000000006,
            "bin_start": 3.4400000000000004,
            "count": 9
           },
           {
            "bin_end": 3.9200000000000004,
            "bin_start": 3.6800000000000006,
            "count": 11
           },
           {
            "bin_end": 4.16,
            "bin_start": 3.9200000000000004,
            "count": 2
           },
           {
            "bin_end": 4.4,
            "bin_start": 4.16,
            "count": 2
           }
          ],
          "max": "4.4",
          "min": "2.0",
          "nan_count": 0,
          "unique_count": 23
         }
        },
        {
         "dtype": "object",
         "name": "Species",
         "stats": {
          "categories": [
           {
            "count": 50,
            "name": "Iris-setosa"
           },
           {
            "count": 50,
            "name": "Iris-versicolor"
           },
           {
            "count": 50,
            "name": "Iris-virginica"
           }
          ],
          "nan_count": 0,
          "unique_count": 3
         }
        },
        {
         "dtype": "int64",
         "name": "_deepnote_index_column"
        }
       ],
       "row_count": 150,
       "rows": [
        {
         "Id": 1,
         "SepalLengthCm": 5.1,
         "SepalWidthCm": 3.5,
         "Species": "Iris-setosa",
         "_deepnote_index_column": 0
        },
        {
         "Id": 2,
         "SepalLengthCm": 4.9,
         "SepalWidthCm": 3,
         "Species": "Iris-setosa",
         "_deepnote_index_column": 1
        },
        {
         "Id": 3,
         "SepalLengthCm": 4.7,
         "SepalWidthCm": 3.2,
         "Species": "Iris-setosa",
         "_deepnote_index_column": 2
        },
        {
         "Id": 4,
         "SepalLengthCm": 4.6,
         "SepalWidthCm": 3.1,
         "Species": "Iris-setosa",
         "_deepnote_index_column": 3
        },
        {
         "Id": 5,
         "SepalLengthCm": 5,
         "SepalWidthCm": 3.6,
         "Species": "Iris-setosa",
         "_deepnote_index_column": 4
        },
        {
         "Id": 6,
         "SepalLengthCm": 5.4,
         "SepalWidthCm": 3.9,
         "Species": "Iris-setosa",
         "_deepnote_index_column": 5
        },
        {
         "Id": 7,
         "SepalLengthCm": 4.6,
         "SepalWidthCm": 3.4,
         "Species": "Iris-setosa",
         "_deepnote_index_column": 6
        },
        {
         "Id": 8,
         "SepalLengthCm": 5,
         "SepalWidthCm": 3.4,
         "Species": "Iris-setosa",
         "_deepnote_index_column": 7
        },
        {
         "Id": 9,
         "SepalLengthCm": 4.4,
         "SepalWidthCm": 2.9,
         "Species": "Iris-setosa",
         "_deepnote_index_column": 8
        },
        {
         "Id": 10,
         "SepalLengthCm": 4.9,
         "SepalWidthCm": 3.1,
         "Species": "Iris-setosa",
         "_deepnote_index_column": 9
        }
       ]
      },
      "text/html": [
       "<div>\n",
       "<style scoped>\n",
       "    .dataframe tbody tr th:only-of-type {\n",
       "        vertical-align: middle;\n",
       "    }\n",
       "\n",
       "    .dataframe tbody tr th {\n",
       "        vertical-align: top;\n",
       "    }\n",
       "\n",
       "    .dataframe thead th {\n",
       "        text-align: right;\n",
       "    }\n",
       "</style>\n",
       "<table border=\"1\" class=\"dataframe\">\n",
       "  <thead>\n",
       "    <tr style=\"text-align: right;\">\n",
       "      <th></th>\n",
       "      <th>Id</th>\n",
       "      <th>SepalLengthCm</th>\n",
       "      <th>SepalWidthCm</th>\n",
       "      <th>Species</th>\n",
       "    </tr>\n",
       "  </thead>\n",
       "  <tbody>\n",
       "    <tr>\n",
       "      <th>0</th>\n",
       "      <td>1</td>\n",
       "      <td>5.1</td>\n",
       "      <td>3.5</td>\n",
       "      <td>Iris-setosa</td>\n",
       "    </tr>\n",
       "    <tr>\n",
       "      <th>1</th>\n",
       "      <td>2</td>\n",
       "      <td>4.9</td>\n",
       "      <td>3.0</td>\n",
       "      <td>Iris-setosa</td>\n",
       "    </tr>\n",
       "    <tr>\n",
       "      <th>2</th>\n",
       "      <td>3</td>\n",
       "      <td>4.7</td>\n",
       "      <td>3.2</td>\n",
       "      <td>Iris-setosa</td>\n",
       "    </tr>\n",
       "    <tr>\n",
       "      <th>3</th>\n",
       "      <td>4</td>\n",
       "      <td>4.6</td>\n",
       "      <td>3.1</td>\n",
       "      <td>Iris-setosa</td>\n",
       "    </tr>\n",
       "    <tr>\n",
       "      <th>4</th>\n",
       "      <td>5</td>\n",
       "      <td>5.0</td>\n",
       "      <td>3.6</td>\n",
       "      <td>Iris-setosa</td>\n",
       "    </tr>\n",
       "    <tr>\n",
       "      <th>...</th>\n",
       "      <td>...</td>\n",
       "      <td>...</td>\n",
       "      <td>...</td>\n",
       "      <td>...</td>\n",
       "    </tr>\n",
       "    <tr>\n",
       "      <th>145</th>\n",
       "      <td>146</td>\n",
       "      <td>6.7</td>\n",
       "      <td>3.0</td>\n",
       "      <td>Iris-virginica</td>\n",
       "    </tr>\n",
       "    <tr>\n",
       "      <th>146</th>\n",
       "      <td>147</td>\n",
       "      <td>6.3</td>\n",
       "      <td>2.5</td>\n",
       "      <td>Iris-virginica</td>\n",
       "    </tr>\n",
       "    <tr>\n",
       "      <th>147</th>\n",
       "      <td>148</td>\n",
       "      <td>6.5</td>\n",
       "      <td>3.0</td>\n",
       "      <td>Iris-virginica</td>\n",
       "    </tr>\n",
       "    <tr>\n",
       "      <th>148</th>\n",
       "      <td>149</td>\n",
       "      <td>6.2</td>\n",
       "      <td>3.4</td>\n",
       "      <td>Iris-virginica</td>\n",
       "    </tr>\n",
       "    <tr>\n",
       "      <th>149</th>\n",
       "      <td>150</td>\n",
       "      <td>5.9</td>\n",
       "      <td>3.0</td>\n",
       "      <td>Iris-virginica</td>\n",
       "    </tr>\n",
       "  </tbody>\n",
       "</table>\n",
       "<p>150 rows × 4 columns</p>\n",
       "</div>"
      ],
      "text/plain": [
       "      Id  SepalLengthCm  SepalWidthCm         Species\n",
       "0      1            5.1           3.5     Iris-setosa\n",
       "1      2            4.9           3.0     Iris-setosa\n",
       "2      3            4.7           3.2     Iris-setosa\n",
       "3      4            4.6           3.1     Iris-setosa\n",
       "4      5            5.0           3.6     Iris-setosa\n",
       "..   ...            ...           ...             ...\n",
       "145  146            6.7           3.0  Iris-virginica\n",
       "146  147            6.3           2.5  Iris-virginica\n",
       "147  148            6.5           3.0  Iris-virginica\n",
       "148  149            6.2           3.4  Iris-virginica\n",
       "149  150            5.9           3.0  Iris-virginica\n",
       "\n",
       "[150 rows x 4 columns]"
      ]
     },
     "execution_count": 2,
     "metadata": {},
     "output_type": "execute_result"
    }
   ],
   "source": [
    "df_sepal = _deepnote_execute_sql('SELECT * FROM iris', 'SQL_86FFEF30_2CE7_45FB_B840_F36435E1CC93', audit_sql_comment='', sql_cache_mode='cache_disabled')\n",
    "df_sepal"
   ]
  },
  {
   "cell_type": "markdown",
   "metadata": {
    "cell_id": "24746b511f324948ae30d508f6e25528",
    "deepnote_app_block_visible": true,
    "deepnote_cell_type": "text-cell-h3",
    "formattedRanges": []
   },
   "source": [
    "### Ambil data petal iris dari PostgreSQL"
   ]
  },
  {
   "cell_type": "code",
   "execution_count": 3,
   "metadata": {
    "cell_id": "55ef977da79c41bdbe123bb348c145bd",
    "deepnote_app_block_visible": true,
    "deepnote_cell_type": "sql",
    "deepnote_sql_source": "SELECT * FROM iris",
    "deepnote_to_be_reexecuted": false,
    "deepnote_variable_name": "df_petal",
    "execution_millis": 4214,
    "execution_start": 1714004135178,
    "source_hash": "7ad60877",
    "sql_integration_id": "843df3db-71ce-4e04-ab63-48ba92d27513"
   },
   "outputs": [
    {
     "data": {
      "application/vnd.deepnote.sql-output-metadata+json": {
       "size_in_bytes": 14278,
       "status": "success_no_cache"
      }
     },
     "metadata": {},
     "output_type": "display_data"
    },
    {
     "data": {
      "application/vnd.deepnote.dataframe.v3+json": {
       "column_count": 4,
       "columns": [
        {
         "dtype": "int64",
         "name": "Id",
         "stats": {
          "histogram": [
           {
            "bin_end": 15.9,
            "bin_start": 1,
            "count": 15
           },
           {
            "bin_end": 30.8,
            "bin_start": 15.9,
            "count": 15
           },
           {
            "bin_end": 45.7,
            "bin_start": 30.8,
            "count": 15
           },
           {
            "bin_end": 60.6,
            "bin_start": 45.7,
            "count": 15
           },
           {
            "bin_end": 75.5,
            "bin_start": 60.6,
            "count": 15
           },
           {
            "bin_end": 90.4,
            "bin_start": 75.5,
            "count": 15
           },
           {
            "bin_end": 105.3,
            "bin_start": 90.4,
            "count": 15
           },
           {
            "bin_end": 120.2,
            "bin_start": 105.3,
            "count": 15
           },
           {
            "bin_end": 135.1,
            "bin_start": 120.2,
            "count": 15
           },
           {
            "bin_end": 150,
            "bin_start": 135.1,
            "count": 15
           }
          ],
          "max": "150",
          "min": "1",
          "nan_count": 0,
          "unique_count": 150
         }
        },
        {
         "dtype": "float64",
         "name": "PetalLengthCm",
         "stats": {
          "histogram": [
           {
            "bin_end": 1.59,
            "bin_start": 1,
            "count": 37
           },
           {
            "bin_end": 2.18,
            "bin_start": 1.59,
            "count": 13
           },
           {
            "bin_end": 2.7700000000000005,
            "bin_start": 2.18,
            "count": 0
           },
           {
            "bin_end": 3.3600000000000003,
            "bin_start": 2.7700000000000005,
            "count": 3
           },
           {
            "bin_end": 3.95,
            "bin_start": 3.3600000000000003,
            "count": 8
           },
           {
            "bin_end": 4.540000000000001,
            "bin_start": 3.95,
            "count": 26
           },
           {
            "bin_end": 5.130000000000001,
            "bin_start": 4.540000000000001,
            "count": 29
           },
           {
            "bin_end": 5.720000000000001,
            "bin_start": 5.130000000000001,
            "count": 18
           },
           {
            "bin_end": 6.3100000000000005,
            "bin_start": 5.720000000000001,
            "count": 11
           },
           {
            "bin_end": 6.9,
            "bin_start": 6.3100000000000005,
            "count": 5
           }
          ],
          "max": "6.9",
          "min": "1.0",
          "nan_count": 0,
          "unique_count": 43
         }
        },
        {
         "dtype": "float64",
         "name": "PetalWidthCm",
         "stats": {
          "histogram": [
           {
            "bin_end": 0.33999999999999997,
            "bin_start": 0.1,
            "count": 41
           },
           {
            "bin_end": 0.58,
            "bin_start": 0.33999999999999997,
            "count": 8
           },
           {
            "bin_end": 0.82,
            "bin_start": 0.58,
            "count": 1
           },
           {
            "bin_end": 1.06,
            "bin_start": 0.82,
            "count": 7
           },
           {
            "bin_end": 1.3,
            "bin_start": 1.06,
            "count": 8
           },
           {
            "bin_end": 1.54,
            "bin_start": 1.3,
            "count": 33
           },
           {
            "bin_end": 1.78,
            "bin_start": 1.54,
            "count": 6
           },
           {
            "bin_end": 2.02,
            "bin_start": 1.78,
            "count": 23
           },
           {
            "bin_end": 2.2600000000000002,
            "bin_start": 2.02,
            "count": 9
           },
           {
            "bin_end": 2.5,
            "bin_start": 2.2600000000000002,
            "count": 14
           }
          ],
          "max": "2.5",
          "min": "0.1",
          "nan_count": 0,
          "unique_count": 22
         }
        },
        {
         "dtype": "object",
         "name": "Species",
         "stats": {
          "categories": [
           {
            "count": 50,
            "name": "Iris-setosa"
           },
           {
            "count": 50,
            "name": "Iris-versicolor"
           },
           {
            "count": 50,
            "name": "Iris-virginica"
           }
          ],
          "nan_count": 0,
          "unique_count": 3
         }
        },
        {
         "dtype": "int64",
         "name": "_deepnote_index_column"
        }
       ],
       "row_count": 150,
       "rows": [
        {
         "Id": 1,
         "PetalLengthCm": 1.4,
         "PetalWidthCm": 0.2,
         "Species": "Iris-setosa",
         "_deepnote_index_column": 0
        },
        {
         "Id": 2,
         "PetalLengthCm": 1.4,
         "PetalWidthCm": 0.2,
         "Species": "Iris-setosa",
         "_deepnote_index_column": 1
        },
        {
         "Id": 3,
         "PetalLengthCm": 1.3,
         "PetalWidthCm": 0.2,
         "Species": "Iris-setosa",
         "_deepnote_index_column": 2
        },
        {
         "Id": 4,
         "PetalLengthCm": 1.5,
         "PetalWidthCm": 0.2,
         "Species": "Iris-setosa",
         "_deepnote_index_column": 3
        },
        {
         "Id": 5,
         "PetalLengthCm": 1.4,
         "PetalWidthCm": 0.2,
         "Species": "Iris-setosa",
         "_deepnote_index_column": 4
        },
        {
         "Id": 6,
         "PetalLengthCm": 1.7,
         "PetalWidthCm": 0.4,
         "Species": "Iris-setosa",
         "_deepnote_index_column": 5
        },
        {
         "Id": 7,
         "PetalLengthCm": 1.4,
         "PetalWidthCm": 0.3,
         "Species": "Iris-setosa",
         "_deepnote_index_column": 6
        },
        {
         "Id": 8,
         "PetalLengthCm": 1.5,
         "PetalWidthCm": 0.2,
         "Species": "Iris-setosa",
         "_deepnote_index_column": 7
        },
        {
         "Id": 9,
         "PetalLengthCm": 1.4,
         "PetalWidthCm": 0.2,
         "Species": "Iris-setosa",
         "_deepnote_index_column": 8
        },
        {
         "Id": 10,
         "PetalLengthCm": 1.5,
         "PetalWidthCm": 0.1,
         "Species": "Iris-setosa",
         "_deepnote_index_column": 9
        }
       ]
      },
      "text/html": [
       "<div>\n",
       "<style scoped>\n",
       "    .dataframe tbody tr th:only-of-type {\n",
       "        vertical-align: middle;\n",
       "    }\n",
       "\n",
       "    .dataframe tbody tr th {\n",
       "        vertical-align: top;\n",
       "    }\n",
       "\n",
       "    .dataframe thead th {\n",
       "        text-align: right;\n",
       "    }\n",
       "</style>\n",
       "<table border=\"1\" class=\"dataframe\">\n",
       "  <thead>\n",
       "    <tr style=\"text-align: right;\">\n",
       "      <th></th>\n",
       "      <th>Id</th>\n",
       "      <th>PetalLengthCm</th>\n",
       "      <th>PetalWidthCm</th>\n",
       "      <th>Species</th>\n",
       "    </tr>\n",
       "  </thead>\n",
       "  <tbody>\n",
       "    <tr>\n",
       "      <th>0</th>\n",
       "      <td>1</td>\n",
       "      <td>1.4</td>\n",
       "      <td>0.2</td>\n",
       "      <td>Iris-setosa</td>\n",
       "    </tr>\n",
       "    <tr>\n",
       "      <th>1</th>\n",
       "      <td>2</td>\n",
       "      <td>1.4</td>\n",
       "      <td>0.2</td>\n",
       "      <td>Iris-setosa</td>\n",
       "    </tr>\n",
       "    <tr>\n",
       "      <th>2</th>\n",
       "      <td>3</td>\n",
       "      <td>1.3</td>\n",
       "      <td>0.2</td>\n",
       "      <td>Iris-setosa</td>\n",
       "    </tr>\n",
       "    <tr>\n",
       "      <th>3</th>\n",
       "      <td>4</td>\n",
       "      <td>1.5</td>\n",
       "      <td>0.2</td>\n",
       "      <td>Iris-setosa</td>\n",
       "    </tr>\n",
       "    <tr>\n",
       "      <th>4</th>\n",
       "      <td>5</td>\n",
       "      <td>1.4</td>\n",
       "      <td>0.2</td>\n",
       "      <td>Iris-setosa</td>\n",
       "    </tr>\n",
       "    <tr>\n",
       "      <th>...</th>\n",
       "      <td>...</td>\n",
       "      <td>...</td>\n",
       "      <td>...</td>\n",
       "      <td>...</td>\n",
       "    </tr>\n",
       "    <tr>\n",
       "      <th>145</th>\n",
       "      <td>146</td>\n",
       "      <td>5.2</td>\n",
       "      <td>2.3</td>\n",
       "      <td>Iris-virginica</td>\n",
       "    </tr>\n",
       "    <tr>\n",
       "      <th>146</th>\n",
       "      <td>147</td>\n",
       "      <td>5.0</td>\n",
       "      <td>1.9</td>\n",
       "      <td>Iris-virginica</td>\n",
       "    </tr>\n",
       "    <tr>\n",
       "      <th>147</th>\n",
       "      <td>148</td>\n",
       "      <td>5.2</td>\n",
       "      <td>2.0</td>\n",
       "      <td>Iris-virginica</td>\n",
       "    </tr>\n",
       "    <tr>\n",
       "      <th>148</th>\n",
       "      <td>149</td>\n",
       "      <td>5.4</td>\n",
       "      <td>2.3</td>\n",
       "      <td>Iris-virginica</td>\n",
       "    </tr>\n",
       "    <tr>\n",
       "      <th>149</th>\n",
       "      <td>150</td>\n",
       "      <td>5.1</td>\n",
       "      <td>1.8</td>\n",
       "      <td>Iris-virginica</td>\n",
       "    </tr>\n",
       "  </tbody>\n",
       "</table>\n",
       "<p>150 rows × 4 columns</p>\n",
       "</div>"
      ],
      "text/plain": [
       "      Id  PetalLengthCm  PetalWidthCm         Species\n",
       "0      1            1.4           0.2     Iris-setosa\n",
       "1      2            1.4           0.2     Iris-setosa\n",
       "2      3            1.3           0.2     Iris-setosa\n",
       "3      4            1.5           0.2     Iris-setosa\n",
       "4      5            1.4           0.2     Iris-setosa\n",
       "..   ...            ...           ...             ...\n",
       "145  146            5.2           2.3  Iris-virginica\n",
       "146  147            5.0           1.9  Iris-virginica\n",
       "147  148            5.2           2.0  Iris-virginica\n",
       "148  149            5.4           2.3  Iris-virginica\n",
       "149  150            5.1           1.8  Iris-virginica\n",
       "\n",
       "[150 rows x 4 columns]"
      ]
     },
     "execution_count": 3,
     "metadata": {},
     "output_type": "execute_result"
    }
   ],
   "source": [
    "df_petal = _deepnote_execute_sql('SELECT * FROM iris', 'SQL_843DF3DB_71CE_4E04_AB63_48BA92D27513', audit_sql_comment='', sql_cache_mode='cache_disabled')\n",
    "df_petal"
   ]
  },
  {
   "cell_type": "markdown",
   "metadata": {
    "cell_id": "a1fba91dbdad43239b3af60fdd2464ad",
    "deepnote_app_block_visible": true,
    "deepnote_cell_type": "text-cell-h3",
    "formattedRanges": []
   },
   "source": [
    "### Penggabungan data dari dua sumber yang berbeda"
   ]
  },
  {
   "cell_type": "code",
   "execution_count": 4,
   "metadata": {
    "cell_id": "8326dbe868524f9f8647ca24b676e2dd",
    "deepnote_app_block_visible": true,
    "deepnote_cell_type": "code",
    "deepnote_to_be_reexecuted": false,
    "execution_millis": 225,
    "execution_start": 1714004139410,
    "source_hash": "9ac963ec"
   },
   "outputs": [
    {
     "data": {
      "application/vnd.deepnote.dataframe.v3+json": {
       "column_count": 6,
       "columns": [
        {
         "dtype": "int64",
         "name": "Id",
         "stats": {
          "histogram": [
           {
            "bin_end": 15.9,
            "bin_start": 1,
            "count": 15
           },
           {
            "bin_end": 30.8,
            "bin_start": 15.9,
            "count": 15
           },
           {
            "bin_end": 45.7,
            "bin_start": 30.8,
            "count": 15
           },
           {
            "bin_end": 60.6,
            "bin_start": 45.7,
            "count": 15
           },
           {
            "bin_end": 75.5,
            "bin_start": 60.6,
            "count": 15
           },
           {
            "bin_end": 90.4,
            "bin_start": 75.5,
            "count": 15
           },
           {
            "bin_end": 105.3,
            "bin_start": 90.4,
            "count": 15
           },
           {
            "bin_end": 120.2,
            "bin_start": 105.3,
            "count": 15
           },
           {
            "bin_end": 135.1,
            "bin_start": 120.2,
            "count": 15
           },
           {
            "bin_end": 150,
            "bin_start": 135.1,
            "count": 15
           }
          ],
          "max": "150",
          "min": "1",
          "nan_count": 0,
          "unique_count": 150
         }
        },
        {
         "dtype": "float64",
         "name": "SepalLengthCm",
         "stats": {
          "histogram": [
           {
            "bin_end": 4.66,
            "bin_start": 4.3,
            "count": 9
           },
           {
            "bin_end": 5.02,
            "bin_start": 4.66,
            "count": 23
           },
           {
            "bin_end": 5.38,
            "bin_start": 5.02,
            "count": 14
           },
           {
            "bin_end": 5.74,
            "bin_start": 5.38,
            "count": 27
           },
           {
            "bin_end": 6.1,
            "bin_start": 5.74,
            "count": 16
           },
           {
            "bin_end": 6.46,
            "bin_start": 6.1,
            "count": 26
           },
           {
            "bin_end": 6.82,
            "bin_start": 6.46,
            "count": 18
           },
           {
            "bin_end": 7.18,
            "bin_start": 6.82,
            "count": 6
           },
           {
            "bin_end": 7.54,
            "bin_start": 7.18,
            "count": 5
           },
           {
            "bin_end": 7.9,
            "bin_start": 7.54,
            "count": 6
           }
          ],
          "max": "7.9",
          "min": "4.3",
          "nan_count": 0,
          "unique_count": 35
         }
        },
        {
         "dtype": "float64",
         "name": "SepalWidthCm",
         "stats": {
          "histogram": [
           {
            "bin_end": 2.24,
            "bin_start": 2,
            "count": 4
           },
           {
            "bin_end": 2.48,
            "bin_start": 2.24,
            "count": 7
           },
           {
            "bin_end": 2.72,
            "bin_start": 2.48,
            "count": 22
           },
           {
            "bin_end": 2.96,
            "bin_start": 2.72,
            "count": 24
           },
           {
            "bin_end": 3.2,
            "bin_start": 2.96,
            "count": 38
           },
           {
            "bin_end": 3.4400000000000004,
            "bin_start": 3.2,
            "count": 31
           },
           {
            "bin_end": 3.6800000000000006,
            "bin_start": 3.4400000000000004,
            "count": 9
           },
           {
            "bin_end": 3.9200000000000004,
            "bin_start": 3.6800000000000006,
            "count": 11
           },
           {
            "bin_end": 4.16,
            "bin_start": 3.9200000000000004,
            "count": 2
           },
           {
            "bin_end": 4.4,
            "bin_start": 4.16,
            "count": 2
           }
          ],
          "max": "4.4",
          "min": "2.0",
          "nan_count": 0,
          "unique_count": 23
         }
        },
        {
         "dtype": "float64",
         "name": "PetalLengthCm",
         "stats": {
          "histogram": [
           {
            "bin_end": 1.59,
            "bin_start": 1,
            "count": 37
           },
           {
            "bin_end": 2.18,
            "bin_start": 1.59,
            "count": 13
           },
           {
            "bin_end": 2.7700000000000005,
            "bin_start": 2.18,
            "count": 0
           },
           {
            "bin_end": 3.3600000000000003,
            "bin_start": 2.7700000000000005,
            "count": 3
           },
           {
            "bin_end": 3.95,
            "bin_start": 3.3600000000000003,
            "count": 8
           },
           {
            "bin_end": 4.540000000000001,
            "bin_start": 3.95,
            "count": 26
           },
           {
            "bin_end": 5.130000000000001,
            "bin_start": 4.540000000000001,
            "count": 29
           },
           {
            "bin_end": 5.720000000000001,
            "bin_start": 5.130000000000001,
            "count": 18
           },
           {
            "bin_end": 6.3100000000000005,
            "bin_start": 5.720000000000001,
            "count": 11
           },
           {
            "bin_end": 6.9,
            "bin_start": 6.3100000000000005,
            "count": 5
           }
          ],
          "max": "6.9",
          "min": "1.0",
          "nan_count": 0,
          "unique_count": 43
         }
        },
        {
         "dtype": "float64",
         "name": "PetalWidthCm",
         "stats": {
          "histogram": [
           {
            "bin_end": 0.33999999999999997,
            "bin_start": 0.1,
            "count": 41
           },
           {
            "bin_end": 0.58,
            "bin_start": 0.33999999999999997,
            "count": 8
           },
           {
            "bin_end": 0.82,
            "bin_start": 0.58,
            "count": 1
           },
           {
            "bin_end": 1.06,
            "bin_start": 0.82,
            "count": 7
           },
           {
            "bin_end": 1.3,
            "bin_start": 1.06,
            "count": 8
           },
           {
            "bin_end": 1.54,
            "bin_start": 1.3,
            "count": 33
           },
           {
            "bin_end": 1.78,
            "bin_start": 1.54,
            "count": 6
           },
           {
            "bin_end": 2.02,
            "bin_start": 1.78,
            "count": 23
           },
           {
            "bin_end": 2.2600000000000002,
            "bin_start": 2.02,
            "count": 9
           },
           {
            "bin_end": 2.5,
            "bin_start": 2.2600000000000002,
            "count": 14
           }
          ],
          "max": "2.5",
          "min": "0.1",
          "nan_count": 0,
          "unique_count": 22
         }
        },
        {
         "dtype": "object",
         "name": "Species",
         "stats": {
          "categories": [
           {
            "count": 50,
            "name": "Iris-setosa"
           },
           {
            "count": 50,
            "name": "Iris-versicolor"
           },
           {
            "count": 50,
            "name": "Iris-virginica"
           }
          ],
          "nan_count": 0,
          "unique_count": 3
         }
        },
        {
         "dtype": "int64",
         "name": "_deepnote_index_column"
        }
       ],
       "row_count": 150,
       "rows": [
        {
         "Id": 1,
         "PetalLengthCm": 1.4,
         "PetalWidthCm": 0.2,
         "SepalLengthCm": 5.1,
         "SepalWidthCm": 3.5,
         "Species": "Iris-setosa",
         "_deepnote_index_column": 0
        },
        {
         "Id": 2,
         "PetalLengthCm": 1.4,
         "PetalWidthCm": 0.2,
         "SepalLengthCm": 4.9,
         "SepalWidthCm": 3,
         "Species": "Iris-setosa",
         "_deepnote_index_column": 1
        },
        {
         "Id": 3,
         "PetalLengthCm": 1.3,
         "PetalWidthCm": 0.2,
         "SepalLengthCm": 4.7,
         "SepalWidthCm": 3.2,
         "Species": "Iris-setosa",
         "_deepnote_index_column": 2
        },
        {
         "Id": 4,
         "PetalLengthCm": 1.5,
         "PetalWidthCm": 0.2,
         "SepalLengthCm": 4.6,
         "SepalWidthCm": 3.1,
         "Species": "Iris-setosa",
         "_deepnote_index_column": 3
        },
        {
         "Id": 5,
         "PetalLengthCm": 1.4,
         "PetalWidthCm": 0.2,
         "SepalLengthCm": 5,
         "SepalWidthCm": 3.6,
         "Species": "Iris-setosa",
         "_deepnote_index_column": 4
        },
        {
         "Id": 6,
         "PetalLengthCm": 1.7,
         "PetalWidthCm": 0.4,
         "SepalLengthCm": 5.4,
         "SepalWidthCm": 3.9,
         "Species": "Iris-setosa",
         "_deepnote_index_column": 5
        },
        {
         "Id": 7,
         "PetalLengthCm": 1.4,
         "PetalWidthCm": 0.3,
         "SepalLengthCm": 4.6,
         "SepalWidthCm": 3.4,
         "Species": "Iris-setosa",
         "_deepnote_index_column": 6
        },
        {
         "Id": 8,
         "PetalLengthCm": 1.5,
         "PetalWidthCm": 0.2,
         "SepalLengthCm": 5,
         "SepalWidthCm": 3.4,
         "Species": "Iris-setosa",
         "_deepnote_index_column": 7
        },
        {
         "Id": 9,
         "PetalLengthCm": 1.4,
         "PetalWidthCm": 0.2,
         "SepalLengthCm": 4.4,
         "SepalWidthCm": 2.9,
         "Species": "Iris-setosa",
         "_deepnote_index_column": 8
        },
        {
         "Id": 10,
         "PetalLengthCm": 1.5,
         "PetalWidthCm": 0.1,
         "SepalLengthCm": 4.9,
         "SepalWidthCm": 3.1,
         "Species": "Iris-setosa",
         "_deepnote_index_column": 9
        }
       ]
      },
      "text/html": [
       "<div>\n",
       "<style scoped>\n",
       "    .dataframe tbody tr th:only-of-type {\n",
       "        vertical-align: middle;\n",
       "    }\n",
       "\n",
       "    .dataframe tbody tr th {\n",
       "        vertical-align: top;\n",
       "    }\n",
       "\n",
       "    .dataframe thead th {\n",
       "        text-align: right;\n",
       "    }\n",
       "</style>\n",
       "<table border=\"1\" class=\"dataframe\">\n",
       "  <thead>\n",
       "    <tr style=\"text-align: right;\">\n",
       "      <th></th>\n",
       "      <th>Id</th>\n",
       "      <th>SepalLengthCm</th>\n",
       "      <th>SepalWidthCm</th>\n",
       "      <th>PetalLengthCm</th>\n",
       "      <th>PetalWidthCm</th>\n",
       "      <th>Species</th>\n",
       "    </tr>\n",
       "  </thead>\n",
       "  <tbody>\n",
       "    <tr>\n",
       "      <th>0</th>\n",
       "      <td>1</td>\n",
       "      <td>5.1</td>\n",
       "      <td>3.5</td>\n",
       "      <td>1.4</td>\n",
       "      <td>0.2</td>\n",
       "      <td>Iris-setosa</td>\n",
       "    </tr>\n",
       "    <tr>\n",
       "      <th>1</th>\n",
       "      <td>2</td>\n",
       "      <td>4.9</td>\n",
       "      <td>3.0</td>\n",
       "      <td>1.4</td>\n",
       "      <td>0.2</td>\n",
       "      <td>Iris-setosa</td>\n",
       "    </tr>\n",
       "    <tr>\n",
       "      <th>2</th>\n",
       "      <td>3</td>\n",
       "      <td>4.7</td>\n",
       "      <td>3.2</td>\n",
       "      <td>1.3</td>\n",
       "      <td>0.2</td>\n",
       "      <td>Iris-setosa</td>\n",
       "    </tr>\n",
       "    <tr>\n",
       "      <th>3</th>\n",
       "      <td>4</td>\n",
       "      <td>4.6</td>\n",
       "      <td>3.1</td>\n",
       "      <td>1.5</td>\n",
       "      <td>0.2</td>\n",
       "      <td>Iris-setosa</td>\n",
       "    </tr>\n",
       "    <tr>\n",
       "      <th>4</th>\n",
       "      <td>5</td>\n",
       "      <td>5.0</td>\n",
       "      <td>3.6</td>\n",
       "      <td>1.4</td>\n",
       "      <td>0.2</td>\n",
       "      <td>Iris-setosa</td>\n",
       "    </tr>\n",
       "    <tr>\n",
       "      <th>...</th>\n",
       "      <td>...</td>\n",
       "      <td>...</td>\n",
       "      <td>...</td>\n",
       "      <td>...</td>\n",
       "      <td>...</td>\n",
       "      <td>...</td>\n",
       "    </tr>\n",
       "    <tr>\n",
       "      <th>145</th>\n",
       "      <td>146</td>\n",
       "      <td>6.7</td>\n",
       "      <td>3.0</td>\n",
       "      <td>5.2</td>\n",
       "      <td>2.3</td>\n",
       "      <td>Iris-virginica</td>\n",
       "    </tr>\n",
       "    <tr>\n",
       "      <th>146</th>\n",
       "      <td>147</td>\n",
       "      <td>6.3</td>\n",
       "      <td>2.5</td>\n",
       "      <td>5.0</td>\n",
       "      <td>1.9</td>\n",
       "      <td>Iris-virginica</td>\n",
       "    </tr>\n",
       "    <tr>\n",
       "      <th>147</th>\n",
       "      <td>148</td>\n",
       "      <td>6.5</td>\n",
       "      <td>3.0</td>\n",
       "      <td>5.2</td>\n",
       "      <td>2.0</td>\n",
       "      <td>Iris-virginica</td>\n",
       "    </tr>\n",
       "    <tr>\n",
       "      <th>148</th>\n",
       "      <td>149</td>\n",
       "      <td>6.2</td>\n",
       "      <td>3.4</td>\n",
       "      <td>5.4</td>\n",
       "      <td>2.3</td>\n",
       "      <td>Iris-virginica</td>\n",
       "    </tr>\n",
       "    <tr>\n",
       "      <th>149</th>\n",
       "      <td>150</td>\n",
       "      <td>5.9</td>\n",
       "      <td>3.0</td>\n",
       "      <td>5.1</td>\n",
       "      <td>1.8</td>\n",
       "      <td>Iris-virginica</td>\n",
       "    </tr>\n",
       "  </tbody>\n",
       "</table>\n",
       "<p>150 rows × 6 columns</p>\n",
       "</div>"
      ],
      "text/plain": [
       "      Id  SepalLengthCm  SepalWidthCm  PetalLengthCm  PetalWidthCm  \\\n",
       "0      1            5.1           3.5            1.4           0.2   \n",
       "1      2            4.9           3.0            1.4           0.2   \n",
       "2      3            4.7           3.2            1.3           0.2   \n",
       "3      4            4.6           3.1            1.5           0.2   \n",
       "4      5            5.0           3.6            1.4           0.2   \n",
       "..   ...            ...           ...            ...           ...   \n",
       "145  146            6.7           3.0            5.2           2.3   \n",
       "146  147            6.3           2.5            5.0           1.9   \n",
       "147  148            6.5           3.0            5.2           2.0   \n",
       "148  149            6.2           3.4            5.4           2.3   \n",
       "149  150            5.9           3.0            5.1           1.8   \n",
       "\n",
       "            Species  \n",
       "0       Iris-setosa  \n",
       "1       Iris-setosa  \n",
       "2       Iris-setosa  \n",
       "3       Iris-setosa  \n",
       "4       Iris-setosa  \n",
       "..              ...  \n",
       "145  Iris-virginica  \n",
       "146  Iris-virginica  \n",
       "147  Iris-virginica  \n",
       "148  Iris-virginica  \n",
       "149  Iris-virginica  \n",
       "\n",
       "[150 rows x 6 columns]"
      ]
     },
     "execution_count": 4,
     "metadata": {},
     "output_type": "execute_result"
    }
   ],
   "source": [
    "# concat two dataframe\n",
    "df = pd.concat([df_sepal.drop(['Species'], axis=1), df_petal.drop(['Id'], axis=1)], axis=1, join='inner')\n",
    "\n",
    "df"
   ]
  },
  {
   "cell_type": "markdown",
   "metadata": {
    "cell_id": "d5e81dc9ac314f1aa111a9c2faa8f0f4",
    "deepnote_app_block_visible": true,
    "deepnote_cell_type": "text-cell-h2",
    "formattedRanges": []
   },
   "source": [
    "## Deskripsi Data"
   ]
  },
  {
   "cell_type": "markdown",
   "metadata": {
    "cell_id": "93011a451517472ab497ef6ce3b6cc15",
    "deepnote_app_block_visible": true,
    "deepnote_cell_type": "text-cell-h3",
    "formattedRanges": []
   },
   "source": [
    "### Penjelasan fitur"
   ]
  },
  {
   "cell_type": "code",
   "execution_count": 5,
   "metadata": {
    "cell_id": "a783aa362058449aa7bdf3689dbf7335",
    "deepnote_app_block_visible": true,
    "deepnote_cell_type": "code",
    "deepnote_to_be_reexecuted": false,
    "execution_millis": 204,
    "execution_start": 1714004139431,
    "source_hash": "de1e323c"
   },
   "outputs": [
    {
     "name": "stdout",
     "output_type": "stream",
     "text": [
      "<class 'pandas.core.frame.DataFrame'>\n",
      "RangeIndex: 150 entries, 0 to 149\n",
      "Data columns (total 6 columns):\n",
      " #   Column         Non-Null Count  Dtype  \n",
      "---  ------         --------------  -----  \n",
      " 0   Id             150 non-null    int64  \n",
      " 1   SepalLengthCm  150 non-null    float64\n",
      " 2   SepalWidthCm   150 non-null    float64\n",
      " 3   PetalLengthCm  150 non-null    float64\n",
      " 4   PetalWidthCm   150 non-null    float64\n",
      " 5   Species        150 non-null    object \n",
      "dtypes: float64(4), int64(1), object(1)\n",
      "memory usage: 7.2+ KB\n"
     ]
    }
   ],
   "source": [
    "df.info()"
   ]
  },
  {
   "cell_type": "markdown",
   "metadata": {
    "cell_id": "b2e2ddffd0d14dd7a1c1434ea07f0c71",
    "deepnote_app_block_visible": true,
    "deepnote_cell_type": "text-cell-p",
    "formattedRanges": []
   },
   "source": [
    "Berdasarkan output dari kode program diatas. kita dapat mengetahui keterangan mengenai Tipe Data dari masing masing fitur. terdapat empat fitur dan satu class. dijelaskan sebagai berikut : "
   ]
  },
  {
   "cell_type": "markdown",
   "metadata": {
    "cell_id": "b9051c2ffbe94ebeaab6af1089da1491",
    "deepnote_app_block_visible": true,
    "deepnote_cell_type": "text-cell-bullet",
    "formattedRanges": []
   },
   "source": [
    "- SepalLengthCm merupakan fitur dengan tipe data numerik yang merupakan hasil dari pengukuran panjang kelopak sepal dari bunga iris."
   ]
  },
  {
   "cell_type": "markdown",
   "metadata": {
    "cell_id": "a07e99f762d94db2ad7404e62a694810",
    "deepnote_app_block_visible": true,
    "deepnote_cell_type": "text-cell-bullet",
    "formattedRanges": []
   },
   "source": [
    "- SepalWidhtCM merupakan fitur dengan tipe data numerik yang merupakan hasil dari pengukuran lebar kelopak sepal dari dari bunga iris."
   ]
  },
  {
   "cell_type": "markdown",
   "metadata": {
    "cell_id": "a39dbafbdeb14df5883d605bec337157",
    "deepnote_app_block_visible": true,
    "deepnote_cell_type": "text-cell-bullet",
    "formattedRanges": []
   },
   "source": [
    "- PetalLengthCm merupakan fitur dengan tipe data numerik yang merupakan hasil dari pengukuran panjang kelopak petal dari bunga iris."
   ]
  },
  {
   "cell_type": "markdown",
   "metadata": {
    "cell_id": "1f0bbac5a3fa463bb21031fe794ac1cf",
    "deepnote_app_block_visible": true,
    "deepnote_cell_type": "text-cell-bullet",
    "formattedRanges": []
   },
   "source": [
    "- PetalWidthCm merupakan fitur dengan tipe data numerik yang merupakan hasil pengukuran dari lebar kelopak sepal dari bunga iris."
   ]
  },
  {
   "cell_type": "markdown",
   "metadata": {
    "cell_id": "76cbc4e7f1b445d0999fcec3f88edf95",
    "deepnote_app_block_visible": true,
    "deepnote_cell_type": "text-cell-bullet",
    "formattedRanges": []
   },
   "source": [
    "- Species merupakan class dengan tipe data kategori yang merupakan klasifikasi jenis bungan iris."
   ]
  },
  {
   "cell_type": "markdown",
   "metadata": {
    "cell_id": "78937fa04fdc44fd94fb9a600f9c66d5",
    "deepnote_app_block_visible": true,
    "deepnote_cell_type": "text-cell-h3",
    "formattedRanges": []
   },
   "source": [
    "### Penjelasan class"
   ]
  },
  {
   "cell_type": "code",
   "execution_count": 6,
   "metadata": {
    "cell_id": "194676a3e0bb421180a37b5760a36983",
    "deepnote_app_block_visible": true,
    "deepnote_cell_type": "code",
    "deepnote_to_be_reexecuted": false,
    "execution_millis": 608,
    "execution_start": 1714004139447,
    "source_hash": "2bbf47e7"
   },
   "outputs": [
    {
     "data": {
      "text/plain": [
       "Species\n",
       "Iris-setosa        50\n",
       "Iris-versicolor    50\n",
       "Iris-virginica     50\n",
       "Name: count, dtype: int64"
      ]
     },
     "execution_count": 6,
     "metadata": {},
     "output_type": "execute_result"
    }
   ],
   "source": [
    "df.value_counts('Species')"
   ]
  },
  {
   "cell_type": "markdown",
   "metadata": {
    "cell_id": "ab87dfd7d68f44a7a7f963750b05f183",
    "deepnote_app_block_visible": true,
    "deepnote_cell_type": "text-cell-p",
    "formattedRanges": []
   },
   "source": [
    "Dari kode program diatas. dapat diketahui bahwa terdapat tiga jenis bunga iris berdasarkan data yang sudah kita analisa."
   ]
  },
  {
   "cell_type": "markdown",
   "metadata": {
    "cell_id": "ac2498fb1f274954a45f780c7896523a",
    "deepnote_app_block_visible": true,
    "deepnote_cell_type": "text-cell-h2",
    "formattedRanges": []
   },
   "source": [
    "## Percobaan Missing Value"
   ]
  },
  {
   "cell_type": "markdown",
   "metadata": {
    "cell_id": "742106a1bbd34f6fac6a0028ba8d88e4",
    "deepnote_app_block_visible": true,
    "deepnote_cell_type": "text-cell-p",
    "formattedRanges": []
   },
   "source": [
    "Pada tahapan ini akan melakukan sebuah bercobaan dengan menghapus lima value dari beberapa baris. sehingga secara tidak langsung kita melakukan sebuah simulasi menghadapi sebuah data yang memiliki missing value."
   ]
  },
  {
   "cell_type": "markdown",
   "metadata": {
    "cell_id": "8b3c36b12c0b4392a7d833199f1eeb1d",
    "deepnote_app_block_visible": true,
    "deepnote_cell_type": "text-cell-h3",
    "formattedRanges": []
   },
   "source": [
    "### Menghapus value dari baris"
   ]
  },
  {
   "cell_type": "code",
   "execution_count": 7,
   "metadata": {
    "cell_id": "053a5a11fd3641b4b3de2ce108f6be68",
    "deepnote_app_block_visible": true,
    "deepnote_cell_type": "code",
    "deepnote_table_loading": false,
    "deepnote_table_state": {
     "filters": [],
     "pageIndex": 0,
     "pageSize": 10,
     "sortBy": []
    },
    "deepnote_to_be_reexecuted": false,
    "execution_millis": 581,
    "execution_start": 1714004139474,
    "source_hash": "6a6e0bda"
   },
   "outputs": [
    {
     "data": {
      "application/vnd.deepnote.dataframe.v3+json": {
       "column_count": 6,
       "columns": [
        {
         "dtype": "int64",
         "name": "Id",
         "stats": {
          "histogram": [
           {
            "bin_end": 15.9,
            "bin_start": 1,
            "count": 15
           },
           {
            "bin_end": 30.8,
            "bin_start": 15.9,
            "count": 15
           },
           {
            "bin_end": 45.7,
            "bin_start": 30.8,
            "count": 15
           },
           {
            "bin_end": 60.6,
            "bin_start": 45.7,
            "count": 15
           },
           {
            "bin_end": 75.5,
            "bin_start": 60.6,
            "count": 15
           },
           {
            "bin_end": 90.4,
            "bin_start": 75.5,
            "count": 15
           },
           {
            "bin_end": 105.3,
            "bin_start": 90.4,
            "count": 15
           },
           {
            "bin_end": 120.2,
            "bin_start": 105.3,
            "count": 15
           },
           {
            "bin_end": 135.1,
            "bin_start": 120.2,
            "count": 15
           },
           {
            "bin_end": 150,
            "bin_start": 135.1,
            "count": 15
           }
          ],
          "max": "150",
          "min": "1",
          "nan_count": 0,
          "unique_count": 150
         }
        },
        {
         "dtype": "float64",
         "name": "SepalLengthCm",
         "stats": {
          "histogram": [
           {
            "bin_end": 4.66,
            "bin_start": 4.3,
            "count": 9
           },
           {
            "bin_end": 5.02,
            "bin_start": 4.66,
            "count": 21
           },
           {
            "bin_end": 5.38,
            "bin_start": 5.02,
            "count": 14
           },
           {
            "bin_end": 5.74,
            "bin_start": 5.38,
            "count": 26
           },
           {
            "bin_end": 6.1,
            "bin_start": 5.74,
            "count": 15
           },
           {
            "bin_end": 6.46,
            "bin_start": 6.1,
            "count": 25
           },
           {
            "bin_end": 6.82,
            "bin_start": 6.46,
            "count": 18
           },
           {
            "bin_end": 7.18,
            "bin_start": 6.82,
            "count": 6
           },
           {
            "bin_end": 7.54,
            "bin_start": 7.18,
            "count": 5
           },
           {
            "bin_end": 7.9,
            "bin_start": 7.54,
            "count": 6
           }
          ],
          "max": "7.9",
          "min": "4.3",
          "nan_count": 5,
          "unique_count": 35
         }
        },
        {
         "dtype": "float64",
         "name": "SepalWidthCm",
         "stats": {
          "histogram": [
           {
            "bin_end": 2.24,
            "bin_start": 2,
            "count": 4
           },
           {
            "bin_end": 2.48,
            "bin_start": 2.24,
            "count": 7
           },
           {
            "bin_end": 2.72,
            "bin_start": 2.48,
            "count": 22
           },
           {
            "bin_end": 2.96,
            "bin_start": 2.72,
            "count": 24
           },
           {
            "bin_end": 3.2,
            "bin_start": 2.96,
            "count": 38
           },
           {
            "bin_end": 3.4400000000000004,
            "bin_start": 3.2,
            "count": 31
           },
           {
            "bin_end": 3.6800000000000006,
            "bin_start": 3.4400000000000004,
            "count": 9
           },
           {
            "bin_end": 3.9200000000000004,
            "bin_start": 3.6800000000000006,
            "count": 11
           },
           {
            "bin_end": 4.16,
            "bin_start": 3.9200000000000004,
            "count": 2
           },
           {
            "bin_end": 4.4,
            "bin_start": 4.16,
            "count": 2
           }
          ],
          "max": "4.4",
          "min": "2.0",
          "nan_count": 0,
          "unique_count": 23
         }
        },
        {
         "dtype": "float64",
         "name": "PetalLengthCm",
         "stats": {
          "histogram": [
           {
            "bin_end": 1.59,
            "bin_start": 1,
            "count": 37
           },
           {
            "bin_end": 2.18,
            "bin_start": 1.59,
            "count": 13
           },
           {
            "bin_end": 2.7700000000000005,
            "bin_start": 2.18,
            "count": 0
           },
           {
            "bin_end": 3.3600000000000003,
            "bin_start": 2.7700000000000005,
            "count": 3
           },
           {
            "bin_end": 3.95,
            "bin_start": 3.3600000000000003,
            "count": 8
           },
           {
            "bin_end": 4.540000000000001,
            "bin_start": 3.95,
            "count": 26
           },
           {
            "bin_end": 5.130000000000001,
            "bin_start": 4.540000000000001,
            "count": 29
           },
           {
            "bin_end": 5.720000000000001,
            "bin_start": 5.130000000000001,
            "count": 18
           },
           {
            "bin_end": 6.3100000000000005,
            "bin_start": 5.720000000000001,
            "count": 11
           },
           {
            "bin_end": 6.9,
            "bin_start": 6.3100000000000005,
            "count": 5
           }
          ],
          "max": "6.9",
          "min": "1.0",
          "nan_count": 0,
          "unique_count": 43
         }
        },
        {
         "dtype": "float64",
         "name": "PetalWidthCm",
         "stats": {
          "histogram": [
           {
            "bin_end": 0.33999999999999997,
            "bin_start": 0.1,
            "count": 40
           },
           {
            "bin_end": 0.58,
            "bin_start": 0.33999999999999997,
            "count": 8
           },
           {
            "bin_end": 0.82,
            "bin_start": 0.58,
            "count": 1
           },
           {
            "bin_end": 1.06,
            "bin_start": 0.82,
            "count": 7
           },
           {
            "bin_end": 1.3,
            "bin_start": 1.06,
            "count": 8
           },
           {
            "bin_end": 1.54,
            "bin_start": 1.3,
            "count": 32
           },
           {
            "bin_end": 1.78,
            "bin_start": 1.54,
            "count": 6
           },
           {
            "bin_end": 2.02,
            "bin_start": 1.78,
            "count": 23
           },
           {
            "bin_end": 2.2600000000000002,
            "bin_start": 2.02,
            "count": 9
           },
           {
            "bin_end": 2.5,
            "bin_start": 2.2600000000000002,
            "count": 14
           }
          ],
          "max": "2.5",
          "min": "0.1",
          "nan_count": 2,
          "unique_count": 22
         }
        },
        {
         "dtype": "object",
         "name": "Species",
         "stats": {
          "categories": [
           {
            "count": 50,
            "name": "Iris-setosa"
           },
           {
            "count": 50,
            "name": "Iris-versicolor"
           },
           {
            "count": 50,
            "name": "Iris-virginica"
           }
          ],
          "nan_count": 0,
          "unique_count": 3
         }
        },
        {
         "dtype": "int64",
         "name": "_deepnote_index_column"
        }
       ],
       "row_count": 150,
       "rows": [
        {
         "Id": 1,
         "PetalLengthCm": 1.4,
         "PetalWidthCm": 0.2,
         "SepalLengthCm": 5.1,
         "SepalWidthCm": 3.5,
         "Species": "Iris-setosa",
         "_deepnote_index_column": 0
        },
        {
         "Id": 2,
         "PetalLengthCm": 1.4,
         "PetalWidthCm": 0.2,
         "SepalLengthCm": 4.9,
         "SepalWidthCm": 3,
         "Species": "Iris-setosa",
         "_deepnote_index_column": 1
        },
        {
         "Id": 3,
         "PetalLengthCm": 1.3,
         "PetalWidthCm": 0.2,
         "SepalLengthCm": 4.7,
         "SepalWidthCm": 3.2,
         "Species": "Iris-setosa",
         "_deepnote_index_column": 2
        },
        {
         "Id": 4,
         "PetalLengthCm": 1.5,
         "PetalWidthCm": 0.2,
         "SepalLengthCm": 4.6,
         "SepalWidthCm": 3.1,
         "Species": "Iris-setosa",
         "_deepnote_index_column": 3
        },
        {
         "Id": 5,
         "PetalLengthCm": 1.4,
         "PetalWidthCm": 0.2,
         "SepalLengthCm": 5,
         "SepalWidthCm": 3.6,
         "Species": "Iris-setosa",
         "_deepnote_index_column": 4
        },
        {
         "Id": 6,
         "PetalLengthCm": 1.7,
         "PetalWidthCm": 0.4,
         "SepalLengthCm": 5.4,
         "SepalWidthCm": 3.9,
         "Species": "Iris-setosa",
         "_deepnote_index_column": 5
        },
        {
         "Id": 7,
         "PetalLengthCm": 1.4,
         "PetalWidthCm": 0.3,
         "SepalLengthCm": 4.6,
         "SepalWidthCm": 3.4,
         "Species": "Iris-setosa",
         "_deepnote_index_column": 6
        },
        {
         "Id": 8,
         "PetalLengthCm": 1.5,
         "PetalWidthCm": 0.2,
         "SepalLengthCm": 5,
         "SepalWidthCm": 3.4,
         "Species": "Iris-setosa",
         "_deepnote_index_column": 7
        },
        {
         "Id": 9,
         "PetalLengthCm": 1.4,
         "PetalWidthCm": 0.2,
         "SepalLengthCm": 4.4,
         "SepalWidthCm": 2.9,
         "Species": "Iris-setosa",
         "_deepnote_index_column": 8
        },
        {
         "Id": 10,
         "PetalLengthCm": 1.5,
         "PetalWidthCm": 0.1,
         "SepalLengthCm": 4.9,
         "SepalWidthCm": 3.1,
         "Species": "Iris-setosa",
         "_deepnote_index_column": 9
        }
       ]
      },
      "text/html": [
       "<div>\n",
       "<style scoped>\n",
       "    .dataframe tbody tr th:only-of-type {\n",
       "        vertical-align: middle;\n",
       "    }\n",
       "\n",
       "    .dataframe tbody tr th {\n",
       "        vertical-align: top;\n",
       "    }\n",
       "\n",
       "    .dataframe thead th {\n",
       "        text-align: right;\n",
       "    }\n",
       "</style>\n",
       "<table border=\"1\" class=\"dataframe\">\n",
       "  <thead>\n",
       "    <tr style=\"text-align: right;\">\n",
       "      <th></th>\n",
       "      <th>Id</th>\n",
       "      <th>SepalLengthCm</th>\n",
       "      <th>SepalWidthCm</th>\n",
       "      <th>PetalLengthCm</th>\n",
       "      <th>PetalWidthCm</th>\n",
       "      <th>Species</th>\n",
       "    </tr>\n",
       "  </thead>\n",
       "  <tbody>\n",
       "    <tr>\n",
       "      <th>0</th>\n",
       "      <td>1</td>\n",
       "      <td>5.1</td>\n",
       "      <td>3.5</td>\n",
       "      <td>1.4</td>\n",
       "      <td>0.2</td>\n",
       "      <td>Iris-setosa</td>\n",
       "    </tr>\n",
       "    <tr>\n",
       "      <th>1</th>\n",
       "      <td>2</td>\n",
       "      <td>4.9</td>\n",
       "      <td>3.0</td>\n",
       "      <td>1.4</td>\n",
       "      <td>0.2</td>\n",
       "      <td>Iris-setosa</td>\n",
       "    </tr>\n",
       "    <tr>\n",
       "      <th>2</th>\n",
       "      <td>3</td>\n",
       "      <td>4.7</td>\n",
       "      <td>3.2</td>\n",
       "      <td>1.3</td>\n",
       "      <td>0.2</td>\n",
       "      <td>Iris-setosa</td>\n",
       "    </tr>\n",
       "    <tr>\n",
       "      <th>3</th>\n",
       "      <td>4</td>\n",
       "      <td>4.6</td>\n",
       "      <td>3.1</td>\n",
       "      <td>1.5</td>\n",
       "      <td>0.2</td>\n",
       "      <td>Iris-setosa</td>\n",
       "    </tr>\n",
       "    <tr>\n",
       "      <th>4</th>\n",
       "      <td>5</td>\n",
       "      <td>5.0</td>\n",
       "      <td>3.6</td>\n",
       "      <td>1.4</td>\n",
       "      <td>0.2</td>\n",
       "      <td>Iris-setosa</td>\n",
       "    </tr>\n",
       "    <tr>\n",
       "      <th>...</th>\n",
       "      <td>...</td>\n",
       "      <td>...</td>\n",
       "      <td>...</td>\n",
       "      <td>...</td>\n",
       "      <td>...</td>\n",
       "      <td>...</td>\n",
       "    </tr>\n",
       "    <tr>\n",
       "      <th>145</th>\n",
       "      <td>146</td>\n",
       "      <td>6.7</td>\n",
       "      <td>3.0</td>\n",
       "      <td>5.2</td>\n",
       "      <td>2.3</td>\n",
       "      <td>Iris-virginica</td>\n",
       "    </tr>\n",
       "    <tr>\n",
       "      <th>146</th>\n",
       "      <td>147</td>\n",
       "      <td>6.3</td>\n",
       "      <td>2.5</td>\n",
       "      <td>5.0</td>\n",
       "      <td>1.9</td>\n",
       "      <td>Iris-virginica</td>\n",
       "    </tr>\n",
       "    <tr>\n",
       "      <th>147</th>\n",
       "      <td>148</td>\n",
       "      <td>6.5</td>\n",
       "      <td>3.0</td>\n",
       "      <td>5.2</td>\n",
       "      <td>2.0</td>\n",
       "      <td>Iris-virginica</td>\n",
       "    </tr>\n",
       "    <tr>\n",
       "      <th>148</th>\n",
       "      <td>149</td>\n",
       "      <td>6.2</td>\n",
       "      <td>3.4</td>\n",
       "      <td>5.4</td>\n",
       "      <td>2.3</td>\n",
       "      <td>Iris-virginica</td>\n",
       "    </tr>\n",
       "    <tr>\n",
       "      <th>149</th>\n",
       "      <td>150</td>\n",
       "      <td>NaN</td>\n",
       "      <td>3.0</td>\n",
       "      <td>5.1</td>\n",
       "      <td>1.8</td>\n",
       "      <td>Iris-virginica</td>\n",
       "    </tr>\n",
       "  </tbody>\n",
       "</table>\n",
       "<p>150 rows × 6 columns</p>\n",
       "</div>"
      ],
      "text/plain": [
       "      Id  SepalLengthCm  SepalWidthCm  PetalLengthCm  PetalWidthCm  \\\n",
       "0      1            5.1           3.5            1.4           0.2   \n",
       "1      2            4.9           3.0            1.4           0.2   \n",
       "2      3            4.7           3.2            1.3           0.2   \n",
       "3      4            4.6           3.1            1.5           0.2   \n",
       "4      5            5.0           3.6            1.4           0.2   \n",
       "..   ...            ...           ...            ...           ...   \n",
       "145  146            6.7           3.0            5.2           2.3   \n",
       "146  147            6.3           2.5            5.0           1.9   \n",
       "147  148            6.5           3.0            5.2           2.0   \n",
       "148  149            6.2           3.4            5.4           2.3   \n",
       "149  150            NaN           3.0            5.1           1.8   \n",
       "\n",
       "            Species  \n",
       "0       Iris-setosa  \n",
       "1       Iris-setosa  \n",
       "2       Iris-setosa  \n",
       "3       Iris-setosa  \n",
       "4       Iris-setosa  \n",
       "..              ...  \n",
       "145  Iris-virginica  \n",
       "146  Iris-virginica  \n",
       "147  Iris-virginica  \n",
       "148  Iris-virginica  \n",
       "149  Iris-virginica  \n",
       "\n",
       "[150 rows x 6 columns]"
      ]
     },
     "execution_count": 7,
     "metadata": {},
     "output_type": "execute_result"
    }
   ],
   "source": [
    "df.loc[df[\"Id\"] == 50, 'SepalLengthCm'] = None\n",
    "df.loc[df[\"Id\"] == 100, 'SepalLengthCm'] = None\n",
    "df.loc[df[\"Id\"] == 150, 'SepalLengthCm'] = None\n",
    "\n",
    "# dua fitur pada \n",
    "df.loc[df[\"Id\"] == 25, ['SepalLengthCm','PetalWidthCm']] = None\n",
    "df.loc[df[\"Id\"] == 75, ['SepalLengthCm','PetalWidthCm']] = None\n",
    "\n",
    "df"
   ]
  },
  {
   "cell_type": "markdown",
   "metadata": {
    "cell_id": "c570ae4158314323a42bbdb868a30c57",
    "deepnote_app_block_visible": true,
    "deepnote_cell_type": "text-cell-h3",
    "formattedRanges": []
   },
   "source": [
    "### Menampilkan fitur yang memiliki missing value"
   ]
  },
  {
   "cell_type": "code",
   "execution_count": 8,
   "metadata": {
    "cell_id": "c7b3eb25035d47f1997891d140110bab",
    "deepnote_app_block_visible": true,
    "deepnote_cell_type": "code",
    "deepnote_to_be_reexecuted": false,
    "execution_millis": 500,
    "execution_start": 1714004139556,
    "source_hash": "f3dd26da"
   },
   "outputs": [
    {
     "data": {
      "text/plain": [
       "Id               0\n",
       "SepalLengthCm    5\n",
       "SepalWidthCm     0\n",
       "PetalLengthCm    0\n",
       "PetalWidthCm     2\n",
       "Species          0\n",
       "dtype: int64"
      ]
     },
     "execution_count": 8,
     "metadata": {},
     "output_type": "execute_result"
    }
   ],
   "source": [
    "df.isnull().sum()"
   ]
  },
  {
   "cell_type": "markdown",
   "metadata": {
    "cell_id": "5192567c0356454b8d2bde9f6382ab4b",
    "deepnote_app_block_visible": true,
    "deepnote_cell_type": "text-cell-p",
    "formattedRanges": []
   },
   "source": [
    "Dari kode diatas dapat dilihat bahwa terdapat missng value pada fitur SepalLengthCm dan PetalWidthCm. pada fitur SepalLengthCm terdapat lima baris yang memiliki missing value. dan pada fitur PetalWidthCm terdapat dua baris yang memiliki missing value"
   ]
  },
  {
   "cell_type": "markdown",
   "metadata": {
    "cell_id": "3dff95c578394ea58b4f3eb14b8bd2de",
    "deepnote_app_block_visible": true,
    "deepnote_cell_type": "text-cell-h1",
    "formattedRanges": []
   },
   "source": [
    "# Pra-pemrosesan Data (Data Preprocessing)"
   ]
  },
  {
   "cell_type": "markdown",
   "metadata": {
    "cell_id": "a1bd3470c6ab4125a941fb61a57ad1aa",
    "deepnote_app_block_visible": true,
    "deepnote_cell_type": "text-cell-p",
    "formattedRanges": []
   },
   "source": [
    "Data preprocessing dalam data mining sangat penting. Pada tahapan ini, akan dilakukan pengolahan data mentah (Raw data) yang nantinya akan diubah menjadi data yang  bisa diolah untuk di analisa lebih lanjut."
   ]
  },
  {
   "cell_type": "markdown",
   "metadata": {
    "cell_id": "e7d7596525bd42dca913e245cc617f61",
    "deepnote_app_block_visible": true,
    "deepnote_cell_type": "text-cell-p",
    "formattedRanges": []
   },
   "source": [
    "Ada 4 tahapan untuk melakukan pra-pemrosesan data, yaitu :"
   ]
  },
  {
   "cell_type": "markdown",
   "metadata": {
    "cell_id": "6bae3043bc0d472a9f1bf217051952b9",
    "deepnote_app_block_visible": true,
    "deepnote_cell_type": "text-cell-bullet",
    "formattedRanges": []
   },
   "source": [
    "- Pembersihan Data (Data Cleaning)"
   ]
  },
  {
   "cell_type": "markdown",
   "metadata": {
    "cell_id": "9f11e91a585040a7bd60f91d41384ccb",
    "deepnote_app_block_visible": true,
    "deepnote_cell_type": "text-cell-p",
    "formattedRanges": []
   },
   "source": [
    "Pada tahapan ini. Data mentah (Raw Data) yang diperoleh harus dilakukan seleksi dengan menghapus data yang tidak relevan, lengkap, dan tidak akurat. Hal ini berguna untuk mengurangi kesalahpahaman data."
   ]
  },
  {
   "cell_type": "markdown",
   "metadata": {
    "cell_id": "16b2a16879c54208a2a358071a4d9bbd",
    "deepnote_app_block_visible": true,
    "deepnote_cell_type": "text-cell-bullet",
    "formattedRanges": []
   },
   "source": [
    "- Penggabungan Data (Data Integration)"
   ]
  },
  {
   "cell_type": "markdown",
   "metadata": {
    "cell_id": "9f81a5af1d2442518447efd83fe2c6e4",
    "deepnote_app_block_visible": true,
    "deepnote_cell_type": "text-cell-p",
    "formattedRanges": []
   },
   "source": [
    "Data dari sumber yang berbeda digabungkan menjadi satu dataset. karena itu, kita harus mengecek sumber-sumber data agar supaya memiliki format yang sama."
   ]
  },
  {
   "cell_type": "markdown",
   "metadata": {
    "cell_id": "7882437b8d754ad9af1542bb6174dabf",
    "deepnote_app_block_visible": true,
    "deepnote_cell_type": "text-cell-bullet",
    "formattedRanges": []
   },
   "source": [
    "- Tranformasi Data (Data Tranformation)"
   ]
  },
  {
   "cell_type": "markdown",
   "metadata": {
    "cell_id": "e7b89eb2de4a4156ad4ec14d0ac62889",
    "deepnote_app_block_visible": true,
    "deepnote_cell_type": "text-cell-p",
    "formattedRanges": []
   },
   "source": [
    "Setelah proses penggabungan data dari berbagai sumber data. Selanjutnya akan dilakukan proses tranformasi data. Hal ini dilakukan karena kemungkinan data yang diambil memiliki perbedaan format. karena itu agar memudahkan ketika diolah, Data harus disamakan formatnya."
   ]
  },
  {
   "cell_type": "markdown",
   "metadata": {
    "cell_id": "7c5876be07d6455aa964e5b1a40b2f20",
    "deepnote_app_block_visible": true,
    "deepnote_cell_type": "text-cell-bullet",
    "formattedRanges": []
   },
   "source": [
    "- Pengurangan Data (Data Reduction)"
   ]
  },
  {
   "cell_type": "markdown",
   "metadata": {
    "cell_id": "e5335939679748cc9a27fda6f5aa5a5b",
    "deepnote_app_block_visible": true,
    "deepnote_cell_type": "text-cell-p",
    "formattedRanges": []
   },
   "source": [
    "Terakhir yang dilakukan adalah mengurangi data. Maksudnya adalah mengurangi sampel data yang diambil. walupun dilakukan pengurangan sampel data, pengurangan ini tidak boleh mengubah hasil analisa data. Ada tiga cara yang dilakukan. Pertama, Mengurangi dimensi. Kedua, pengurangan jumlah data. Dan ketiga, kompresi data."
   ]
  },
  {
   "cell_type": "markdown",
   "metadata": {
    "cell_id": "3bb9471639254ee0b037b59f7da159af",
    "deepnote_app_block_visible": true,
    "deepnote_cell_type": "text-cell-h2",
    "formattedRanges": []
   },
   "source": [
    "## Pembersihan Data (Data Cleaning)"
   ]
  },
  {
   "cell_type": "markdown",
   "metadata": {
    "cell_id": "3dd46af215c542a6b913e642010c5ddf",
    "deepnote_app_block_visible": true,
    "deepnote_cell_type": "text-cell-h3",
    "formattedRanges": []
   },
   "source": [
    "### Seleksi fitur"
   ]
  },
  {
   "cell_type": "markdown",
   "metadata": {
    "cell_id": "f9a3118b12284bba9b08b71db0afb67c",
    "deepnote_app_block_visible": true,
    "deepnote_cell_type": "text-cell-p",
    "formattedRanges": []
   },
   "source": [
    "Seleksi fitur dilakukan untuk menghapus kolom / fitur yang tidak dibutuhkan. dalam kasus ini, kolom Id dihapus karena tidak dibutuhkan dalam komputasi."
   ]
  },
  {
   "cell_type": "code",
   "execution_count": 9,
   "metadata": {
    "cell_id": "604450d0be0f4c7d986da6903bba9bcb",
    "deepnote_app_block_visible": true,
    "deepnote_cell_type": "code",
    "deepnote_table_loading": false,
    "deepnote_table_state": {
     "filters": [],
     "pageIndex": 0,
     "pageSize": 10,
     "sortBy": []
    },
    "deepnote_to_be_reexecuted": false,
    "execution_millis": 499,
    "execution_start": 1714004139557,
    "source_hash": "2efa4883"
   },
   "outputs": [
    {
     "data": {
      "application/vnd.deepnote.dataframe.v3+json": {
       "column_count": 5,
       "columns": [
        {
         "dtype": "float64",
         "name": "SepalLengthCm",
         "stats": {
          "histogram": [
           {
            "bin_end": 4.66,
            "bin_start": 4.3,
            "count": 9
           },
           {
            "bin_end": 5.02,
            "bin_start": 4.66,
            "count": 21
           },
           {
            "bin_end": 5.38,
            "bin_start": 5.02,
            "count": 14
           },
           {
            "bin_end": 5.74,
            "bin_start": 5.38,
            "count": 26
           },
           {
            "bin_end": 6.1,
            "bin_start": 5.74,
            "count": 15
           },
           {
            "bin_end": 6.46,
            "bin_start": 6.1,
            "count": 25
           },
           {
            "bin_end": 6.82,
            "bin_start": 6.46,
            "count": 18
           },
           {
            "bin_end": 7.18,
            "bin_start": 6.82,
            "count": 6
           },
           {
            "bin_end": 7.54,
            "bin_start": 7.18,
            "count": 5
           },
           {
            "bin_end": 7.9,
            "bin_start": 7.54,
            "count": 6
           }
          ],
          "max": "7.9",
          "min": "4.3",
          "nan_count": 5,
          "unique_count": 35
         }
        },
        {
         "dtype": "float64",
         "name": "SepalWidthCm",
         "stats": {
          "histogram": [
           {
            "bin_end": 2.24,
            "bin_start": 2,
            "count": 4
           },
           {
            "bin_end": 2.48,
            "bin_start": 2.24,
            "count": 7
           },
           {
            "bin_end": 2.72,
            "bin_start": 2.48,
            "count": 22
           },
           {
            "bin_end": 2.96,
            "bin_start": 2.72,
            "count": 24
           },
           {
            "bin_end": 3.2,
            "bin_start": 2.96,
            "count": 38
           },
           {
            "bin_end": 3.4400000000000004,
            "bin_start": 3.2,
            "count": 31
           },
           {
            "bin_end": 3.6800000000000006,
            "bin_start": 3.4400000000000004,
            "count": 9
           },
           {
            "bin_end": 3.9200000000000004,
            "bin_start": 3.6800000000000006,
            "count": 11
           },
           {
            "bin_end": 4.16,
            "bin_start": 3.9200000000000004,
            "count": 2
           },
           {
            "bin_end": 4.4,
            "bin_start": 4.16,
            "count": 2
           }
          ],
          "max": "4.4",
          "min": "2.0",
          "nan_count": 0,
          "unique_count": 23
         }
        },
        {
         "dtype": "float64",
         "name": "PetalLengthCm",
         "stats": {
          "histogram": [
           {
            "bin_end": 1.59,
            "bin_start": 1,
            "count": 37
           },
           {
            "bin_end": 2.18,
            "bin_start": 1.59,
            "count": 13
           },
           {
            "bin_end": 2.7700000000000005,
            "bin_start": 2.18,
            "count": 0
           },
           {
            "bin_end": 3.3600000000000003,
            "bin_start": 2.7700000000000005,
            "count": 3
           },
           {
            "bin_end": 3.95,
            "bin_start": 3.3600000000000003,
            "count": 8
           },
           {
            "bin_end": 4.540000000000001,
            "bin_start": 3.95,
            "count": 26
           },
           {
            "bin_end": 5.130000000000001,
            "bin_start": 4.540000000000001,
            "count": 29
           },
           {
            "bin_end": 5.720000000000001,
            "bin_start": 5.130000000000001,
            "count": 18
           },
           {
            "bin_end": 6.3100000000000005,
            "bin_start": 5.720000000000001,
            "count": 11
           },
           {
            "bin_end": 6.9,
            "bin_start": 6.3100000000000005,
            "count": 5
           }
          ],
          "max": "6.9",
          "min": "1.0",
          "nan_count": 0,
          "unique_count": 43
         }
        },
        {
         "dtype": "float64",
         "name": "PetalWidthCm",
         "stats": {
          "histogram": [
           {
            "bin_end": 0.33999999999999997,
            "bin_start": 0.1,
            "count": 40
           },
           {
            "bin_end": 0.58,
            "bin_start": 0.33999999999999997,
            "count": 8
           },
           {
            "bin_end": 0.82,
            "bin_start": 0.58,
            "count": 1
           },
           {
            "bin_end": 1.06,
            "bin_start": 0.82,
            "count": 7
           },
           {
            "bin_end": 1.3,
            "bin_start": 1.06,
            "count": 8
           },
           {
            "bin_end": 1.54,
            "bin_start": 1.3,
            "count": 32
           },
           {
            "bin_end": 1.78,
            "bin_start": 1.54,
            "count": 6
           },
           {
            "bin_end": 2.02,
            "bin_start": 1.78,
            "count": 23
           },
           {
            "bin_end": 2.2600000000000002,
            "bin_start": 2.02,
            "count": 9
           },
           {
            "bin_end": 2.5,
            "bin_start": 2.2600000000000002,
            "count": 14
           }
          ],
          "max": "2.5",
          "min": "0.1",
          "nan_count": 2,
          "unique_count": 22
         }
        },
        {
         "dtype": "object",
         "name": "Species",
         "stats": {
          "categories": [
           {
            "count": 50,
            "name": "Iris-setosa"
           },
           {
            "count": 50,
            "name": "Iris-versicolor"
           },
           {
            "count": 50,
            "name": "Iris-virginica"
           }
          ],
          "nan_count": 0,
          "unique_count": 3
         }
        },
        {
         "dtype": "int64",
         "name": "_deepnote_index_column"
        }
       ],
       "row_count": 150,
       "rows": [
        {
         "PetalLengthCm": 1.4,
         "PetalWidthCm": 0.2,
         "SepalLengthCm": 5.1,
         "SepalWidthCm": 3.5,
         "Species": "Iris-setosa",
         "_deepnote_index_column": 0
        },
        {
         "PetalLengthCm": 1.4,
         "PetalWidthCm": 0.2,
         "SepalLengthCm": 4.9,
         "SepalWidthCm": 3,
         "Species": "Iris-setosa",
         "_deepnote_index_column": 1
        },
        {
         "PetalLengthCm": 1.3,
         "PetalWidthCm": 0.2,
         "SepalLengthCm": 4.7,
         "SepalWidthCm": 3.2,
         "Species": "Iris-setosa",
         "_deepnote_index_column": 2
        },
        {
         "PetalLengthCm": 1.5,
         "PetalWidthCm": 0.2,
         "SepalLengthCm": 4.6,
         "SepalWidthCm": 3.1,
         "Species": "Iris-setosa",
         "_deepnote_index_column": 3
        },
        {
         "PetalLengthCm": 1.4,
         "PetalWidthCm": 0.2,
         "SepalLengthCm": 5,
         "SepalWidthCm": 3.6,
         "Species": "Iris-setosa",
         "_deepnote_index_column": 4
        },
        {
         "PetalLengthCm": 1.7,
         "PetalWidthCm": 0.4,
         "SepalLengthCm": 5.4,
         "SepalWidthCm": 3.9,
         "Species": "Iris-setosa",
         "_deepnote_index_column": 5
        },
        {
         "PetalLengthCm": 1.4,
         "PetalWidthCm": 0.3,
         "SepalLengthCm": 4.6,
         "SepalWidthCm": 3.4,
         "Species": "Iris-setosa",
         "_deepnote_index_column": 6
        },
        {
         "PetalLengthCm": 1.5,
         "PetalWidthCm": 0.2,
         "SepalLengthCm": 5,
         "SepalWidthCm": 3.4,
         "Species": "Iris-setosa",
         "_deepnote_index_column": 7
        },
        {
         "PetalLengthCm": 1.4,
         "PetalWidthCm": 0.2,
         "SepalLengthCm": 4.4,
         "SepalWidthCm": 2.9,
         "Species": "Iris-setosa",
         "_deepnote_index_column": 8
        },
        {
         "PetalLengthCm": 1.5,
         "PetalWidthCm": 0.1,
         "SepalLengthCm": 4.9,
         "SepalWidthCm": 3.1,
         "Species": "Iris-setosa",
         "_deepnote_index_column": 9
        }
       ]
      },
      "text/html": [
       "<div>\n",
       "<style scoped>\n",
       "    .dataframe tbody tr th:only-of-type {\n",
       "        vertical-align: middle;\n",
       "    }\n",
       "\n",
       "    .dataframe tbody tr th {\n",
       "        vertical-align: top;\n",
       "    }\n",
       "\n",
       "    .dataframe thead th {\n",
       "        text-align: right;\n",
       "    }\n",
       "</style>\n",
       "<table border=\"1\" class=\"dataframe\">\n",
       "  <thead>\n",
       "    <tr style=\"text-align: right;\">\n",
       "      <th></th>\n",
       "      <th>SepalLengthCm</th>\n",
       "      <th>SepalWidthCm</th>\n",
       "      <th>PetalLengthCm</th>\n",
       "      <th>PetalWidthCm</th>\n",
       "      <th>Species</th>\n",
       "    </tr>\n",
       "  </thead>\n",
       "  <tbody>\n",
       "    <tr>\n",
       "      <th>0</th>\n",
       "      <td>5.1</td>\n",
       "      <td>3.5</td>\n",
       "      <td>1.4</td>\n",
       "      <td>0.2</td>\n",
       "      <td>Iris-setosa</td>\n",
       "    </tr>\n",
       "    <tr>\n",
       "      <th>1</th>\n",
       "      <td>4.9</td>\n",
       "      <td>3.0</td>\n",
       "      <td>1.4</td>\n",
       "      <td>0.2</td>\n",
       "      <td>Iris-setosa</td>\n",
       "    </tr>\n",
       "    <tr>\n",
       "      <th>2</th>\n",
       "      <td>4.7</td>\n",
       "      <td>3.2</td>\n",
       "      <td>1.3</td>\n",
       "      <td>0.2</td>\n",
       "      <td>Iris-setosa</td>\n",
       "    </tr>\n",
       "    <tr>\n",
       "      <th>3</th>\n",
       "      <td>4.6</td>\n",
       "      <td>3.1</td>\n",
       "      <td>1.5</td>\n",
       "      <td>0.2</td>\n",
       "      <td>Iris-setosa</td>\n",
       "    </tr>\n",
       "    <tr>\n",
       "      <th>4</th>\n",
       "      <td>5.0</td>\n",
       "      <td>3.6</td>\n",
       "      <td>1.4</td>\n",
       "      <td>0.2</td>\n",
       "      <td>Iris-setosa</td>\n",
       "    </tr>\n",
       "    <tr>\n",
       "      <th>...</th>\n",
       "      <td>...</td>\n",
       "      <td>...</td>\n",
       "      <td>...</td>\n",
       "      <td>...</td>\n",
       "      <td>...</td>\n",
       "    </tr>\n",
       "    <tr>\n",
       "      <th>145</th>\n",
       "      <td>6.7</td>\n",
       "      <td>3.0</td>\n",
       "      <td>5.2</td>\n",
       "      <td>2.3</td>\n",
       "      <td>Iris-virginica</td>\n",
       "    </tr>\n",
       "    <tr>\n",
       "      <th>146</th>\n",
       "      <td>6.3</td>\n",
       "      <td>2.5</td>\n",
       "      <td>5.0</td>\n",
       "      <td>1.9</td>\n",
       "      <td>Iris-virginica</td>\n",
       "    </tr>\n",
       "    <tr>\n",
       "      <th>147</th>\n",
       "      <td>6.5</td>\n",
       "      <td>3.0</td>\n",
       "      <td>5.2</td>\n",
       "      <td>2.0</td>\n",
       "      <td>Iris-virginica</td>\n",
       "    </tr>\n",
       "    <tr>\n",
       "      <th>148</th>\n",
       "      <td>6.2</td>\n",
       "      <td>3.4</td>\n",
       "      <td>5.4</td>\n",
       "      <td>2.3</td>\n",
       "      <td>Iris-virginica</td>\n",
       "    </tr>\n",
       "    <tr>\n",
       "      <th>149</th>\n",
       "      <td>NaN</td>\n",
       "      <td>3.0</td>\n",
       "      <td>5.1</td>\n",
       "      <td>1.8</td>\n",
       "      <td>Iris-virginica</td>\n",
       "    </tr>\n",
       "  </tbody>\n",
       "</table>\n",
       "<p>150 rows × 5 columns</p>\n",
       "</div>"
      ],
      "text/plain": [
       "     SepalLengthCm  SepalWidthCm  PetalLengthCm  PetalWidthCm         Species\n",
       "0              5.1           3.5            1.4           0.2     Iris-setosa\n",
       "1              4.9           3.0            1.4           0.2     Iris-setosa\n",
       "2              4.7           3.2            1.3           0.2     Iris-setosa\n",
       "3              4.6           3.1            1.5           0.2     Iris-setosa\n",
       "4              5.0           3.6            1.4           0.2     Iris-setosa\n",
       "..             ...           ...            ...           ...             ...\n",
       "145            6.7           3.0            5.2           2.3  Iris-virginica\n",
       "146            6.3           2.5            5.0           1.9  Iris-virginica\n",
       "147            6.5           3.0            5.2           2.0  Iris-virginica\n",
       "148            6.2           3.4            5.4           2.3  Iris-virginica\n",
       "149            NaN           3.0            5.1           1.8  Iris-virginica\n",
       "\n",
       "[150 rows x 5 columns]"
      ]
     },
     "execution_count": 9,
     "metadata": {},
     "output_type": "execute_result"
    }
   ],
   "source": [
    "df = df.drop(['Id'], axis=1)\n",
    "\n",
    "df"
   ]
  },
  {
   "cell_type": "markdown",
   "metadata": {
    "cell_id": "dd0958b8b76a43278c15d93e262c8171",
    "deepnote_app_block_visible": true,
    "deepnote_cell_type": "text-cell-h3",
    "formattedRanges": []
   },
   "source": [
    "### Merubah nama kolom"
   ]
  },
  {
   "cell_type": "markdown",
   "metadata": {
    "cell_id": "1c1e58357a3d4519b9c662265e9f9dbb",
    "deepnote_app_block_visible": true,
    "deepnote_cell_type": "text-cell-p",
    "formattedRanges": []
   },
   "source": [
    "Dataset biasanya memiliki nama kolom / fitur yang kurang manusiawi sehingga diperlukan peruahan nama agar memudahkan proses analisis."
   ]
  },
  {
   "cell_type": "code",
   "execution_count": 10,
   "metadata": {
    "cell_id": "dd7991c888024dd19cd0e27b60823746",
    "deepnote_app_block_visible": true,
    "deepnote_cell_type": "code",
    "deepnote_to_be_reexecuted": false,
    "execution_millis": 461,
    "execution_start": 1714004139596,
    "source_hash": "f201037f"
   },
   "outputs": [
    {
     "data": {
      "application/vnd.deepnote.dataframe.v3+json": {
       "column_count": 5,
       "columns": [
        {
         "dtype": "float64",
         "name": "Sepal Length",
         "stats": {
          "histogram": [
           {
            "bin_end": 4.6499999999999995,
            "bin_start": 4.6,
            "count": 1
           },
           {
            "bin_end": 4.699999999999999,
            "bin_start": 4.6499999999999995,
            "count": 0
           },
           {
            "bin_end": 4.75,
            "bin_start": 4.699999999999999,
            "count": 1
           },
           {
            "bin_end": 4.8,
            "bin_start": 4.75,
            "count": 0
           },
           {
            "bin_end": 4.85,
            "bin_start": 4.8,
            "count": 0
           },
           {
            "bin_end": 4.8999999999999995,
            "bin_start": 4.85,
            "count": 0
           },
           {
            "bin_end": 4.949999999999999,
            "bin_start": 4.8999999999999995,
            "count": 1
           },
           {
            "bin_end": 5,
            "bin_start": 4.949999999999999,
            "count": 0
           },
           {
            "bin_end": 5.05,
            "bin_start": 5,
            "count": 1
           },
           {
            "bin_end": 5.1,
            "bin_start": 5.05,
            "count": 1
           }
          ],
          "max": "5.1",
          "min": "4.6",
          "nan_count": 0,
          "unique_count": 5
         }
        },
        {
         "dtype": "float64",
         "name": "Sepal Width",
         "stats": {
          "histogram": [
           {
            "bin_end": 3.06,
            "bin_start": 3,
            "count": 1
           },
           {
            "bin_end": 3.12,
            "bin_start": 3.06,
            "count": 1
           },
           {
            "bin_end": 3.18,
            "bin_start": 3.12,
            "count": 0
           },
           {
            "bin_end": 3.24,
            "bin_start": 3.18,
            "count": 1
           },
           {
            "bin_end": 3.3,
            "bin_start": 3.24,
            "count": 0
           },
           {
            "bin_end": 3.3600000000000003,
            "bin_start": 3.3,
            "count": 0
           },
           {
            "bin_end": 3.42,
            "bin_start": 3.3600000000000003,
            "count": 0
           },
           {
            "bin_end": 3.48,
            "bin_start": 3.42,
            "count": 0
           },
           {
            "bin_end": 3.54,
            "bin_start": 3.48,
            "count": 1
           },
           {
            "bin_end": 3.6,
            "bin_start": 3.54,
            "count": 1
           }
          ],
          "max": "3.6",
          "min": "3.0",
          "nan_count": 0,
          "unique_count": 5
         }
        },
        {
         "dtype": "float64",
         "name": "Petal Length",
         "stats": {
          "histogram": [
           {
            "bin_end": 1.32,
            "bin_start": 1.3,
            "count": 1
           },
           {
            "bin_end": 1.34,
            "bin_start": 1.32,
            "count": 0
           },
           {
            "bin_end": 1.36,
            "bin_start": 1.34,
            "count": 0
           },
           {
            "bin_end": 1.3800000000000001,
            "bin_start": 1.36,
            "count": 0
           },
           {
            "bin_end": 1.4,
            "bin_start": 1.3800000000000001,
            "count": 0
           },
           {
            "bin_end": 1.42,
            "bin_start": 1.4,
            "count": 3
           },
           {
            "bin_end": 1.44,
            "bin_start": 1.42,
            "count": 0
           },
           {
            "bin_end": 1.46,
            "bin_start": 1.44,
            "count": 0
           },
           {
            "bin_end": 1.48,
            "bin_start": 1.46,
            "count": 0
           },
           {
            "bin_end": 1.5,
            "bin_start": 1.48,
            "count": 1
           }
          ],
          "max": "1.5",
          "min": "1.3",
          "nan_count": 0,
          "unique_count": 3
         }
        },
        {
         "dtype": "float64",
         "name": "Petal Width",
         "stats": {
          "histogram": [
           {
            "bin_end": -0.19999999999999998,
            "bin_start": -0.3,
            "count": 0
           },
           {
            "bin_end": -0.09999999999999998,
            "bin_start": -0.19999999999999998,
            "count": 0
           },
           {
            "bin_end": 5.551115123125783e-17,
            "bin_start": -0.09999999999999998,
            "count": 0
           },
           {
            "bin_end": 0.10000000000000003,
            "bin_start": 5.551115123125783e-17,
            "count": 0
           },
           {
            "bin_end": 0.2,
            "bin_start": 0.10000000000000003,
            "count": 0
           },
           {
            "bin_end": 0.3000000000000001,
            "bin_start": 0.2,
            "count": 5
           },
           {
            "bin_end": 0.4000000000000001,
            "bin_start": 0.3000000000000001,
            "count": 0
           },
           {
            "bin_end": 0.5,
            "bin_start": 0.4000000000000001,
            "count": 0
           },
           {
            "bin_end": 0.6000000000000001,
            "bin_start": 0.5,
            "count": 0
           },
           {
            "bin_end": 0.7,
            "bin_start": 0.6000000000000001,
            "count": 0
           }
          ],
          "max": "0.2",
          "min": "0.2",
          "nan_count": 0,
          "unique_count": 1
         }
        },
        {
         "dtype": "object",
         "name": "Species",
         "stats": {
          "categories": [
           {
            "count": 5,
            "name": "Iris-setosa"
           }
          ],
          "nan_count": 0,
          "unique_count": 1
         }
        },
        {
         "dtype": "int64",
         "name": "_deepnote_index_column"
        }
       ],
       "row_count": 5,
       "rows": [
        {
         "Petal Length": 1.4,
         "Petal Width": 0.2,
         "Sepal Length": 5.1,
         "Sepal Width": 3.5,
         "Species": "Iris-setosa",
         "_deepnote_index_column": 0
        },
        {
         "Petal Length": 1.4,
         "Petal Width": 0.2,
         "Sepal Length": 4.9,
         "Sepal Width": 3,
         "Species": "Iris-setosa",
         "_deepnote_index_column": 1
        },
        {
         "Petal Length": 1.3,
         "Petal Width": 0.2,
         "Sepal Length": 4.7,
         "Sepal Width": 3.2,
         "Species": "Iris-setosa",
         "_deepnote_index_column": 2
        },
        {
         "Petal Length": 1.5,
         "Petal Width": 0.2,
         "Sepal Length": 4.6,
         "Sepal Width": 3.1,
         "Species": "Iris-setosa",
         "_deepnote_index_column": 3
        },
        {
         "Petal Length": 1.4,
         "Petal Width": 0.2,
         "Sepal Length": 5,
         "Sepal Width": 3.6,
         "Species": "Iris-setosa",
         "_deepnote_index_column": 4
        }
       ]
      },
      "text/html": [
       "<div>\n",
       "<style scoped>\n",
       "    .dataframe tbody tr th:only-of-type {\n",
       "        vertical-align: middle;\n",
       "    }\n",
       "\n",
       "    .dataframe tbody tr th {\n",
       "        vertical-align: top;\n",
       "    }\n",
       "\n",
       "    .dataframe thead th {\n",
       "        text-align: right;\n",
       "    }\n",
       "</style>\n",
       "<table border=\"1\" class=\"dataframe\">\n",
       "  <thead>\n",
       "    <tr style=\"text-align: right;\">\n",
       "      <th></th>\n",
       "      <th>Sepal Length</th>\n",
       "      <th>Sepal Width</th>\n",
       "      <th>Petal Length</th>\n",
       "      <th>Petal Width</th>\n",
       "      <th>Species</th>\n",
       "    </tr>\n",
       "  </thead>\n",
       "  <tbody>\n",
       "    <tr>\n",
       "      <th>0</th>\n",
       "      <td>5.1</td>\n",
       "      <td>3.5</td>\n",
       "      <td>1.4</td>\n",
       "      <td>0.2</td>\n",
       "      <td>Iris-setosa</td>\n",
       "    </tr>\n",
       "    <tr>\n",
       "      <th>1</th>\n",
       "      <td>4.9</td>\n",
       "      <td>3.0</td>\n",
       "      <td>1.4</td>\n",
       "      <td>0.2</td>\n",
       "      <td>Iris-setosa</td>\n",
       "    </tr>\n",
       "    <tr>\n",
       "      <th>2</th>\n",
       "      <td>4.7</td>\n",
       "      <td>3.2</td>\n",
       "      <td>1.3</td>\n",
       "      <td>0.2</td>\n",
       "      <td>Iris-setosa</td>\n",
       "    </tr>\n",
       "    <tr>\n",
       "      <th>3</th>\n",
       "      <td>4.6</td>\n",
       "      <td>3.1</td>\n",
       "      <td>1.5</td>\n",
       "      <td>0.2</td>\n",
       "      <td>Iris-setosa</td>\n",
       "    </tr>\n",
       "    <tr>\n",
       "      <th>4</th>\n",
       "      <td>5.0</td>\n",
       "      <td>3.6</td>\n",
       "      <td>1.4</td>\n",
       "      <td>0.2</td>\n",
       "      <td>Iris-setosa</td>\n",
       "    </tr>\n",
       "  </tbody>\n",
       "</table>\n",
       "</div>"
      ],
      "text/plain": [
       "   Sepal Length  Sepal Width  Petal Length  Petal Width      Species\n",
       "0           5.1          3.5           1.4          0.2  Iris-setosa\n",
       "1           4.9          3.0           1.4          0.2  Iris-setosa\n",
       "2           4.7          3.2           1.3          0.2  Iris-setosa\n",
       "3           4.6          3.1           1.5          0.2  Iris-setosa\n",
       "4           5.0          3.6           1.4          0.2  Iris-setosa"
      ]
     },
     "execution_count": 10,
     "metadata": {},
     "output_type": "execute_result"
    }
   ],
   "source": [
    "df = df.rename(columns={'SepalLengthCm' : 'Sepal Length', 'SepalWidthCm' : 'Sepal Width', 'PetalLengthCm' : 'Petal Length', 'PetalWidthCm' : 'Petal Width'})\n",
    "\n",
    "df.head(5)"
   ]
  },
  {
   "cell_type": "markdown",
   "metadata": {
    "cell_id": "ef54840fe4e141cab5a6322953066615",
    "deepnote_app_block_visible": true,
    "deepnote_cell_type": "text-cell-h3",
    "formattedRanges": []
   },
   "source": [
    "### Menghapus baris duplikat"
   ]
  },
  {
   "cell_type": "markdown",
   "metadata": {
    "cell_id": "19ce592034444e5083db9f10ffa845a6",
    "deepnote_app_block_visible": true,
    "deepnote_cell_type": "text-cell-p",
    "formattedRanges": []
   },
   "source": [
    "Dataset yang baik adalah dataset yang memiliki jumlah data yang banyak dan beragam. Banyaknya data yang sama tidak akan membuat model memilki akurasi yang tinggi."
   ]
  },
  {
   "cell_type": "code",
   "execution_count": 11,
   "metadata": {
    "cell_id": "422d39f121d64a588139f95135670784",
    "deepnote_app_block_visible": true,
    "deepnote_cell_type": "code",
    "deepnote_to_be_reexecuted": false,
    "execution_millis": 460,
    "execution_start": 1714004139597,
    "source_hash": "1386cb8b"
   },
   "outputs": [
    {
     "data": {
      "text/plain": [
       "(150, 5)"
      ]
     },
     "execution_count": 11,
     "metadata": {},
     "output_type": "execute_result"
    }
   ],
   "source": [
    "# cek jumlah baris dan kolom\n",
    "df.shape"
   ]
  },
  {
   "cell_type": "code",
   "execution_count": 12,
   "metadata": {
    "cell_id": "c569de26adf7451996728eb08f092420",
    "deepnote_app_block_visible": true,
    "deepnote_cell_type": "code",
    "deepnote_to_be_reexecuted": false,
    "execution_millis": 438,
    "execution_start": 1714004139619,
    "source_hash": "de09fef7"
   },
   "outputs": [
    {
     "name": "stdout",
     "output_type": "stream",
     "text": [
      "number of duplicate rows :  (3, 5)\n"
     ]
    }
   ],
   "source": [
    "# cek jumlah baris dan kolom yang memiliki data duplikat\n",
    "duplicate_rows_df = df[df.duplicated()]\n",
    "\n",
    "print('number of duplicate rows : ', duplicate_rows_df.shape)"
   ]
  },
  {
   "cell_type": "markdown",
   "metadata": {
    "cell_id": "0d6f813a82494e39ae1f2aebdf703e9e",
    "deepnote_app_block_visible": true,
    "deepnote_cell_type": "text-cell-p",
    "formattedRanges": []
   },
   "source": [
    "Dari kode program diatas, dapat diketahui bahwa terdapat tiga baris yang memilki data yang sama"
   ]
  },
  {
   "cell_type": "code",
   "execution_count": 13,
   "metadata": {
    "cell_id": "0ca9ae6ff9ba470e93320de97777f2d7",
    "deepnote_app_block_visible": true,
    "deepnote_cell_type": "code",
    "deepnote_table_loading": false,
    "deepnote_table_state": {
     "filters": [],
     "pageIndex": 0,
     "pageSize": 10,
     "sortBy": []
    },
    "deepnote_to_be_reexecuted": false,
    "execution_millis": 434,
    "execution_start": 1714004139624,
    "source_hash": "1f894e38"
   },
   "outputs": [
    {
     "name": "stdout",
     "output_type": "stream",
     "text": [
      "number of rows after drop duplicated rows (147, 5)\n"
     ]
    }
   ],
   "source": [
    "# menghapus duplikasi data\n",
    "df = df.drop_duplicates()\n",
    "\n",
    "print('number of rows after drop duplicated rows', df.shape)"
   ]
  },
  {
   "cell_type": "markdown",
   "metadata": {
    "cell_id": "87c7022a06294fbbb441b4ca1670b6fd",
    "deepnote_app_block_visible": true,
    "deepnote_cell_type": "text-cell-p",
    "formattedRanges": []
   },
   "source": [
    "Berdasarkan output kode proram diatas, jumlah baris yang awalnya 150 baris menjadi 147 baris. hal ini membuktikan bahwa kita sudah berhasil menghapus baris yang memiliki data yang sama."
   ]
  },
  {
   "cell_type": "markdown",
   "metadata": {
    "cell_id": "fdff554da2d34e3b8a1f1529ae1daa05",
    "deepnote_app_block_visible": true,
    "deepnote_cell_type": "text-cell-h3",
    "formattedRanges": []
   },
   "source": [
    "### Penanganan missing value"
   ]
  },
  {
   "cell_type": "markdown",
   "metadata": {
    "cell_id": "9472dc54a5714ee2baab120e8deb80c6",
    "deepnote_app_block_visible": true,
    "deepnote_cell_type": "text-cell-p",
    "formattedRanges": []
   },
   "source": [
    "Data yang hilang atau kosong harus ditangani dengan serius. Hal ini akan merusak dan menganggu pemodelan dataset.Data yang hilang atau kosong berasal dari sumber data yang tidak bekerja secara benar. bisa saja dari mesin yang awalnya bekerja secara baik namun diproses pengerjaan mengalamai error. Ataupun bila data yang didapatkan dari manusisa, bisa saja data yang hilang disebabkan oleh human error atau privatisasi data. "
   ]
  },
  {
   "cell_type": "markdown",
   "metadata": {
    "cell_id": "bc5d053bcfa24ea1a425aeb44f3825f7",
    "deepnote_app_block_visible": true,
    "deepnote_cell_type": "text-cell-p",
    "formattedRanges": []
   },
   "source": [
    "Dalam menangani missing value ada beberapa cara. umumnya bisa dengan dihapus ataupun di isi dengan metode metode tertentu. dalam kasus ini, kita akan mencoba melakukan hapus data dan mengisi data dengan metode menghitung rata-rata (mean) dan metode K Nearest Neightbour (KNN)."
   ]
  },
  {
   "cell_type": "markdown",
   "metadata": {
    "cell_id": "3f8d0a37b1ad43a783f688eaa0e7bc71",
    "deepnote_app_block_visible": true,
    "deepnote_cell_type": "text-cell-p",
    "formattedRanges": [
     {
      "fromCodePoint": 0,
      "marks": {
       "bold": true
      },
      "toCodePoint": 47,
      "type": "marks"
     }
    ]
   },
   "source": [
    "Penanganan missing value dengan menghapus baris"
   ]
  },
  {
   "cell_type": "code",
   "execution_count": 14,
   "metadata": {
    "cell_id": "b17635ad255544569cae3eafd9d0c2c1",
    "deepnote_app_block_visible": true,
    "deepnote_cell_type": "code",
    "deepnote_to_be_reexecuted": false,
    "execution_millis": 428,
    "execution_start": 1714004139630,
    "source_hash": "fa5d0e82"
   },
   "outputs": [
    {
     "data": {
      "application/vnd.deepnote.dataframe.v3+json": {
       "column_count": 5,
       "columns": [
        {
         "dtype": "float64",
         "name": "Sepal Length",
         "stats": {
          "histogram": [
           {
            "bin_end": 0.1,
            "bin_start": 0,
            "count": 0
           },
           {
            "bin_end": 0.2,
            "bin_start": 0.1,
            "count": 0
           },
           {
            "bin_end": 0.30000000000000004,
            "bin_start": 0.2,
            "count": 0
           },
           {
            "bin_end": 0.4,
            "bin_start": 0.30000000000000004,
            "count": 0
           },
           {
            "bin_end": 0.5,
            "bin_start": 0.4,
            "count": 0
           },
           {
            "bin_end": 0.6000000000000001,
            "bin_start": 0.5,
            "count": 0
           },
           {
            "bin_end": 0.7000000000000001,
            "bin_start": 0.6000000000000001,
            "count": 0
           },
           {
            "bin_end": 0.8,
            "bin_start": 0.7000000000000001,
            "count": 0
           },
           {
            "bin_end": 0.9,
            "bin_start": 0.8,
            "count": 0
           },
           {
            "bin_end": 1,
            "bin_start": 0.9,
            "count": 0
           }
          ],
          "max": null,
          "min": null,
          "nan_count": 5,
          "unique_count": 0
         }
        },
        {
         "dtype": "float64",
         "name": "Sepal Width",
         "stats": {
          "histogram": [
           {
            "bin_end": 2.86,
            "bin_start": 2.8,
            "count": 1
           },
           {
            "bin_end": 2.92,
            "bin_start": 2.86,
            "count": 1
           },
           {
            "bin_end": 2.98,
            "bin_start": 2.92,
            "count": 0
           },
           {
            "bin_end": 3.04,
            "bin_start": 2.98,
            "count": 1
           },
           {
            "bin_end": 3.0999999999999996,
            "bin_start": 3.04,
            "count": 0
           },
           {
            "bin_end": 3.16,
            "bin_start": 3.0999999999999996,
            "count": 0
           },
           {
            "bin_end": 3.2199999999999998,
            "bin_start": 3.16,
            "count": 0
           },
           {
            "bin_end": 3.28,
            "bin_start": 3.2199999999999998,
            "count": 0
           },
           {
            "bin_end": 3.34,
            "bin_start": 3.28,
            "count": 1
           },
           {
            "bin_end": 3.4,
            "bin_start": 3.34,
            "count": 1
           }
          ],
          "max": "3.4",
          "min": "2.8",
          "nan_count": 0,
          "unique_count": 5
         }
        },
        {
         "dtype": "float64",
         "name": "Petal Length",
         "stats": {
          "histogram": [
           {
            "bin_end": 1.77,
            "bin_start": 1.4,
            "count": 1
           },
           {
            "bin_end": 2.1399999999999997,
            "bin_start": 1.77,
            "count": 1
           },
           {
            "bin_end": 2.51,
            "bin_start": 2.1399999999999997,
            "count": 0
           },
           {
            "bin_end": 2.88,
            "bin_start": 2.51,
            "count": 0
           },
           {
            "bin_end": 3.25,
            "bin_start": 2.88,
            "count": 0
           },
           {
            "bin_end": 3.6199999999999997,
            "bin_start": 3.25,
            "count": 0
           },
           {
            "bin_end": 3.9899999999999998,
            "bin_start": 3.6199999999999997,
            "count": 0
           },
           {
            "bin_end": 4.359999999999999,
            "bin_start": 3.9899999999999998,
            "count": 2
           },
           {
            "bin_end": 4.73,
            "bin_start": 4.359999999999999,
            "count": 0
           },
           {
            "bin_end": 5.1,
            "bin_start": 4.73,
            "count": 1
           }
          ],
          "max": "5.1",
          "min": "1.4",
          "nan_count": 0,
          "unique_count": 5
         }
        },
        {
         "dtype": "float64",
         "name": "Petal Width",
         "stats": {
          "histogram": [
           {
            "bin_end": 0.36,
            "bin_start": 0.2,
            "count": 1
           },
           {
            "bin_end": 0.52,
            "bin_start": 0.36,
            "count": 0
           },
           {
            "bin_end": 0.6799999999999999,
            "bin_start": 0.52,
            "count": 0
           },
           {
            "bin_end": 0.8400000000000001,
            "bin_start": 0.6799999999999999,
            "count": 0
           },
           {
            "bin_end": 1,
            "bin_start": 0.8400000000000001,
            "count": 0
           },
           {
            "bin_end": 1.16,
            "bin_start": 1,
            "count": 0
           },
           {
            "bin_end": 1.32,
            "bin_start": 1.16,
            "count": 1
           },
           {
            "bin_end": 1.48,
            "bin_start": 1.32,
            "count": 0
           },
           {
            "bin_end": 1.64,
            "bin_start": 1.48,
            "count": 0
           },
           {
            "bin_end": 1.8,
            "bin_start": 1.64,
            "count": 1
           }
          ],
          "max": "1.8",
          "min": "0.2",
          "nan_count": 2,
          "unique_count": 3
         }
        },
        {
         "dtype": "object",
         "name": "Species",
         "stats": {
          "categories": [
           {
            "count": 2,
            "name": "Iris-setosa"
           },
           {
            "count": 2,
            "name": "Iris-versicolor"
           },
           {
            "count": 1,
            "name": "Iris-virginica"
           }
          ],
          "nan_count": 0,
          "unique_count": 3
         }
        },
        {
         "dtype": "int64",
         "name": "_deepnote_index_column"
        }
       ],
       "row_count": 5,
       "rows": [
        {
         "Petal Length": 1.9,
         "Petal Width": "nan",
         "Sepal Length": "nan",
         "Sepal Width": 3.4,
         "Species": "Iris-setosa",
         "_deepnote_index_column": 24
        },
        {
         "Petal Length": 1.4,
         "Petal Width": 0.2,
         "Sepal Length": "nan",
         "Sepal Width": 3.3,
         "Species": "Iris-setosa",
         "_deepnote_index_column": 49
        },
        {
         "Petal Length": 4.3,
         "Petal Width": "nan",
         "Sepal Length": "nan",
         "Sepal Width": 2.9,
         "Species": "Iris-versicolor",
         "_deepnote_index_column": 74
        },
        {
         "Petal Length": 4.1,
         "Petal Width": 1.3,
         "Sepal Length": "nan",
         "Sepal Width": 2.8,
         "Species": "Iris-versicolor",
         "_deepnote_index_column": 99
        },
        {
         "Petal Length": 5.1,
         "Petal Width": 1.8,
         "Sepal Length": "nan",
         "Sepal Width": 3,
         "Species": "Iris-virginica",
         "_deepnote_index_column": 149
        }
       ]
      },
      "text/html": [
       "<div>\n",
       "<style scoped>\n",
       "    .dataframe tbody tr th:only-of-type {\n",
       "        vertical-align: middle;\n",
       "    }\n",
       "\n",
       "    .dataframe tbody tr th {\n",
       "        vertical-align: top;\n",
       "    }\n",
       "\n",
       "    .dataframe thead th {\n",
       "        text-align: right;\n",
       "    }\n",
       "</style>\n",
       "<table border=\"1\" class=\"dataframe\">\n",
       "  <thead>\n",
       "    <tr style=\"text-align: right;\">\n",
       "      <th></th>\n",
       "      <th>Sepal Length</th>\n",
       "      <th>Sepal Width</th>\n",
       "      <th>Petal Length</th>\n",
       "      <th>Petal Width</th>\n",
       "      <th>Species</th>\n",
       "    </tr>\n",
       "  </thead>\n",
       "  <tbody>\n",
       "    <tr>\n",
       "      <th>24</th>\n",
       "      <td>NaN</td>\n",
       "      <td>3.4</td>\n",
       "      <td>1.9</td>\n",
       "      <td>NaN</td>\n",
       "      <td>Iris-setosa</td>\n",
       "    </tr>\n",
       "    <tr>\n",
       "      <th>49</th>\n",
       "      <td>NaN</td>\n",
       "      <td>3.3</td>\n",
       "      <td>1.4</td>\n",
       "      <td>0.2</td>\n",
       "      <td>Iris-setosa</td>\n",
       "    </tr>\n",
       "    <tr>\n",
       "      <th>74</th>\n",
       "      <td>NaN</td>\n",
       "      <td>2.9</td>\n",
       "      <td>4.3</td>\n",
       "      <td>NaN</td>\n",
       "      <td>Iris-versicolor</td>\n",
       "    </tr>\n",
       "    <tr>\n",
       "      <th>99</th>\n",
       "      <td>NaN</td>\n",
       "      <td>2.8</td>\n",
       "      <td>4.1</td>\n",
       "      <td>1.3</td>\n",
       "      <td>Iris-versicolor</td>\n",
       "    </tr>\n",
       "    <tr>\n",
       "      <th>149</th>\n",
       "      <td>NaN</td>\n",
       "      <td>3.0</td>\n",
       "      <td>5.1</td>\n",
       "      <td>1.8</td>\n",
       "      <td>Iris-virginica</td>\n",
       "    </tr>\n",
       "  </tbody>\n",
       "</table>\n",
       "</div>"
      ],
      "text/plain": [
       "     Sepal Length  Sepal Width  Petal Length  Petal Width          Species\n",
       "24            NaN          3.4           1.9          NaN      Iris-setosa\n",
       "49            NaN          3.3           1.4          0.2      Iris-setosa\n",
       "74            NaN          2.9           4.3          NaN  Iris-versicolor\n",
       "99            NaN          2.8           4.1          1.3  Iris-versicolor\n",
       "149           NaN          3.0           5.1          1.8   Iris-virginica"
      ]
     },
     "execution_count": 14,
     "metadata": {},
     "output_type": "execute_result"
    }
   ],
   "source": [
    "# menampilkan baris dengan missing value\n",
    "df.loc[df['Sepal Length'].isnull() | df['Sepal Width'].isnull() | df['Petal Length'].isnull() | df['Petal Width'].isnull()]"
   ]
  },
  {
   "cell_type": "markdown",
   "metadata": {
    "cell_id": "18efe35a7da9445f9556262070d5e87f",
    "deepnote_app_block_visible": true,
    "deepnote_cell_type": "text-cell-p",
    "formattedRanges": []
   },
   "source": [
    "Dalam kasus ini terdapat lima baris data yang memiliki missing value. pada baris 24 dan 74. terdapat dua kolom yang memiliki missing value. baris ini kita hapus karena kita kehilangan 2 data fitur dari 4 fitur. atau dapat dibilang kita kehilangan 50% informasi fitur pada fitur."
   ]
  },
  {
   "cell_type": "code",
   "execution_count": 15,
   "metadata": {
    "cell_id": "f9231fb777194a0c9e22af761407ab5a",
    "deepnote_app_block_visible": true,
    "deepnote_cell_type": "code",
    "deepnote_table_loading": false,
    "deepnote_table_state": {
     "filters": [],
     "pageIndex": 0,
     "pageSize": 10,
     "sortBy": []
    },
    "deepnote_to_be_reexecuted": false,
    "execution_millis": 760,
    "execution_start": 1714004139683,
    "source_hash": "5f857a51"
   },
   "outputs": [],
   "source": [
    "# menghapus baris baris dengan missing value pada kolom 'Petal Width'\n",
    "df.dropna(subset=['Petal Width'], inplace=True)"
   ]
  },
  {
   "cell_type": "code",
   "execution_count": 16,
   "metadata": {
    "cell_id": "cab492aa58984aaabf86edc0138e0fc0",
    "deepnote_app_block_visible": true,
    "deepnote_cell_type": "code",
    "deepnote_table_loading": false,
    "deepnote_table_state": {
     "filters": [],
     "pageIndex": 13,
     "pageSize": 10,
     "sortBy": []
    },
    "deepnote_to_be_reexecuted": false,
    "execution_millis": 758,
    "execution_start": 1714004139685,
    "source_hash": "f804c160"
   },
   "outputs": [
    {
     "data": {
      "application/vnd.deepnote.dataframe.v3+json": {
       "column_count": 5,
       "columns": [
        {
         "dtype": "float64",
         "name": "Sepal Length",
         "stats": {
          "histogram": [
           {
            "bin_end": 4.66,
            "bin_start": 4.3,
            "count": 9
           },
           {
            "bin_end": 5.02,
            "bin_start": 4.66,
            "count": 19
           },
           {
            "bin_end": 5.38,
            "bin_start": 5.02,
            "count": 14
           },
           {
            "bin_end": 5.74,
            "bin_start": 5.38,
            "count": 26
           },
           {
            "bin_end": 6.1,
            "bin_start": 5.74,
            "count": 14
           },
           {
            "bin_end": 6.46,
            "bin_start": 6.1,
            "count": 25
           },
           {
            "bin_end": 6.82,
            "bin_start": 6.46,
            "count": 18
           },
           {
            "bin_end": 7.18,
            "bin_start": 6.82,
            "count": 6
           },
           {
            "bin_end": 7.54,
            "bin_start": 7.18,
            "count": 5
           },
           {
            "bin_end": 7.9,
            "bin_start": 7.54,
            "count": 6
           }
          ],
          "max": "7.9",
          "min": "4.3",
          "nan_count": 3,
          "unique_count": 35
         }
        },
        {
         "dtype": "float64",
         "name": "Sepal Width",
         "stats": {
          "histogram": [
           {
            "bin_end": 2.24,
            "bin_start": 2,
            "count": 4
           },
           {
            "bin_end": 2.48,
            "bin_start": 2.24,
            "count": 7
           },
           {
            "bin_end": 2.72,
            "bin_start": 2.48,
            "count": 21
           },
           {
            "bin_end": 2.96,
            "bin_start": 2.72,
            "count": 23
           },
           {
            "bin_end": 3.2,
            "bin_start": 2.96,
            "count": 36
           },
           {
            "bin_end": 3.4400000000000004,
            "bin_start": 3.2,
            "count": 30
           },
           {
            "bin_end": 3.6800000000000006,
            "bin_start": 3.4400000000000004,
            "count": 9
           },
           {
            "bin_end": 3.9200000000000004,
            "bin_start": 3.6800000000000006,
            "count": 11
           },
           {
            "bin_end": 4.16,
            "bin_start": 3.9200000000000004,
            "count": 2
           },
           {
            "bin_end": 4.4,
            "bin_start": 4.16,
            "count": 2
           }
          ],
          "max": "4.4",
          "min": "2.0",
          "nan_count": 0,
          "unique_count": 23
         }
        },
        {
         "dtype": "float64",
         "name": "Petal Length",
         "stats": {
          "histogram": [
           {
            "bin_end": 1.59,
            "bin_start": 1,
            "count": 35
           },
           {
            "bin_end": 2.18,
            "bin_start": 1.59,
            "count": 12
           },
           {
            "bin_end": 2.7700000000000005,
            "bin_start": 2.18,
            "count": 0
           },
           {
            "bin_end": 3.3600000000000003,
            "bin_start": 2.7700000000000005,
            "count": 3
           },
           {
            "bin_end": 3.95,
            "bin_start": 3.3600000000000003,
            "count": 8
           },
           {
            "bin_end": 4.540000000000001,
            "bin_start": 3.95,
            "count": 25
           },
           {
            "bin_end": 5.130000000000001,
            "bin_start": 4.540000000000001,
            "count": 28
           },
           {
            "bin_end": 5.720000000000001,
            "bin_start": 5.130000000000001,
            "count": 18
           },
           {
            "bin_end": 6.3100000000000005,
            "bin_start": 5.720000000000001,
            "count": 11
           },
           {
            "bin_end": 6.9,
            "bin_start": 6.3100000000000005,
            "count": 5
           }
          ],
          "max": "6.9",
          "min": "1.0",
          "nan_count": 0,
          "unique_count": 43
         }
        },
        {
         "dtype": "float64",
         "name": "Petal Width",
         "stats": {
          "histogram": [
           {
            "bin_end": 0.33999999999999997,
            "bin_start": 0.1,
            "count": 38
           },
           {
            "bin_end": 0.58,
            "bin_start": 0.33999999999999997,
            "count": 8
           },
           {
            "bin_end": 0.82,
            "bin_start": 0.58,
            "count": 1
           },
           {
            "bin_end": 1.06,
            "bin_start": 0.82,
            "count": 7
           },
           {
            "bin_end": 1.3,
            "bin_start": 1.06,
            "count": 8
           },
           {
            "bin_end": 1.54,
            "bin_start": 1.3,
            "count": 32
           },
           {
            "bin_end": 1.78,
            "bin_start": 1.54,
            "count": 6
           },
           {
            "bin_end": 2.02,
            "bin_start": 1.78,
            "count": 22
           },
           {
            "bin_end": 2.2600000000000002,
            "bin_start": 2.02,
            "count": 9
           },
           {
            "bin_end": 2.5,
            "bin_start": 2.2600000000000002,
            "count": 14
           }
          ],
          "max": "2.5",
          "min": "0.1",
          "nan_count": 0,
          "unique_count": 22
         }
        },
        {
         "dtype": "object",
         "name": "Species",
         "stats": {
          "categories": [
           {
            "count": 49,
            "name": "Iris-versicolor"
           },
           {
            "count": 49,
            "name": "Iris-virginica"
           },
           {
            "count": 47,
            "name": "Iris-setosa"
           }
          ],
          "nan_count": 0,
          "unique_count": 3
         }
        },
        {
         "dtype": "int64",
         "name": "_deepnote_index_column"
        }
       ],
       "row_count": 145,
       "rows": [
        {
         "Petal Length": 5.6,
         "Petal Width": 1.4,
         "Sepal Length": 6.1,
         "Sepal Width": 2.6,
         "Species": "Iris-virginica",
         "_deepnote_index_column": 134
        },
        {
         "Petal Length": 6.1,
         "Petal Width": 2.3,
         "Sepal Length": 7.7,
         "Sepal Width": 3,
         "Species": "Iris-virginica",
         "_deepnote_index_column": 135
        },
        {
         "Petal Length": 5.6,
         "Petal Width": 2.4,
         "Sepal Length": 6.3,
         "Sepal Width": 3.4,
         "Species": "Iris-virginica",
         "_deepnote_index_column": 136
        },
        {
         "Petal Length": 5.5,
         "Petal Width": 1.8,
         "Sepal Length": 6.4,
         "Sepal Width": 3.1,
         "Species": "Iris-virginica",
         "_deepnote_index_column": 137
        },
        {
         "Petal Length": 4.8,
         "Petal Width": 1.8,
         "Sepal Length": 6,
         "Sepal Width": 3,
         "Species": "Iris-virginica",
         "_deepnote_index_column": 138
        },
        {
         "Petal Length": 5.4,
         "Petal Width": 2.1,
         "Sepal Length": 6.9,
         "Sepal Width": 3.1,
         "Species": "Iris-virginica",
         "_deepnote_index_column": 139
        },
        {
         "Petal Length": 5.6,
         "Petal Width": 2.4,
         "Sepal Length": 6.7,
         "Sepal Width": 3.1,
         "Species": "Iris-virginica",
         "_deepnote_index_column": 140
        },
        {
         "Petal Length": 5.1,
         "Petal Width": 2.3,
         "Sepal Length": 6.9,
         "Sepal Width": 3.1,
         "Species": "Iris-virginica",
         "_deepnote_index_column": 141
        },
        {
         "Petal Length": 5.9,
         "Petal Width": 2.3,
         "Sepal Length": 6.8,
         "Sepal Width": 3.2,
         "Species": "Iris-virginica",
         "_deepnote_index_column": 143
        },
        {
         "Petal Length": 5.7,
         "Petal Width": 2.5,
         "Sepal Length": 6.7,
         "Sepal Width": 3.3,
         "Species": "Iris-virginica",
         "_deepnote_index_column": 144
        }
       ]
      },
      "text/html": [
       "<div>\n",
       "<style scoped>\n",
       "    .dataframe tbody tr th:only-of-type {\n",
       "        vertical-align: middle;\n",
       "    }\n",
       "\n",
       "    .dataframe tbody tr th {\n",
       "        vertical-align: top;\n",
       "    }\n",
       "\n",
       "    .dataframe thead th {\n",
       "        text-align: right;\n",
       "    }\n",
       "</style>\n",
       "<table border=\"1\" class=\"dataframe\">\n",
       "  <thead>\n",
       "    <tr style=\"text-align: right;\">\n",
       "      <th></th>\n",
       "      <th>Sepal Length</th>\n",
       "      <th>Sepal Width</th>\n",
       "      <th>Petal Length</th>\n",
       "      <th>Petal Width</th>\n",
       "      <th>Species</th>\n",
       "    </tr>\n",
       "  </thead>\n",
       "  <tbody>\n",
       "    <tr>\n",
       "      <th>0</th>\n",
       "      <td>5.1</td>\n",
       "      <td>3.5</td>\n",
       "      <td>1.4</td>\n",
       "      <td>0.2</td>\n",
       "      <td>Iris-setosa</td>\n",
       "    </tr>\n",
       "    <tr>\n",
       "      <th>1</th>\n",
       "      <td>4.9</td>\n",
       "      <td>3.0</td>\n",
       "      <td>1.4</td>\n",
       "      <td>0.2</td>\n",
       "      <td>Iris-setosa</td>\n",
       "    </tr>\n",
       "    <tr>\n",
       "      <th>2</th>\n",
       "      <td>4.7</td>\n",
       "      <td>3.2</td>\n",
       "      <td>1.3</td>\n",
       "      <td>0.2</td>\n",
       "      <td>Iris-setosa</td>\n",
       "    </tr>\n",
       "    <tr>\n",
       "      <th>3</th>\n",
       "      <td>4.6</td>\n",
       "      <td>3.1</td>\n",
       "      <td>1.5</td>\n",
       "      <td>0.2</td>\n",
       "      <td>Iris-setosa</td>\n",
       "    </tr>\n",
       "    <tr>\n",
       "      <th>4</th>\n",
       "      <td>5.0</td>\n",
       "      <td>3.6</td>\n",
       "      <td>1.4</td>\n",
       "      <td>0.2</td>\n",
       "      <td>Iris-setosa</td>\n",
       "    </tr>\n",
       "    <tr>\n",
       "      <th>...</th>\n",
       "      <td>...</td>\n",
       "      <td>...</td>\n",
       "      <td>...</td>\n",
       "      <td>...</td>\n",
       "      <td>...</td>\n",
       "    </tr>\n",
       "    <tr>\n",
       "      <th>145</th>\n",
       "      <td>6.7</td>\n",
       "      <td>3.0</td>\n",
       "      <td>5.2</td>\n",
       "      <td>2.3</td>\n",
       "      <td>Iris-virginica</td>\n",
       "    </tr>\n",
       "    <tr>\n",
       "      <th>146</th>\n",
       "      <td>6.3</td>\n",
       "      <td>2.5</td>\n",
       "      <td>5.0</td>\n",
       "      <td>1.9</td>\n",
       "      <td>Iris-virginica</td>\n",
       "    </tr>\n",
       "    <tr>\n",
       "      <th>147</th>\n",
       "      <td>6.5</td>\n",
       "      <td>3.0</td>\n",
       "      <td>5.2</td>\n",
       "      <td>2.0</td>\n",
       "      <td>Iris-virginica</td>\n",
       "    </tr>\n",
       "    <tr>\n",
       "      <th>148</th>\n",
       "      <td>6.2</td>\n",
       "      <td>3.4</td>\n",
       "      <td>5.4</td>\n",
       "      <td>2.3</td>\n",
       "      <td>Iris-virginica</td>\n",
       "    </tr>\n",
       "    <tr>\n",
       "      <th>149</th>\n",
       "      <td>NaN</td>\n",
       "      <td>3.0</td>\n",
       "      <td>5.1</td>\n",
       "      <td>1.8</td>\n",
       "      <td>Iris-virginica</td>\n",
       "    </tr>\n",
       "  </tbody>\n",
       "</table>\n",
       "<p>145 rows × 5 columns</p>\n",
       "</div>"
      ],
      "text/plain": [
       "     Sepal Length  Sepal Width  Petal Length  Petal Width         Species\n",
       "0             5.1          3.5           1.4          0.2     Iris-setosa\n",
       "1             4.9          3.0           1.4          0.2     Iris-setosa\n",
       "2             4.7          3.2           1.3          0.2     Iris-setosa\n",
       "3             4.6          3.1           1.5          0.2     Iris-setosa\n",
       "4             5.0          3.6           1.4          0.2     Iris-setosa\n",
       "..            ...          ...           ...          ...             ...\n",
       "145           6.7          3.0           5.2          2.3  Iris-virginica\n",
       "146           6.3          2.5           5.0          1.9  Iris-virginica\n",
       "147           6.5          3.0           5.2          2.0  Iris-virginica\n",
       "148           6.2          3.4           5.4          2.3  Iris-virginica\n",
       "149           NaN          3.0           5.1          1.8  Iris-virginica\n",
       "\n",
       "[145 rows x 5 columns]"
      ]
     },
     "execution_count": 16,
     "metadata": {},
     "output_type": "execute_result"
    }
   ],
   "source": [
    "df"
   ]
  },
  {
   "cell_type": "markdown",
   "metadata": {
    "cell_id": "33531d6435c5433fbf4cf8e634b8da50",
    "deepnote_app_block_visible": true,
    "deepnote_cell_type": "text-cell-p",
    "formattedRanges": []
   },
   "source": [
    "Pada kode diatas, kita sudah berhasil menghapus baris 24 dan 74. selanjutnya kita akan melakukan imputasi data pada baris 99 dan 149. kali ini kita kan melkukannya dengan menggunakan dua metode, yaitu metode mean atau rata-rata dan metode KNN. lalu pada proses berikutnya akan dilakukan perbandingan akurasi dari kedua metode tersebut."
   ]
  },
  {
   "cell_type": "markdown",
   "metadata": {
    "cell_id": "3fd0381e9e114ad5ab3d13e773d011dc",
    "deepnote_app_block_visible": true,
    "deepnote_cell_type": "text-cell-p",
    "formattedRanges": [
     {
      "fromCodePoint": 0,
      "marks": {
       "bold": true
      },
      "toCodePoint": 61,
      "type": "marks"
     }
    ]
   },
   "source": [
    "Penanganan missing value dengan metode nilai rata-rata (Mean)"
   ]
  },
  {
   "cell_type": "markdown",
   "metadata": {
    "cell_id": "6528d3a6d27b4147b6cea087a829ada3",
    "deepnote_app_block_visible": true,
    "deepnote_cell_type": "text-cell-p",
    "formattedRanges": []
   },
   "source": [
    "Pada langkah sebelumnya kit sudah berhasil menghapus baris, pada langkah kali ini akan dilakukan imputasi missing value dengan metode nilai rata-rata (Mean). yaitu dengan menjumlahkan seluruh baris nilai fitur dan dilakukan operasi pembagian dengan jumlah baris. maka akan ditemukan hasil rata-rata nilai fitur. adapun rumusnya sebagai berikut."
   ]
  },
  {
   "cell_type": "markdown",
   "metadata": {
    "cell_id": "420093526c1e4ca89be0c071886477b9",
    "deepnote_app_block_visible": true,
    "deepnote_cell_type": "markdown"
   },
   "source": [
    "$ \\bar{x} = \\sum_{i = 1}^{n} \\frac{x_{i}}{n} $"
   ]
  },
  {
   "cell_type": "code",
   "execution_count": 17,
   "metadata": {
    "cell_id": "6cbe2f6ad1a740f79b2cbeb7158e3382",
    "deepnote_app_block_visible": true,
    "deepnote_cell_type": "code",
    "deepnote_table_loading": false,
    "deepnote_table_state": {
     "filters": [],
     "pageIndex": 14,
     "pageSize": 10,
     "sortBy": []
    },
    "deepnote_to_be_reexecuted": false,
    "execution_millis": 717,
    "execution_start": 1714004139727,
    "source_hash": "699e250f"
   },
   "outputs": [
    {
     "name": "stdout",
     "output_type": "stream",
     "text": [
      "nilai mean adalah =  5.9\n"
     ]
    },
    {
     "data": {
      "application/vnd.deepnote.dataframe.v3+json": {
       "column_count": 5,
       "columns": [
        {
         "dtype": "float64",
         "name": "Sepal Length",
         "stats": {
          "histogram": [
           {
            "bin_end": 4.66,
            "bin_start": 4.3,
            "count": 9
           },
           {
            "bin_end": 5.02,
            "bin_start": 4.66,
            "count": 19
           },
           {
            "bin_end": 5.38,
            "bin_start": 5.02,
            "count": 14
           },
           {
            "bin_end": 5.74,
            "bin_start": 5.38,
            "count": 26
           },
           {
            "bin_end": 6.1,
            "bin_start": 5.74,
            "count": 17
           },
           {
            "bin_end": 6.46,
            "bin_start": 6.1,
            "count": 25
           },
           {
            "bin_end": 6.82,
            "bin_start": 6.46,
            "count": 18
           },
           {
            "bin_end": 7.18,
            "bin_start": 6.82,
            "count": 6
           },
           {
            "bin_end": 7.54,
            "bin_start": 7.18,
            "count": 5
           },
           {
            "bin_end": 7.9,
            "bin_start": 7.54,
            "count": 6
           }
          ],
          "max": "7.9",
          "min": "4.3",
          "nan_count": 0,
          "unique_count": 35
         }
        },
        {
         "dtype": "float64",
         "name": "Sepal Width",
         "stats": {
          "histogram": [
           {
            "bin_end": 2.24,
            "bin_start": 2,
            "count": 4
           },
           {
            "bin_end": 2.48,
            "bin_start": 2.24,
            "count": 7
           },
           {
            "bin_end": 2.72,
            "bin_start": 2.48,
            "count": 21
           },
           {
            "bin_end": 2.96,
            "bin_start": 2.72,
            "count": 23
           },
           {
            "bin_end": 3.2,
            "bin_start": 2.96,
            "count": 36
           },
           {
            "bin_end": 3.4400000000000004,
            "bin_start": 3.2,
            "count": 30
           },
           {
            "bin_end": 3.6800000000000006,
            "bin_start": 3.4400000000000004,
            "count": 9
           },
           {
            "bin_end": 3.9200000000000004,
            "bin_start": 3.6800000000000006,
            "count": 11
           },
           {
            "bin_end": 4.16,
            "bin_start": 3.9200000000000004,
            "count": 2
           },
           {
            "bin_end": 4.4,
            "bin_start": 4.16,
            "count": 2
           }
          ],
          "max": "4.4",
          "min": "2.0",
          "nan_count": 0,
          "unique_count": 23
         }
        },
        {
         "dtype": "float64",
         "name": "Petal Length",
         "stats": {
          "histogram": [
           {
            "bin_end": 1.59,
            "bin_start": 1,
            "count": 35
           },
           {
            "bin_end": 2.18,
            "bin_start": 1.59,
            "count": 12
           },
           {
            "bin_end": 2.7700000000000005,
            "bin_start": 2.18,
            "count": 0
           },
           {
            "bin_end": 3.3600000000000003,
            "bin_start": 2.7700000000000005,
            "count": 3
           },
           {
            "bin_end": 3.95,
            "bin_start": 3.3600000000000003,
            "count": 8
           },
           {
            "bin_end": 4.540000000000001,
            "bin_start": 3.95,
            "count": 25
           },
           {
            "bin_end": 5.130000000000001,
            "bin_start": 4.540000000000001,
            "count": 28
           },
           {
            "bin_end": 5.720000000000001,
            "bin_start": 5.130000000000001,
            "count": 18
           },
           {
            "bin_end": 6.3100000000000005,
            "bin_start": 5.720000000000001,
            "count": 11
           },
           {
            "bin_end": 6.9,
            "bin_start": 6.3100000000000005,
            "count": 5
           }
          ],
          "max": "6.9",
          "min": "1.0",
          "nan_count": 0,
          "unique_count": 43
         }
        },
        {
         "dtype": "float64",
         "name": "Petal Width",
         "stats": {
          "histogram": [
           {
            "bin_end": 0.33999999999999997,
            "bin_start": 0.1,
            "count": 38
           },
           {
            "bin_end": 0.58,
            "bin_start": 0.33999999999999997,
            "count": 8
           },
           {
            "bin_end": 0.82,
            "bin_start": 0.58,
            "count": 1
           },
           {
            "bin_end": 1.06,
            "bin_start": 0.82,
            "count": 7
           },
           {
            "bin_end": 1.3,
            "bin_start": 1.06,
            "count": 8
           },
           {
            "bin_end": 1.54,
            "bin_start": 1.3,
            "count": 32
           },
           {
            "bin_end": 1.78,
            "bin_start": 1.54,
            "count": 6
           },
           {
            "bin_end": 2.02,
            "bin_start": 1.78,
            "count": 22
           },
           {
            "bin_end": 2.2600000000000002,
            "bin_start": 2.02,
            "count": 9
           },
           {
            "bin_end": 2.5,
            "bin_start": 2.2600000000000002,
            "count": 14
           }
          ],
          "max": "2.5",
          "min": "0.1",
          "nan_count": 0,
          "unique_count": 22
         }
        },
        {
         "dtype": "object",
         "name": "Species",
         "stats": {
          "categories": [
           {
            "count": 49,
            "name": "Iris-versicolor"
           },
           {
            "count": 49,
            "name": "Iris-virginica"
           },
           {
            "count": 47,
            "name": "Iris-setosa"
           }
          ],
          "nan_count": 0,
          "unique_count": 3
         }
        },
        {
         "dtype": "int64",
         "name": "_deepnote_index_column"
        }
       ],
       "row_count": 145,
       "rows": [
        {
         "Petal Length": 5.2,
         "Petal Width": 2.3,
         "Sepal Length": 6.7,
         "Sepal Width": 3,
         "Species": "Iris-virginica",
         "_deepnote_index_column": 145
        },
        {
         "Petal Length": 5,
         "Petal Width": 1.9,
         "Sepal Length": 6.3,
         "Sepal Width": 2.5,
         "Species": "Iris-virginica",
         "_deepnote_index_column": 146
        },
        {
         "Petal Length": 5.2,
         "Petal Width": 2,
         "Sepal Length": 6.5,
         "Sepal Width": 3,
         "Species": "Iris-virginica",
         "_deepnote_index_column": 147
        },
        {
         "Petal Length": 5.4,
         "Petal Width": 2.3,
         "Sepal Length": 6.2,
         "Sepal Width": 3.4,
         "Species": "Iris-virginica",
         "_deepnote_index_column": 148
        },
        {
         "Petal Length": 5.1,
         "Petal Width": 1.8,
         "Sepal Length": 5.9,
         "Sepal Width": 3,
         "Species": "Iris-virginica",
         "_deepnote_index_column": 149
        }
       ]
      },
      "text/html": [
       "<div>\n",
       "<style scoped>\n",
       "    .dataframe tbody tr th:only-of-type {\n",
       "        vertical-align: middle;\n",
       "    }\n",
       "\n",
       "    .dataframe tbody tr th {\n",
       "        vertical-align: top;\n",
       "    }\n",
       "\n",
       "    .dataframe thead th {\n",
       "        text-align: right;\n",
       "    }\n",
       "</style>\n",
       "<table border=\"1\" class=\"dataframe\">\n",
       "  <thead>\n",
       "    <tr style=\"text-align: right;\">\n",
       "      <th></th>\n",
       "      <th>Sepal Length</th>\n",
       "      <th>Sepal Width</th>\n",
       "      <th>Petal Length</th>\n",
       "      <th>Petal Width</th>\n",
       "      <th>Species</th>\n",
       "    </tr>\n",
       "  </thead>\n",
       "  <tbody>\n",
       "    <tr>\n",
       "      <th>0</th>\n",
       "      <td>5.1</td>\n",
       "      <td>3.5</td>\n",
       "      <td>1.4</td>\n",
       "      <td>0.2</td>\n",
       "      <td>Iris-setosa</td>\n",
       "    </tr>\n",
       "    <tr>\n",
       "      <th>1</th>\n",
       "      <td>4.9</td>\n",
       "      <td>3.0</td>\n",
       "      <td>1.4</td>\n",
       "      <td>0.2</td>\n",
       "      <td>Iris-setosa</td>\n",
       "    </tr>\n",
       "    <tr>\n",
       "      <th>2</th>\n",
       "      <td>4.7</td>\n",
       "      <td>3.2</td>\n",
       "      <td>1.3</td>\n",
       "      <td>0.2</td>\n",
       "      <td>Iris-setosa</td>\n",
       "    </tr>\n",
       "    <tr>\n",
       "      <th>3</th>\n",
       "      <td>4.6</td>\n",
       "      <td>3.1</td>\n",
       "      <td>1.5</td>\n",
       "      <td>0.2</td>\n",
       "      <td>Iris-setosa</td>\n",
       "    </tr>\n",
       "    <tr>\n",
       "      <th>4</th>\n",
       "      <td>5.0</td>\n",
       "      <td>3.6</td>\n",
       "      <td>1.4</td>\n",
       "      <td>0.2</td>\n",
       "      <td>Iris-setosa</td>\n",
       "    </tr>\n",
       "    <tr>\n",
       "      <th>...</th>\n",
       "      <td>...</td>\n",
       "      <td>...</td>\n",
       "      <td>...</td>\n",
       "      <td>...</td>\n",
       "      <td>...</td>\n",
       "    </tr>\n",
       "    <tr>\n",
       "      <th>145</th>\n",
       "      <td>6.7</td>\n",
       "      <td>3.0</td>\n",
       "      <td>5.2</td>\n",
       "      <td>2.3</td>\n",
       "      <td>Iris-virginica</td>\n",
       "    </tr>\n",
       "    <tr>\n",
       "      <th>146</th>\n",
       "      <td>6.3</td>\n",
       "      <td>2.5</td>\n",
       "      <td>5.0</td>\n",
       "      <td>1.9</td>\n",
       "      <td>Iris-virginica</td>\n",
       "    </tr>\n",
       "    <tr>\n",
       "      <th>147</th>\n",
       "      <td>6.5</td>\n",
       "      <td>3.0</td>\n",
       "      <td>5.2</td>\n",
       "      <td>2.0</td>\n",
       "      <td>Iris-virginica</td>\n",
       "    </tr>\n",
       "    <tr>\n",
       "      <th>148</th>\n",
       "      <td>6.2</td>\n",
       "      <td>3.4</td>\n",
       "      <td>5.4</td>\n",
       "      <td>2.3</td>\n",
       "      <td>Iris-virginica</td>\n",
       "    </tr>\n",
       "    <tr>\n",
       "      <th>149</th>\n",
       "      <td>5.9</td>\n",
       "      <td>3.0</td>\n",
       "      <td>5.1</td>\n",
       "      <td>1.8</td>\n",
       "      <td>Iris-virginica</td>\n",
       "    </tr>\n",
       "  </tbody>\n",
       "</table>\n",
       "<p>145 rows × 5 columns</p>\n",
       "</div>"
      ],
      "text/plain": [
       "     Sepal Length  Sepal Width  Petal Length  Petal Width         Species\n",
       "0             5.1          3.5           1.4          0.2     Iris-setosa\n",
       "1             4.9          3.0           1.4          0.2     Iris-setosa\n",
       "2             4.7          3.2           1.3          0.2     Iris-setosa\n",
       "3             4.6          3.1           1.5          0.2     Iris-setosa\n",
       "4             5.0          3.6           1.4          0.2     Iris-setosa\n",
       "..            ...          ...           ...          ...             ...\n",
       "145           6.7          3.0           5.2          2.3  Iris-virginica\n",
       "146           6.3          2.5           5.0          1.9  Iris-virginica\n",
       "147           6.5          3.0           5.2          2.0  Iris-virginica\n",
       "148           6.2          3.4           5.4          2.3  Iris-virginica\n",
       "149           5.9          3.0           5.1          1.8  Iris-virginica\n",
       "\n",
       "[145 rows x 5 columns]"
      ]
     },
     "execution_count": 17,
     "metadata": {},
     "output_type": "execute_result"
    }
   ],
   "source": [
    "# membuat copy dataframe pada variabel lain\n",
    "df_mean = df.copy(deep=True)\n",
    "\n",
    "# mencari nilai mean\n",
    "mean = round(df_mean['Sepal Length'].mean(), 1)\n",
    "\n",
    "print('nilai mean adalah = ', mean)\n",
    "\n",
    "# imputasi missing value dengan mean\n",
    "df_mean['Sepal Length'].fillna(mean, inplace=True)\n",
    "\n",
    "df_mean"
   ]
  },
  {
   "cell_type": "markdown",
   "metadata": {
    "cell_id": "b4306b694c2d4f5a911f1ba92fae2f34",
    "deepnote_app_block_visible": true,
    "deepnote_cell_type": "text-cell-p",
    "formattedRanges": []
   },
   "source": [
    "Berdasarkan kode program diatas. kita membuat duplikasi dataframe yang nantinya untuk menyipan dataframe yang menggunakan metode mean. kemudian mencari nilai mean dan timpa atau gantikan baris yang memiliki missing value dengan nilai mean."
   ]
  },
  {
   "cell_type": "markdown",
   "metadata": {
    "cell_id": "32811ac01f7442cd879effbecc576af5",
    "deepnote_app_block_visible": true,
    "deepnote_cell_type": "text-cell-p",
    "formattedRanges": [
     {
      "fromCodePoint": 0,
      "marks": {
       "bold": true
      },
      "toCodePoint": 65,
      "type": "marks"
     }
    ]
   },
   "source": [
    "Penanganan missing value dengan metode K Nearest Neightbour (KNN)"
   ]
  },
  {
   "cell_type": "markdown",
   "metadata": {
    "cell_id": "d7f489f48f074dec907085f1911f7eca",
    "deepnote_app_block_visible": true,
    "deepnote_cell_type": "text-cell-p",
    "formattedRanges": []
   },
   "source": [
    "Nearest Neightbour jika di translasikan menjad bahasa indonesia adalah tetangga terdekat. Dan  K yang dimaksud adalah jumlah tetangga tedekat. Jadi dapat di definisikan bahwa K Nearest Neightbour (KNN) merupakan metode dengan mencari jumlah tetangga terdekat dan akan dilakukan perbandingan class untuk memprediksi klasifikasi data baru. Adapun cara kerjanya bisa disimak dibawah ini."
   ]
  },
  {
   "cell_type": "markdown",
   "metadata": {
    "cell_id": "356dfb4655ce4d1c8dba17efb974057b",
    "deepnote_app_block_visible": true,
    "deepnote_cell_type": "image",
    "deepnote_img_src": "image-20240311-005422.png"
   },
   "source": [
    "<img src=\"image-20240311-005422.png\" width=\"\" align=\"\" />"
   ]
  },
  {
   "cell_type": "markdown",
   "metadata": {
    "cell_id": "ff42e095f055482aa89a05a4ca2ccdfa",
    "deepnote_app_block_visible": true,
    "deepnote_cell_type": "text-cell-p",
    "formattedRanges": [
     {
      "fromCodePoint": 0,
      "marks": {
       "bold": true
      },
      "toCodePoint": 37,
      "type": "marks"
     }
    ]
   },
   "source": [
    "Cara kerja K Nearest Neightbour (KNN)"
   ]
  },
  {
   "cell_type": "markdown",
   "metadata": {
    "cell_id": "d3c2a0de79ea4560b357b5cc1c473b43",
    "deepnote_app_block_visible": true,
    "deepnote_cell_type": "text-cell-p",
    "formattedRanges": [
     {
      "fromCodePoint": 0,
      "marks": {
       "bold": true
      },
      "toCodePoint": 39,
      "type": "marks"
     }
    ]
   },
   "source": [
    "0. Look at the data (Melihat pada data)"
   ]
  },
  {
   "cell_type": "markdown",
   "metadata": {
    "cell_id": "5dd6c6e238e4413b84c162f47233e091",
    "deepnote_app_block_visible": true,
    "deepnote_cell_type": "text-cell-p",
    "formattedRanges": []
   },
   "source": [
    "Berdasarkan pada gambar diata. node atau tiitk berwarna abu-abu merupakan data baru. data ini akan nantinya akan diklasifikasikan dengan class-class pada digram. Jika kita perhatikan, terdapat tiga node yang berbeda warna, yaitu kuning, hijau, dan jingga. Hal ini berarti terdapat tiga class dalam diagram. node yang berwarna abu-abu akan diprediksi dengan algoritma KNN untuk menentukan node ini termasuk ke dalam salah satu class."
   ]
  },
  {
   "cell_type": "markdown",
   "metadata": {
    "cell_id": "68e383c13d2e4d7eae9f1d4d4ea91475",
    "deepnote_app_block_visible": true,
    "deepnote_cell_type": "text-cell-p",
    "formattedRanges": [
     {
      "fromCodePoint": 1,
      "marks": {
       "bold": true
      },
      "toCodePoint": 41,
      "type": "marks"
     }
    ]
   },
   "source": [
    ".1. Calculate distances (Kalkulasi jarak)"
   ]
  },
  {
   "cell_type": "markdown",
   "metadata": {
    "cell_id": "81901666ef52461690c96af1592792e7",
    "deepnote_app_block_visible": true,
    "deepnote_cell_type": "text-cell-p",
    "formattedRanges": []
   },
   "source": [
    "Node baru akan dilakukan kalkulasi jarak terhadap node-node yang lain. dalam mengukur jarak bisa dilakukan dengan beberapa metode beriku :"
   ]
  },
  {
   "cell_type": "markdown",
   "metadata": {
    "cell_id": "2cd2358d2baf41079dd0f7c9ed8f7c8a",
    "deepnote_app_block_visible": true,
    "deepnote_cell_type": "text-cell-p",
    "formattedRanges": [
     {
      "fromCodePoint": 0,
      "marks": {
       "bold": true
      },
      "toCodePoint": 18,
      "type": "marks"
     }
    ]
   },
   "source": [
    "Euclidean Distance"
   ]
  },
  {
   "cell_type": "markdown",
   "metadata": {
    "cell_id": "225b5a7c718b4f68b2b28b3dc58f4d8d",
    "deepnote_app_block_visible": true,
    "deepnote_cell_type": "image",
    "deepnote_img_src": "image-20240311-200655.png",
    "deepnote_img_width": "50%"
   },
   "source": [
    "<img src=\"image-20240311-200655.png\" width=\"50%\" align=\"\" />"
   ]
  },
  {
   "cell_type": "markdown",
   "metadata": {
    "cell_id": "d5e8f6bab15c4be68d35116b740590d8",
    "deepnote_app_block_visible": true,
    "deepnote_cell_type": "text-cell-p",
    "formattedRanges": []
   },
   "source": [
    "Merupakan teknik yang paling populer untuk melakukan perhitungan jarak fitur dengan tipe data numerik. Untuk rumus pengukuran jarak adalah sebagai berikut ini."
   ]
  },
  {
   "cell_type": "markdown",
   "metadata": {
    "cell_id": "4dc5174950ab4e049e9185f3f8f093ca",
    "deepnote_app_block_visible": true,
    "deepnote_cell_type": "markdown"
   },
   "source": [
    "$ d(P,Q) = \\sqrt{\\sum_{i =1}^{n} (p_{i}-q_{i})^{2}}$\n",
    "$ d(P,Q) = \\sqrt{(p_{1}-q_{1})^{2}} + (p_{2}-q_{2})^{2} + ..... + (p_{n}-q_{n})^{2}$"
   ]
  },
  {
   "cell_type": "markdown",
   "metadata": {
    "cell_id": "2aaba8202368460fb4ba61be35fd3375",
    "deepnote_app_block_visible": true,
    "deepnote_cell_type": "text-cell-p",
    "formattedRanges": [
     {
      "fromCodePoint": 0,
      "marks": {
       "bold": true
      },
      "toCodePoint": 18,
      "type": "marks"
     }
    ]
   },
   "source": [
    "Manhattan Distance"
   ]
  },
  {
   "cell_type": "markdown",
   "metadata": {
    "cell_id": "8622186a231f41aab96f10751f8ab78a",
    "deepnote_app_block_visible": true,
    "deepnote_cell_type": "image",
    "deepnote_img_src": "image-20240311-201408.png"
   },
   "source": [
    "<img src=\"image-20240311-201408.png\" width=\"\" align=\"\" />"
   ]
  },
  {
   "cell_type": "markdown",
   "metadata": {
    "cell_id": "a91364c7587f449f8f2f4947c0ddf7bc",
    "deepnote_app_block_visible": true,
    "deepnote_cell_type": "text-cell-p",
    "formattedRanges": []
   },
   "source": [
    "Manhattan distance juga begitu populer selain euclidean distance. Jika kita perhatikan gambar diatas yang merupakan perbandingan antara euclidean distance dan manhattan distance. Dapat dilihat jika euclidean distance merupakan pengukuran jarak terobos antara dua titik kordinat. Sedangkan manhattan berbeda. teknik manhattan berjalan pada grid dan tidak menerobos seperti euclidean. Rumus perhitungan jarak dapat diihat berikut ini."
   ]
  },
  {
   "cell_type": "markdown",
   "metadata": {
    "cell_id": "30bf8b47d9374d369d33b214a7c3eca5",
    "deepnote_app_block_visible": true,
    "deepnote_cell_type": "markdown"
   },
   "source": [
    "$ d(P, Q) = (p_{i} - q{i})^2 $"
   ]
  },
  {
   "cell_type": "markdown",
   "metadata": {
    "cell_id": "91e414398fc440088d94269cb168adb9",
    "deepnote_app_block_visible": true,
    "deepnote_cell_type": "text-cell-p",
    "formattedRanges": [
     {
      "fromCodePoint": 0,
      "marks": {
       "bold": true
      },
      "toCodePoint": 37,
      "type": "marks"
     }
    ]
   },
   "source": [
    "2. Find neightbour (Mencari tetangga)"
   ]
  },
  {
   "cell_type": "markdown",
   "metadata": {
    "cell_id": "d9acba6be72948e88abc84d4f57e6e7d",
    "deepnote_app_block_visible": true,
    "deepnote_cell_type": "text-cell-p",
    "formattedRanges": []
   },
   "source": [
    "Setelah melakukan perhitungan jarak terhadap fitur ataupun node. Kemudian akan dilakukan perankingan jarak. mulai dari yang terdekat hingga yang terjauh."
   ]
  },
  {
   "cell_type": "markdown",
   "metadata": {
    "cell_id": "b7e2cb2a89a94bcba039a1c3ab973881",
    "deepnote_app_block_visible": true,
    "deepnote_cell_type": "text-cell-p",
    "formattedRanges": [
     {
      "fromCodePoint": 0,
      "marks": {
       "bold": true
      },
      "toCodePoint": 32,
      "type": "marks"
     }
    ]
   },
   "source": [
    "3. Vote on label (Memilih label)"
   ]
  },
  {
   "cell_type": "markdown",
   "metadata": {
    "cell_id": "4c4e0b366aba4a13bce9d3f88433b83c",
    "deepnote_app_block_visible": true,
    "deepnote_cell_type": "text-cell-p",
    "formattedRanges": []
   },
   "source": [
    "Selanjutnya setelah ditemukan hasil dan perankingan jarak. Akan  dilakukan penentuan fitur terdekat atau nilai K. dalam KNN nilai K boleh ditentukan berapapun atau bebas. semisal K adalah 5, maka kita akan mengambil 5 fitur atau node yang terdekat. Selanjutnya akan dilakukan penentuan class pada node baru. Misal K adalah 5. maka akan diambil 5 fitur, kemudian sebagai penetuan class untuk node baru. bisa ditentukan dengan melihat nilai class yang paling banyak muncul pada kelima data yang diambil. semisal dalam kelima data ini class yang paling banyak muncul adalah class anggrej bulan. maka nilai class dari data baru adalah anggrek bulan."
   ]
  },
  {
   "cell_type": "markdown",
   "metadata": {
    "cell_id": "4546e4c71646438798fe500261038067",
    "deepnote_app_block_visible": true,
    "deepnote_cell_type": "text-cell-p",
    "formattedRanges": [
     {
      "fromCodePoint": 0,
      "marks": {
       "bold": true
      },
      "toCodePoint": 40,
      "type": "marks"
     }
    ]
   },
   "source": [
    "Imputasi missing value dengan KNNImputer"
   ]
  },
  {
   "cell_type": "code",
   "execution_count": 18,
   "metadata": {
    "cell_id": "1bfba24fc51b431aba5653815870e097",
    "deepnote_app_block_visible": true,
    "deepnote_cell_type": "code",
    "deepnote_table_loading": false,
    "deepnote_table_state": {
     "filters": [],
     "pageIndex": 0,
     "pageSize": 10,
     "sortBy": []
    },
    "deepnote_to_be_reexecuted": false,
    "execution_millis": 679,
    "execution_start": 1714004139766,
    "source_hash": "5802072"
   },
   "outputs": [
    {
     "data": {
      "application/vnd.deepnote.dataframe.v3+json": {
       "column_count": 5,
       "columns": [
        {
         "dtype": "float64",
         "name": "Sepal Length",
         "stats": {
          "histogram": [
           {
            "bin_end": 4.66,
            "bin_start": 4.3,
            "count": 9
           },
           {
            "bin_end": 5.02,
            "bin_start": 4.66,
            "count": 20
           },
           {
            "bin_end": 5.38,
            "bin_start": 5.02,
            "count": 14
           },
           {
            "bin_end": 5.74,
            "bin_start": 5.38,
            "count": 26
           },
           {
            "bin_end": 6.1,
            "bin_start": 5.74,
            "count": 15
           },
           {
            "bin_end": 6.46,
            "bin_start": 6.1,
            "count": 26
           },
           {
            "bin_end": 6.82,
            "bin_start": 6.46,
            "count": 18
           },
           {
            "bin_end": 7.18,
            "bin_start": 6.82,
            "count": 6
           },
           {
            "bin_end": 7.54,
            "bin_start": 7.18,
            "count": 5
           },
           {
            "bin_end": 7.9,
            "bin_start": 7.54,
            "count": 6
           }
          ],
          "max": "7.9",
          "min": "4.3",
          "nan_count": 0,
          "unique_count": 37
         }
        },
        {
         "dtype": "float64",
         "name": "Sepal Width",
         "stats": {
          "histogram": [
           {
            "bin_end": 2.24,
            "bin_start": 2,
            "count": 4
           },
           {
            "bin_end": 2.48,
            "bin_start": 2.24,
            "count": 7
           },
           {
            "bin_end": 2.72,
            "bin_start": 2.48,
            "count": 21
           },
           {
            "bin_end": 2.96,
            "bin_start": 2.72,
            "count": 23
           },
           {
            "bin_end": 3.2,
            "bin_start": 2.96,
            "count": 36
           },
           {
            "bin_end": 3.4400000000000004,
            "bin_start": 3.2,
            "count": 30
           },
           {
            "bin_end": 3.6800000000000006,
            "bin_start": 3.4400000000000004,
            "count": 9
           },
           {
            "bin_end": 3.9200000000000004,
            "bin_start": 3.6800000000000006,
            "count": 11
           },
           {
            "bin_end": 4.16,
            "bin_start": 3.9200000000000004,
            "count": 2
           },
           {
            "bin_end": 4.4,
            "bin_start": 4.16,
            "count": 2
           }
          ],
          "max": "4.4",
          "min": "2.0",
          "nan_count": 0,
          "unique_count": 23
         }
        },
        {
         "dtype": "float64",
         "name": "Petal Length",
         "stats": {
          "histogram": [
           {
            "bin_end": 1.59,
            "bin_start": 1,
            "count": 35
           },
           {
            "bin_end": 2.18,
            "bin_start": 1.59,
            "count": 12
           },
           {
            "bin_end": 2.7700000000000005,
            "bin_start": 2.18,
            "count": 0
           },
           {
            "bin_end": 3.3600000000000003,
            "bin_start": 2.7700000000000005,
            "count": 3
           },
           {
            "bin_end": 3.95,
            "bin_start": 3.3600000000000003,
            "count": 8
           },
           {
            "bin_end": 4.540000000000001,
            "bin_start": 3.95,
            "count": 25
           },
           {
            "bin_end": 5.130000000000001,
            "bin_start": 4.540000000000001,
            "count": 28
           },
           {
            "bin_end": 5.720000000000001,
            "bin_start": 5.130000000000001,
            "count": 18
           },
           {
            "bin_end": 6.3100000000000005,
            "bin_start": 5.720000000000001,
            "count": 11
           },
           {
            "bin_end": 6.9,
            "bin_start": 6.3100000000000005,
            "count": 5
           }
          ],
          "max": "6.9",
          "min": "1.0",
          "nan_count": 0,
          "unique_count": 43
         }
        },
        {
         "dtype": "float64",
         "name": "Petal Width",
         "stats": {
          "histogram": [
           {
            "bin_end": 0.33999999999999997,
            "bin_start": 0.1,
            "count": 38
           },
           {
            "bin_end": 0.58,
            "bin_start": 0.33999999999999997,
            "count": 8
           },
           {
            "bin_end": 0.82,
            "bin_start": 0.58,
            "count": 1
           },
           {
            "bin_end": 1.06,
            "bin_start": 0.82,
            "count": 7
           },
           {
            "bin_end": 1.3,
            "bin_start": 1.06,
            "count": 8
           },
           {
            "bin_end": 1.54,
            "bin_start": 1.3,
            "count": 32
           },
           {
            "bin_end": 1.78,
            "bin_start": 1.54,
            "count": 6
           },
           {
            "bin_end": 2.02,
            "bin_start": 1.78,
            "count": 22
           },
           {
            "bin_end": 2.2600000000000002,
            "bin_start": 2.02,
            "count": 9
           },
           {
            "bin_end": 2.5,
            "bin_start": 2.2600000000000002,
            "count": 14
           }
          ],
          "max": "2.5",
          "min": "0.1",
          "nan_count": 0,
          "unique_count": 22
         }
        },
        {
         "dtype": "object",
         "name": "Species",
         "stats": {
          "categories": [
           {
            "count": 49,
            "name": "Iris-versicolor"
           },
           {
            "count": 49,
            "name": "Iris-virginica"
           },
           {
            "count": 47,
            "name": "Iris-setosa"
           }
          ],
          "nan_count": 0,
          "unique_count": 3
         }
        },
        {
         "dtype": "int64",
         "name": "_deepnote_index_column"
        }
       ],
       "row_count": 145,
       "rows": [
        {
         "Petal Length": 1.4,
         "Petal Width": 0.2,
         "Sepal Length": 5.1,
         "Sepal Width": 3.5,
         "Species": "Iris-setosa",
         "_deepnote_index_column": 0
        },
        {
         "Petal Length": 1.4,
         "Petal Width": 0.2,
         "Sepal Length": 4.9,
         "Sepal Width": 3,
         "Species": "Iris-setosa",
         "_deepnote_index_column": 1
        },
        {
         "Petal Length": 1.3,
         "Petal Width": 0.2,
         "Sepal Length": 4.7,
         "Sepal Width": 3.2,
         "Species": "Iris-setosa",
         "_deepnote_index_column": 2
        },
        {
         "Petal Length": 1.5,
         "Petal Width": 0.2,
         "Sepal Length": 4.6,
         "Sepal Width": 3.1,
         "Species": "Iris-setosa",
         "_deepnote_index_column": 3
        },
        {
         "Petal Length": 1.4,
         "Petal Width": 0.2,
         "Sepal Length": 5,
         "Sepal Width": 3.6,
         "Species": "Iris-setosa",
         "_deepnote_index_column": 4
        },
        {
         "Petal Length": 1.7,
         "Petal Width": 0.4,
         "Sepal Length": 5.4,
         "Sepal Width": 3.9,
         "Species": "Iris-setosa",
         "_deepnote_index_column": 5
        },
        {
         "Petal Length": 1.4,
         "Petal Width": 0.3,
         "Sepal Length": 4.6,
         "Sepal Width": 3.4,
         "Species": "Iris-setosa",
         "_deepnote_index_column": 6
        },
        {
         "Petal Length": 1.5,
         "Petal Width": 0.2,
         "Sepal Length": 5,
         "Sepal Width": 3.4,
         "Species": "Iris-setosa",
         "_deepnote_index_column": 7
        },
        {
         "Petal Length": 1.4,
         "Petal Width": 0.2,
         "Sepal Length": 4.4,
         "Sepal Width": 2.9,
         "Species": "Iris-setosa",
         "_deepnote_index_column": 8
        },
        {
         "Petal Length": 1.5,
         "Petal Width": 0.1,
         "Sepal Length": 4.9,
         "Sepal Width": 3.1,
         "Species": "Iris-setosa",
         "_deepnote_index_column": 9
        }
       ]
      },
      "text/html": [
       "<div>\n",
       "<style scoped>\n",
       "    .dataframe tbody tr th:only-of-type {\n",
       "        vertical-align: middle;\n",
       "    }\n",
       "\n",
       "    .dataframe tbody tr th {\n",
       "        vertical-align: top;\n",
       "    }\n",
       "\n",
       "    .dataframe thead th {\n",
       "        text-align: right;\n",
       "    }\n",
       "</style>\n",
       "<table border=\"1\" class=\"dataframe\">\n",
       "  <thead>\n",
       "    <tr style=\"text-align: right;\">\n",
       "      <th></th>\n",
       "      <th>Sepal Length</th>\n",
       "      <th>Sepal Width</th>\n",
       "      <th>Petal Length</th>\n",
       "      <th>Petal Width</th>\n",
       "      <th>Species</th>\n",
       "    </tr>\n",
       "  </thead>\n",
       "  <tbody>\n",
       "    <tr>\n",
       "      <th>0</th>\n",
       "      <td>5.100000</td>\n",
       "      <td>3.5</td>\n",
       "      <td>1.4</td>\n",
       "      <td>0.2</td>\n",
       "      <td>Iris-setosa</td>\n",
       "    </tr>\n",
       "    <tr>\n",
       "      <th>1</th>\n",
       "      <td>4.900000</td>\n",
       "      <td>3.0</td>\n",
       "      <td>1.4</td>\n",
       "      <td>0.2</td>\n",
       "      <td>Iris-setosa</td>\n",
       "    </tr>\n",
       "    <tr>\n",
       "      <th>2</th>\n",
       "      <td>4.700000</td>\n",
       "      <td>3.2</td>\n",
       "      <td>1.3</td>\n",
       "      <td>0.2</td>\n",
       "      <td>Iris-setosa</td>\n",
       "    </tr>\n",
       "    <tr>\n",
       "      <th>3</th>\n",
       "      <td>4.600000</td>\n",
       "      <td>3.1</td>\n",
       "      <td>1.5</td>\n",
       "      <td>0.2</td>\n",
       "      <td>Iris-setosa</td>\n",
       "    </tr>\n",
       "    <tr>\n",
       "      <th>4</th>\n",
       "      <td>5.000000</td>\n",
       "      <td>3.6</td>\n",
       "      <td>1.4</td>\n",
       "      <td>0.2</td>\n",
       "      <td>Iris-setosa</td>\n",
       "    </tr>\n",
       "    <tr>\n",
       "      <th>...</th>\n",
       "      <td>...</td>\n",
       "      <td>...</td>\n",
       "      <td>...</td>\n",
       "      <td>...</td>\n",
       "      <td>...</td>\n",
       "    </tr>\n",
       "    <tr>\n",
       "      <th>140</th>\n",
       "      <td>6.700000</td>\n",
       "      <td>3.0</td>\n",
       "      <td>5.2</td>\n",
       "      <td>2.3</td>\n",
       "      <td>Iris-virginica</td>\n",
       "    </tr>\n",
       "    <tr>\n",
       "      <th>141</th>\n",
       "      <td>6.300000</td>\n",
       "      <td>2.5</td>\n",
       "      <td>5.0</td>\n",
       "      <td>1.9</td>\n",
       "      <td>Iris-virginica</td>\n",
       "    </tr>\n",
       "    <tr>\n",
       "      <th>142</th>\n",
       "      <td>6.500000</td>\n",
       "      <td>3.0</td>\n",
       "      <td>5.2</td>\n",
       "      <td>2.0</td>\n",
       "      <td>Iris-virginica</td>\n",
       "    </tr>\n",
       "    <tr>\n",
       "      <th>143</th>\n",
       "      <td>6.200000</td>\n",
       "      <td>3.4</td>\n",
       "      <td>5.4</td>\n",
       "      <td>2.3</td>\n",
       "      <td>Iris-virginica</td>\n",
       "    </tr>\n",
       "    <tr>\n",
       "      <th>144</th>\n",
       "      <td>6.433333</td>\n",
       "      <td>3.0</td>\n",
       "      <td>5.1</td>\n",
       "      <td>1.8</td>\n",
       "      <td>Iris-virginica</td>\n",
       "    </tr>\n",
       "  </tbody>\n",
       "</table>\n",
       "<p>145 rows × 5 columns</p>\n",
       "</div>"
      ],
      "text/plain": [
       "     Sepal Length  Sepal Width  Petal Length  Petal Width         Species\n",
       "0        5.100000          3.5           1.4          0.2     Iris-setosa\n",
       "1        4.900000          3.0           1.4          0.2     Iris-setosa\n",
       "2        4.700000          3.2           1.3          0.2     Iris-setosa\n",
       "3        4.600000          3.1           1.5          0.2     Iris-setosa\n",
       "4        5.000000          3.6           1.4          0.2     Iris-setosa\n",
       "..            ...          ...           ...          ...             ...\n",
       "140      6.700000          3.0           5.2          2.3  Iris-virginica\n",
       "141      6.300000          2.5           5.0          1.9  Iris-virginica\n",
       "142      6.500000          3.0           5.2          2.0  Iris-virginica\n",
       "143      6.200000          3.4           5.4          2.3  Iris-virginica\n",
       "144      6.433333          3.0           5.1          1.8  Iris-virginica\n",
       "\n",
       "[145 rows x 5 columns]"
      ]
     },
     "execution_count": 18,
     "metadata": {},
     "output_type": "execute_result"
    }
   ],
   "source": [
    "from sklearn.impute import KNNImputer\n",
    "\n",
    "# duplikasi dataframe\n",
    "df_knn = df.copy(deep=True)\n",
    "\n",
    "# simpan class species\n",
    "df_species = df_knn[['Species']]\n",
    "\n",
    "list_species = df_species.values.tolist()\n",
    "\n",
    "#hapus kolom yang tidak diperlukan\n",
    "df_knn = df_knn.drop(['Species'], axis=1)\n",
    "\n",
    "# old_value = df_knn.drop(['Species'], axis=1).to_numpy()\n",
    "\n",
    "# inisialisasi KNNImputer\n",
    "imputer = KNNImputer(n_neighbors=3)\n",
    "\n",
    "# simpan kalkulasi\n",
    "result = imputer.fit_transform(df_knn)\n",
    "\n",
    "result = result.tolist()\n",
    "\n",
    "# gabung hasil dengan class\n",
    "for index in range(len(result)):\n",
    "    result[index].append(list_species[index][0])\n",
    "\n",
    "# buat dataframe\n",
    "df_knn = pd.DataFrame(result, columns=['Sepal Length', 'Sepal Width', 'Petal Length', 'Petal Width', 'Species'])\n",
    "\n",
    "df_knn"
   ]
  },
  {
   "cell_type": "markdown",
   "metadata": {
    "cell_id": "c6830f1df625440abab5c5274ccbf8fd",
    "deepnote_app_block_visible": true,
    "deepnote_cell_type": "text-cell-h2",
    "formattedRanges": []
   },
   "source": [
    "## Deteksi Outlier"
   ]
  },
  {
   "cell_type": "markdown",
   "metadata": {
    "cell_id": "c221f06f65e74e27ada5fe68e3b3a144",
    "deepnote_app_block_visible": true,
    "deepnote_cell_type": "image",
    "deepnote_img_src": "image-20240321-012752-20240320-182759.png"
   },
   "source": [
    "<img src=\"image-20240321-012752-20240320-182759.png\" width=\"\" align=\"\" />"
   ]
  },
  {
   "cell_type": "markdown",
   "metadata": {
    "cell_id": "a5ae3d82d5304391b61238c283c24b22",
    "deepnote_app_block_visible": true,
    "deepnote_cell_type": "text-cell-h3",
    "formattedRanges": [
     {
      "fromCodePoint": 0,
      "marks": {
       "bold": true
      },
      "toCodePoint": 26,
      "type": "marks"
     }
    ]
   },
   "source": [
    "### Local Outlier Factor (LOF)"
   ]
  },
  {
   "cell_type": "markdown",
   "metadata": {
    "cell_id": "a045f435147c49e883046491fc9fd764",
    "deepnote_app_block_visible": true,
    "deepnote_cell_type": "text-cell-p",
    "formattedRanges": []
   },
   "source": [
    "Outlier adalah data yang abnormal, anomali, ataupun berbeda jauh dari kebanyakan data dalam sebuah dataset. Local Outlier Factor (LOF) merupakan algoritma untuk mengidentifikasi sebuah data outlier pada dataset."
   ]
  },
  {
   "cell_type": "markdown",
   "metadata": {
    "cell_id": "169100b3b89a435da36b424c044641bb",
    "deepnote_app_block_visible": true,
    "deepnote_cell_type": "text-cell-p",
    "formattedRanges": []
   },
   "source": [
    "Sebelum belajar mengenai LOF (Local Outlier Factor) kita harus memahami konsep dibawah ini :"
   ]
  },
  {
   "cell_type": "markdown",
   "metadata": {
    "cell_id": "73a80a9b027c4090aaace4a7bba97f57",
    "deepnote_app_block_visible": true,
    "deepnote_cell_type": "text-cell-bullet",
    "formattedRanges": []
   },
   "source": [
    "- K-distance dan K-neighbors"
   ]
  },
  {
   "cell_type": "markdown",
   "metadata": {
    "cell_id": "44aa26fd390844c1a2f486e1e38bc004",
    "deepnote_app_block_visible": true,
    "deepnote_cell_type": "text-cell-bullet",
    "formattedRanges": []
   },
   "source": [
    "- Reachbiity Distance (RD)"
   ]
  },
  {
   "cell_type": "markdown",
   "metadata": {
    "cell_id": "336c2898443a4b45856a4601f4211c5c",
    "deepnote_app_block_visible": true,
    "deepnote_cell_type": "text-cell-bullet",
    "formattedRanges": []
   },
   "source": [
    "- Local Reachbility Density (LRD)"
   ]
  },
  {
   "cell_type": "markdown",
   "metadata": {
    "cell_id": "a6926735c5b24edba6feb8ec9f1cd5de",
    "deepnote_app_block_visible": true,
    "deepnote_cell_type": "text-cell-bullet",
    "formattedRanges": []
   },
   "source": [
    "- Local Outlier Factor (LOF)"
   ]
  },
  {
   "cell_type": "markdown",
   "metadata": {
    "cell_id": "16ec1faf89774cfe8d78d20db5fde5b9",
    "deepnote_app_block_visible": true,
    "deepnote_cell_type": "text-cell-p",
    "formattedRanges": [
     {
      "fromCodePoint": 0,
      "marks": {
       "bold": true
      },
      "toCodePoint": 26,
      "type": "marks"
     }
    ]
   },
   "source": [
    "K-distance dan K-neighhors"
   ]
  },
  {
   "cell_type": "markdown",
   "metadata": {
    "cell_id": "68ad797a052d4a20aad642dfce2acf3f",
    "deepnote_app_block_visible": true,
    "deepnote_cell_type": "markdown"
   },
   "source": [
    "K-distance adalah jarak ke tetangga terdekat ke K. dan K-neighbors dapat dilambangkan $N_{k}(A)$  merupakan himpunan titik yang terletak di dalam atau daripada lingkaran berjari-jari jarak K. K-neighbors bisa lebih dari atau sama dengan K."
   ]
  },
  {
   "cell_type": "markdown",
   "metadata": {
    "cell_id": "d96655cc951b4c3aa60683814c84f7da",
    "deepnote_app_block_visible": true,
    "deepnote_cell_type": "image",
    "deepnote_img_src": "image-20240321-014408-20240320-184414.png"
   },
   "source": [
    "<img src=\"image-20240321-014408-20240320-184414.png\" width=\"\" align=\"\" />"
   ]
  },
  {
   "cell_type": "markdown",
   "metadata": {
    "cell_id": "b34fd7250d044e6bbd0cb74b4644b5df",
    "deepnote_app_block_visible": true,
    "deepnote_cell_type": "markdown"
   },
   "source": [
    "jika k = 2, maka K-neighbors dari A adalah C, B, dan D. \n",
    "$ || N_{k}(Objek) || $ akan selalu lebih besar atau sama dengan nilai K"
   ]
  },
  {
   "cell_type": "markdown",
   "metadata": {
    "cell_id": "6dd9c4711f1446fd8ed9d763cd13055f",
    "deepnote_app_block_visible": true,
    "deepnote_cell_type": "text-cell-p",
    "formattedRanges": [
     {
      "fromCodePoint": 0,
      "marks": {
       "bold": true
      },
      "toCodePoint": 24,
      "type": "marks"
     }
    ]
   },
   "source": [
    "Reachbility Density (RD)"
   ]
  },
  {
   "cell_type": "markdown",
   "metadata": {
    "cell_id": "2caf059d118d4928873ceebcb958a57b",
    "deepnote_app_block_visible": true,
    "deepnote_cell_type": "markdown"
   },
   "source": [
    "Reachbility Density merupakan nilai maksimum dari K-distance dan jarak antara $o$ dan $o'$. ukuran jarak yang digunakan dapat menggunakan metode euclidean, manhattan dan lainnya."
   ]
  },
  {
   "cell_type": "markdown",
   "metadata": {
    "cell_id": "4218520752834b4ea581711f3d94baac",
    "deepnote_app_block_visible": true,
    "deepnote_cell_type": "markdown"
   },
   "source": [
    "$RD(o, o') = max \\left\\{K-distance(o), distance(o, o')\\right\\} $"
   ]
  },
  {
   "cell_type": "markdown",
   "metadata": {
    "cell_id": "418de329c67740f9bd948eb7aa93eddb",
    "deepnote_app_block_visible": true,
    "deepnote_cell_type": "image",
    "deepnote_img_src": "image-20240321-020158.png"
   },
   "source": [
    "<img src=\"image-20240321-020158.png\" width=\"\" align=\"\" />"
   ]
  },
  {
   "cell_type": "markdown",
   "metadata": {
    "cell_id": "4f22b743f1cd42aabc81d650c9c983e9",
    "deepnote_app_block_visible": true,
    "deepnote_cell_type": "text-cell-p",
    "formattedRanges": [
     {
      "fromCodePoint": 0,
      "marks": {
       "bold": true
      },
      "toCodePoint": 31,
      "type": "marks"
     }
    ]
   },
   "source": [
    "Local Reachbility Density (LRD)"
   ]
  },
  {
   "cell_type": "markdown",
   "metadata": {
    "cell_id": "9c026b436d414e5da2edf7f050819965",
    "deepnote_app_block_visible": true,
    "deepnote_cell_type": "markdown"
   },
   "source": [
    "$LRD_{k}=\\frac{1}{\\sum_{o'}\\in N_{k}(o) \\frac{RD(o, o')}{|| N_{k}(o) ||} }$"
   ]
  },
  {
   "cell_type": "markdown",
   "metadata": {
    "cell_id": "baa631bd77474a879512737bfb6dd83e",
    "deepnote_app_block_visible": true,
    "deepnote_cell_type": "markdown"
   },
   "source": [
    "LRD merupakan invers dari rata-rata jarak jangkauan $o$ dari tetangganya. Seberapa jauh suatu titik dari kelompok terdekarnyam maka semakin rendah nilai LRD."
   ]
  },
  {
   "cell_type": "markdown",
   "metadata": {
    "cell_id": "82b7a3fcdb6b4943b5d57e16f3ddc8c2",
    "deepnote_app_block_visible": true,
    "deepnote_cell_type": "text-cell-p",
    "formattedRanges": [
     {
      "fromCodePoint": 0,
      "marks": {
       "bold": true
      },
      "toCodePoint": 26,
      "type": "marks"
     }
    ]
   },
   "source": [
    "Local Outlier Factor (LOF)"
   ]
  },
  {
   "cell_type": "markdown",
   "metadata": {
    "cell_id": "8b1a0231538a4cca8bbb3320cf700152",
    "deepnote_app_block_visible": true,
    "deepnote_cell_type": "markdown"
   },
   "source": [
    "$ LOF_{k}(o) = \\frac{\\sum_{o'}\\in N_{k} (o) LRD_{k}(o')}{||N_{k}(A)||} \\times \\frac{1}{LRD_{k}(o)} $"
   ]
  },
  {
   "cell_type": "markdown",
   "metadata": {
    "cell_id": "b2101959e6c843638c65aa006cc1ad4c",
    "deepnote_app_block_visible": true,
    "deepnote_cell_type": "text-cell-p",
    "formattedRanges": []
   },
   "source": [
    "Local Outlier Factor (LOF) adalah algoritma deteksi anomali tanpa pengawasan yang digunakan untuk mengidentifikasi pencilan atau anomali dalam kumpulan data. Ini mengukur penyimpangan kepadatan lokal dari titik data sehubungan dengan tetangganya, mengidentifikasi titik-titik yang memiliki kepadatan yang sangat berbeda dibandingkan dengan tetangga sekitarnya."
   ]
  },
  {
   "cell_type": "markdown",
   "metadata": {
    "cell_id": "b1e5a02249944f75809d5786bf5a5d18",
    "deepnote_app_block_visible": true,
    "deepnote_cell_type": "text-cell-p",
    "formattedRanges": [
     {
      "fromCodePoint": 0,
      "marks": {
       "bold": true
      },
      "toCodePoint": 25,
      "type": "marks"
     }
    ]
   },
   "source": [
    "Contoh Perhitungan Manual"
   ]
  },
  {
   "cell_type": "markdown",
   "metadata": {
    "cell_id": "c18c52cfea5f4705a7cd4c876714fe8e",
    "deepnote_app_block_visible": true,
    "deepnote_cell_type": "text-cell-p",
    "formattedRanges": []
   },
   "source": [
    "Berikut ini merupakan contoh perhitungan manual menggunakan metode perhitungan jarak Euclidean."
   ]
  },
  {
   "cell_type": "markdown",
   "metadata": {
    "cell_id": "6d6d6de04c0a43189b684379ecceb800",
    "deepnote_app_block_visible": true,
    "deepnote_cell_type": "text-cell-p",
    "formattedRanges": []
   },
   "source": [
    "Objek :"
   ]
  },
  {
   "cell_type": "markdown",
   "metadata": {
    "cell_id": "74c127cc449e427baa0faac01c0cfd00",
    "deepnote_app_block_visible": true,
    "deepnote_cell_type": "text-cell-bullet",
    "formattedRanges": []
   },
   "source": [
    "- A (0, 0)"
   ]
  },
  {
   "cell_type": "markdown",
   "metadata": {
    "cell_id": "64f2a329017f44b69116168c4a8e1fdd",
    "deepnote_app_block_visible": true,
    "deepnote_cell_type": "text-cell-bullet",
    "formattedRanges": []
   },
   "source": [
    "- B (0, 1)"
   ]
  },
  {
   "cell_type": "markdown",
   "metadata": {
    "cell_id": "366c82b130df4df1879e47d7d6df8ef2",
    "deepnote_app_block_visible": true,
    "deepnote_cell_type": "text-cell-bullet",
    "formattedRanges": []
   },
   "source": [
    "- C (1, 1)"
   ]
  },
  {
   "cell_type": "markdown",
   "metadata": {
    "cell_id": "7176d1a71f93421cae633a605f686f8b",
    "deepnote_app_block_visible": true,
    "deepnote_cell_type": "text-cell-bullet",
    "formattedRanges": []
   },
   "source": [
    "- D (3, 0)"
   ]
  },
  {
   "cell_type": "markdown",
   "metadata": {
    "cell_id": "710ee8cbc27b44bf91f1e43a7d21d2c6",
    "deepnote_app_block_visible": true,
    "deepnote_cell_type": "text-cell-p",
    "formattedRanges": []
   },
   "source": [
    "K = 2"
   ]
  },
  {
   "cell_type": "markdown",
   "metadata": {
    "cell_id": "ab8d1b423705498cadbf07a8af578ccb",
    "deepnote_app_block_visible": true,
    "deepnote_cell_type": "text-cell-p",
    "formattedRanges": [
     {
      "fromCodePoint": 0,
      "marks": {
       "bold": true
      },
      "toCodePoint": 34,
      "type": "marks"
     }
    ]
   },
   "source": [
    "Mencari K-distance dan K-neighbors"
   ]
  },
  {
   "cell_type": "markdown",
   "metadata": {
    "cell_id": "23b058e97cce43a7ba5ec39e9586a3e9",
    "deepnote_app_block_visible": true,
    "deepnote_cell_type": "image",
    "deepnote_img_src": "WhatsApp Image 2024-03-21 at 5.46.14 AM.jpeg"
   },
   "source": [
    "<img src=\"hitung-manual-1.jpeg\" width=\"\" align=\"\" />"
   ]
  },
  {
   "cell_type": "markdown",
   "metadata": {
    "cell_id": "309410f757864d6898ce6b0254ddee2d",
    "deepnote_app_block_visible": true,
    "deepnote_cell_type": "text-cell-p",
    "formattedRanges": [
     {
      "fromCodePoint": 0,
      "marks": {
       "bold": true
      },
      "toCodePoint": 19,
      "type": "marks"
     }
    ]
   },
   "source": [
    "Mencari LRD dan LOF"
   ]
  },
  {
   "cell_type": "markdown",
   "metadata": {
    "cell_id": "234d84364fae44cbbd55b6991c7c6e3a",
    "deepnote_app_block_visible": true,
    "deepnote_cell_type": "image",
    "deepnote_img_src": "WhatsApp Image 2024-03-21 at 5.45.09 AM.jpeg"
   },
   "source": [
    "<img src=\"hitung-manual-2.jpeg\" width=\"\" align=\"\" />"
   ]
  },
  {
   "cell_type": "markdown",
   "metadata": {
    "cell_id": "4b7a60e63fbd4053b81c3bea8bf11dcd",
    "deepnote_app_block_visible": true,
    "deepnote_cell_type": "text-cell-p",
    "formattedRanges": []
   },
   "source": [
    "Berdasarkan perhitungan manual. dapat diketahui bahwa objek D dapat dikatakan outlier karena nilai LRD dari D lebih besar daripada keseluruhan objek yang ada."
   ]
  },
  {
   "cell_type": "markdown",
   "metadata": {
    "cell_id": "6e0a215758604887bfeee6025f0b3d9d",
    "deepnote_app_block_visible": true,
    "deepnote_cell_type": "text-cell-h3",
    "formattedRanges": []
   },
   "source": [
    "### Percobaan outlier pada dataset"
   ]
  },
  {
   "cell_type": "code",
   "execution_count": 19,
   "metadata": {
    "cell_id": "9b2d842bb24d4b50b7ba145be429203c",
    "deepnote_app_block_visible": true,
    "deepnote_cell_type": "code",
    "deepnote_table_loading": false,
    "deepnote_table_state": {
     "filters": [],
     "pageIndex": 1,
     "pageSize": 10,
     "sortBy": []
    },
    "deepnote_to_be_reexecuted": false,
    "execution_millis": 567,
    "execution_start": 1714004139878,
    "source_hash": "c29a753b"
   },
   "outputs": [
    {
     "data": {
      "text/plain": [
       "Index([10, 20, 22, 30, 34, 38, 59, 102, 105], dtype='int64')"
      ]
     },
     "execution_count": 19,
     "metadata": {},
     "output_type": "execute_result"
    }
   ],
   "source": [
    "from sklearn.neighbors import LocalOutlierFactor\n",
    "\n",
    "# duplikasi dataframe\n",
    "df_outlayer = df_knn.copy(deep=True)\n",
    "\n",
    "df_outlayer = df_outlayer.drop(['Species'], axis=1)\n",
    "\n",
    "# ubah data untuk simulasi outlayer\n",
    "df_outlayer.iloc[10, df.columns.get_loc('Sepal Length')] = 15\n",
    "df_outlayer.iloc[20, df.columns.get_loc('Sepal Length')] = 10\n",
    "\n",
    "lof = LocalOutlierFactor(n_neighbors=5, p=2)\n",
    "\n",
    "predict = lof.fit_predict(df_outlayer)\n",
    "\n",
    "df_outlayer.index[predict == -1]"
   ]
  },
  {
   "cell_type": "code",
   "execution_count": 20,
   "metadata": {
    "cell_id": "67c5bcd80bef443cb769814d9a709a5a",
    "deepnote_app_block_visible": true,
    "deepnote_cell_type": "code",
    "deepnote_table_loading": false,
    "deepnote_table_state": {
     "filters": [],
     "pageIndex": 3,
     "pageSize": 10,
     "sortBy": []
    },
    "deepnote_to_be_reexecuted": false,
    "execution_millis": 537,
    "execution_start": 1714004139908,
    "source_hash": "2853f1a8"
   },
   "outputs": [
    {
     "data": {
      "application/vnd.deepnote.dataframe.v3+json": {
       "column_count": 4,
       "columns": [
        {
         "dtype": "float64",
         "name": "Sepal Length",
         "stats": {
          "histogram": [
           {
            "bin_end": 5.369999999999999,
            "bin_start": 4.3,
            "count": 43
           },
           {
            "bin_end": 6.4399999999999995,
            "bin_start": 5.369999999999999,
            "count": 65
           },
           {
            "bin_end": 7.51,
            "bin_start": 6.4399999999999995,
            "count": 29
           },
           {
            "bin_end": 8.579999999999998,
            "bin_start": 7.51,
            "count": 6
           },
           {
            "bin_end": 9.649999999999999,
            "bin_start": 8.579999999999998,
            "count": 0
           },
           {
            "bin_end": 10.719999999999999,
            "bin_start": 9.649999999999999,
            "count": 1
           },
           {
            "bin_end": 11.79,
            "bin_start": 10.719999999999999,
            "count": 0
           },
           {
            "bin_end": 12.86,
            "bin_start": 11.79,
            "count": 0
           },
           {
            "bin_end": 13.93,
            "bin_start": 12.86,
            "count": 0
           },
           {
            "bin_end": 15,
            "bin_start": 13.93,
            "count": 1
           }
          ],
          "max": "15.0",
          "min": "4.3",
          "nan_count": 0,
          "unique_count": 39
         }
        },
        {
         "dtype": "float64",
         "name": "Sepal Width",
         "stats": {
          "histogram": [
           {
            "bin_end": 2.24,
            "bin_start": 2,
            "count": 4
           },
           {
            "bin_end": 2.48,
            "bin_start": 2.24,
            "count": 7
           },
           {
            "bin_end": 2.72,
            "bin_start": 2.48,
            "count": 21
           },
           {
            "bin_end": 2.96,
            "bin_start": 2.72,
            "count": 23
           },
           {
            "bin_end": 3.2,
            "bin_start": 2.96,
            "count": 36
           },
           {
            "bin_end": 3.4400000000000004,
            "bin_start": 3.2,
            "count": 30
           },
           {
            "bin_end": 3.6800000000000006,
            "bin_start": 3.4400000000000004,
            "count": 9
           },
           {
            "bin_end": 3.9200000000000004,
            "bin_start": 3.6800000000000006,
            "count": 11
           },
           {
            "bin_end": 4.16,
            "bin_start": 3.9200000000000004,
            "count": 2
           },
           {
            "bin_end": 4.4,
            "bin_start": 4.16,
            "count": 2
           }
          ],
          "max": "4.4",
          "min": "2.0",
          "nan_count": 0,
          "unique_count": 23
         }
        },
        {
         "dtype": "float64",
         "name": "Petal Length",
         "stats": {
          "histogram": [
           {
            "bin_end": 1.59,
            "bin_start": 1,
            "count": 35
           },
           {
            "bin_end": 2.18,
            "bin_start": 1.59,
            "count": 12
           },
           {
            "bin_end": 2.7700000000000005,
            "bin_start": 2.18,
            "count": 0
           },
           {
            "bin_end": 3.3600000000000003,
            "bin_start": 2.7700000000000005,
            "count": 3
           },
           {
            "bin_end": 3.95,
            "bin_start": 3.3600000000000003,
            "count": 8
           },
           {
            "bin_end": 4.540000000000001,
            "bin_start": 3.95,
            "count": 25
           },
           {
            "bin_end": 5.130000000000001,
            "bin_start": 4.540000000000001,
            "count": 28
           },
           {
            "bin_end": 5.720000000000001,
            "bin_start": 5.130000000000001,
            "count": 18
           },
           {
            "bin_end": 6.3100000000000005,
            "bin_start": 5.720000000000001,
            "count": 11
           },
           {
            "bin_end": 6.9,
            "bin_start": 6.3100000000000005,
            "count": 5
           }
          ],
          "max": "6.9",
          "min": "1.0",
          "nan_count": 0,
          "unique_count": 43
         }
        },
        {
         "dtype": "float64",
         "name": "Petal Width",
         "stats": {
          "histogram": [
           {
            "bin_end": 0.33999999999999997,
            "bin_start": 0.1,
            "count": 38
           },
           {
            "bin_end": 0.58,
            "bin_start": 0.33999999999999997,
            "count": 8
           },
           {
            "bin_end": 0.82,
            "bin_start": 0.58,
            "count": 1
           },
           {
            "bin_end": 1.06,
            "bin_start": 0.82,
            "count": 7
           },
           {
            "bin_end": 1.3,
            "bin_start": 1.06,
            "count": 8
           },
           {
            "bin_end": 1.54,
            "bin_start": 1.3,
            "count": 32
           },
           {
            "bin_end": 1.78,
            "bin_start": 1.54,
            "count": 6
           },
           {
            "bin_end": 2.02,
            "bin_start": 1.78,
            "count": 22
           },
           {
            "bin_end": 2.2600000000000002,
            "bin_start": 2.02,
            "count": 9
           },
           {
            "bin_end": 2.5,
            "bin_start": 2.2600000000000002,
            "count": 14
           }
          ],
          "max": "2.5",
          "min": "0.1",
          "nan_count": 0,
          "unique_count": 22
         }
        },
        {
         "dtype": "int64",
         "name": "_deepnote_index_column"
        }
       ],
       "row_count": 145,
       "rows": [
        {
         "Petal Length": 1.5,
         "Petal Width": 0.4,
         "Sepal Length": 5.4,
         "Sepal Width": 3.4,
         "_deepnote_index_column": 30
        },
        {
         "Petal Length": 1.5,
         "Petal Width": 0.1,
         "Sepal Length": 5.2,
         "Sepal Width": 4.1,
         "_deepnote_index_column": 31
        },
        {
         "Petal Length": 1.4,
         "Petal Width": 0.2,
         "Sepal Length": 5.5,
         "Sepal Width": 4.2,
         "_deepnote_index_column": 32
        },
        {
         "Petal Length": 1.2,
         "Petal Width": 0.2,
         "Sepal Length": 5,
         "Sepal Width": 3.2,
         "_deepnote_index_column": 33
        },
        {
         "Petal Length": 1.3,
         "Petal Width": 0.2,
         "Sepal Length": 5.5,
         "Sepal Width": 3.5,
         "_deepnote_index_column": 34
        },
        {
         "Petal Length": 1.3,
         "Petal Width": 0.2,
         "Sepal Length": 4.4,
         "Sepal Width": 3,
         "_deepnote_index_column": 35
        },
        {
         "Petal Length": 1.5,
         "Petal Width": 0.2,
         "Sepal Length": 5.1,
         "Sepal Width": 3.4,
         "_deepnote_index_column": 36
        },
        {
         "Petal Length": 1.3,
         "Petal Width": 0.3,
         "Sepal Length": 5,
         "Sepal Width": 3.5,
         "_deepnote_index_column": 37
        },
        {
         "Petal Length": 1.3,
         "Petal Width": 0.3,
         "Sepal Length": 4.5,
         "Sepal Width": 2.3,
         "_deepnote_index_column": 38
        },
        {
         "Petal Length": 1.3,
         "Petal Width": 0.2,
         "Sepal Length": 4.4,
         "Sepal Width": 3.2,
         "_deepnote_index_column": 39
        }
       ]
      },
      "text/html": [
       "<div>\n",
       "<style scoped>\n",
       "    .dataframe tbody tr th:only-of-type {\n",
       "        vertical-align: middle;\n",
       "    }\n",
       "\n",
       "    .dataframe tbody tr th {\n",
       "        vertical-align: top;\n",
       "    }\n",
       "\n",
       "    .dataframe thead th {\n",
       "        text-align: right;\n",
       "    }\n",
       "</style>\n",
       "<table border=\"1\" class=\"dataframe\">\n",
       "  <thead>\n",
       "    <tr style=\"text-align: right;\">\n",
       "      <th></th>\n",
       "      <th>Sepal Length</th>\n",
       "      <th>Sepal Width</th>\n",
       "      <th>Petal Length</th>\n",
       "      <th>Petal Width</th>\n",
       "    </tr>\n",
       "  </thead>\n",
       "  <tbody>\n",
       "    <tr>\n",
       "      <th>0</th>\n",
       "      <td>5.100000</td>\n",
       "      <td>3.5</td>\n",
       "      <td>1.4</td>\n",
       "      <td>0.2</td>\n",
       "    </tr>\n",
       "    <tr>\n",
       "      <th>1</th>\n",
       "      <td>4.900000</td>\n",
       "      <td>3.0</td>\n",
       "      <td>1.4</td>\n",
       "      <td>0.2</td>\n",
       "    </tr>\n",
       "    <tr>\n",
       "      <th>2</th>\n",
       "      <td>4.700000</td>\n",
       "      <td>3.2</td>\n",
       "      <td>1.3</td>\n",
       "      <td>0.2</td>\n",
       "    </tr>\n",
       "    <tr>\n",
       "      <th>3</th>\n",
       "      <td>4.600000</td>\n",
       "      <td>3.1</td>\n",
       "      <td>1.5</td>\n",
       "      <td>0.2</td>\n",
       "    </tr>\n",
       "    <tr>\n",
       "      <th>4</th>\n",
       "      <td>5.000000</td>\n",
       "      <td>3.6</td>\n",
       "      <td>1.4</td>\n",
       "      <td>0.2</td>\n",
       "    </tr>\n",
       "    <tr>\n",
       "      <th>...</th>\n",
       "      <td>...</td>\n",
       "      <td>...</td>\n",
       "      <td>...</td>\n",
       "      <td>...</td>\n",
       "    </tr>\n",
       "    <tr>\n",
       "      <th>140</th>\n",
       "      <td>6.700000</td>\n",
       "      <td>3.0</td>\n",
       "      <td>5.2</td>\n",
       "      <td>2.3</td>\n",
       "    </tr>\n",
       "    <tr>\n",
       "      <th>141</th>\n",
       "      <td>6.300000</td>\n",
       "      <td>2.5</td>\n",
       "      <td>5.0</td>\n",
       "      <td>1.9</td>\n",
       "    </tr>\n",
       "    <tr>\n",
       "      <th>142</th>\n",
       "      <td>6.500000</td>\n",
       "      <td>3.0</td>\n",
       "      <td>5.2</td>\n",
       "      <td>2.0</td>\n",
       "    </tr>\n",
       "    <tr>\n",
       "      <th>143</th>\n",
       "      <td>6.200000</td>\n",
       "      <td>3.4</td>\n",
       "      <td>5.4</td>\n",
       "      <td>2.3</td>\n",
       "    </tr>\n",
       "    <tr>\n",
       "      <th>144</th>\n",
       "      <td>6.433333</td>\n",
       "      <td>3.0</td>\n",
       "      <td>5.1</td>\n",
       "      <td>1.8</td>\n",
       "    </tr>\n",
       "  </tbody>\n",
       "</table>\n",
       "<p>145 rows × 4 columns</p>\n",
       "</div>"
      ],
      "text/plain": [
       "     Sepal Length  Sepal Width  Petal Length  Petal Width\n",
       "0        5.100000          3.5           1.4          0.2\n",
       "1        4.900000          3.0           1.4          0.2\n",
       "2        4.700000          3.2           1.3          0.2\n",
       "3        4.600000          3.1           1.5          0.2\n",
       "4        5.000000          3.6           1.4          0.2\n",
       "..            ...          ...           ...          ...\n",
       "140      6.700000          3.0           5.2          2.3\n",
       "141      6.300000          2.5           5.0          1.9\n",
       "142      6.500000          3.0           5.2          2.0\n",
       "143      6.200000          3.4           5.4          2.3\n",
       "144      6.433333          3.0           5.1          1.8\n",
       "\n",
       "[145 rows x 4 columns]"
      ]
     },
     "execution_count": 20,
     "metadata": {},
     "output_type": "execute_result"
    }
   ],
   "source": [
    "df_outlayer"
   ]
  },
  {
   "cell_type": "markdown",
   "metadata": {
    "cell_id": "5ca43ce7b2464bccba2094e435181a95",
    "deepnote_app_block_visible": true,
    "deepnote_cell_type": "text-cell-h1",
    "formattedRanges": []
   },
   "source": [
    "# Permodelan Data (Data Modelling)"
   ]
  },
  {
   "cell_type": "markdown",
   "metadata": {
    "cell_id": "76da9f3fc4ab457db3dc9c1e0fc4b197",
    "deepnote_app_block_visible": true,
    "deepnote_cell_type": "text-cell-p",
    "formattedRanges": []
   },
   "source": [
    "Pemodelan data dalam machine learning adalah tentang bagaimana kita mempersiapkan data agar bisa digunakan untuk membangun model machine learning yang handal.  Bisa dibilang ini seperti membangun fondasi rumah sebelum kita mulai membangunnya."
   ]
  },
  {
   "cell_type": "markdown",
   "metadata": {
    "cell_id": "28cc5d0cfa694457bf0b33a22ff30a85",
    "deepnote_app_block_visible": true,
    "deepnote_cell_type": "text-cell-p",
    "formattedRanges": [
     {
      "fromCodePoint": 0,
      "marks": {
       "bold": true
      },
      "toCodePoint": 20,
      "type": "marks"
     }
    ]
   },
   "source": [
    "Gaussian Naive Bayes"
   ]
  },
  {
   "cell_type": "markdown",
   "metadata": {
    "cell_id": "358ab10047e646e6a738b929ed7038e3",
    "deepnote_app_block_visible": true,
    "deepnote_cell_type": "text-cell-p",
    "formattedRanges": []
   },
   "source": [
    "Gaussian Naive Bayes merupakan sebuah teknik klasifikasi yang digunakan dalam machine learning dengan menggunakan metode probability dan Distribusi Gaussian atau Distiribusi Normal. Gaussian Distribution mengasumsikan bahwa setiap feature pada data memiliki penngaruh yang independent dalam memprediksi target. Kombinasi prediksi dari seluruh parameter adalah prediksi akhir dengan probability dari target variable yang diklasifikasikan ke dalam dua kelas. Klasifikasi akhirnya adalah hasil probability yang lebih tinggi dari grup target."
   ]
  },
  {
   "cell_type": "markdown",
   "metadata": {
    "cell_id": "50c29c2d34514188bfd636157025f842",
    "deepnote_app_block_visible": true,
    "deepnote_cell_type": "image",
    "deepnote_img_src": "image-20240424-184420.png"
   },
   "source": [
    "<img src=\"image-20240424-184420.png\" width=\"\" align=\"\" />"
   ]
  },
  {
   "cell_type": "markdown",
   "metadata": {
    "cell_id": "ef4588fb3aaa46d8a6efed8f3fb2bb65",
    "deepnote_app_block_visible": true,
    "deepnote_cell_type": "text-cell-p",
    "formattedRanges": [
     {
      "fromCodePoint": 0,
      "marks": {
       "bold": true
      },
      "toCodePoint": 25,
      "type": "marks"
     }
    ]
   },
   "source": [
    "Rumus Distribusi Gaussian"
   ]
  },
  {
   "cell_type": "markdown",
   "metadata": {
    "cell_id": "54c35f5c284f4712ae6cee1747ae71f9",
    "deepnote_app_block_visible": true,
    "deepnote_cell_type": "text-cell-p",
    "formattedRanges": []
   },
   "source": [
    "Distribusi normal memiliki rumus matemtika yang mendefinisikan probability sebuah observasi berada pada salah sat kelas. Formulanya adalah sebagai berikut:"
   ]
  },
  {
   "cell_type": "markdown",
   "metadata": {
    "cell_id": "ad16a4e031b14ae9bb50cb350d0a992a",
    "deepnote_app_block_visible": true,
    "deepnote_cell_type": "image",
    "deepnote_img_src": "image-20240425-141227.png"
   },
   "source": [
    "<img src=\"image-20240425-141227.png\" width=\"\" align=\"\" />"
   ]
  },
  {
   "cell_type": "markdown",
   "metadata": {
    "cell_id": "058a87b02e9f4446a4c47d8651e99b4a",
    "deepnote_app_block_visible": true,
    "deepnote_cell_type": "text-cell-h2",
    "formattedRanges": []
   },
   "source": [
    "## Percobaan Klasifikasi Dengan Gaussian Naive Bayes"
   ]
  },
  {
   "cell_type": "markdown",
   "metadata": {
    "cell_id": "1a4a798d8cad4adabfe8abd70ebaef9a",
    "deepnote_app_block_visible": true,
    "deepnote_cell_type": "text-cell-h3",
    "formattedRanges": []
   },
   "source": [
    "### Membuat dataframe test dan train"
   ]
  },
  {
   "cell_type": "code",
   "execution_count": 21,
   "metadata": {
    "cell_id": "265b379f97df485bb703219819fa8753",
    "deepnote_app_block_visible": true,
    "deepnote_app_is_code_hidden": false,
    "deepnote_app_is_output_hidden": false,
    "deepnote_cell_type": "code",
    "deepnote_to_be_reexecuted": false,
    "execution_millis": 523,
    "execution_start": 1714004139923,
    "source_hash": "9908b0e3"
   },
   "outputs": [],
   "source": [
    "from sklearn.model_selection import train_test_split \n",
    "\n",
    "x_train = df_knn.drop('Species', axis=1)\n",
    "y_train = df_knn['Species']\n",
    "\n",
    "x_train, x_test, y_train, y_test = train_test_split(x_train, y_train, test_size=0.2)\n",
    "\n",
    "# menggabungkan dataframe\n",
    "df_trained = x_train.join(y_train)\n",
    "df_tested = x_test.join(y_test)\n",
    "\n",
    "#dataframe to .csv file\n",
    "df_trained.to_csv('Iris_train.csv', index=False)\n",
    "df_tested.to_csv('Iris_test.csv', index=False)"
   ]
  },
  {
   "cell_type": "markdown",
   "metadata": {
    "cell_id": "29ea09c830dd46b280f7417e49c442c8",
    "deepnote_app_block_visible": true,
    "deepnote_cell_type": "text-cell-h3",
    "formattedRanges": []
   },
   "source": [
    "### Menampilkan data test"
   ]
  },
  {
   "cell_type": "code",
   "execution_count": 22,
   "metadata": {
    "cell_id": "15084186b643431eb389fbf62440c5bf",
    "deepnote_app_block_visible": true,
    "deepnote_cell_type": "code",
    "deepnote_to_be_reexecuted": false,
    "execution_millis": 362,
    "execution_start": 1714004140451,
    "source_hash": "2455d860"
   },
   "outputs": [
    {
     "data": {
      "application/vnd.deepnote.dataframe.v3+json": {
       "column_count": 5,
       "columns": [
        {
         "dtype": "float64",
         "name": "Sepal Length",
         "stats": {
          "histogram": [
           {
            "bin_end": 4.73,
            "bin_start": 4.4,
            "count": 2
           },
           {
            "bin_end": 5.0600000000000005,
            "bin_start": 4.73,
            "count": 6
           },
           {
            "bin_end": 5.390000000000001,
            "bin_start": 5.0600000000000005,
            "count": 2
           },
           {
            "bin_end": 5.720000000000001,
            "bin_start": 5.390000000000001,
            "count": 6
           },
           {
            "bin_end": 6.050000000000001,
            "bin_start": 5.720000000000001,
            "count": 2
           },
           {
            "bin_end": 6.38,
            "bin_start": 6.050000000000001,
            "count": 4
           },
           {
            "bin_end": 6.71,
            "bin_start": 6.38,
            "count": 3
           },
           {
            "bin_end": 7.04,
            "bin_start": 6.71,
            "count": 2
           },
           {
            "bin_end": 7.37,
            "bin_start": 7.04,
            "count": 1
           },
           {
            "bin_end": 7.7,
            "bin_start": 7.37,
            "count": 1
           }
          ],
          "max": "7.7",
          "min": "4.4",
          "nan_count": 0,
          "unique_count": 22
         }
        },
        {
         "dtype": "float64",
         "name": "Sepal Width",
         "stats": {
          "histogram": [
           {
            "bin_end": 2.24,
            "bin_start": 2,
            "count": 2
           },
           {
            "bin_end": 2.48,
            "bin_start": 2.24,
            "count": 1
           },
           {
            "bin_end": 2.72,
            "bin_start": 2.48,
            "count": 7
           },
           {
            "bin_end": 2.96,
            "bin_start": 2.72,
            "count": 3
           },
           {
            "bin_end": 3.2,
            "bin_start": 2.96,
            "count": 8
           },
           {
            "bin_end": 3.4400000000000004,
            "bin_start": 3.2,
            "count": 5
           },
           {
            "bin_end": 3.6800000000000006,
            "bin_start": 3.4400000000000004,
            "count": 1
           },
           {
            "bin_end": 3.9200000000000004,
            "bin_start": 3.6800000000000006,
            "count": 1
           },
           {
            "bin_end": 4.16,
            "bin_start": 3.9200000000000004,
            "count": 0
           },
           {
            "bin_end": 4.4,
            "bin_start": 4.16,
            "count": 1
           }
          ],
          "max": "4.4",
          "min": "2.0",
          "nan_count": 0,
          "unique_count": 15
         }
        },
        {
         "dtype": "float64",
         "name": "Petal Length",
         "stats": {
          "histogram": [
           {
            "bin_end": 1.78,
            "bin_start": 1.3,
            "count": 9
           },
           {
            "bin_end": 2.26,
            "bin_start": 1.78,
            "count": 0
           },
           {
            "bin_end": 2.74,
            "bin_start": 2.26,
            "count": 0
           },
           {
            "bin_end": 3.2199999999999998,
            "bin_start": 2.74,
            "count": 0
           },
           {
            "bin_end": 3.7,
            "bin_start": 3.2199999999999998,
            "count": 2
           },
           {
            "bin_end": 4.18,
            "bin_start": 3.7,
            "count": 4
           },
           {
            "bin_end": 4.66,
            "bin_start": 4.18,
            "count": 4
           },
           {
            "bin_end": 5.14,
            "bin_start": 4.66,
            "count": 5
           },
           {
            "bin_end": 5.62,
            "bin_start": 5.14,
            "count": 3
           },
           {
            "bin_end": 6.1,
            "bin_start": 5.62,
            "count": 2
           }
          ],
          "max": "6.1",
          "min": "1.3",
          "nan_count": 0,
          "unique_count": 19
         }
        },
        {
         "dtype": "float64",
         "name": "Petal Width",
         "stats": {
          "histogram": [
           {
            "bin_end": 0.31999999999999995,
            "bin_start": 0.1,
            "count": 7
           },
           {
            "bin_end": 0.5399999999999999,
            "bin_start": 0.31999999999999995,
            "count": 2
           },
           {
            "bin_end": 0.7599999999999999,
            "bin_start": 0.5399999999999999,
            "count": 0
           },
           {
            "bin_end": 0.9799999999999999,
            "bin_start": 0.7599999999999999,
            "count": 0
           },
           {
            "bin_end": 1.2,
            "bin_start": 0.9799999999999999,
            "count": 4
           },
           {
            "bin_end": 1.42,
            "bin_start": 1.2,
            "count": 3
           },
           {
            "bin_end": 1.64,
            "bin_start": 1.42,
            "count": 4
           },
           {
            "bin_end": 1.8599999999999999,
            "bin_start": 1.64,
            "count": 2
           },
           {
            "bin_end": 2.0799999999999996,
            "bin_start": 1.8599999999999999,
            "count": 4
           },
           {
            "bin_end": 2.3,
            "bin_start": 2.0799999999999996,
            "count": 3
           }
          ],
          "max": "2.3",
          "min": "0.1",
          "nan_count": 0,
          "unique_count": 15
         }
        },
        {
         "dtype": "object",
         "name": "Species",
         "stats": {
          "categories": [
           {
            "count": 11,
            "name": "Iris-versicolor"
           },
           {
            "count": 9,
            "name": "Iris-setosa"
           },
           {
            "count": 9,
            "name": "Iris-virginica"
           }
          ],
          "nan_count": 0,
          "unique_count": 3
         }
        },
        {
         "dtype": "int64",
         "name": "_deepnote_index_column"
        }
       ],
       "row_count": 29,
       "rows": [
        {
         "Petal Length": 4.5,
         "Petal Width": 1.3,
         "Sepal Length": 5.7,
         "Sepal Width": 2.8,
         "Species": "Iris-versicolor",
         "_deepnote_index_column": 0
        },
        {
         "Petal Length": 1.4,
         "Petal Width": 0.2,
         "Sepal Length": 4.833333333333333,
         "Sepal Width": 3.3,
         "Species": "Iris-setosa",
         "_deepnote_index_column": 1
        },
        {
         "Petal Length": 4.9,
         "Petal Width": 1.5,
         "Sepal Length": 6.9,
         "Sepal Width": 3.1,
         "Species": "Iris-versicolor",
         "_deepnote_index_column": 2
        },
        {
         "Petal Length": 1.4,
         "Petal Width": 0.3,
         "Sepal Length": 4.6,
         "Sepal Width": 3.4,
         "Species": "Iris-setosa",
         "_deepnote_index_column": 3
        },
        {
         "Petal Length": 1.4,
         "Petal Width": 0.2,
         "Sepal Length": 5.1,
         "Sepal Width": 3.5,
         "Species": "Iris-setosa",
         "_deepnote_index_column": 4
        },
        {
         "Petal Length": 6.1,
         "Petal Width": 2.3,
         "Sepal Length": 7.7,
         "Sepal Width": 3,
         "Species": "Iris-virginica",
         "_deepnote_index_column": 5
        },
        {
         "Petal Length": 5.3,
         "Petal Width": 1.9,
         "Sepal Length": 6.4,
         "Sepal Width": 2.7,
         "Species": "Iris-virginica",
         "_deepnote_index_column": 6
        },
        {
         "Petal Length": 3.9,
         "Petal Width": 1.4,
         "Sepal Length": 5.2,
         "Sepal Width": 2.7,
         "Species": "Iris-versicolor",
         "_deepnote_index_column": 7
        },
        {
         "Petal Length": 5.4,
         "Petal Width": 2.3,
         "Sepal Length": 6.2,
         "Sepal Width": 3.4,
         "Species": "Iris-virginica",
         "_deepnote_index_column": 8
        },
        {
         "Petal Length": 1.6,
         "Petal Width": 0.2,
         "Sepal Length": 5,
         "Sepal Width": 3,
         "Species": "Iris-setosa",
         "_deepnote_index_column": 9
        }
       ]
      },
      "text/html": [
       "<div>\n",
       "<style scoped>\n",
       "    .dataframe tbody tr th:only-of-type {\n",
       "        vertical-align: middle;\n",
       "    }\n",
       "\n",
       "    .dataframe tbody tr th {\n",
       "        vertical-align: top;\n",
       "    }\n",
       "\n",
       "    .dataframe thead th {\n",
       "        text-align: right;\n",
       "    }\n",
       "</style>\n",
       "<table border=\"1\" class=\"dataframe\">\n",
       "  <thead>\n",
       "    <tr style=\"text-align: right;\">\n",
       "      <th></th>\n",
       "      <th>Sepal Length</th>\n",
       "      <th>Sepal Width</th>\n",
       "      <th>Petal Length</th>\n",
       "      <th>Petal Width</th>\n",
       "      <th>Species</th>\n",
       "    </tr>\n",
       "  </thead>\n",
       "  <tbody>\n",
       "    <tr>\n",
       "      <th>0</th>\n",
       "      <td>5.700000</td>\n",
       "      <td>2.8</td>\n",
       "      <td>4.5</td>\n",
       "      <td>1.3</td>\n",
       "      <td>Iris-versicolor</td>\n",
       "    </tr>\n",
       "    <tr>\n",
       "      <th>1</th>\n",
       "      <td>4.833333</td>\n",
       "      <td>3.3</td>\n",
       "      <td>1.4</td>\n",
       "      <td>0.2</td>\n",
       "      <td>Iris-setosa</td>\n",
       "    </tr>\n",
       "    <tr>\n",
       "      <th>2</th>\n",
       "      <td>6.900000</td>\n",
       "      <td>3.1</td>\n",
       "      <td>4.9</td>\n",
       "      <td>1.5</td>\n",
       "      <td>Iris-versicolor</td>\n",
       "    </tr>\n",
       "    <tr>\n",
       "      <th>3</th>\n",
       "      <td>4.600000</td>\n",
       "      <td>3.4</td>\n",
       "      <td>1.4</td>\n",
       "      <td>0.3</td>\n",
       "      <td>Iris-setosa</td>\n",
       "    </tr>\n",
       "    <tr>\n",
       "      <th>4</th>\n",
       "      <td>5.100000</td>\n",
       "      <td>3.5</td>\n",
       "      <td>1.4</td>\n",
       "      <td>0.2</td>\n",
       "      <td>Iris-setosa</td>\n",
       "    </tr>\n",
       "    <tr>\n",
       "      <th>5</th>\n",
       "      <td>7.700000</td>\n",
       "      <td>3.0</td>\n",
       "      <td>6.1</td>\n",
       "      <td>2.3</td>\n",
       "      <td>Iris-virginica</td>\n",
       "    </tr>\n",
       "    <tr>\n",
       "      <th>6</th>\n",
       "      <td>6.400000</td>\n",
       "      <td>2.7</td>\n",
       "      <td>5.3</td>\n",
       "      <td>1.9</td>\n",
       "      <td>Iris-virginica</td>\n",
       "    </tr>\n",
       "    <tr>\n",
       "      <th>7</th>\n",
       "      <td>5.200000</td>\n",
       "      <td>2.7</td>\n",
       "      <td>3.9</td>\n",
       "      <td>1.4</td>\n",
       "      <td>Iris-versicolor</td>\n",
       "    </tr>\n",
       "    <tr>\n",
       "      <th>8</th>\n",
       "      <td>6.200000</td>\n",
       "      <td>3.4</td>\n",
       "      <td>5.4</td>\n",
       "      <td>2.3</td>\n",
       "      <td>Iris-virginica</td>\n",
       "    </tr>\n",
       "    <tr>\n",
       "      <th>9</th>\n",
       "      <td>5.000000</td>\n",
       "      <td>3.0</td>\n",
       "      <td>1.6</td>\n",
       "      <td>0.2</td>\n",
       "      <td>Iris-setosa</td>\n",
       "    </tr>\n",
       "    <tr>\n",
       "      <th>10</th>\n",
       "      <td>6.300000</td>\n",
       "      <td>2.5</td>\n",
       "      <td>5.0</td>\n",
       "      <td>1.9</td>\n",
       "      <td>Iris-virginica</td>\n",
       "    </tr>\n",
       "    <tr>\n",
       "      <th>11</th>\n",
       "      <td>5.800000</td>\n",
       "      <td>2.7</td>\n",
       "      <td>5.1</td>\n",
       "      <td>1.9</td>\n",
       "      <td>Iris-virginica</td>\n",
       "    </tr>\n",
       "    <tr>\n",
       "      <th>12</th>\n",
       "      <td>6.500000</td>\n",
       "      <td>3.2</td>\n",
       "      <td>5.1</td>\n",
       "      <td>2.0</td>\n",
       "      <td>Iris-virginica</td>\n",
       "    </tr>\n",
       "    <tr>\n",
       "      <th>13</th>\n",
       "      <td>6.000000</td>\n",
       "      <td>2.2</td>\n",
       "      <td>4.0</td>\n",
       "      <td>1.0</td>\n",
       "      <td>Iris-versicolor</td>\n",
       "    </tr>\n",
       "    <tr>\n",
       "      <th>14</th>\n",
       "      <td>5.500000</td>\n",
       "      <td>2.4</td>\n",
       "      <td>3.8</td>\n",
       "      <td>1.1</td>\n",
       "      <td>Iris-versicolor</td>\n",
       "    </tr>\n",
       "    <tr>\n",
       "      <th>15</th>\n",
       "      <td>4.800000</td>\n",
       "      <td>3.0</td>\n",
       "      <td>1.4</td>\n",
       "      <td>0.1</td>\n",
       "      <td>Iris-setosa</td>\n",
       "    </tr>\n",
       "    <tr>\n",
       "      <th>16</th>\n",
       "      <td>4.800000</td>\n",
       "      <td>3.0</td>\n",
       "      <td>1.4</td>\n",
       "      <td>0.3</td>\n",
       "      <td>Iris-setosa</td>\n",
       "    </tr>\n",
       "    <tr>\n",
       "      <th>17</th>\n",
       "      <td>6.300000</td>\n",
       "      <td>2.5</td>\n",
       "      <td>4.9</td>\n",
       "      <td>1.5</td>\n",
       "      <td>Iris-versicolor</td>\n",
       "    </tr>\n",
       "    <tr>\n",
       "      <th>18</th>\n",
       "      <td>4.400000</td>\n",
       "      <td>3.0</td>\n",
       "      <td>1.3</td>\n",
       "      <td>0.2</td>\n",
       "      <td>Iris-setosa</td>\n",
       "    </tr>\n",
       "    <tr>\n",
       "      <th>19</th>\n",
       "      <td>7.200000</td>\n",
       "      <td>3.2</td>\n",
       "      <td>6.0</td>\n",
       "      <td>1.8</td>\n",
       "      <td>Iris-virginica</td>\n",
       "    </tr>\n",
       "    <tr>\n",
       "      <th>20</th>\n",
       "      <td>5.700000</td>\n",
       "      <td>2.6</td>\n",
       "      <td>3.5</td>\n",
       "      <td>1.0</td>\n",
       "      <td>Iris-versicolor</td>\n",
       "    </tr>\n",
       "    <tr>\n",
       "      <th>21</th>\n",
       "      <td>5.400000</td>\n",
       "      <td>3.9</td>\n",
       "      <td>1.7</td>\n",
       "      <td>0.4</td>\n",
       "      <td>Iris-setosa</td>\n",
       "    </tr>\n",
       "    <tr>\n",
       "      <th>22</th>\n",
       "      <td>5.400000</td>\n",
       "      <td>3.0</td>\n",
       "      <td>4.5</td>\n",
       "      <td>1.5</td>\n",
       "      <td>Iris-versicolor</td>\n",
       "    </tr>\n",
       "    <tr>\n",
       "      <th>23</th>\n",
       "      <td>4.900000</td>\n",
       "      <td>2.5</td>\n",
       "      <td>4.5</td>\n",
       "      <td>1.7</td>\n",
       "      <td>Iris-virginica</td>\n",
       "    </tr>\n",
       "    <tr>\n",
       "      <th>24</th>\n",
       "      <td>5.000000</td>\n",
       "      <td>2.0</td>\n",
       "      <td>3.5</td>\n",
       "      <td>1.0</td>\n",
       "      <td>Iris-versicolor</td>\n",
       "    </tr>\n",
       "    <tr>\n",
       "      <th>25</th>\n",
       "      <td>6.100000</td>\n",
       "      <td>2.8</td>\n",
       "      <td>4.0</td>\n",
       "      <td>1.3</td>\n",
       "      <td>Iris-versicolor</td>\n",
       "    </tr>\n",
       "    <tr>\n",
       "      <th>26</th>\n",
       "      <td>5.700000</td>\n",
       "      <td>4.4</td>\n",
       "      <td>1.5</td>\n",
       "      <td>0.4</td>\n",
       "      <td>Iris-setosa</td>\n",
       "    </tr>\n",
       "    <tr>\n",
       "      <th>27</th>\n",
       "      <td>6.800000</td>\n",
       "      <td>3.0</td>\n",
       "      <td>5.5</td>\n",
       "      <td>2.1</td>\n",
       "      <td>Iris-virginica</td>\n",
       "    </tr>\n",
       "    <tr>\n",
       "      <th>28</th>\n",
       "      <td>6.500000</td>\n",
       "      <td>2.8</td>\n",
       "      <td>4.6</td>\n",
       "      <td>1.5</td>\n",
       "      <td>Iris-versicolor</td>\n",
       "    </tr>\n",
       "  </tbody>\n",
       "</table>\n",
       "</div>"
      ],
      "text/plain": [
       "    Sepal Length  Sepal Width  Petal Length  Petal Width          Species\n",
       "0       5.700000          2.8           4.5          1.3  Iris-versicolor\n",
       "1       4.833333          3.3           1.4          0.2      Iris-setosa\n",
       "2       6.900000          3.1           4.9          1.5  Iris-versicolor\n",
       "3       4.600000          3.4           1.4          0.3      Iris-setosa\n",
       "4       5.100000          3.5           1.4          0.2      Iris-setosa\n",
       "5       7.700000          3.0           6.1          2.3   Iris-virginica\n",
       "6       6.400000          2.7           5.3          1.9   Iris-virginica\n",
       "7       5.200000          2.7           3.9          1.4  Iris-versicolor\n",
       "8       6.200000          3.4           5.4          2.3   Iris-virginica\n",
       "9       5.000000          3.0           1.6          0.2      Iris-setosa\n",
       "10      6.300000          2.5           5.0          1.9   Iris-virginica\n",
       "11      5.800000          2.7           5.1          1.9   Iris-virginica\n",
       "12      6.500000          3.2           5.1          2.0   Iris-virginica\n",
       "13      6.000000          2.2           4.0          1.0  Iris-versicolor\n",
       "14      5.500000          2.4           3.8          1.1  Iris-versicolor\n",
       "15      4.800000          3.0           1.4          0.1      Iris-setosa\n",
       "16      4.800000          3.0           1.4          0.3      Iris-setosa\n",
       "17      6.300000          2.5           4.9          1.5  Iris-versicolor\n",
       "18      4.400000          3.0           1.3          0.2      Iris-setosa\n",
       "19      7.200000          3.2           6.0          1.8   Iris-virginica\n",
       "20      5.700000          2.6           3.5          1.0  Iris-versicolor\n",
       "21      5.400000          3.9           1.7          0.4      Iris-setosa\n",
       "22      5.400000          3.0           4.5          1.5  Iris-versicolor\n",
       "23      4.900000          2.5           4.5          1.7   Iris-virginica\n",
       "24      5.000000          2.0           3.5          1.0  Iris-versicolor\n",
       "25      6.100000          2.8           4.0          1.3  Iris-versicolor\n",
       "26      5.700000          4.4           1.5          0.4      Iris-setosa\n",
       "27      6.800000          3.0           5.5          2.1   Iris-virginica\n",
       "28      6.500000          2.8           4.6          1.5  Iris-versicolor"
      ]
     },
     "execution_count": 22,
     "metadata": {},
     "output_type": "execute_result"
    }
   ],
   "source": [
    "iris_test = pd.read_csv('Iris_test.csv')\n",
    "\n",
    "iris_test"
   ]
  },
  {
   "cell_type": "markdown",
   "metadata": {
    "cell_id": "cc7de70ee9494b458a275dc97a2a6b3d",
    "deepnote_app_block_visible": true,
    "deepnote_cell_type": "text-cell-h3",
    "formattedRanges": []
   },
   "source": [
    "### Menampilkan data train"
   ]
  },
  {
   "cell_type": "code",
   "execution_count": 23,
   "metadata": {
    "cell_id": "3365613db8484e1f85f68a6d66155745",
    "deepnote_app_block_visible": true,
    "deepnote_cell_type": "code",
    "deepnote_to_be_reexecuted": false,
    "execution_millis": 207,
    "execution_start": 1714004140606,
    "source_hash": "e05e617"
   },
   "outputs": [
    {
     "data": {
      "application/vnd.deepnote.dataframe.v3+json": {
       "column_count": 5,
       "columns": [
        {
         "dtype": "float64",
         "name": "Sepal Length",
         "stats": {
          "histogram": [
           {
            "bin_end": 4.66,
            "bin_start": 4.3,
            "count": 7
           },
           {
            "bin_end": 5.02,
            "bin_start": 4.66,
            "count": 14
           },
           {
            "bin_end": 5.38,
            "bin_start": 5.02,
            "count": 12
           },
           {
            "bin_end": 5.74,
            "bin_start": 5.38,
            "count": 20
           },
           {
            "bin_end": 6.1,
            "bin_start": 5.74,
            "count": 13
           },
           {
            "bin_end": 6.46,
            "bin_start": 6.1,
            "count": 21
           },
           {
            "bin_end": 6.82,
            "bin_start": 6.46,
            "count": 15
           },
           {
            "bin_end": 7.18,
            "bin_start": 6.82,
            "count": 5
           },
           {
            "bin_end": 7.54,
            "bin_start": 7.18,
            "count": 4
           },
           {
            "bin_end": 7.9,
            "bin_start": 7.54,
            "count": 5
           }
          ],
          "max": "7.9",
          "min": "4.3",
          "nan_count": 0,
          "unique_count": 36
         }
        },
        {
         "dtype": "float64",
         "name": "Sepal Width",
         "stats": {
          "histogram": [
           {
            "bin_end": 2.4000000000000004,
            "bin_start": 2.2,
            "count": 8
           },
           {
            "bin_end": 2.6,
            "bin_start": 2.4000000000000004,
            "count": 5
           },
           {
            "bin_end": 2.8000000000000003,
            "bin_start": 2.6,
            "count": 20
           },
           {
            "bin_end": 3,
            "bin_start": 2.8000000000000003,
            "count": 9
           },
           {
            "bin_end": 3.2,
            "bin_start": 3,
            "count": 28
           },
           {
            "bin_end": 3.4000000000000004,
            "bin_start": 3.2,
            "count": 25
           },
           {
            "bin_end": 3.6000000000000005,
            "bin_start": 3.4000000000000004,
            "count": 8
           },
           {
            "bin_end": 3.8000000000000003,
            "bin_start": 3.6000000000000005,
            "count": 9
           },
           {
            "bin_end": 4,
            "bin_start": 3.8000000000000003,
            "count": 1
           },
           {
            "bin_end": 4.2,
            "bin_start": 4,
            "count": 3
           }
          ],
          "max": "4.2",
          "min": "2.2",
          "nan_count": 0,
          "unique_count": 21
         }
        },
        {
         "dtype": "float64",
         "name": "Petal Length",
         "stats": {
          "histogram": [
           {
            "bin_end": 1.59,
            "bin_start": 1,
            "count": 28
           },
           {
            "bin_end": 2.18,
            "bin_start": 1.59,
            "count": 10
           },
           {
            "bin_end": 2.7700000000000005,
            "bin_start": 2.18,
            "count": 0
           },
           {
            "bin_end": 3.3600000000000003,
            "bin_start": 2.7700000000000005,
            "count": 3
           },
           {
            "bin_end": 3.95,
            "bin_start": 3.3600000000000003,
            "count": 4
           },
           {
            "bin_end": 4.540000000000001,
            "bin_start": 3.95,
            "count": 20
           },
           {
            "bin_end": 5.130000000000001,
            "bin_start": 4.540000000000001,
            "count": 22
           },
           {
            "bin_end": 5.720000000000001,
            "bin_start": 5.130000000000001,
            "count": 15
           },
           {
            "bin_end": 6.3100000000000005,
            "bin_start": 5.720000000000001,
            "count": 9
           },
           {
            "bin_end": 6.9,
            "bin_start": 6.3100000000000005,
            "count": 5
           }
          ],
          "max": "6.9",
          "min": "1.0",
          "nan_count": 0,
          "unique_count": 41
         }
        },
        {
         "dtype": "float64",
         "name": "Petal Width",
         "stats": {
          "histogram": [
           {
            "bin_end": 0.33999999999999997,
            "bin_start": 0.1,
            "count": 31
           },
           {
            "bin_end": 0.58,
            "bin_start": 0.33999999999999997,
            "count": 6
           },
           {
            "bin_end": 0.82,
            "bin_start": 0.58,
            "count": 1
           },
           {
            "bin_end": 1.06,
            "bin_start": 0.82,
            "count": 4
           },
           {
            "bin_end": 1.3,
            "bin_start": 1.06,
            "count": 7
           },
           {
            "bin_end": 1.54,
            "bin_start": 1.3,
            "count": 25
           },
           {
            "bin_end": 1.78,
            "bin_start": 1.54,
            "count": 5
           },
           {
            "bin_end": 2.02,
            "bin_start": 1.78,
            "count": 17
           },
           {
            "bin_end": 2.2600000000000002,
            "bin_start": 2.02,
            "count": 8
           },
           {
            "bin_end": 2.5,
            "bin_start": 2.2600000000000002,
            "count": 12
           }
          ],
          "max": "2.5",
          "min": "0.1",
          "nan_count": 0,
          "unique_count": 22
         }
        },
        {
         "dtype": "object",
         "name": "Species",
         "stats": {
          "categories": [
           {
            "count": 40,
            "name": "Iris-virginica"
           },
           {
            "count": 38,
            "name": "Iris-versicolor"
           },
           {
            "count": 38,
            "name": "Iris-setosa"
           }
          ],
          "nan_count": 0,
          "unique_count": 3
         }
        },
        {
         "dtype": "int64",
         "name": "_deepnote_index_column"
        }
       ],
       "row_count": 116,
       "rows": [
        {
         "Petal Length": 4.5,
         "Petal Width": 1.5,
         "Sepal Length": 6,
         "Sepal Width": 2.9,
         "Species": "Iris-versicolor",
         "_deepnote_index_column": 0
        },
        {
         "Petal Length": 1.6,
         "Petal Width": 0.2,
         "Sepal Length": 4.8,
         "Sepal Width": 3.1,
         "Species": "Iris-setosa",
         "_deepnote_index_column": 1
        },
        {
         "Petal Length": 1.5,
         "Petal Width": 0.3,
         "Sepal Length": 5.1,
         "Sepal Width": 3.8,
         "Species": "Iris-setosa",
         "_deepnote_index_column": 2
        },
        {
         "Petal Length": 5.5,
         "Petal Width": 1.8,
         "Sepal Length": 6.5,
         "Sepal Width": 3,
         "Species": "Iris-virginica",
         "_deepnote_index_column": 3
        },
        {
         "Petal Length": 3.3,
         "Petal Width": 1,
         "Sepal Length": 4.9,
         "Sepal Width": 2.4,
         "Species": "Iris-versicolor",
         "_deepnote_index_column": 4
        },
        {
         "Petal Length": 1.7,
         "Petal Width": 0.3,
         "Sepal Length": 5.7,
         "Sepal Width": 3.8,
         "Species": "Iris-setosa",
         "_deepnote_index_column": 5
        },
        {
         "Petal Length": 1.3,
         "Petal Width": 0.3,
         "Sepal Length": 4.5,
         "Sepal Width": 2.3,
         "Species": "Iris-setosa",
         "_deepnote_index_column": 6
        },
        {
         "Petal Length": 6.6,
         "Petal Width": 2.1,
         "Sepal Length": 7.6,
         "Sepal Width": 3,
         "Species": "Iris-virginica",
         "_deepnote_index_column": 7
        },
        {
         "Petal Length": 1.4,
         "Petal Width": 0.2,
         "Sepal Length": 5.2,
         "Sepal Width": 3.4,
         "Species": "Iris-setosa",
         "_deepnote_index_column": 8
        },
        {
         "Petal Length": 5.6,
         "Petal Width": 2.4,
         "Sepal Length": 6.7,
         "Sepal Width": 3.1,
         "Species": "Iris-virginica",
         "_deepnote_index_column": 9
        }
       ]
      },
      "text/html": [
       "<div>\n",
       "<style scoped>\n",
       "    .dataframe tbody tr th:only-of-type {\n",
       "        vertical-align: middle;\n",
       "    }\n",
       "\n",
       "    .dataframe tbody tr th {\n",
       "        vertical-align: top;\n",
       "    }\n",
       "\n",
       "    .dataframe thead th {\n",
       "        text-align: right;\n",
       "    }\n",
       "</style>\n",
       "<table border=\"1\" class=\"dataframe\">\n",
       "  <thead>\n",
       "    <tr style=\"text-align: right;\">\n",
       "      <th></th>\n",
       "      <th>Sepal Length</th>\n",
       "      <th>Sepal Width</th>\n",
       "      <th>Petal Length</th>\n",
       "      <th>Petal Width</th>\n",
       "      <th>Species</th>\n",
       "    </tr>\n",
       "  </thead>\n",
       "  <tbody>\n",
       "    <tr>\n",
       "      <th>0</th>\n",
       "      <td>6.0</td>\n",
       "      <td>2.9</td>\n",
       "      <td>4.5</td>\n",
       "      <td>1.5</td>\n",
       "      <td>Iris-versicolor</td>\n",
       "    </tr>\n",
       "    <tr>\n",
       "      <th>1</th>\n",
       "      <td>4.8</td>\n",
       "      <td>3.1</td>\n",
       "      <td>1.6</td>\n",
       "      <td>0.2</td>\n",
       "      <td>Iris-setosa</td>\n",
       "    </tr>\n",
       "    <tr>\n",
       "      <th>2</th>\n",
       "      <td>5.1</td>\n",
       "      <td>3.8</td>\n",
       "      <td>1.5</td>\n",
       "      <td>0.3</td>\n",
       "      <td>Iris-setosa</td>\n",
       "    </tr>\n",
       "    <tr>\n",
       "      <th>3</th>\n",
       "      <td>6.5</td>\n",
       "      <td>3.0</td>\n",
       "      <td>5.5</td>\n",
       "      <td>1.8</td>\n",
       "      <td>Iris-virginica</td>\n",
       "    </tr>\n",
       "    <tr>\n",
       "      <th>4</th>\n",
       "      <td>4.9</td>\n",
       "      <td>2.4</td>\n",
       "      <td>3.3</td>\n",
       "      <td>1.0</td>\n",
       "      <td>Iris-versicolor</td>\n",
       "    </tr>\n",
       "    <tr>\n",
       "      <th>...</th>\n",
       "      <td>...</td>\n",
       "      <td>...</td>\n",
       "      <td>...</td>\n",
       "      <td>...</td>\n",
       "      <td>...</td>\n",
       "    </tr>\n",
       "    <tr>\n",
       "      <th>111</th>\n",
       "      <td>5.1</td>\n",
       "      <td>3.3</td>\n",
       "      <td>1.7</td>\n",
       "      <td>0.5</td>\n",
       "      <td>Iris-setosa</td>\n",
       "    </tr>\n",
       "    <tr>\n",
       "      <th>112</th>\n",
       "      <td>5.0</td>\n",
       "      <td>3.5</td>\n",
       "      <td>1.6</td>\n",
       "      <td>0.6</td>\n",
       "      <td>Iris-setosa</td>\n",
       "    </tr>\n",
       "    <tr>\n",
       "      <th>113</th>\n",
       "      <td>6.9</td>\n",
       "      <td>3.1</td>\n",
       "      <td>5.4</td>\n",
       "      <td>2.1</td>\n",
       "      <td>Iris-virginica</td>\n",
       "    </tr>\n",
       "    <tr>\n",
       "      <th>114</th>\n",
       "      <td>6.7</td>\n",
       "      <td>3.3</td>\n",
       "      <td>5.7</td>\n",
       "      <td>2.1</td>\n",
       "      <td>Iris-virginica</td>\n",
       "    </tr>\n",
       "    <tr>\n",
       "      <th>115</th>\n",
       "      <td>5.1</td>\n",
       "      <td>3.8</td>\n",
       "      <td>1.9</td>\n",
       "      <td>0.4</td>\n",
       "      <td>Iris-setosa</td>\n",
       "    </tr>\n",
       "  </tbody>\n",
       "</table>\n",
       "<p>116 rows × 5 columns</p>\n",
       "</div>"
      ],
      "text/plain": [
       "     Sepal Length  Sepal Width  Petal Length  Petal Width          Species\n",
       "0             6.0          2.9           4.5          1.5  Iris-versicolor\n",
       "1             4.8          3.1           1.6          0.2      Iris-setosa\n",
       "2             5.1          3.8           1.5          0.3      Iris-setosa\n",
       "3             6.5          3.0           5.5          1.8   Iris-virginica\n",
       "4             4.9          2.4           3.3          1.0  Iris-versicolor\n",
       "..            ...          ...           ...          ...              ...\n",
       "111           5.1          3.3           1.7          0.5      Iris-setosa\n",
       "112           5.0          3.5           1.6          0.6      Iris-setosa\n",
       "113           6.9          3.1           5.4          2.1   Iris-virginica\n",
       "114           6.7          3.3           5.7          2.1   Iris-virginica\n",
       "115           5.1          3.8           1.9          0.4      Iris-setosa\n",
       "\n",
       "[116 rows x 5 columns]"
      ]
     },
     "execution_count": 23,
     "metadata": {},
     "output_type": "execute_result"
    }
   ],
   "source": [
    "iris_trained = pd.read_csv('Iris_train.csv')\n",
    "\n",
    "iris_trained"
   ]
  },
  {
   "cell_type": "markdown",
   "metadata": {
    "cell_id": "2c610221187240b5a9a16e02fb53e52d",
    "deepnote_app_block_visible": true,
    "deepnote_cell_type": "text-cell-h3",
    "formattedRanges": []
   },
   "source": [
    "### Kalkulasi dengan menggunakan python "
   ]
  },
  {
   "cell_type": "code",
   "execution_count": 24,
   "metadata": {
    "cell_id": "ea7190ac64f9481f83cbd4fe0d7e2670",
    "deepnote_app_block_visible": true,
    "deepnote_cell_type": "code",
    "deepnote_to_be_reexecuted": false,
    "execution_millis": 273,
    "execution_start": 1714004140763,
    "source_hash": "688dfd96"
   },
   "outputs": [
    {
     "name": "stdout",
     "output_type": "stream",
     "text": [
      "The sample is predicted to be Iris-versicolor\n",
      "/tmp/ipykernel_301/3865856372.py:13: FutureWarning: Series.__getitem__ treating keys as positions is deprecated. In a future version, integer keys will always be treated as labels (consistent with DataFrame behavior). To access a value by position, use `ser.iloc[pos]`\n",
      "  probabilities[species] *= gaussian_distribution(sample[i], mean_values.loc[species][i], std_values.loc[species][i])\n"
     ]
    }
   ],
   "source": [
    "from math import pi, exp, sqrt\n",
    "\n",
    "# fungsi distribusi gaussian\n",
    "def gaussian_distribution(x, mean, std):\n",
    "    return (1 / (sqrt(2 * pi) * std)) * exp(-((x - mean) ** 2 / (2 * std ** 2)))\n",
    "\n",
    "# fungsi naive baiyes\n",
    "def naive_bayes(sample, prob_values:pd.DataFrame, mean_values:pd.DataFrame, std_values:pd.DataFrame):\n",
    "    probabilities = {}\n",
    "    for species in prob_values.index:\n",
    "        probabilities[species] = prob_values[species]\n",
    "        for i in range(len(sample)):\n",
    "            probabilities[species] *= gaussian_distribution(sample[i], mean_values.loc[species][i], std_values.loc[species][i])\n",
    "    return max(probabilities, key=probabilities.get)\n",
    "\n",
    "# ambil data train\n",
    "df_trained = pd.read_csv('Iris_train.csv');\n",
    "\n",
    "# menghitung nilai probability, mean, dan standar deviasi\n",
    "prob_values = df['Species'].value_counts() / df.shape[0]\n",
    "mean_values = df.groupby('Species').mean()\n",
    "std_values = df.groupby('Species').std()\n",
    "\n",
    "df_test = pd.read_csv('Iris_test.csv')\n",
    "\n",
    "sample = df_test.values.tolist()[0][:-1]\n",
    "\n",
    "prediction = naive_bayes(sample, prob_values, mean_values, std_values)\n",
    "\n",
    "print(f'The sample is predicted to be {prediction}')"
   ]
  },
  {
   "cell_type": "markdown",
   "metadata": {
    "cell_id": "12c3fd39171c4f6392904589f573a17c",
    "deepnote_app_block_visible": true,
    "deepnote_cell_type": "text-cell-h3",
    "formattedRanges": []
   },
   "source": [
    "### Kalkulasi dengan menggunakan library"
   ]
  },
  {
   "cell_type": "code",
   "execution_count": 25,
   "metadata": {
    "cell_id": "45b6e0415ef64e679c442fb70538873c",
    "deepnote_app_block_visible": true,
    "deepnote_cell_type": "code",
    "deepnote_to_be_reexecuted": false,
    "execution_millis": 290,
    "execution_start": 1714004140967,
    "source_hash": "9657d364"
   },
   "outputs": [
    {
     "name": "stdout",
     "output_type": "stream",
     "text": [
      "The sample1 is predicted to be ['Iris-versicolor']\n",
      "/shared-libs/python3.9/py/lib/python3.9/site-packages/sklearn/base.py:450: UserWarning: X does not have valid feature names, but GaussianNB was fitted with feature names\n",
      "  warnings.warn(\n"
     ]
    }
   ],
   "source": [
    "from sklearn.naive_bayes import GaussianNB\n",
    "\n",
    "import pandas as pd;\n",
    "\n",
    "df = pd.read_csv('Iris_train.csv')\n",
    "\n",
    "classifier = GaussianNB()\n",
    "\n",
    "X = df.drop('Species', axis=1)\n",
    "\n",
    "y = df['Species']\n",
    "\n",
    "classifier.fit(X, y)\n",
    "\n",
    "df_test = pd.read_csv('Iris_test.csv')\n",
    "\n",
    "sample = [df_test.values.tolist()[0][:-1]]\n",
    "\n",
    "prediction = classifier.predict(sample)\n",
    "\n",
    "print(f'The sample1 is predicted to be {prediction}')"
   ]
  },
  {
   "cell_type": "markdown",
   "metadata": {
    "cell_id": "9e32a23acaad408aacf21d35d303dd17",
    "deepnote_app_block_visible": true,
    "deepnote_cell_type": "text-cell-p",
    "formattedRanges": []
   },
   "source": [
    "Berdasarkan dengan dua kalkulasi di atas dengan menggunakan library ataupun manual. dapat dilihat bahwasanya, hasil yang di prediksi adalah sama."
   ]
  },
  {
   "cell_type": "markdown",
   "metadata": {
    "created_in_deepnote_cell": true,
    "deepnote_cell_type": "markdown"
   },
   "source": [
    "<a style='text-decoration:none;line-height:16px;display:flex;color:#5B5B62;padding:10px;justify-content:end;' href='https://deepnote.com?utm_source=created-in-deepnote-cell&projectId=1dd64262-f415-4de7-aded-3acfb4c0cee9' target=\"_blank\">\n",
    "<img alt='Created in deepnote.com' style='display:inline;max-height:16px;margin:0px;margin-right:7.5px;' src='data:image/svg+xml;base64,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' > </img>\n",
    "Created in <span style='font-weight:600;margin-left:4px;'>Deepnote</span></a>"
   ]
  }
 ],
 "metadata": {
  "deepnote_app_hide_all_code_blocks_enabled": false,
  "deepnote_app_layout": "powerful-article",
  "deepnote_app_reactivity_enabled": true,
  "deepnote_execution_queue": [],
  "deepnote_full_width": true,
  "deepnote_notebook_id": "d4a82d8f86b045209c30dd4c0b6da144",
  "deepnote_persisted_session": {
   "createdAt": "2024-04-24T17:45:44.925Z"
  },
  "language_info": {
   "codemirror_mode": {
    "name": "ipython",
    "version": 3
   },
   "file_extension": ".py",
   "mimetype": "text/x-python",
   "name": "python",
   "nbconvert_exporter": "python",
   "pygments_lexer": "ipython3",
   "version": "3.12.2"
  }
 },
 "nbformat": 4,
 "nbformat_minor": 0
}